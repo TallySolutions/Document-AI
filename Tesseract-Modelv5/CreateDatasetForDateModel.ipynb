{
 "cells": [
  {
   "cell_type": "code",
   "execution_count": 1,
   "id": "c7ae2491",
   "metadata": {},
   "outputs": [
    {
     "name": "stderr",
     "output_type": "stream",
     "text": [
      "2023-06-15 12:42:46.337085: I tensorflow/core/platform/cpu_feature_guard.cc:182] This TensorFlow binary is optimized to use available CPU instructions in performance-critical operations.\n",
      "To enable the following instructions: AVX2 FMA, in other operations, rebuild TensorFlow with the appropriate compiler flags.\n"
     ]
    },
    {
     "name": "stdout",
     "output_type": "stream",
     "text": [
      "importing Jupyter notebook from imagePreProcessor.ipynb\n",
      "importing Jupyter notebook from TesseractModify.ipynb\n"
     ]
    }
   ],
   "source": [
    "import cv2\n",
    "import os\n",
    "import numpy as np\n",
    "import pandas as pd\n",
    "import spacy\n",
    "from spacy import displacy\n",
    "import pytesseract\n",
    "from pytesseract import Output\n",
    "import matplotlib.pyplot as plt\n",
    "pytesseract.pytesseract.tesseract_cmd=\"/home/aman/anaconda3/envs/tallyInvoiceParser.env/bin/tesseract\"\n",
    "os.environ['TESSDATA_PREFIX'] = \"/home/aman/anaconda3/envs/tallyInvoiceParser.env/share/tessdata\"\n",
    "import import_ipynb\n",
    "from imagePreProcessor import *\n",
    "from TesseractModify import *\n",
    "from datetime import datetime\n",
    "import math\n",
    "import dateparser\n",
    "import datefinder"
   ]
  },
  {
   "cell_type": "code",
   "execution_count": 2,
   "id": "8957924c",
   "metadata": {},
   "outputs": [],
   "source": [
    "imagesFolderPath = '/home/aman/Documents/Tally/DocumentAI/Code/Tesseract-Modelv4/Dataset/SampleImages/'"
   ]
  },
  {
   "cell_type": "code",
   "execution_count": 3,
   "id": "daac4c16",
   "metadata": {},
   "outputs": [],
   "source": [
    "def preProcessDataFrame(df, image):\n",
    "    #drop null values\n",
    "    df.dropna(inplace=True)\n",
    "    \n",
    "    \n",
    "    #rows having text as a stopword removed\n",
    "    indexesToDrop = []\n",
    "    stopwords = [\"\", \" \", \"  \", \"/\", \":\", \"-\", \".\", \",\", \"\\n\", \"\\t\", \"\\\\\", \"(\", \")\", \"[\", \"]\", \"{\", \"}\", \"*\", \"&\", \"%\", \"$\", \"#\", \"|\"]\n",
    "    for index in df.index:\n",
    "        if df[\"text\"][index] in stopwords:\n",
    "            indexesToDrop.append(index)   \n",
    "    df.drop(indexesToDrop, inplace=True)\n",
    "    \n",
    "    #resetting the index\n",
    "    df.reset_index(inplace=True)\n",
    "    df.drop(columns=[\"index\"], inplace=True)\n",
    "    \n",
    "    #creating new columns for centroid information\n",
    "    df[\"x\"] = df[\"left\"] + df[\"width\"] \n",
    "    df[\"y\"] = df[\"top\"] + df[\"height\"]\n",
    "    \n",
    "    df[\"PageHeight\"] = image.shape[0]\n",
    "    df[\"PageWidth\"] = image.shape[1]\n",
    "    \n",
    "    df[\"isTop\"] = 0\n",
    "    df[\"isBottom\"] = 0\n",
    "    df[\"isRight\"] = 0\n",
    "    df[\"isLeft\"] = 0\n",
    "    \n",
    "    df[\"isPast\"] = 0\n",
    "    df[\"isFuture\"] = 0"
   ]
  },
  {
   "cell_type": "code",
   "execution_count": 85,
   "id": "ad510ac3",
   "metadata": {},
   "outputs": [],
   "source": [
    "def verifyDate(text):\n",
    "    \n",
    "    dates = list(datefinder.find_dates(text, strict=True))\n",
    "    \n",
    "    if len(dates)==0:\n",
    "        return False\n",
    "    else:\n",
    "        for date in dates:\n",
    "            year = date.year\n",
    "            presentYear = date.today().year\n",
    "            if abs(year-presentYear)<=2:\n",
    "                print(dates)\n",
    "                return True\n",
    "            else:\n",
    "                return False"
   ]
  },
  {
   "cell_type": "code",
   "execution_count": 76,
   "id": "5d67e0e4",
   "metadata": {},
   "outputs": [],
   "source": [
    "def findDate(dateDF):\n",
    "    dates = []\n",
    "    \n",
    "    for index in dateDF.index:\n",
    "        text = dateDF[\"text\"][index]\n",
    "        if verifyDate(text):\n",
    "            dates.append(text)\n",
    "            Dates = list(datefinder.find_dates(text))\n",
    "            dateToday = Dates[0].today()\n",
    "            if Dates[0]<=dateToday:\n",
    "                dateDF[\"isPast\"][index]=1\n",
    "            else:\n",
    "                dateDF[\"isFuture\"][index]=1\n",
    "            \n",
    "    \n",
    "    return dates"
   ]
  },
  {
   "cell_type": "code",
   "execution_count": 77,
   "id": "cf56bc6c",
   "metadata": {},
   "outputs": [],
   "source": [
    "def extractDateDataFrame(df):\n",
    "    dateDF = df.copy()\n",
    "    for index in dateDF.index:\n",
    "        text = dateDF[\"text\"][index]\n",
    "        dateDF[\"text\"][index] = text.lower()\n",
    "    dates = findDate(dateDF)\n",
    "    return dateDF, dates\n",
    "    \n",
    "        "
   ]
  },
  {
   "cell_type": "code",
   "execution_count": 78,
   "id": "2c5f4f16",
   "metadata": {},
   "outputs": [],
   "source": [
    "def returnDist(x1, y1, x2, y2):\n",
    "    p = [x1, y1]\n",
    "    q = [x2, y2]\n",
    "    return math.dist(p, q)"
   ]
  },
  {
   "cell_type": "code",
   "execution_count": 79,
   "id": "7745017e",
   "metadata": {},
   "outputs": [],
   "source": [
    "def allocateNeighbours(df, neighbourFields):\n",
    "    for index in df.index:\n",
    "        x1 = df[\"x\"][index]/df[\"PageWidth\"][index]\n",
    "        y1 = df[\"y\"][index]/df[\"PageHeight\"][index]\n",
    "        block = df[\"block_num\"][index]\n",
    "        neighbours = {}\n",
    "        for index2 in df.index:\n",
    "            x2 = df[\"x\"][index2]/df[\"PageWidth\"][index2]\n",
    "            y2 = df[\"y\"][index2]/df[\"PageHeight\"][index2]\n",
    "            block2 = df[\"block_num\"][index2]\n",
    "            dist = returnDist(x1, y1, x2, y2)\n",
    "            if dist<0.2:\n",
    "                neighbours[df[\"text\"][index2].lower()]=dist\n",
    "            if abs(y1-y2)<0.2 and abs(block2-block)<=1<=1:\n",
    "                neighbours[df[\"text\"][index2].lower()] = dist\n",
    "        for n in neighbourFields:\n",
    "            if n in neighbours:\n",
    "                df[n][index]=neighbours[n]"
   ]
  },
  {
   "cell_type": "code",
   "execution_count": 80,
   "id": "55783e92",
   "metadata": {},
   "outputs": [],
   "source": [
    "def addNeighbours(df):\n",
    "    neighbourFields = [\"date\", \"dated\", \"invoice\", \"delivery\", \"order\", \"due\", \"payment\", \"tax\", \"bill\", \"receipt\", \"issue\"]\n",
    "    for col in neighbourFields:\n",
    "        df[col]=0\n",
    "    allocateNeighbours(df, neighbourFields)\n",
    "    "
   ]
  },
  {
   "cell_type": "code",
   "execution_count": 81,
   "id": "0b533640",
   "metadata": {},
   "outputs": [],
   "source": [
    "def findDateDF(dates, dateDF):\n",
    "    indexes = []\n",
    "    for date in dates:\n",
    "        i = dateDF[dateDF[\"text\"]==date].index\n",
    "        for index in i:\n",
    "            indexes.append(index)\n",
    "    return indexes"
   ]
  },
  {
   "cell_type": "code",
   "execution_count": 82,
   "id": "05e2e879",
   "metadata": {},
   "outputs": [],
   "source": [
    "def dropIndexes(indexes, df):\n",
    "    indexesToDrop=[]\n",
    "    for index in df.index:\n",
    "        if index not in indexes:\n",
    "            indexesToDrop.append(index)\n",
    "    df.drop(indexesToDrop, inplace=True)"
   ]
  },
  {
   "cell_type": "code",
   "execution_count": 83,
   "id": "2863e231",
   "metadata": {},
   "outputs": [],
   "source": [
    "def create(imagePath):\n",
    "    image = cv2.imread(imagePath)\n",
    "    preProcessedImage = preProcessImage(imagePath)\n",
    "    data = pytesseract.image_to_data(preProcessedImage, output_type=Output.DATAFRAME)\n",
    "    data.dropna(inplace=True)\n",
    "    data.reset_index(inplace=True)\n",
    "    data.drop(columns=[\"index\"], inplace=True)\n",
    "    processData(data)\n",
    "    df = pd.DataFrame(data)\n",
    "    preProcessDataFrame(df, preProcessedImage)\n",
    "    dateDF, dates = extractDateDataFrame(df)\n",
    "    addNeighbours(df)\n",
    "    indexes = findDateDF(dates, dateDF)\n",
    "    resultDF = df.copy()\n",
    "    dropIndexes(indexes, resultDF)\n",
    "    return resultDF\n",
    "    \n",
    "    "
   ]
  },
  {
   "cell_type": "code",
   "execution_count": 84,
   "id": "1d58a143",
   "metadata": {},
   "outputs": [],
   "source": [
    "def batchCreate(folderPath):\n",
    "    os.chdir(folderPath)\n",
    "    images = os.listdir()\n",
    "    dfList = []\n",
    "    for imagePath in images:\n",
    "        #print(imagePath)\n",
    "        df = create(imagePath)\n",
    "        df[\"imageName\"] = imagePath\n",
    "        df[\"output\"] = 0\n",
    "        dfList.append(df)\n",
    "    return dfList"
   ]
  },
  {
   "cell_type": "code",
   "execution_count": 59,
   "id": "af39a1cb",
   "metadata": {},
   "outputs": [
    {
     "name": "stderr",
     "output_type": "stream",
     "text": [
      "<string>:11: SettingWithCopyWarning: \n",
      "A value is trying to be set on a copy of a slice from a DataFrame\n",
      "\n",
      "See the caveats in the documentation: https://pandas.pydata.org/pandas-docs/stable/user_guide/indexing.html#returning-a-view-versus-a-copy\n",
      "/tmp/ipykernel_17785/3296310189.py:5: SettingWithCopyWarning: \n",
      "A value is trying to be set on a copy of a slice from a DataFrame\n",
      "\n",
      "See the caveats in the documentation: https://pandas.pydata.org/pandas-docs/stable/user_guide/indexing.html#returning-a-view-versus-a-copy\n",
      "  dateDF[\"text\"][index] = text.lower()\n"
     ]
    },
    {
     "name": "stdout",
     "output_type": "stream",
     "text": [
      "[[0, 2], [3, 5], [6, 9], [10, 10], [11, 11], [12, 12], [13, 13], [14, 14], [15, 15], [16, 17], [18, 20], [21, 24], [25, 25], [26, 27], [28, 36], [37, 37], [38, 42], [43, 48], [49, 56], [57, 59], [60, 60], [61, 61], [62, 62], [63, 65], [66, 66], [67, 68], [69, 71], [72, 75], [76, 78], [79, 81], [82, 84], [85, 89], [90, 96], [97, 97], [98, 98], [99, 101], [102, 102], [103, 105], [106, 109], [110, 113], [114, 114], [115, 116], [117, 120], [121, 123], [124, 127], [128, 131], [132, 132], [133, 133], [134, 134], [135, 135], [136, 136], [137, 137], [138, 138], [139, 139], [140, 140], [141, 142], [143, 143], [144, 145], [146, 155], [156, 156], [157, 158], [159, 159], [160, 160], [161, 161], [162, 162], [163, 164], [165, 165], [166, 166], [167, 169], [170, 172], [173, 173], [174, 178], [179, 179], [180, 180], [181, 181], [182, 183], [184, 185], [186, 186], [187, 195], [196, 196], [197, 197], [198, 198], [199, 202], [203, 205], [206, 210], [211, 211], [212, 212], [213, 213], [214, 215], [216, 217], [218, 218], [219, 219], [220, 220], [221, 221], [222, 222], [223, 225], [226, 226], [227, 227], [228, 231], [232, 233], [234, 234], [235, 235], [236, 236], [237, 238], [239, 242], [243, 243], [244, 264], [265, 286], [287, 297], [298, 299]]\n",
      "[datetime.datetime(2023, 2, 4, 0, 0)]\n",
      "[datetime.datetime(2023, 2, 4, 0, 0)]\n",
      "[datetime.datetime(2023, 2, 4, 0, 0)]\n",
      "[datetime.datetime(2023, 2, 4, 0, 0)]\n",
      "[datetime.datetime(2023, 2, 4, 0, 0)]\n"
     ]
    },
    {
     "name": "stderr",
     "output_type": "stream",
     "text": [
      "/tmp/ipykernel_17785/614737289.py:11: SettingWithCopyWarning: \n",
      "A value is trying to be set on a copy of a slice from a DataFrame\n",
      "\n",
      "See the caveats in the documentation: https://pandas.pydata.org/pandas-docs/stable/user_guide/indexing.html#returning-a-view-versus-a-copy\n",
      "  dateDF[\"isPast\"][index]=1\n",
      "/tmp/ipykernel_17785/1269700397.py:18: SettingWithCopyWarning: \n",
      "A value is trying to be set on a copy of a slice from a DataFrame\n",
      "\n",
      "See the caveats in the documentation: https://pandas.pydata.org/pandas-docs/stable/user_guide/indexing.html#returning-a-view-versus-a-copy\n",
      "  df[n][index]=neighbours[n]\n",
      "<string>:11: SettingWithCopyWarning: \n",
      "A value is trying to be set on a copy of a slice from a DataFrame\n",
      "\n",
      "See the caveats in the documentation: https://pandas.pydata.org/pandas-docs/stable/user_guide/indexing.html#returning-a-view-versus-a-copy\n",
      "/tmp/ipykernel_17785/3296310189.py:5: SettingWithCopyWarning: \n",
      "A value is trying to be set on a copy of a slice from a DataFrame\n",
      "\n",
      "See the caveats in the documentation: https://pandas.pydata.org/pandas-docs/stable/user_guide/indexing.html#returning-a-view-versus-a-copy\n",
      "  dateDF[\"text\"][index] = text.lower()\n",
      "/tmp/ipykernel_17785/614737289.py:11: SettingWithCopyWarning: \n",
      "A value is trying to be set on a copy of a slice from a DataFrame\n",
      "\n",
      "See the caveats in the documentation: https://pandas.pydata.org/pandas-docs/stable/user_guide/indexing.html#returning-a-view-versus-a-copy\n",
      "  dateDF[\"isPast\"][index]=1\n",
      "/tmp/ipykernel_17785/1269700397.py:18: SettingWithCopyWarning: \n",
      "A value is trying to be set on a copy of a slice from a DataFrame\n",
      "\n",
      "See the caveats in the documentation: https://pandas.pydata.org/pandas-docs/stable/user_guide/indexing.html#returning-a-view-versus-a-copy\n",
      "  df[n][index]=neighbours[n]\n"
     ]
    },
    {
     "name": "stdout",
     "output_type": "stream",
     "text": [
      "[[0, 0], [1, 3], [4, 4], [5, 5], [6, 7], [8, 9], [10, 13], [14, 15], [16, 16], [17, 18], [19, 19], [20, 23], [24, 29], [30, 36], [37, 47], [48, 49], [50, 52], [53, 54], [55, 55], [56, 58], [59, 59], [60, 60], [61, 61], [62, 62], [63, 63], [64, 64], [65, 67], [68, 70], [71, 73], [74, 76], [77, 77], [78, 79], [80, 80], [81, 81], [82, 82], [83, 83], [84, 86], [87, 87], [88, 89], [90, 90], [91, 93], [94, 94], [95, 96], [97, 97], [98, 98], [99, 99], [100, 100], [101, 101], [102, 102], [103, 103], [104, 104], [105, 109], [110, 117], [118, 119], [120, 121], [122, 125], [126, 126], [127, 127], [128, 129], [130, 134], [135, 136], [137, 137], [138, 138], [139, 139], [140, 140], [141, 141], [142, 143]]\n",
      "[datetime.datetime(2022, 9, 10, 0, 0)]\n",
      "[datetime.datetime(2022, 10, 16, 0, 0)]\n",
      "[datetime.datetime(2022, 9, 10, 0, 0)]\n",
      "[datetime.datetime(2022, 10, 16, 0, 0)]\n",
      "[datetime.datetime(2022, 9, 10, 0, 0)]\n",
      "[datetime.datetime(2022, 10, 16, 0, 0)]\n",
      "[datetime.datetime(2022, 9, 10, 0, 0)]\n",
      "[datetime.datetime(2022, 10, 16, 0, 0)]\n"
     ]
    },
    {
     "name": "stderr",
     "output_type": "stream",
     "text": [
      "<string>:11: SettingWithCopyWarning: \n",
      "A value is trying to be set on a copy of a slice from a DataFrame\n",
      "\n",
      "See the caveats in the documentation: https://pandas.pydata.org/pandas-docs/stable/user_guide/indexing.html#returning-a-view-versus-a-copy\n",
      "/tmp/ipykernel_17785/3296310189.py:5: SettingWithCopyWarning: \n",
      "A value is trying to be set on a copy of a slice from a DataFrame\n",
      "\n",
      "See the caveats in the documentation: https://pandas.pydata.org/pandas-docs/stable/user_guide/indexing.html#returning-a-view-versus-a-copy\n",
      "  dateDF[\"text\"][index] = text.lower()\n",
      "/tmp/ipykernel_17785/614737289.py:11: SettingWithCopyWarning: \n",
      "A value is trying to be set on a copy of a slice from a DataFrame\n",
      "\n",
      "See the caveats in the documentation: https://pandas.pydata.org/pandas-docs/stable/user_guide/indexing.html#returning-a-view-versus-a-copy\n",
      "  dateDF[\"isPast\"][index]=1\n",
      "/tmp/ipykernel_17785/1269700397.py:18: SettingWithCopyWarning: \n",
      "A value is trying to be set on a copy of a slice from a DataFrame\n",
      "\n",
      "See the caveats in the documentation: https://pandas.pydata.org/pandas-docs/stable/user_guide/indexing.html#returning-a-view-versus-a-copy\n",
      "  df[n][index]=neighbours[n]\n"
     ]
    },
    {
     "name": "stdout",
     "output_type": "stream",
     "text": [
      "[[0, 0], [1, 1], [2, 3], [4, 4], [5, 6], [7, 7], [8, 8], [9, 9], [10, 10], [11, 11], [12, 12], [13, 13], [14, 15], [16, 16], [17, 17], [18, 18], [19, 22], [23, 23], [24, 24], [25, 25], [26, 29], [30, 31], [32, 32], [33, 33], [34, 35], [36, 41], [42, 46], [47, 47], [48, 48], [49, 49], [50, 52], [53, 53], [54, 54], [55, 57], [58, 58], [59, 60], [61, 63], [64, 64], [65, 65], [66, 66], [67, 67], [68, 68], [69, 82], [83, 83], [84, 88], [89, 89], [90, 90], [91, 91], [92, 92], [93, 93], [94, 94], [95, 95], [96, 97], [98, 99], [100, 101], [102, 104], [105, 106], [107, 109], [110, 111], [112, 113], [114, 114], [115, 115], [116, 116], [117, 118], [119, 119], [120, 120], [121, 121], [122, 122], [123, 131], [132, 132], [133, 135], [136, 139]]\n",
      "[datetime.datetime(2022, 12, 5, 0, 0)]\n",
      "[datetime.datetime(2022, 12, 5, 0, 0)]\n"
     ]
    },
    {
     "name": "stderr",
     "output_type": "stream",
     "text": [
      "<string>:11: SettingWithCopyWarning: \n",
      "A value is trying to be set on a copy of a slice from a DataFrame\n",
      "\n",
      "See the caveats in the documentation: https://pandas.pydata.org/pandas-docs/stable/user_guide/indexing.html#returning-a-view-versus-a-copy\n",
      "/tmp/ipykernel_17785/3296310189.py:5: SettingWithCopyWarning: \n",
      "A value is trying to be set on a copy of a slice from a DataFrame\n",
      "\n",
      "See the caveats in the documentation: https://pandas.pydata.org/pandas-docs/stable/user_guide/indexing.html#returning-a-view-versus-a-copy\n",
      "  dateDF[\"text\"][index] = text.lower()\n",
      "/tmp/ipykernel_17785/614737289.py:11: SettingWithCopyWarning: \n",
      "A value is trying to be set on a copy of a slice from a DataFrame\n",
      "\n",
      "See the caveats in the documentation: https://pandas.pydata.org/pandas-docs/stable/user_guide/indexing.html#returning-a-view-versus-a-copy\n",
      "  dateDF[\"isPast\"][index]=1\n",
      "/tmp/ipykernel_17785/1269700397.py:18: SettingWithCopyWarning: \n",
      "A value is trying to be set on a copy of a slice from a DataFrame\n",
      "\n",
      "See the caveats in the documentation: https://pandas.pydata.org/pandas-docs/stable/user_guide/indexing.html#returning-a-view-versus-a-copy\n",
      "  df[n][index]=neighbours[n]\n"
     ]
    },
    {
     "name": "stdout",
     "output_type": "stream",
     "text": [
      "[[0, 1], [2, 2], [3, 3], [4, 4], [5, 5], [6, 6], [7, 8], [9, 10], [11, 13], [14, 14], [15, 15], [16, 17], [18, 18], [19, 19], [20, 20], [21, 21], [22, 23], [24, 24], [25, 25], [26, 26], [27, 27], [28, 29], [30, 30], [31, 31], [32, 32], [33, 33], [34, 34], [35, 35], [36, 36], [37, 37], [38, 38], [39, 39], [40, 40], [41, 41], [42, 42], [43, 43], [44, 45], [46, 46], [47, 47], [48, 48], [49, 49], [50, 51], [52, 53], [54, 54], [55, 55], [56, 56], [57, 57], [58, 58], [59, 59], [60, 60], [61, 61], [62, 62], [63, 63], [64, 64], [65, 65], [66, 66], [67, 67], [68, 68], [69, 69], [70, 70], [71, 71], [72, 72], [73, 73], [74, 74], [75, 75], [76, 76], [77, 79], [80, 81], [82, 82], [83, 84], [85, 85], [86, 86], [87, 87], [88, 88], [89, 90], [91, 91], [92, 94], [95, 95], [96, 96], [97, 104], [105, 107], [108, 108], [109, 109], [110, 110], [111, 111], [112, 113], [114, 115], [116, 116], [117, 118], [119, 119], [120, 121], [122, 122], [123, 123], [124, 124], [125, 125], [126, 126], [127, 127], [128, 128], [129, 132], [133, 136], [137, 140], [141, 142], [143, 143], [144, 144]]\n",
      "[datetime.datetime(2022, 4, 14, 0, 0)]\n",
      "[datetime.datetime(2022, 4, 14, 0, 0)]\n"
     ]
    },
    {
     "name": "stderr",
     "output_type": "stream",
     "text": [
      "<string>:11: SettingWithCopyWarning: \n",
      "A value is trying to be set on a copy of a slice from a DataFrame\n",
      "\n",
      "See the caveats in the documentation: https://pandas.pydata.org/pandas-docs/stable/user_guide/indexing.html#returning-a-view-versus-a-copy\n",
      "/tmp/ipykernel_17785/3296310189.py:5: SettingWithCopyWarning: \n",
      "A value is trying to be set on a copy of a slice from a DataFrame\n",
      "\n",
      "See the caveats in the documentation: https://pandas.pydata.org/pandas-docs/stable/user_guide/indexing.html#returning-a-view-versus-a-copy\n",
      "  dateDF[\"text\"][index] = text.lower()\n"
     ]
    },
    {
     "name": "stdout",
     "output_type": "stream",
     "text": [
      "[[0, 0], [1, 1], [2, 2], [3, 3], [4, 4], [5, 5], [6, 6], [7, 7], [8, 8], [9, 9], [10, 10], [11, 11], [12, 12], [13, 13], [14, 14], [15, 15], [16, 16], [17, 17], [18, 22], [23, 24], [25, 25], [26, 26], [27, 29], [30, 30], [31, 32], [33, 33], [34, 34], [35, 35], [36, 38], [39, 40], [41, 41], [42, 42], [43, 44], [45, 46], [47, 47], [48, 48], [49, 50], [51, 52], [53, 54], [55, 57], [58, 58], [59, 61], [62, 65], [66, 67], [68, 72], [73, 73], [74, 74], [75, 75], [76, 76], [77, 79], [80, 80], [81, 81], [82, 82], [83, 83], [84, 85], [86, 87], [88, 88], [89, 89], [90, 90], [91, 93], [94, 94], [95, 95], [96, 97], [98, 98], [99, 99], [100, 100], [101, 101], [102, 103], [104, 104], [105, 106], [107, 107], [108, 109], [110, 111], [112, 113], [114, 115], [116, 117], [118, 118], [119, 119], [120, 120], [121, 121], [122, 131], [132, 156], [157, 166], [167, 167], [168, 168], [169, 170], [171, 171], [172, 172], [173, 173], [174, 175], [176, 176], [177, 180], [181, 181], [182, 182], [183, 183], [184, 185], [186, 186], [187, 190], [191, 192], [193, 193], [194, 195], [196, 201], [202, 208], [209, 209], [210, 215], [216, 217], [218, 219], [220, 222], [223, 223], [224, 225]]\n",
      "[datetime.datetime(2022, 4, 15, 0, 0)]\n",
      "[datetime.datetime(2022, 4, 15, 0, 0)]\n",
      "[datetime.datetime(2022, 4, 17, 0, 0)]\n",
      "[datetime.datetime(2022, 4, 15, 0, 0)]\n"
     ]
    },
    {
     "name": "stderr",
     "output_type": "stream",
     "text": [
      "/tmp/ipykernel_17785/614737289.py:11: SettingWithCopyWarning: \n",
      "A value is trying to be set on a copy of a slice from a DataFrame\n",
      "\n",
      "See the caveats in the documentation: https://pandas.pydata.org/pandas-docs/stable/user_guide/indexing.html#returning-a-view-versus-a-copy\n",
      "  dateDF[\"isPast\"][index]=1\n",
      "/tmp/ipykernel_17785/1269700397.py:18: SettingWithCopyWarning: \n",
      "A value is trying to be set on a copy of a slice from a DataFrame\n",
      "\n",
      "See the caveats in the documentation: https://pandas.pydata.org/pandas-docs/stable/user_guide/indexing.html#returning-a-view-versus-a-copy\n",
      "  df[n][index]=neighbours[n]\n",
      "<string>:11: SettingWithCopyWarning: \n",
      "A value is trying to be set on a copy of a slice from a DataFrame\n",
      "\n",
      "See the caveats in the documentation: https://pandas.pydata.org/pandas-docs/stable/user_guide/indexing.html#returning-a-view-versus-a-copy\n",
      "/tmp/ipykernel_17785/3296310189.py:5: SettingWithCopyWarning: \n",
      "A value is trying to be set on a copy of a slice from a DataFrame\n",
      "\n",
      "See the caveats in the documentation: https://pandas.pydata.org/pandas-docs/stable/user_guide/indexing.html#returning-a-view-versus-a-copy\n",
      "  dateDF[\"text\"][index] = text.lower()\n",
      "/tmp/ipykernel_17785/1269700397.py:18: SettingWithCopyWarning: \n",
      "A value is trying to be set on a copy of a slice from a DataFrame\n",
      "\n",
      "See the caveats in the documentation: https://pandas.pydata.org/pandas-docs/stable/user_guide/indexing.html#returning-a-view-versus-a-copy\n",
      "  df[n][index]=neighbours[n]\n"
     ]
    },
    {
     "name": "stdout",
     "output_type": "stream",
     "text": [
      "[[0, 0], [1, 1], [2, 3], [4, 5], [6, 8], [9, 9], [10, 10], [11, 12], [13, 13], [14, 14], [15, 15], [16, 16], [17, 19], [20, 21], [22, 22], [23, 23], [24, 24], [25, 26], [27, 27], [28, 28], [29, 31], [32, 33], [34, 34], [35, 35], [36, 37], [38, 43], [44, 44], [45, 45], [46, 46], [47, 47], [48, 48], [49, 49], [50, 51], [52, 52], [53, 53], [54, 54], [55, 56], [57, 57], [58, 58], [59, 59], [60, 60], [61, 62], [63, 63], [64, 64], [65, 65], [66, 67], [68, 68], [69, 69], [70, 71], [72, 72], [73, 75], [76, 76], [77, 77], [78, 78], [79, 81], [82, 82], [83, 83], [84, 84], [85, 85], [86, 86], [87, 87], [88, 88], [89, 91], [92, 92], [93, 93], [94, 94], [95, 95], [96, 96], [97, 97], [98, 98], [99, 100], [101, 101], [102, 103], [104, 104], [105, 105], [106, 107], [108, 108], [109, 110], [111, 111], [112, 112], [113, 113], [114, 114], [115, 116], [117, 117], [118, 118], [119, 120], [121, 124], [125, 125], [126, 127], [128, 128], [129, 129], [130, 132], [133, 133], [134, 134], [135, 135], [136, 136], [137, 137]]\n"
     ]
    },
    {
     "name": "stderr",
     "output_type": "stream",
     "text": [
      "<string>:11: SettingWithCopyWarning: \n",
      "A value is trying to be set on a copy of a slice from a DataFrame\n",
      "\n",
      "See the caveats in the documentation: https://pandas.pydata.org/pandas-docs/stable/user_guide/indexing.html#returning-a-view-versus-a-copy\n",
      "/tmp/ipykernel_17785/3296310189.py:5: SettingWithCopyWarning: \n",
      "A value is trying to be set on a copy of a slice from a DataFrame\n",
      "\n",
      "See the caveats in the documentation: https://pandas.pydata.org/pandas-docs/stable/user_guide/indexing.html#returning-a-view-versus-a-copy\n",
      "  dateDF[\"text\"][index] = text.lower()\n",
      "/tmp/ipykernel_17785/614737289.py:11: SettingWithCopyWarning: \n",
      "A value is trying to be set on a copy of a slice from a DataFrame\n",
      "\n",
      "See the caveats in the documentation: https://pandas.pydata.org/pandas-docs/stable/user_guide/indexing.html#returning-a-view-versus-a-copy\n",
      "  dateDF[\"isPast\"][index]=1\n",
      "/tmp/ipykernel_17785/1269700397.py:18: SettingWithCopyWarning: \n",
      "A value is trying to be set on a copy of a slice from a DataFrame\n",
      "\n",
      "See the caveats in the documentation: https://pandas.pydata.org/pandas-docs/stable/user_guide/indexing.html#returning-a-view-versus-a-copy\n",
      "  df[n][index]=neighbours[n]\n"
     ]
    },
    {
     "name": "stdout",
     "output_type": "stream",
     "text": [
      "[[0, 1], [2, 3], [4, 7], [8, 8], [9, 9], [10, 16], [17, 19], [20, 20], [21, 21], [22, 28], [29, 29], [30, 30], [31, 38], [39, 40], [41, 41], [42, 45], [46, 46], [47, 49], [50, 52], [53, 56], [57, 61], [62, 66], [67, 68], [69, 69], [70, 70], [71, 71], [72, 72], [73, 74], [75, 75], [76, 79], [80, 82], [83, 83], [84, 84], [85, 85], [86, 86], [87, 88], [89, 89], [90, 90], [91, 95], [96, 100], [101, 101], [102, 102], [103, 103], [104, 104], [105, 106], [107, 109], [110, 113], [114, 117], [118, 119], [120, 120], [121, 121], [122, 131], [132, 141], [142, 148], [149, 150], [151, 152], [153, 153], [154, 155], [156, 156], [157, 157], [158, 158], [159, 159], [160, 161], [162, 164], [165, 165], [166, 167], [168, 171]]\n",
      "[datetime.datetime(2022, 12, 9, 0, 0)]\n",
      "[datetime.datetime(2022, 12, 9, 0, 0)]\n"
     ]
    },
    {
     "name": "stderr",
     "output_type": "stream",
     "text": [
      "<string>:11: SettingWithCopyWarning: \n",
      "A value is trying to be set on a copy of a slice from a DataFrame\n",
      "\n",
      "See the caveats in the documentation: https://pandas.pydata.org/pandas-docs/stable/user_guide/indexing.html#returning-a-view-versus-a-copy\n",
      "/tmp/ipykernel_17785/3296310189.py:5: SettingWithCopyWarning: \n",
      "A value is trying to be set on a copy of a slice from a DataFrame\n",
      "\n",
      "See the caveats in the documentation: https://pandas.pydata.org/pandas-docs/stable/user_guide/indexing.html#returning-a-view-versus-a-copy\n",
      "  dateDF[\"text\"][index] = text.lower()\n"
     ]
    },
    {
     "name": "stdout",
     "output_type": "stream",
     "text": [
      "[[0, 0], [1, 3], [4, 7], [8, 11], [12, 13], [14, 14], [15, 15], [16, 16], [17, 17], [18, 18], [19, 19], [20, 20], [21, 21], [22, 22], [23, 23], [24, 24], [25, 25], [26, 27], [28, 29], [30, 31], [32, 35], [36, 36], [37, 37], [38, 39], [40, 43], [44, 44], [45, 45], [46, 46], [47, 47], [48, 49], [50, 51], [52, 54], [55, 56], [57, 57], [58, 58], [59, 59], [60, 60], [61, 61], [62, 62], [63, 64], [65, 65], [66, 67], [68, 68], [69, 69], [70, 70], [71, 72], [73, 76], [77, 77], [78, 81], [82, 87], [88, 90], [91, 91], [92, 93], [94, 95], [96, 96], [97, 97], [98, 99], [100, 100], [101, 101], [102, 104], [105, 105], [106, 107], [108, 108], [109, 109], [110, 110], [111, 113], [114, 116], [117, 117], [118, 118], [119, 119], [120, 121], [122, 122], [123, 123], [124, 124], [125, 125], [126, 126], [127, 127], [128, 128], [129, 129], [130, 130], [131, 132], [133, 133], [134, 134], [135, 135], [136, 136], [137, 139], [140, 140], [141, 141], [142, 142], [143, 143], [144, 144], [145, 145], [146, 146], [147, 147], [148, 148], [149, 149], [150, 151], [152, 152], [153, 153], [154, 154], [155, 156], [157, 157], [158, 158], [159, 161], [162, 169], [170, 171], [172, 175], [176, 178], [179, 179], [180, 182], [183, 183], [184, 185], [186, 186], [187, 191], [192, 193], [194, 195], [196, 196], [197, 198], [199, 199], [200, 200], [201, 201], [202, 202]]\n",
      "[datetime.datetime(2022, 5, 12, 0, 0)]\n",
      "[datetime.datetime(2022, 5, 12, 0, 0)]\n",
      "[datetime.datetime(2022, 5, 12, 0, 0)]\n",
      "[datetime.datetime(2022, 5, 12, 0, 0)]\n"
     ]
    },
    {
     "name": "stderr",
     "output_type": "stream",
     "text": [
      "/tmp/ipykernel_17785/614737289.py:11: SettingWithCopyWarning: \n",
      "A value is trying to be set on a copy of a slice from a DataFrame\n",
      "\n",
      "See the caveats in the documentation: https://pandas.pydata.org/pandas-docs/stable/user_guide/indexing.html#returning-a-view-versus-a-copy\n",
      "  dateDF[\"isPast\"][index]=1\n",
      "/tmp/ipykernel_17785/1269700397.py:18: SettingWithCopyWarning: \n",
      "A value is trying to be set on a copy of a slice from a DataFrame\n",
      "\n",
      "See the caveats in the documentation: https://pandas.pydata.org/pandas-docs/stable/user_guide/indexing.html#returning-a-view-versus-a-copy\n",
      "  df[n][index]=neighbours[n]\n",
      "<string>:11: SettingWithCopyWarning: \n",
      "A value is trying to be set on a copy of a slice from a DataFrame\n",
      "\n",
      "See the caveats in the documentation: https://pandas.pydata.org/pandas-docs/stable/user_guide/indexing.html#returning-a-view-versus-a-copy\n",
      "/tmp/ipykernel_17785/3296310189.py:5: SettingWithCopyWarning: \n",
      "A value is trying to be set on a copy of a slice from a DataFrame\n",
      "\n",
      "See the caveats in the documentation: https://pandas.pydata.org/pandas-docs/stable/user_guide/indexing.html#returning-a-view-versus-a-copy\n",
      "  dateDF[\"text\"][index] = text.lower()\n",
      "/tmp/ipykernel_17785/614737289.py:11: SettingWithCopyWarning: \n",
      "A value is trying to be set on a copy of a slice from a DataFrame\n",
      "\n",
      "See the caveats in the documentation: https://pandas.pydata.org/pandas-docs/stable/user_guide/indexing.html#returning-a-view-versus-a-copy\n",
      "  dateDF[\"isPast\"][index]=1\n"
     ]
    },
    {
     "name": "stdout",
     "output_type": "stream",
     "text": [
      "[[0, 1], [2, 10], [11, 11], [12, 14], [15, 16], [17, 18], [19, 19], [20, 20], [21, 21], [22, 25], [26, 27], [28, 35], [36, 37], [38, 41], [42, 44], [45, 46], [47, 47], [48, 51], [52, 53], [54, 54], [55, 55], [56, 57], [58, 60], [61, 61], [62, 62], [63, 63], [64, 64], [65, 65], [66, 66], [67, 67], [68, 69], [70, 70], [71, 72], [73, 75], [76, 76], [77, 77], [78, 78], [79, 79], [80, 80], [81, 81], [82, 82], [83, 83], [84, 84], [85, 85], [86, 86], [87, 87], [88, 88], [89, 89], [90, 90], [91, 91], [92, 92], [93, 94], [95, 95], [96, 96], [97, 97], [98, 98], [99, 99], [100, 100], [101, 101], [102, 102], [103, 103], [104, 104], [105, 105], [106, 106], [107, 107], [108, 108], [109, 109], [110, 110], [111, 111], [112, 112], [113, 113], [114, 114], [115, 115], [116, 116], [117, 117], [118, 118], [119, 119], [120, 124], [125, 128], [129, 134], [135, 136], [137, 137], [138, 139], [140, 140], [141, 141], [142, 142], [143, 143], [144, 144], [145, 145], [146, 146], [147, 148], [149, 151], [152, 157], [158, 163], [164, 167], [168, 170], [171, 173], [174, 177], [178, 179], [180, 184], [185, 185], [186, 187], [188, 188], [189, 189], [190, 190], [191, 191], [192, 192], [193, 193], [194, 194], [195, 195], [196, 198]]\n",
      "[datetime.datetime(2022, 1, 12, 0, 0)]\n",
      "[datetime.datetime(2022, 1, 12, 0, 0)]\n",
      "[datetime.datetime(2022, 1, 12, 0, 0)]\n",
      "[datetime.datetime(2022, 1, 12, 0, 0)]\n"
     ]
    },
    {
     "name": "stderr",
     "output_type": "stream",
     "text": [
      "/tmp/ipykernel_17785/1269700397.py:18: SettingWithCopyWarning: \n",
      "A value is trying to be set on a copy of a slice from a DataFrame\n",
      "\n",
      "See the caveats in the documentation: https://pandas.pydata.org/pandas-docs/stable/user_guide/indexing.html#returning-a-view-versus-a-copy\n",
      "  df[n][index]=neighbours[n]\n",
      "<string>:11: SettingWithCopyWarning: \n",
      "A value is trying to be set on a copy of a slice from a DataFrame\n",
      "\n",
      "See the caveats in the documentation: https://pandas.pydata.org/pandas-docs/stable/user_guide/indexing.html#returning-a-view-versus-a-copy\n"
     ]
    },
    {
     "name": "stdout",
     "output_type": "stream",
     "text": [
      "[[0, 0], [1, 1], [2, 4], [5, 6], [7, 7], [8, 8], [9, 9], [10, 18], [19, 19], [20, 20], [21, 26], [27, 27], [28, 32], [33, 33], [34, 34], [35, 38], [39, 43], [44, 44], [45, 50], [51, 51], [52, 55], [56, 56], [57, 57], [58, 58], [59, 60], [61, 62], [63, 63], [64, 70], [71, 71], [72, 73], [74, 75], [76, 76], [77, 77], [78, 78], [79, 80], [81, 82], [83, 83], [84, 84], [85, 85], [86, 88], [89, 89], [90, 95], [96, 96], [97, 98], [99, 99], [100, 102], [103, 103], [104, 109], [110, 110], [111, 111], [112, 113], [114, 117], [118, 118], [119, 119], [120, 123], [124, 124], [125, 125], [126, 126], [127, 127], [128, 128], [129, 130], [131, 131], [132, 132], [133, 135], [136, 136], [137, 137], [138, 138], [139, 139], [140, 140], [141, 141], [142, 142], [143, 143], [144, 146], [147, 147], [148, 148], [149, 149], [150, 150], [151, 151], [152, 152], [153, 153], [154, 158], [159, 159], [160, 160], [161, 166], [167, 167], [168, 168], [169, 169], [170, 170], [171, 172], [173, 173], [174, 174], [175, 175], [176, 176], [177, 177], [178, 178], [179, 183], [184, 185], [186, 186], [187, 190], [191, 203], [204, 204], [205, 205], [206, 207], [208, 208], [209, 209], [210, 210], [211, 212], [213, 215], [216, 217], [218, 219], [220, 220], [221, 222], [223, 223], [224, 230], [231, 231], [232, 232], [233, 240], [241, 243], [244, 244], [245, 245], [246, 247], [248, 248], [249, 249], [250, 252], [253, 255], [256, 257], [258, 259], [260, 261], [262, 263], [264, 264], [265, 267], [268, 269], [270, 270], [271, 271], [272, 272], [273, 273], [274, 274], [275, 275], [276, 276], [277, 277], [278, 278], [279, 279], [280, 280], [281, 281], [282, 282], [283, 283], [284, 284]]\n"
     ]
    },
    {
     "name": "stderr",
     "output_type": "stream",
     "text": [
      "/tmp/ipykernel_17785/3296310189.py:5: SettingWithCopyWarning: \n",
      "A value is trying to be set on a copy of a slice from a DataFrame\n",
      "\n",
      "See the caveats in the documentation: https://pandas.pydata.org/pandas-docs/stable/user_guide/indexing.html#returning-a-view-versus-a-copy\n",
      "  dateDF[\"text\"][index] = text.lower()\n",
      "/tmp/ipykernel_17785/614737289.py:11: SettingWithCopyWarning: \n",
      "A value is trying to be set on a copy of a slice from a DataFrame\n",
      "\n",
      "See the caveats in the documentation: https://pandas.pydata.org/pandas-docs/stable/user_guide/indexing.html#returning-a-view-versus-a-copy\n",
      "  dateDF[\"isPast\"][index]=1\n",
      "/tmp/ipykernel_17785/1269700397.py:18: SettingWithCopyWarning: \n",
      "A value is trying to be set on a copy of a slice from a DataFrame\n",
      "\n",
      "See the caveats in the documentation: https://pandas.pydata.org/pandas-docs/stable/user_guide/indexing.html#returning-a-view-versus-a-copy\n",
      "  df[n][index]=neighbours[n]\n"
     ]
    },
    {
     "name": "stdout",
     "output_type": "stream",
     "text": [
      "[datetime.datetime(2022, 5, 12, 0, 0)]\n",
      "[datetime.datetime(2022, 5, 12, 0, 0)]\n"
     ]
    },
    {
     "name": "stderr",
     "output_type": "stream",
     "text": [
      "<string>:11: SettingWithCopyWarning: \n",
      "A value is trying to be set on a copy of a slice from a DataFrame\n",
      "\n",
      "See the caveats in the documentation: https://pandas.pydata.org/pandas-docs/stable/user_guide/indexing.html#returning-a-view-versus-a-copy\n",
      "/tmp/ipykernel_17785/3296310189.py:5: SettingWithCopyWarning: \n",
      "A value is trying to be set on a copy of a slice from a DataFrame\n",
      "\n",
      "See the caveats in the documentation: https://pandas.pydata.org/pandas-docs/stable/user_guide/indexing.html#returning-a-view-versus-a-copy\n",
      "  dateDF[\"text\"][index] = text.lower()\n",
      "/tmp/ipykernel_17785/614737289.py:11: SettingWithCopyWarning: \n",
      "A value is trying to be set on a copy of a slice from a DataFrame\n",
      "\n",
      "See the caveats in the documentation: https://pandas.pydata.org/pandas-docs/stable/user_guide/indexing.html#returning-a-view-versus-a-copy\n",
      "  dateDF[\"isPast\"][index]=1\n",
      "/tmp/ipykernel_17785/1269700397.py:18: SettingWithCopyWarning: \n",
      "A value is trying to be set on a copy of a slice from a DataFrame\n",
      "\n",
      "See the caveats in the documentation: https://pandas.pydata.org/pandas-docs/stable/user_guide/indexing.html#returning-a-view-versus-a-copy\n",
      "  df[n][index]=neighbours[n]\n"
     ]
    },
    {
     "name": "stdout",
     "output_type": "stream",
     "text": [
      "[[0, 0], [1, 1], [2, 6], [7, 8], [9, 13], [14, 25], [26, 26], [27, 28], [29, 29], [30, 30], [31, 32], [33, 33], [34, 34], [35, 38], [39, 40], [41, 45], [46, 49], [50, 50], [51, 52], [53, 54], [55, 55], [56, 65], [66, 72], [73, 75], [76, 82], [83, 83], [84, 91], [92, 93], [94, 94], [95, 95], [96, 97], [98, 100], [101, 103], [104, 105], [106, 106], [107, 108], [109, 117], [118, 120], [121, 121], [122, 122], [123, 123], [124, 124], [125, 125], [126, 128], [129, 130], [131, 132], [133, 133], [134, 140], [141, 141], [142, 142], [143, 143], [144, 145], [146, 146], [147, 147], [148, 148], [149, 150], [151, 151], [152, 152], [153, 161], [162, 162], [163, 163], [164, 164], [165, 165], [166, 166], [167, 169], [170, 175], [176, 191], [192, 192], [193, 200], [201, 202], [203, 203], [204, 204], [205, 205], [206, 206], [207, 208], [209, 210], [211, 212], [213, 213], [214, 214], [215, 215], [216, 216]]\n",
      "[datetime.datetime(2022, 8, 21, 0, 0)]\n",
      "[datetime.datetime(2001, 6, 5, 0, 0)]\n",
      "[datetime.datetime(2001, 6, 5, 0, 0)]\n"
     ]
    },
    {
     "name": "stderr",
     "output_type": "stream",
     "text": [
      "<string>:11: SettingWithCopyWarning: \n",
      "A value is trying to be set on a copy of a slice from a DataFrame\n",
      "\n",
      "See the caveats in the documentation: https://pandas.pydata.org/pandas-docs/stable/user_guide/indexing.html#returning-a-view-versus-a-copy\n",
      "/tmp/ipykernel_17785/3296310189.py:5: SettingWithCopyWarning: \n",
      "A value is trying to be set on a copy of a slice from a DataFrame\n",
      "\n",
      "See the caveats in the documentation: https://pandas.pydata.org/pandas-docs/stable/user_guide/indexing.html#returning-a-view-versus-a-copy\n",
      "  dateDF[\"text\"][index] = text.lower()\n",
      "/tmp/ipykernel_17785/614737289.py:11: SettingWithCopyWarning: \n",
      "A value is trying to be set on a copy of a slice from a DataFrame\n",
      "\n",
      "See the caveats in the documentation: https://pandas.pydata.org/pandas-docs/stable/user_guide/indexing.html#returning-a-view-versus-a-copy\n",
      "  dateDF[\"isPast\"][index]=1\n",
      "/tmp/ipykernel_17785/1269700397.py:18: SettingWithCopyWarning: \n",
      "A value is trying to be set on a copy of a slice from a DataFrame\n",
      "\n",
      "See the caveats in the documentation: https://pandas.pydata.org/pandas-docs/stable/user_guide/indexing.html#returning-a-view-versus-a-copy\n",
      "  df[n][index]=neighbours[n]\n"
     ]
    },
    {
     "name": "stdout",
     "output_type": "stream",
     "text": [
      "[[0, 0], [1, 3], [4, 4], [5, 9], [10, 10], [11, 17], [18, 18], [19, 19], [20, 20], [21, 21], [22, 22], [23, 23], [24, 25], [26, 26], [27, 27], [28, 28], [29, 33], [34, 34], [35, 42], [43, 43], [44, 45], [46, 46], [47, 48], [49, 49], [50, 50], [51, 51], [52, 52], [53, 53], [54, 54], [55, 57], [58, 58], [59, 68], [69, 69], [70, 73], [74, 76], [77, 78], [79, 80], [81, 83], [84, 84], [85, 85], [86, 86], [87, 88], [89, 106], [107, 115], [116, 131], [132, 135]]\n",
      "[datetime.datetime(2022, 10, 17, 0, 0)]\n",
      "[datetime.datetime(2022, 10, 9, 0, 0)]\n",
      "[datetime.datetime(2022, 10, 17, 10, 42)]\n"
     ]
    },
    {
     "name": "stderr",
     "output_type": "stream",
     "text": [
      "<string>:11: SettingWithCopyWarning: \n",
      "A value is trying to be set on a copy of a slice from a DataFrame\n",
      "\n",
      "See the caveats in the documentation: https://pandas.pydata.org/pandas-docs/stable/user_guide/indexing.html#returning-a-view-versus-a-copy\n"
     ]
    },
    {
     "name": "stdout",
     "output_type": "stream",
     "text": [
      "[[0, 0], [1, 1], [2, 2], [3, 3], [4, 4], [5, 5], [6, 6], [7, 7], [8, 8], [9, 9], [10, 10], [11, 11], [12, 12], [13, 14], [15, 15], [16, 17], [18, 18], [19, 22], [23, 23], [24, 24], [25, 25], [26, 28], [29, 29], [30, 30], [31, 33], [34, 35], [36, 36], [37, 37], [38, 39], [40, 41], [42, 43], [44, 44], [45, 45], [46, 47], [48, 52], [53, 54], [55, 55], [56, 56], [57, 57], [58, 58], [59, 60], [61, 61], [62, 63], [64, 66], [67, 69], [70, 71], [72, 74], [75, 77], [78, 78], [79, 80], [81, 82], [83, 85], [86, 88], [89, 90], [91, 91], [92, 94], [95, 96], [97, 97], [98, 99], [100, 101], [102, 104], [105, 105], [106, 106], [107, 108], [109, 111], [112, 113], [114, 114], [115, 115], [116, 116], [117, 117], [118, 118], [119, 120], [121, 121], [122, 122], [123, 123], [124, 124], [125, 125], [126, 126], [127, 127], [128, 128], [129, 129], [130, 130], [131, 131], [132, 132], [133, 133], [134, 134], [135, 135], [136, 136], [137, 137], [138, 138], [139, 139], [140, 140], [141, 141], [142, 142], [143, 143], [144, 144], [145, 145], [146, 146], [147, 147], [148, 148], [149, 149], [150, 150], [151, 151], [152, 152], [153, 153], [154, 154], [155, 155], [156, 156], [157, 157], [158, 158], [159, 159], [160, 160], [161, 161], [162, 163], [164, 164], [165, 165], [166, 168], [169, 169], [170, 170], [171, 171], [172, 172], [173, 173], [174, 174], [175, 175], [176, 176], [177, 177], [178, 178], [179, 179], [180, 180], [181, 181], [182, 182], [183, 183], [184, 184], [185, 185], [186, 186], [187, 187], [188, 188], [189, 189], [190, 190], [191, 191], [192, 192], [193, 193], [194, 194], [195, 195], [196, 196], [197, 197], [198, 201], [202, 202], [203, 203], [204, 204], [205, 208], [209, 210], [211, 213], [214, 215], [216, 216], [217, 217], [218, 222], [223, 223], [224, 225], [226, 231], [232, 232], [233, 233], [234, 234], [235, 236], [237, 237], [238, 238], [239, 244], [245, 245], [246, 246], [247, 247], [248, 250], [251, 255], [256, 261], [262, 262], [263, 264], [265, 265], [266, 270], [271, 271], [272, 275], [276, 281], [282, 282], [283, 283], [284, 284], [285, 285], [286, 286], [287, 287], [288, 288], [289, 289], [290, 290], [291, 293], [294, 296], [297, 297], [298, 298], [299, 299], [300, 300], [301, 301], [302, 302], [303, 303], [304, 304], [305, 305], [306, 307], [308, 308]]\n"
     ]
    },
    {
     "name": "stderr",
     "output_type": "stream",
     "text": [
      "/tmp/ipykernel_17785/3296310189.py:5: SettingWithCopyWarning: \n",
      "A value is trying to be set on a copy of a slice from a DataFrame\n",
      "\n",
      "See the caveats in the documentation: https://pandas.pydata.org/pandas-docs/stable/user_guide/indexing.html#returning-a-view-versus-a-copy\n",
      "  dateDF[\"text\"][index] = text.lower()\n",
      "/tmp/ipykernel_17785/614737289.py:11: SettingWithCopyWarning: \n",
      "A value is trying to be set on a copy of a slice from a DataFrame\n",
      "\n",
      "See the caveats in the documentation: https://pandas.pydata.org/pandas-docs/stable/user_guide/indexing.html#returning-a-view-versus-a-copy\n",
      "  dateDF[\"isPast\"][index]=1\n",
      "/tmp/ipykernel_17785/1269700397.py:18: SettingWithCopyWarning: \n",
      "A value is trying to be set on a copy of a slice from a DataFrame\n",
      "\n",
      "See the caveats in the documentation: https://pandas.pydata.org/pandas-docs/stable/user_guide/indexing.html#returning-a-view-versus-a-copy\n",
      "  df[n][index]=neighbours[n]\n"
     ]
    },
    {
     "name": "stdout",
     "output_type": "stream",
     "text": [
      "[datetime.datetime(2023, 3, 7, 0, 0)]\n",
      "[datetime.datetime(2023, 3, 7, 0, 0)]\n",
      "[datetime.datetime(2023, 3, 7, 0, 0)]\n",
      "[datetime.datetime(2023, 3, 7, 0, 0)]\n"
     ]
    },
    {
     "name": "stderr",
     "output_type": "stream",
     "text": [
      "<string>:11: SettingWithCopyWarning: \n",
      "A value is trying to be set on a copy of a slice from a DataFrame\n",
      "\n",
      "See the caveats in the documentation: https://pandas.pydata.org/pandas-docs/stable/user_guide/indexing.html#returning-a-view-versus-a-copy\n",
      "/tmp/ipykernel_17785/3296310189.py:5: SettingWithCopyWarning: \n",
      "A value is trying to be set on a copy of a slice from a DataFrame\n",
      "\n",
      "See the caveats in the documentation: https://pandas.pydata.org/pandas-docs/stable/user_guide/indexing.html#returning-a-view-versus-a-copy\n",
      "  dateDF[\"text\"][index] = text.lower()\n"
     ]
    },
    {
     "name": "stdout",
     "output_type": "stream",
     "text": [
      "[[0, 0], [1, 2], [3, 5], [6, 8], [9, 10], [11, 12], [13, 14], [15, 18], [19, 21], [22, 24], [25, 28], [29, 39], [40, 44], [45, 46], [47, 49], [50, 50], [51, 51], [52, 54], [55, 56], [57, 57], [58, 58], [59, 59], [60, 63], [64, 65], [66, 68], [69, 69], [70, 70], [71, 71], [72, 74], [75, 76], [77, 79], [80, 80], [81, 81], [82, 82], [83, 83], [84, 84], [85, 85], [86, 86], [87, 87], [88, 89], [90, 91], [92, 93], [94, 95], [96, 96], [97, 100], [101, 104], [105, 105], [106, 106], [107, 107], [108, 108], [109, 109], [110, 110], [111, 111], [112, 112], [113, 113], [114, 116], [117, 117], [118, 119], [120, 120], [121, 125], [126, 127], [128, 129], [130, 136], [137, 140], [141, 141], [142, 142], [143, 144], [145, 148], [149, 151], [152, 159], [160, 160], [161, 161], [162, 163], [164, 164], [165, 165], [166, 166], [167, 168], [169, 169], [170, 170], [171, 171], [172, 172], [173, 173], [174, 174], [175, 175], [176, 176], [177, 177], [178, 181], [182, 187], [188, 189], [190, 192], [193, 193], [194, 194], [195, 196], [197, 197], [198, 198], [199, 199], [200, 200], [201, 201], [202, 202], [203, 203], [204, 207], [208, 210], [211, 212], [213, 214], [215, 215], [216, 216], [217, 219], [220, 223], [224, 224], [225, 225], [226, 227], [228, 228], [229, 229], [230, 240], [241, 241], [242, 243], [244, 244], [245, 255], [256, 256], [257, 257], [258, 259], [260, 261], [262, 262], [263, 266]]\n",
      "[datetime.datetime(2022, 12, 16, 0, 0)]\n",
      "[datetime.datetime(2022, 12, 16, 0, 0)]\n",
      "[datetime.datetime(2022, 12, 16, 0, 0)]\n"
     ]
    },
    {
     "name": "stderr",
     "output_type": "stream",
     "text": [
      "/tmp/ipykernel_17785/614737289.py:11: SettingWithCopyWarning: \n",
      "A value is trying to be set on a copy of a slice from a DataFrame\n",
      "\n",
      "See the caveats in the documentation: https://pandas.pydata.org/pandas-docs/stable/user_guide/indexing.html#returning-a-view-versus-a-copy\n",
      "  dateDF[\"isPast\"][index]=1\n",
      "/tmp/ipykernel_17785/1269700397.py:18: SettingWithCopyWarning: \n",
      "A value is trying to be set on a copy of a slice from a DataFrame\n",
      "\n",
      "See the caveats in the documentation: https://pandas.pydata.org/pandas-docs/stable/user_guide/indexing.html#returning-a-view-versus-a-copy\n",
      "  df[n][index]=neighbours[n]\n",
      "<string>:11: SettingWithCopyWarning: \n",
      "A value is trying to be set on a copy of a slice from a DataFrame\n",
      "\n",
      "See the caveats in the documentation: https://pandas.pydata.org/pandas-docs/stable/user_guide/indexing.html#returning-a-view-versus-a-copy\n"
     ]
    },
    {
     "name": "stdout",
     "output_type": "stream",
     "text": [
      "[[0, 0], [1, 1], [2, 2], [3, 3], [4, 4], [5, 5], [6, 6], [7, 7], [8, 8], [9, 9], [10, 10], [11, 11], [12, 12], [13, 13], [14, 14], [15, 15], [16, 16], [17, 17], [18, 18], [19, 19], [20, 20], [21, 21], [22, 22], [23, 23], [24, 24], [25, 25], [26, 26], [27, 27], [28, 28], [29, 29], [30, 30], [31, 31], [32, 32], [33, 33], [34, 34], [35, 35], [36, 36], [37, 37], [38, 39], [40, 40], [41, 41], [42, 42], [43, 43], [44, 44], [45, 46], [47, 47], [48, 48], [49, 49], [50, 50], [51, 51], [52, 52], [53, 53], [54, 54], [55, 55], [56, 56], [57, 58], [59, 60], [61, 61], [62, 62], [63, 64], [65, 65], [66, 67], [68, 68], [69, 69], [70, 70], [71, 71], [72, 72], [73, 73], [74, 74], [75, 75], [76, 76], [77, 78], [79, 79], [80, 81], [82, 82], [83, 83], [84, 84], [85, 85], [86, 86], [87, 87], [88, 89], [90, 90], [91, 92], [93, 93], [94, 94], [95, 95], [96, 96], [97, 97], [98, 98], [99, 99], [100, 100], [101, 101], [102, 102], [103, 103], [104, 104], [105, 105], [106, 106], [107, 107], [108, 108], [109, 109], [110, 110], [111, 111], [112, 112], [113, 113], [114, 114], [115, 115], [116, 116], [117, 117], [118, 118], [119, 119], [120, 120], [121, 121], [122, 122], [123, 123], [124, 124], [125, 127], [128, 128], [129, 129], [130, 130], [131, 131], [132, 133], [134, 134], [135, 135], [136, 136], [137, 137], [138, 138], [139, 139], [140, 140], [141, 141], [142, 142], [143, 143], [144, 144], [145, 146], [147, 148], [149, 149], [150, 151], [152, 152], [153, 153], [154, 154], [155, 155], [156, 156], [157, 157], [158, 158], [159, 159], [160, 160], [161, 161], [162, 162], [163, 163], [164, 164], [165, 165], [166, 166], [167, 167], [168, 168], [169, 169], [170, 170], [171, 171], [172, 172], [173, 173], [174, 174], [175, 175], [176, 176], [177, 177], [178, 178], [179, 180], [181, 181], [182, 184], [185, 185], [186, 186], [187, 187], [188, 188], [189, 189], [190, 190], [191, 191], [192, 192], [193, 193], [194, 194], [195, 195], [196, 196], [197, 197], [198, 198], [199, 199], [200, 200], [201, 201], [202, 202], [203, 203], [204, 204], [205, 205], [206, 206], [207, 207], [208, 208], [209, 209], [210, 210], [211, 211], [212, 212], [213, 213], [214, 214], [215, 216], [217, 217], [218, 218], [219, 219], [220, 220], [221, 221], [222, 222], [223, 223], [224, 224], [225, 225], [226, 226], [227, 227], [228, 228], [229, 229], [230, 230], [231, 231], [232, 232], [233, 233], [234, 234], [235, 235], [236, 236], [237, 237], [238, 239], [240, 240], [241, 241], [242, 243], [244, 244], [245, 245], [246, 246], [247, 247], [248, 249], [250, 250], [251, 251], [252, 252], [253, 253], [254, 254], [255, 255], [256, 256], [257, 257], [258, 258], [259, 259], [260, 260], [261, 261], [262, 262], [263, 263], [264, 265], [266, 266], [267, 268], [269, 269], [270, 270], [271, 272], [273, 273], [274, 274], [275, 276], [277, 277], [278, 278], [279, 279]]\n"
     ]
    },
    {
     "name": "stderr",
     "output_type": "stream",
     "text": [
      "/tmp/ipykernel_17785/3296310189.py:5: SettingWithCopyWarning: \n",
      "A value is trying to be set on a copy of a slice from a DataFrame\n",
      "\n",
      "See the caveats in the documentation: https://pandas.pydata.org/pandas-docs/stable/user_guide/indexing.html#returning-a-view-versus-a-copy\n",
      "  dateDF[\"text\"][index] = text.lower()\n",
      "/tmp/ipykernel_17785/614737289.py:13: SettingWithCopyWarning: \n",
      "A value is trying to be set on a copy of a slice from a DataFrame\n",
      "\n",
      "See the caveats in the documentation: https://pandas.pydata.org/pandas-docs/stable/user_guide/indexing.html#returning-a-view-versus-a-copy\n",
      "  dateDF[\"isFuture\"][index]=1\n",
      "/tmp/ipykernel_17785/1269700397.py:18: SettingWithCopyWarning: \n",
      "A value is trying to be set on a copy of a slice from a DataFrame\n",
      "\n",
      "See the caveats in the documentation: https://pandas.pydata.org/pandas-docs/stable/user_guide/indexing.html#returning-a-view-versus-a-copy\n",
      "  df[n][index]=neighbours[n]\n"
     ]
    },
    {
     "name": "stdout",
     "output_type": "stream",
     "text": [
      "[datetime.datetime(2056, 12, 6, 0, 0)]\n",
      "[datetime.datetime(2056, 12, 6, 0, 0)]\n"
     ]
    },
    {
     "name": "stderr",
     "output_type": "stream",
     "text": [
      "<string>:11: SettingWithCopyWarning: \n",
      "A value is trying to be set on a copy of a slice from a DataFrame\n",
      "\n",
      "See the caveats in the documentation: https://pandas.pydata.org/pandas-docs/stable/user_guide/indexing.html#returning-a-view-versus-a-copy\n"
     ]
    },
    {
     "name": "stdout",
     "output_type": "stream",
     "text": [
      "[[0, 2], [3, 5], [6, 6], [7, 7], [8, 8], [9, 9], [10, 10], [11, 11], [12, 14], [15, 17], [18, 18], [19, 20], [21, 22], [23, 24], [25, 25], [26, 26], [27, 27], [28, 28], [29, 29], [30, 32], [33, 36], [37, 37], [38, 39], [40, 40], [41, 44], [45, 49], [50, 50], [51, 51], [52, 52], [53, 55], [56, 56], [57, 57], [58, 60], [61, 62], [63, 65], [66, 69], [70, 79], [80, 80], [81, 81], [82, 82], [83, 86], [87, 89], [90, 92], [93, 96], [97, 105], [106, 110], [111, 111], [112, 112], [113, 113], [114, 114], [115, 115], [116, 116], [117, 117], [118, 118], [119, 119], [120, 120], [121, 121], [122, 122], [123, 123], [124, 124], [125, 125], [126, 126], [127, 127], [128, 128], [129, 129], [130, 130], [131, 131], [132, 132], [133, 133], [134, 134], [135, 135], [136, 136], [137, 137], [138, 138], [139, 139], [140, 140], [141, 141], [142, 142], [143, 143], [144, 144], [145, 145], [146, 146], [147, 147], [148, 148], [149, 151], [152, 152], [153, 154], [155, 155], [156, 156], [157, 157], [158, 158], [159, 159], [160, 160], [161, 163], [164, 164], [165, 167], [168, 168], [169, 169], [170, 171], [172, 172], [173, 173], [174, 174], [175, 175], [176, 176], [177, 177], [178, 179], [180, 180], [181, 181], [182, 182], [183, 183], [184, 184], [185, 185], [186, 186], [187, 187], [188, 188], [189, 191], [192, 193], [194, 194], [195, 195], [196, 196], [197, 197], [198, 198], [199, 199], [200, 200], [201, 201], [202, 202], [203, 204], [205, 205], [206, 206], [207, 207], [208, 208], [209, 209], [210, 210], [211, 211], [212, 212], [213, 213], [214, 218], [219, 219], [220, 220], [221, 222], [223, 223], [224, 224], [225, 225], [226, 226], [227, 227], [228, 228], [229, 230], [231, 231], [232, 232], [233, 233], [234, 234], [235, 235], [236, 236], [237, 237], [238, 238], [239, 240], [241, 241], [242, 242], [243, 243], [244, 244], [245, 245], [246, 246], [247, 248], [249, 249], [250, 250], [251, 251], [252, 252], [253, 253], [254, 254], [255, 255], [256, 256], [257, 257], [258, 258], [259, 259], [260, 260], [261, 261], [262, 262], [263, 263], [264, 264], [265, 265], [266, 267], [268, 268], [269, 269], [270, 270], [271, 271], [272, 273], [274, 274], [275, 275], [276, 276], [277, 278], [279, 282], [283, 283], [284, 284], [285, 285], [286, 286], [287, 287], [288, 288], [289, 289], [290, 290], [291, 292], [293, 294], [295, 295], [296, 300], [301, 310], [311, 315], [316, 316], [317, 317], [318, 325], [326, 326], [327, 327], [328, 328], [329, 331], [332, 332], [333, 333], [334, 334]]\n"
     ]
    },
    {
     "name": "stderr",
     "output_type": "stream",
     "text": [
      "/tmp/ipykernel_17785/3296310189.py:5: SettingWithCopyWarning: \n",
      "A value is trying to be set on a copy of a slice from a DataFrame\n",
      "\n",
      "See the caveats in the documentation: https://pandas.pydata.org/pandas-docs/stable/user_guide/indexing.html#returning-a-view-versus-a-copy\n",
      "  dateDF[\"text\"][index] = text.lower()\n",
      "/tmp/ipykernel_17785/614737289.py:11: SettingWithCopyWarning: \n",
      "A value is trying to be set on a copy of a slice from a DataFrame\n",
      "\n",
      "See the caveats in the documentation: https://pandas.pydata.org/pandas-docs/stable/user_guide/indexing.html#returning-a-view-versus-a-copy\n",
      "  dateDF[\"isPast\"][index]=1\n",
      "/tmp/ipykernel_17785/1269700397.py:18: SettingWithCopyWarning: \n",
      "A value is trying to be set on a copy of a slice from a DataFrame\n",
      "\n",
      "See the caveats in the documentation: https://pandas.pydata.org/pandas-docs/stable/user_guide/indexing.html#returning-a-view-versus-a-copy\n",
      "  df[n][index]=neighbours[n]\n"
     ]
    },
    {
     "name": "stdout",
     "output_type": "stream",
     "text": [
      "[datetime.datetime(2023, 3, 4, 0, 0)]\n",
      "[datetime.datetime(2023, 1, 30, 0, 0)]\n",
      "[datetime.datetime(2023, 1, 29, 0, 0)]\n",
      "[datetime.datetime(2022, 12, 29, 0, 0)]\n",
      "[datetime.datetime(2022, 12, 30, 0, 0)]\n",
      "[datetime.datetime(2022, 12, 31, 0, 0)]\n",
      "[datetime.datetime(2022, 12, 31, 0, 0)]\n",
      "[datetime.datetime(2023, 1, 1, 0, 0)]\n",
      "[datetime.datetime(2023, 1, 1, 0, 0)]\n",
      "[datetime.datetime(2023, 3, 4, 9, 47)]\n",
      "[datetime.datetime(2023, 1, 30, 10, 6)]\n",
      "[datetime.datetime(2023, 1, 29, 0, 0)]\n",
      "[datetime.datetime(2022, 12, 29, 0, 0)]\n",
      "[datetime.datetime(2022, 12, 30, 0, 0)]\n",
      "[datetime.datetime(2022, 12, 31, 0, 0)]\n",
      "[datetime.datetime(2022, 12, 31, 0, 0)]\n",
      "[datetime.datetime(2023, 1, 1, 0, 0)]\n",
      "[datetime.datetime(2023, 1, 1, 0, 0)]\n",
      "[datetime.datetime(2023, 3, 4, 0, 0)]\n",
      "[datetime.datetime(2023, 1, 30, 0, 0)]\n"
     ]
    },
    {
     "name": "stderr",
     "output_type": "stream",
     "text": [
      "<string>:11: SettingWithCopyWarning: \n",
      "A value is trying to be set on a copy of a slice from a DataFrame\n",
      "\n",
      "See the caveats in the documentation: https://pandas.pydata.org/pandas-docs/stable/user_guide/indexing.html#returning-a-view-versus-a-copy\n",
      "/tmp/ipykernel_17785/3296310189.py:5: SettingWithCopyWarning: \n",
      "A value is trying to be set on a copy of a slice from a DataFrame\n",
      "\n",
      "See the caveats in the documentation: https://pandas.pydata.org/pandas-docs/stable/user_guide/indexing.html#returning-a-view-versus-a-copy\n",
      "  dateDF[\"text\"][index] = text.lower()\n",
      "/tmp/ipykernel_17785/614737289.py:11: SettingWithCopyWarning: \n",
      "A value is trying to be set on a copy of a slice from a DataFrame\n",
      "\n",
      "See the caveats in the documentation: https://pandas.pydata.org/pandas-docs/stable/user_guide/indexing.html#returning-a-view-versus-a-copy\n",
      "  dateDF[\"isPast\"][index]=1\n",
      "/tmp/ipykernel_17785/1269700397.py:18: SettingWithCopyWarning: \n",
      "A value is trying to be set on a copy of a slice from a DataFrame\n",
      "\n",
      "See the caveats in the documentation: https://pandas.pydata.org/pandas-docs/stable/user_guide/indexing.html#returning-a-view-versus-a-copy\n",
      "  df[n][index]=neighbours[n]\n"
     ]
    },
    {
     "name": "stdout",
     "output_type": "stream",
     "text": [
      "[[0, 2], [3, 11], [12, 13], [14, 15], [16, 17], [18, 18], [19, 19], [20, 21], [22, 22], [23, 23], [24, 24], [25, 28], [29, 29], [30, 30], [31, 34], [35, 38], [39, 40], [41, 41], [42, 42], [43, 43], [44, 44], [45, 47], [48, 53], [54, 54], [55, 60], [61, 61], [62, 66], [67, 68], [69, 69], [70, 71], [72, 72], [73, 73], [74, 74], [75, 75], [76, 76], [77, 77], [78, 78], [79, 79], [80, 80], [81, 81], [82, 82], [83, 83], [84, 85], [86, 86], [87, 87], [88, 88], [89, 89], [90, 90], [91, 91], [92, 93], [94, 94], [95, 95], [96, 96], [97, 97], [98, 98], [99, 99], [100, 100], [101, 101], [102, 102], [103, 103], [104, 104], [105, 105], [106, 109], [110, 110], [111, 117], [118, 119], [120, 121], [122, 124], [125, 128], [129, 129], [130, 130], [131, 131], [132, 132], [133, 133], [134, 134], [135, 135], [136, 136], [137, 140], [141, 141], [142, 142], [143, 143], [144, 144], [145, 147], [148, 148], [149, 149], [150, 151], [152, 153], [154, 154], [155, 158]]\n",
      "[datetime.datetime(2022, 12, 21, 0, 0)]\n",
      "[datetime.datetime(2001, 12, 1, 0, 0)]\n",
      "[datetime.datetime(2022, 12, 21, 0, 0)]\n"
     ]
    },
    {
     "name": "stderr",
     "output_type": "stream",
     "text": [
      "<string>:11: SettingWithCopyWarning: \n",
      "A value is trying to be set on a copy of a slice from a DataFrame\n",
      "\n",
      "See the caveats in the documentation: https://pandas.pydata.org/pandas-docs/stable/user_guide/indexing.html#returning-a-view-versus-a-copy\n",
      "/tmp/ipykernel_17785/3296310189.py:5: SettingWithCopyWarning: \n",
      "A value is trying to be set on a copy of a slice from a DataFrame\n",
      "\n",
      "See the caveats in the documentation: https://pandas.pydata.org/pandas-docs/stable/user_guide/indexing.html#returning-a-view-versus-a-copy\n",
      "  dateDF[\"text\"][index] = text.lower()\n",
      "/tmp/ipykernel_17785/614737289.py:11: SettingWithCopyWarning: \n",
      "A value is trying to be set on a copy of a slice from a DataFrame\n",
      "\n",
      "See the caveats in the documentation: https://pandas.pydata.org/pandas-docs/stable/user_guide/indexing.html#returning-a-view-versus-a-copy\n",
      "  dateDF[\"isPast\"][index]=1\n",
      "/tmp/ipykernel_17785/614737289.py:13: SettingWithCopyWarning: \n",
      "A value is trying to be set on a copy of a slice from a DataFrame\n",
      "\n",
      "See the caveats in the documentation: https://pandas.pydata.org/pandas-docs/stable/user_guide/indexing.html#returning-a-view-versus-a-copy\n",
      "  dateDF[\"isFuture\"][index]=1\n",
      "/tmp/ipykernel_17785/1269700397.py:18: SettingWithCopyWarning: \n",
      "A value is trying to be set on a copy of a slice from a DataFrame\n",
      "\n",
      "See the caveats in the documentation: https://pandas.pydata.org/pandas-docs/stable/user_guide/indexing.html#returning-a-view-versus-a-copy\n",
      "  df[n][index]=neighbours[n]\n"
     ]
    },
    {
     "name": "stdout",
     "output_type": "stream",
     "text": [
      "[[0, 0], [1, 1], [2, 2], [3, 5], [6, 6], [7, 9], [10, 10], [11, 11], [12, 19], [20, 22], [23, 24], [25, 26], [27, 28], [29, 32], [33, 33], [34, 34], [35, 38], [39, 42], [43, 45], [46, 51], [52, 55], [56, 61], [62, 63], [64, 69], [70, 71], [72, 72], [73, 73], [74, 77], [78, 84], [85, 85], [86, 89], [90, 91], [92, 92], [93, 94], [95, 95], [96, 96], [97, 97], [98, 98], [99, 110], [111, 121], [122, 124], [125, 127], [128, 131], [132, 133], [134, 135], [136, 137], [138, 139], [140, 141], [142, 143], [144, 144], [145, 149], [150, 150], [151, 152], [153, 153], [154, 155], [156, 156], [157, 158], [159, 159], [160, 160], [161, 161], [162, 162], [163, 163], [164, 164], [165, 166], [167, 167], [168, 169], [170, 171], [172, 174]]\n",
      "[datetime.datetime(7, 1, 23, 0, 0)]\n",
      "[datetime.datetime(2023, 12, 1, 0, 0)]\n",
      "[datetime.datetime(7, 1, 23, 0, 0)]\n",
      "[datetime.datetime(2023, 12, 1, 0, 0)]\n"
     ]
    },
    {
     "name": "stderr",
     "output_type": "stream",
     "text": [
      "<string>:11: SettingWithCopyWarning: \n",
      "A value is trying to be set on a copy of a slice from a DataFrame\n",
      "\n",
      "See the caveats in the documentation: https://pandas.pydata.org/pandas-docs/stable/user_guide/indexing.html#returning-a-view-versus-a-copy\n",
      "/tmp/ipykernel_17785/3296310189.py:5: SettingWithCopyWarning: \n",
      "A value is trying to be set on a copy of a slice from a DataFrame\n",
      "\n",
      "See the caveats in the documentation: https://pandas.pydata.org/pandas-docs/stable/user_guide/indexing.html#returning-a-view-versus-a-copy\n",
      "  dateDF[\"text\"][index] = text.lower()\n",
      "/tmp/ipykernel_17785/614737289.py:11: SettingWithCopyWarning: \n",
      "A value is trying to be set on a copy of a slice from a DataFrame\n",
      "\n",
      "See the caveats in the documentation: https://pandas.pydata.org/pandas-docs/stable/user_guide/indexing.html#returning-a-view-versus-a-copy\n",
      "  dateDF[\"isPast\"][index]=1\n"
     ]
    },
    {
     "name": "stdout",
     "output_type": "stream",
     "text": [
      "[[0, 3], [4, 6], [7, 7], [8, 11], [12, 14], [15, 16], [17, 18], [19, 20], [21, 21], [22, 25], [26, 30], [31, 31], [32, 32], [33, 34], [35, 35], [36, 36], [37, 37], [38, 38], [39, 39], [40, 41], [42, 44], [45, 47], [48, 52], [53, 56], [57, 58], [59, 64], [65, 68], [69, 73], [74, 79], [80, 84], [85, 88], [89, 91], [92, 92], [93, 93], [94, 94], [95, 95], [96, 96], [97, 98], [99, 99], [100, 100], [101, 101], [102, 102], [103, 107], [108, 108], [109, 109], [110, 110], [111, 111], [112, 116], [117, 128], [129, 135], [136, 139], [140, 142], [143, 144], [145, 145], [146, 146], [147, 147], [148, 148], [149, 149], [150, 150], [151, 151], [152, 152], [153, 153], [154, 154], [155, 155], [156, 156], [157, 157], [158, 158], [159, 159], [160, 160], [161, 161]]\n",
      "[datetime.datetime(2023, 2, 1, 0, 0)]\n",
      "[datetime.datetime(2023, 2, 1, 0, 0)]\n"
     ]
    },
    {
     "name": "stderr",
     "output_type": "stream",
     "text": [
      "/tmp/ipykernel_17785/1269700397.py:18: SettingWithCopyWarning: \n",
      "A value is trying to be set on a copy of a slice from a DataFrame\n",
      "\n",
      "See the caveats in the documentation: https://pandas.pydata.org/pandas-docs/stable/user_guide/indexing.html#returning-a-view-versus-a-copy\n",
      "  df[n][index]=neighbours[n]\n",
      "<string>:11: SettingWithCopyWarning: \n",
      "A value is trying to be set on a copy of a slice from a DataFrame\n",
      "\n",
      "See the caveats in the documentation: https://pandas.pydata.org/pandas-docs/stable/user_guide/indexing.html#returning-a-view-versus-a-copy\n",
      "/tmp/ipykernel_17785/3296310189.py:5: SettingWithCopyWarning: \n",
      "A value is trying to be set on a copy of a slice from a DataFrame\n",
      "\n",
      "See the caveats in the documentation: https://pandas.pydata.org/pandas-docs/stable/user_guide/indexing.html#returning-a-view-versus-a-copy\n",
      "  dateDF[\"text\"][index] = text.lower()\n",
      "/tmp/ipykernel_17785/614737289.py:11: SettingWithCopyWarning: \n",
      "A value is trying to be set on a copy of a slice from a DataFrame\n",
      "\n",
      "See the caveats in the documentation: https://pandas.pydata.org/pandas-docs/stable/user_guide/indexing.html#returning-a-view-versus-a-copy\n",
      "  dateDF[\"isPast\"][index]=1\n",
      "/tmp/ipykernel_17785/1269700397.py:18: SettingWithCopyWarning: \n",
      "A value is trying to be set on a copy of a slice from a DataFrame\n",
      "\n",
      "See the caveats in the documentation: https://pandas.pydata.org/pandas-docs/stable/user_guide/indexing.html#returning-a-view-versus-a-copy\n",
      "  df[n][index]=neighbours[n]\n"
     ]
    },
    {
     "name": "stdout",
     "output_type": "stream",
     "text": [
      "[[0, 0], [1, 1], [2, 2], [3, 5], [6, 6], [7, 7], [8, 8], [9, 9], [10, 10], [11, 14], [15, 15], [16, 18], [19, 21], [22, 22], [23, 23], [24, 24], [25, 25], [26, 27], [28, 28], [29, 30], [31, 31], [32, 32], [33, 35], [36, 36], [37, 38], [39, 39], [40, 42], [43, 43], [44, 46], [47, 47], [48, 48], [49, 49], [50, 51], [52, 52], [53, 53], [54, 54], [55, 56], [57, 57], [58, 58], [59, 59], [60, 60], [61, 61], [62, 62], [63, 63], [64, 64], [65, 66], [67, 67], [68, 68], [69, 69], [70, 70], [71, 71], [72, 72], [73, 73], [74, 74], [75, 76], [77, 77]]\n",
      "[datetime.datetime(2020, 3, 2, 0, 0)]\n",
      "[datetime.datetime(2020, 3, 2, 0, 0)]\n"
     ]
    },
    {
     "name": "stderr",
     "output_type": "stream",
     "text": [
      "<string>:11: SettingWithCopyWarning: \n",
      "A value is trying to be set on a copy of a slice from a DataFrame\n",
      "\n",
      "See the caveats in the documentation: https://pandas.pydata.org/pandas-docs/stable/user_guide/indexing.html#returning-a-view-versus-a-copy\n",
      "/tmp/ipykernel_17785/3296310189.py:5: SettingWithCopyWarning: \n",
      "A value is trying to be set on a copy of a slice from a DataFrame\n",
      "\n",
      "See the caveats in the documentation: https://pandas.pydata.org/pandas-docs/stable/user_guide/indexing.html#returning-a-view-versus-a-copy\n",
      "  dateDF[\"text\"][index] = text.lower()\n"
     ]
    },
    {
     "name": "stdout",
     "output_type": "stream",
     "text": [
      "[[0, 0], [1, 1], [2, 2], [3, 3], [4, 4], [5, 5], [6, 6], [7, 7], [8, 8], [9, 9], [10, 10], [11, 11], [12, 12], [13, 13], [14, 14], [15, 15], [16, 17], [18, 18], [19, 19], [20, 20], [21, 21], [22, 22], [23, 23], [24, 26], [27, 27]]\n"
     ]
    },
    {
     "name": "stderr",
     "output_type": "stream",
     "text": [
      "<string>:11: SettingWithCopyWarning: \n",
      "A value is trying to be set on a copy of a slice from a DataFrame\n",
      "\n",
      "See the caveats in the documentation: https://pandas.pydata.org/pandas-docs/stable/user_guide/indexing.html#returning-a-view-versus-a-copy\n",
      "/tmp/ipykernel_17785/3296310189.py:5: SettingWithCopyWarning: \n",
      "A value is trying to be set on a copy of a slice from a DataFrame\n",
      "\n",
      "See the caveats in the documentation: https://pandas.pydata.org/pandas-docs/stable/user_guide/indexing.html#returning-a-view-versus-a-copy\n",
      "  dateDF[\"text\"][index] = text.lower()\n"
     ]
    },
    {
     "name": "stdout",
     "output_type": "stream",
     "text": [
      "[[0, 0], [1, 1], [2, 2], [3, 8], [9, 10], [11, 11], [12, 14], [15, 21], [22, 26], [27, 27], [28, 28], [29, 30], [31, 31], [32, 32], [33, 33], [34, 35], [36, 41], [42, 47], [48, 49], [50, 50], [51, 53], [54, 55], [56, 56], [57, 58], [59, 60], [61, 61], [62, 63], [64, 65], [66, 68], [69, 69], [70, 75], [76, 76], [77, 77], [78, 78], [79, 84], [85, 86], [87, 87], [88, 92], [93, 94], [95, 98], [99, 99], [100, 100], [101, 103], [104, 104], [105, 105], [106, 106], [107, 107], [108, 108], [109, 109], [110, 110], [111, 113], [114, 114], [115, 116], [117, 118], [119, 119], [120, 121], [122, 122], [123, 123], [124, 127], [128, 128], [129, 129], [130, 131], [132, 132], [133, 133], [134, 135], [136, 137], [138, 138], [139, 140], [141, 141], [142, 142], [143, 146], [147, 147], [148, 148], [149, 153], [154, 154], [155, 155], [156, 156], [157, 161], [162, 162], [163, 163], [164, 165], [166, 166], [167, 167], [168, 168], [169, 169], [170, 178], [179, 179], [180, 180], [181, 191], [192, 193], [194, 195], [196, 197], [198, 198], [199, 199], [200, 202], [203, 203], [204, 205], [206, 206], [207, 215], [216, 219], [220, 224], [225, 230], [231, 231], [232, 234], [235, 236], [237, 237], [238, 243]]\n",
      "[datetime.datetime(2022, 9, 28, 0, 0)]\n",
      "[datetime.datetime(2022, 9, 28, 0, 0)]\n"
     ]
    },
    {
     "name": "stderr",
     "output_type": "stream",
     "text": [
      "/tmp/ipykernel_17785/614737289.py:11: SettingWithCopyWarning: \n",
      "A value is trying to be set on a copy of a slice from a DataFrame\n",
      "\n",
      "See the caveats in the documentation: https://pandas.pydata.org/pandas-docs/stable/user_guide/indexing.html#returning-a-view-versus-a-copy\n",
      "  dateDF[\"isPast\"][index]=1\n",
      "/tmp/ipykernel_17785/1269700397.py:18: SettingWithCopyWarning: \n",
      "A value is trying to be set on a copy of a slice from a DataFrame\n",
      "\n",
      "See the caveats in the documentation: https://pandas.pydata.org/pandas-docs/stable/user_guide/indexing.html#returning-a-view-versus-a-copy\n",
      "  df[n][index]=neighbours[n]\n",
      "<string>:11: SettingWithCopyWarning: \n",
      "A value is trying to be set on a copy of a slice from a DataFrame\n",
      "\n",
      "See the caveats in the documentation: https://pandas.pydata.org/pandas-docs/stable/user_guide/indexing.html#returning-a-view-versus-a-copy\n",
      "/tmp/ipykernel_17785/3296310189.py:5: SettingWithCopyWarning: \n",
      "A value is trying to be set on a copy of a slice from a DataFrame\n",
      "\n",
      "See the caveats in the documentation: https://pandas.pydata.org/pandas-docs/stable/user_guide/indexing.html#returning-a-view-versus-a-copy\n",
      "  dateDF[\"text\"][index] = text.lower()\n",
      "/tmp/ipykernel_17785/614737289.py:11: SettingWithCopyWarning: \n",
      "A value is trying to be set on a copy of a slice from a DataFrame\n",
      "\n",
      "See the caveats in the documentation: https://pandas.pydata.org/pandas-docs/stable/user_guide/indexing.html#returning-a-view-versus-a-copy\n",
      "  dateDF[\"isPast\"][index]=1\n",
      "/tmp/ipykernel_17785/1269700397.py:18: SettingWithCopyWarning: \n",
      "A value is trying to be set on a copy of a slice from a DataFrame\n",
      "\n",
      "See the caveats in the documentation: https://pandas.pydata.org/pandas-docs/stable/user_guide/indexing.html#returning-a-view-versus-a-copy\n",
      "  df[n][index]=neighbours[n]\n"
     ]
    },
    {
     "name": "stdout",
     "output_type": "stream",
     "text": [
      "[[0, 0], [1, 1], [2, 2], [3, 5], [6, 7], [8, 13], [14, 14], [15, 21], [22, 24], [25, 26], [27, 27], [28, 29], [30, 32], [33, 37], [38, 39], [40, 45], [46, 49], [50, 56], [57, 60], [61, 63], [64, 65], [66, 66], [67, 67], [68, 68], [69, 69], [70, 71], [72, 73], [74, 74], [75, 75], [76, 76], [77, 77], [78, 78], [79, 79], [80, 81], [82, 86], [87, 87], [88, 91], [92, 95], [96, 97], [98, 98], [99, 100], [101, 101], [102, 103], [104, 104], [105, 105], [106, 107], [108, 108], [109, 109], [110, 110], [111, 111], [112, 112], [113, 113], [114, 114], [115, 116], [117, 117], [118, 118], [119, 119], [120, 120], [121, 122], [123, 123], [124, 126], [127, 127], [128, 146], [147, 162], [163, 183], [184, 198], [199, 208], [209, 218], [219, 220], [221, 222], [223, 223]]\n",
      "[datetime.datetime(2014, 3, 30, 0, 0)]\n",
      "[datetime.datetime(2014, 3, 30, 0, 0)]\n"
     ]
    },
    {
     "name": "stderr",
     "output_type": "stream",
     "text": [
      "<string>:11: SettingWithCopyWarning: \n",
      "A value is trying to be set on a copy of a slice from a DataFrame\n",
      "\n",
      "See the caveats in the documentation: https://pandas.pydata.org/pandas-docs/stable/user_guide/indexing.html#returning-a-view-versus-a-copy\n",
      "/tmp/ipykernel_17785/3296310189.py:5: SettingWithCopyWarning: \n",
      "A value is trying to be set on a copy of a slice from a DataFrame\n",
      "\n",
      "See the caveats in the documentation: https://pandas.pydata.org/pandas-docs/stable/user_guide/indexing.html#returning-a-view-versus-a-copy\n",
      "  dateDF[\"text\"][index] = text.lower()\n",
      "/tmp/ipykernel_17785/614737289.py:11: SettingWithCopyWarning: \n",
      "A value is trying to be set on a copy of a slice from a DataFrame\n",
      "\n",
      "See the caveats in the documentation: https://pandas.pydata.org/pandas-docs/stable/user_guide/indexing.html#returning-a-view-versus-a-copy\n",
      "  dateDF[\"isPast\"][index]=1\n"
     ]
    },
    {
     "name": "stdout",
     "output_type": "stream",
     "text": [
      "[[0, 0], [1, 1], [2, 2], [3, 5], [6, 9], [10, 12], [13, 14], [15, 18], [19, 21], [22, 22], [23, 24], [25, 26], [27, 33], [34, 46], [47, 47], [48, 48], [49, 49], [50, 50], [51, 51], [52, 52], [53, 53], [54, 55], [56, 58], [59, 60], [61, 62], [63, 63], [64, 64], [65, 66], [67, 67], [68, 71], [72, 74], [75, 76], [77, 77], [78, 84], [85, 85], [86, 91], [92, 92], [93, 95], [96, 96], [97, 99], [100, 101], [102, 104], [105, 107], [108, 109], [110, 122], [123, 135], [136, 143], [144, 144], [145, 155], [156, 166], [167, 169], [170, 195], [196, 196], [197, 198], [199, 215], [216, 231], [232, 239], [240, 251], [252, 267], [268, 268], [269, 278], [279, 279], [280, 288], [289, 289], [290, 301], [302, 310], [311, 325], [326, 341]]\n",
      "[datetime.datetime(1980, 2, 19, 0, 0)]\n",
      "[datetime.datetime(1980, 2, 19, 0, 0)]\n"
     ]
    },
    {
     "name": "stderr",
     "output_type": "stream",
     "text": [
      "/tmp/ipykernel_17785/1269700397.py:18: SettingWithCopyWarning: \n",
      "A value is trying to be set on a copy of a slice from a DataFrame\n",
      "\n",
      "See the caveats in the documentation: https://pandas.pydata.org/pandas-docs/stable/user_guide/indexing.html#returning-a-view-versus-a-copy\n",
      "  df[n][index]=neighbours[n]\n",
      "<string>:11: SettingWithCopyWarning: \n",
      "A value is trying to be set on a copy of a slice from a DataFrame\n",
      "\n",
      "See the caveats in the documentation: https://pandas.pydata.org/pandas-docs/stable/user_guide/indexing.html#returning-a-view-versus-a-copy\n",
      "/tmp/ipykernel_17785/3296310189.py:5: SettingWithCopyWarning: \n",
      "A value is trying to be set on a copy of a slice from a DataFrame\n",
      "\n",
      "See the caveats in the documentation: https://pandas.pydata.org/pandas-docs/stable/user_guide/indexing.html#returning-a-view-versus-a-copy\n",
      "  dateDF[\"text\"][index] = text.lower()\n",
      "/tmp/ipykernel_17785/614737289.py:11: SettingWithCopyWarning: \n",
      "A value is trying to be set on a copy of a slice from a DataFrame\n",
      "\n",
      "See the caveats in the documentation: https://pandas.pydata.org/pandas-docs/stable/user_guide/indexing.html#returning-a-view-versus-a-copy\n",
      "  dateDF[\"isPast\"][index]=1\n"
     ]
    },
    {
     "name": "stdout",
     "output_type": "stream",
     "text": [
      "[[0, 0], [1, 1], [2, 2], [3, 3], [4, 4], [5, 5], [6, 6], [7, 7], [8, 8], [9, 9], [10, 11], [12, 12], [13, 13], [14, 14], [15, 15], [16, 19], [20, 20], [21, 21], [22, 22], [23, 23], [24, 24], [25, 27], [28, 28], [29, 30], [31, 32], [33, 33], [34, 35], [36, 36], [37, 37], [38, 38], [39, 39], [40, 40], [41, 41], [42, 44], [45, 45], [46, 46], [47, 47], [48, 48], [49, 49], [50, 51], [52, 52], [53, 53], [54, 54], [55, 55], [56, 56], [57, 57], [58, 59], [60, 60], [61, 63], [64, 64], [65, 66], [67, 67], [68, 69], [70, 70], [71, 71], [72, 72], [73, 73], [74, 74], [75, 77], [78, 78], [79, 79], [80, 80], [81, 81], [82, 82], [83, 85], [86, 86], [87, 87], [88, 88], [89, 89], [90, 90], [91, 93], [94, 94], [95, 95], [96, 96], [97, 97], [98, 98], [99, 99], [100, 100], [101, 102], [103, 103], [104, 104], [105, 105], [106, 106], [107, 107], [108, 108], [109, 109], [110, 110], [111, 111], [112, 113], [114, 115], [116, 116], [117, 117], [118, 118], [119, 119], [120, 120], [121, 123], [124, 124], [125, 127], [128, 128], [129, 129], [130, 131], [132, 132], [133, 134], [135, 135], [136, 139], [140, 140], [141, 145], [146, 148], [149, 150]]\n",
      "[datetime.datetime(2020, 3, 2, 0, 0)]\n"
     ]
    },
    {
     "name": "stderr",
     "output_type": "stream",
     "text": [
      "/tmp/ipykernel_17785/1269700397.py:18: SettingWithCopyWarning: \n",
      "A value is trying to be set on a copy of a slice from a DataFrame\n",
      "\n",
      "See the caveats in the documentation: https://pandas.pydata.org/pandas-docs/stable/user_guide/indexing.html#returning-a-view-versus-a-copy\n",
      "  df[n][index]=neighbours[n]\n",
      "<string>:11: SettingWithCopyWarning: \n",
      "A value is trying to be set on a copy of a slice from a DataFrame\n",
      "\n",
      "See the caveats in the documentation: https://pandas.pydata.org/pandas-docs/stable/user_guide/indexing.html#returning-a-view-versus-a-copy\n",
      "/tmp/ipykernel_17785/3296310189.py:5: SettingWithCopyWarning: \n",
      "A value is trying to be set on a copy of a slice from a DataFrame\n",
      "\n",
      "See the caveats in the documentation: https://pandas.pydata.org/pandas-docs/stable/user_guide/indexing.html#returning-a-view-versus-a-copy\n",
      "  dateDF[\"text\"][index] = text.lower()\n",
      "/tmp/ipykernel_17785/614737289.py:11: SettingWithCopyWarning: \n",
      "A value is trying to be set on a copy of a slice from a DataFrame\n",
      "\n",
      "See the caveats in the documentation: https://pandas.pydata.org/pandas-docs/stable/user_guide/indexing.html#returning-a-view-versus-a-copy\n",
      "  dateDF[\"isPast\"][index]=1\n",
      "/tmp/ipykernel_17785/1269700397.py:18: SettingWithCopyWarning: \n",
      "A value is trying to be set on a copy of a slice from a DataFrame\n",
      "\n",
      "See the caveats in the documentation: https://pandas.pydata.org/pandas-docs/stable/user_guide/indexing.html#returning-a-view-versus-a-copy\n",
      "  df[n][index]=neighbours[n]\n"
     ]
    },
    {
     "name": "stdout",
     "output_type": "stream",
     "text": [
      "[[0, 0], [1, 1], [2, 2], [3, 3], [4, 6], [7, 10], [11, 11], [12, 12], [13, 13], [14, 14], [15, 15], [16, 16], [17, 17], [18, 19], [20, 21], [22, 23], [24, 25], [26, 27], [28, 28], [29, 29], [30, 30], [31, 31], [32, 32], [33, 34], [35, 36], [37, 37], [38, 38], [39, 39], [40, 41], [42, 42], [43, 44], [45, 45], [46, 47], [48, 48], [49, 49], [50, 50], [51, 51], [52, 52], [53, 53], [54, 54], [55, 55], [56, 56], [57, 57], [58, 59], [60, 60], [61, 61], [62, 62], [63, 63], [64, 65], [66, 66], [67, 68], [69, 70], [71, 71], [72, 73], [74, 74], [75, 75], [76, 77], [78, 78], [79, 80], [81, 81], [82, 82], [83, 84], [85, 85], [86, 87], [88, 89], [90, 90], [91, 92], [93, 94], [95, 95], [96, 97], [98, 99], [100, 100], [101, 102], [103, 104], [105, 109], [110, 111], [112, 115], [116, 119], [120, 120], [121, 121], [122, 126], [127, 127]]\n",
      "[datetime.datetime(2022, 7, 6, 0, 0)]\n",
      "[datetime.datetime(2022, 7, 6, 0, 0)]\n"
     ]
    },
    {
     "name": "stderr",
     "output_type": "stream",
     "text": [
      "<string>:11: SettingWithCopyWarning: \n",
      "A value is trying to be set on a copy of a slice from a DataFrame\n",
      "\n",
      "See the caveats in the documentation: https://pandas.pydata.org/pandas-docs/stable/user_guide/indexing.html#returning-a-view-versus-a-copy\n",
      "/tmp/ipykernel_17785/3296310189.py:5: SettingWithCopyWarning: \n",
      "A value is trying to be set on a copy of a slice from a DataFrame\n",
      "\n",
      "See the caveats in the documentation: https://pandas.pydata.org/pandas-docs/stable/user_guide/indexing.html#returning-a-view-versus-a-copy\n",
      "  dateDF[\"text\"][index] = text.lower()\n",
      "/tmp/ipykernel_17785/1269700397.py:18: SettingWithCopyWarning: \n",
      "A value is trying to be set on a copy of a slice from a DataFrame\n",
      "\n",
      "See the caveats in the documentation: https://pandas.pydata.org/pandas-docs/stable/user_guide/indexing.html#returning-a-view-versus-a-copy\n",
      "  df[n][index]=neighbours[n]\n"
     ]
    },
    {
     "name": "stdout",
     "output_type": "stream",
     "text": [
      "[[0, 1], [2, 2], [3, 3], [4, 4], [5, 5], [6, 6], [7, 7], [8, 8], [9, 9], [10, 10], [11, 11], [12, 12], [13, 13], [14, 14], [15, 15], [16, 16], [17, 17], [18, 18], [19, 20], [21, 21], [22, 22], [23, 23]]\n"
     ]
    },
    {
     "name": "stderr",
     "output_type": "stream",
     "text": [
      "<string>:11: SettingWithCopyWarning: \n",
      "A value is trying to be set on a copy of a slice from a DataFrame\n",
      "\n",
      "See the caveats in the documentation: https://pandas.pydata.org/pandas-docs/stable/user_guide/indexing.html#returning-a-view-versus-a-copy\n",
      "/tmp/ipykernel_17785/3296310189.py:5: SettingWithCopyWarning: \n",
      "A value is trying to be set on a copy of a slice from a DataFrame\n",
      "\n",
      "See the caveats in the documentation: https://pandas.pydata.org/pandas-docs/stable/user_guide/indexing.html#returning-a-view-versus-a-copy\n",
      "  dateDF[\"text\"][index] = text.lower()\n"
     ]
    },
    {
     "name": "stdout",
     "output_type": "stream",
     "text": [
      "[[0, 1], [2, 2], [3, 3], [4, 4], [5, 5], [6, 6], [7, 7], [8, 8], [9, 9], [10, 10], [11, 11], [12, 12], [13, 13], [14, 14], [15, 15], [16, 16], [17, 17], [18, 18], [19, 19], [20, 20], [21, 21], [22, 22], [23, 23], [24, 24], [25, 25], [26, 26], [27, 27], [28, 28], [29, 29], [30, 30], [31, 31], [32, 32], [33, 33], [34, 35], [36, 36], [37, 37], [38, 38], [39, 39], [40, 42], [43, 44], [45, 48], [49, 52], [53, 53], [54, 55], [56, 57], [58, 59], [60, 60], [61, 61], [62, 62], [63, 63], [64, 64], [65, 65], [66, 66], [67, 69], [70, 70], [71, 71], [72, 72], [73, 73], [74, 74], [75, 75], [76, 76], [77, 77], [78, 78], [79, 79], [80, 81], [82, 82], [83, 83], [84, 85], [86, 87], [88, 88], [89, 89], [90, 90], [91, 91], [92, 92], [93, 93], [94, 95], [96, 96], [97, 98], [99, 100], [101, 102], [103, 104], [105, 106], [107, 107], [108, 108], [109, 110], [111, 113], [114, 114], [115, 115], [116, 116], [117, 117], [118, 119], [120, 120], [121, 121], [122, 122], [123, 123], [124, 124], [125, 125], [126, 126], [127, 127], [128, 130], [131, 131], [132, 132], [133, 133], [134, 134], [135, 135], [136, 136], [137, 139], [140, 140], [141, 150], [151, 155], [156, 162], [163, 176], [177, 177], [178, 178], [179, 181], [182, 182], [183, 184], [185, 186], [187, 187], [188, 188], [189, 189], [190, 191], [192, 192], [193, 194], [195, 198], [199, 202], [203, 203], [204, 204], [205, 205], [206, 206], [207, 208], [209, 209]]\n",
      "[datetime.datetime(2021, 6, 14, 0, 0)]\n",
      "[datetime.datetime(2021, 6, 14, 0, 0)]\n",
      "[datetime.datetime(2021, 6, 16, 0, 0)]\n",
      "[datetime.datetime(2022, 9, 15, 0, 0)]\n",
      "[datetime.datetime(2021, 6, 16, 0, 0)]\n",
      "[datetime.datetime(2022, 9, 15, 0, 0)]\n"
     ]
    },
    {
     "name": "stderr",
     "output_type": "stream",
     "text": [
      "/tmp/ipykernel_17785/614737289.py:11: SettingWithCopyWarning: \n",
      "A value is trying to be set on a copy of a slice from a DataFrame\n",
      "\n",
      "See the caveats in the documentation: https://pandas.pydata.org/pandas-docs/stable/user_guide/indexing.html#returning-a-view-versus-a-copy\n",
      "  dateDF[\"isPast\"][index]=1\n",
      "/tmp/ipykernel_17785/1269700397.py:18: SettingWithCopyWarning: \n",
      "A value is trying to be set on a copy of a slice from a DataFrame\n",
      "\n",
      "See the caveats in the documentation: https://pandas.pydata.org/pandas-docs/stable/user_guide/indexing.html#returning-a-view-versus-a-copy\n",
      "  df[n][index]=neighbours[n]\n",
      "<string>:11: SettingWithCopyWarning: \n",
      "A value is trying to be set on a copy of a slice from a DataFrame\n",
      "\n",
      "See the caveats in the documentation: https://pandas.pydata.org/pandas-docs/stable/user_guide/indexing.html#returning-a-view-versus-a-copy\n"
     ]
    },
    {
     "name": "stdout",
     "output_type": "stream",
     "text": [
      "[[0, 0], [1, 1], [2, 2], [3, 3], [4, 4], [5, 6], [7, 7], [8, 8], [9, 9], [10, 12], [13, 13], [14, 14], [15, 15], [16, 16], [17, 17], [18, 18], [19, 23], [24, 25], [26, 29], [30, 30], [31, 31], [32, 32], [33, 33], [34, 34], [35, 35], [36, 36], [37, 37], [38, 38], [39, 39], [40, 40], [41, 41], [42, 42], [43, 43], [44, 44], [45, 45], [46, 46], [47, 47], [48, 48], [49, 52], [53, 53], [54, 54], [55, 55], [56, 57], [58, 59], [60, 61], [62, 62], [63, 63], [64, 66], [67, 68], [69, 69], [70, 73], [74, 75], [76, 80], [81, 82], [83, 83], [84, 84], [85, 88], [89, 92], [93, 94], [95, 95], [96, 98], [99, 99], [100, 102], [103, 103], [104, 106], [107, 107], [108, 108], [109, 109], [110, 112], [113, 115], [116, 119], [120, 120], [121, 121], [122, 122], [123, 123], [124, 124], [125, 125], [126, 126], [127, 127], [128, 128], [129, 129], [130, 130], [131, 131], [132, 132], [133, 133], [134, 134], [135, 135], [136, 136], [137, 137], [138, 138], [139, 139], [140, 140], [141, 141], [142, 142], [143, 143], [144, 147], [148, 148], [149, 149], [150, 150], [151, 152], [153, 153], [154, 156], [157, 158], [159, 170], [171, 175], [176, 176], [177, 178], [179, 179], [180, 180], [181, 181], [182, 185], [186, 187], [188, 188], [189, 190], [191, 191], [192, 192], [193, 193], [194, 197], [198, 198], [199, 200], [201, 201], [202, 202], [203, 203], [204, 204], [205, 205], [206, 206], [207, 207], [208, 208], [209, 209], [210, 211], [212, 212], [213, 213], [214, 214], [215, 215], [216, 216], [217, 222], [223, 224], [225, 232], [233, 233], [234, 245], [246, 246], [247, 247], [248, 248], [249, 249], [250, 250]]\n"
     ]
    },
    {
     "name": "stderr",
     "output_type": "stream",
     "text": [
      "/tmp/ipykernel_17785/3296310189.py:5: SettingWithCopyWarning: \n",
      "A value is trying to be set on a copy of a slice from a DataFrame\n",
      "\n",
      "See the caveats in the documentation: https://pandas.pydata.org/pandas-docs/stable/user_guide/indexing.html#returning-a-view-versus-a-copy\n",
      "  dateDF[\"text\"][index] = text.lower()\n",
      "/tmp/ipykernel_17785/614737289.py:11: SettingWithCopyWarning: \n",
      "A value is trying to be set on a copy of a slice from a DataFrame\n",
      "\n",
      "See the caveats in the documentation: https://pandas.pydata.org/pandas-docs/stable/user_guide/indexing.html#returning-a-view-versus-a-copy\n",
      "  dateDF[\"isPast\"][index]=1\n",
      "/tmp/ipykernel_17785/1269700397.py:18: SettingWithCopyWarning: \n",
      "A value is trying to be set on a copy of a slice from a DataFrame\n",
      "\n",
      "See the caveats in the documentation: https://pandas.pydata.org/pandas-docs/stable/user_guide/indexing.html#returning-a-view-versus-a-copy\n",
      "  df[n][index]=neighbours[n]\n"
     ]
    },
    {
     "name": "stdout",
     "output_type": "stream",
     "text": [
      "[datetime.datetime(2023, 1, 2, 0, 0)]\n",
      "[datetime.datetime(2023, 1, 2, 0, 0)]\n"
     ]
    },
    {
     "name": "stderr",
     "output_type": "stream",
     "text": [
      "<string>:11: SettingWithCopyWarning: \n",
      "A value is trying to be set on a copy of a slice from a DataFrame\n",
      "\n",
      "See the caveats in the documentation: https://pandas.pydata.org/pandas-docs/stable/user_guide/indexing.html#returning-a-view-versus-a-copy\n",
      "/tmp/ipykernel_17785/3296310189.py:5: SettingWithCopyWarning: \n",
      "A value is trying to be set on a copy of a slice from a DataFrame\n",
      "\n",
      "See the caveats in the documentation: https://pandas.pydata.org/pandas-docs/stable/user_guide/indexing.html#returning-a-view-versus-a-copy\n",
      "  dateDF[\"text\"][index] = text.lower()\n"
     ]
    },
    {
     "name": "stdout",
     "output_type": "stream",
     "text": [
      "[[0, 0], [1, 1], [2, 2], [3, 5], [6, 7], [8, 8], [9, 10], [11, 14], [15, 18], [19, 25], [26, 32], [33, 36], [37, 40], [41, 41], [42, 42], [43, 43], [44, 45], [46, 48], [49, 49], [50, 50], [51, 51], [52, 53], [54, 54], [55, 55], [56, 56], [57, 60], [61, 61], [62, 67], [68, 71], [72, 74], [75, 77], [78, 78], [79, 81], [82, 84], [85, 85], [86, 86], [87, 87], [88, 88], [89, 89], [90, 90], [91, 91], [92, 92], [93, 93], [94, 94], [95, 95], [96, 96], [97, 97], [98, 98], [99, 99], [100, 100], [101, 101], [102, 102], [103, 103], [104, 104], [105, 105], [106, 106], [107, 107], [108, 108], [109, 109], [110, 110], [111, 111], [112, 112], [113, 113], [114, 114], [115, 115], [116, 116], [117, 128], [129, 130], [131, 131], [132, 136], [137, 140], [141, 144], [145, 145], [146, 149], [150, 153], [154, 154], [155, 157], [158, 161], [162, 162], [163, 163], [164, 171], [172, 174], [175, 175], [176, 180], [181, 184], [185, 188], [189, 189], [190, 191], [192, 192], [193, 193], [194, 194], [195, 196], [197, 197], [198, 198], [199, 199], [200, 200], [201, 202], [203, 207], [208, 210], [211, 211], [212, 212], [213, 213], [214, 216], [217, 217], [218, 218], [219, 219], [220, 220], [221, 221], [222, 222], [223, 224], [225, 228], [229, 238], [239, 239], [240, 242], [243, 246], [247, 247]]\n",
      "[datetime.datetime(2022, 9, 12, 0, 0)]\n",
      "[datetime.datetime(2022, 8, 12, 0, 0)]\n",
      "[datetime.datetime(2022, 12, 9, 0, 0)]\n",
      "[datetime.datetime(2022, 9, 12, 0, 0)]\n",
      "[datetime.datetime(2022, 8, 12, 0, 0)]\n"
     ]
    },
    {
     "name": "stderr",
     "output_type": "stream",
     "text": [
      "/tmp/ipykernel_17785/614737289.py:11: SettingWithCopyWarning: \n",
      "A value is trying to be set on a copy of a slice from a DataFrame\n",
      "\n",
      "See the caveats in the documentation: https://pandas.pydata.org/pandas-docs/stable/user_guide/indexing.html#returning-a-view-versus-a-copy\n",
      "  dateDF[\"isPast\"][index]=1\n",
      "/tmp/ipykernel_17785/1269700397.py:18: SettingWithCopyWarning: \n",
      "A value is trying to be set on a copy of a slice from a DataFrame\n",
      "\n",
      "See the caveats in the documentation: https://pandas.pydata.org/pandas-docs/stable/user_guide/indexing.html#returning-a-view-versus-a-copy\n",
      "  df[n][index]=neighbours[n]\n",
      "<string>:11: SettingWithCopyWarning: \n",
      "A value is trying to be set on a copy of a slice from a DataFrame\n",
      "\n",
      "See the caveats in the documentation: https://pandas.pydata.org/pandas-docs/stable/user_guide/indexing.html#returning-a-view-versus-a-copy\n",
      "/tmp/ipykernel_17785/3296310189.py:5: SettingWithCopyWarning: \n",
      "A value is trying to be set on a copy of a slice from a DataFrame\n",
      "\n",
      "See the caveats in the documentation: https://pandas.pydata.org/pandas-docs/stable/user_guide/indexing.html#returning-a-view-versus-a-copy\n",
      "  dateDF[\"text\"][index] = text.lower()\n",
      "/tmp/ipykernel_17785/1269700397.py:18: SettingWithCopyWarning: \n",
      "A value is trying to be set on a copy of a slice from a DataFrame\n",
      "\n",
      "See the caveats in the documentation: https://pandas.pydata.org/pandas-docs/stable/user_guide/indexing.html#returning-a-view-versus-a-copy\n",
      "  df[n][index]=neighbours[n]\n"
     ]
    },
    {
     "name": "stdout",
     "output_type": "stream",
     "text": [
      "[[0, 0], [1, 1], [2, 2], [3, 3], [4, 4], [5, 5], [6, 6], [7, 9], [10, 10], [11, 11], [12, 14], [15, 15], [16, 17], [18, 18], [19, 19], [20, 22], [23, 23], [24, 24], [25, 25], [26, 26], [27, 27], [28, 28], [29, 29], [30, 30], [31, 32], [33, 33], [34, 34], [35, 35], [36, 36], [37, 37], [38, 38], [39, 40], [41, 41], [42, 42], [43, 45], [46, 47], [48, 48], [49, 49], [50, 50], [51, 51], [52, 52], [53, 53], [54, 54], [55, 55], [56, 56], [57, 57], [58, 58], [59, 59], [60, 60], [61, 61], [62, 62], [63, 63], [64, 65], [66, 66], [67, 68], [69, 69], [70, 75], [76, 77], [78, 79], [80, 81], [82, 86], [87, 88], [89, 90], [91, 91]]\n"
     ]
    },
    {
     "name": "stderr",
     "output_type": "stream",
     "text": [
      "<string>:11: SettingWithCopyWarning: \n",
      "A value is trying to be set on a copy of a slice from a DataFrame\n",
      "\n",
      "See the caveats in the documentation: https://pandas.pydata.org/pandas-docs/stable/user_guide/indexing.html#returning-a-view-versus-a-copy\n",
      "/tmp/ipykernel_17785/3296310189.py:5: SettingWithCopyWarning: \n",
      "A value is trying to be set on a copy of a slice from a DataFrame\n",
      "\n",
      "See the caveats in the documentation: https://pandas.pydata.org/pandas-docs/stable/user_guide/indexing.html#returning-a-view-versus-a-copy\n",
      "  dateDF[\"text\"][index] = text.lower()\n",
      "/tmp/ipykernel_17785/614737289.py:11: SettingWithCopyWarning: \n",
      "A value is trying to be set on a copy of a slice from a DataFrame\n",
      "\n",
      "See the caveats in the documentation: https://pandas.pydata.org/pandas-docs/stable/user_guide/indexing.html#returning-a-view-versus-a-copy\n",
      "  dateDF[\"isPast\"][index]=1\n",
      "/tmp/ipykernel_17785/1269700397.py:18: SettingWithCopyWarning: \n",
      "A value is trying to be set on a copy of a slice from a DataFrame\n",
      "\n",
      "See the caveats in the documentation: https://pandas.pydata.org/pandas-docs/stable/user_guide/indexing.html#returning-a-view-versus-a-copy\n",
      "  df[n][index]=neighbours[n]\n"
     ]
    },
    {
     "name": "stdout",
     "output_type": "stream",
     "text": [
      "[[0, 1], [2, 4], [5, 6], [7, 7], [8, 8], [9, 9], [10, 10], [11, 13], [14, 14], [15, 16], [17, 17], [18, 18], [19, 19], [20, 20], [21, 21], [22, 22], [23, 23], [24, 24], [25, 25], [26, 26], [27, 27], [28, 28], [29, 31], [32, 32], [33, 34], [35, 35], [36, 36], [37, 37], [38, 38], [39, 40], [41, 41], [42, 44], [45, 45], [46, 46], [47, 47], [48, 48], [49, 50], [51, 52], [53, 53], [54, 63], [64, 64], [65, 65], [66, 72], [73, 76], [77, 77], [78, 78], [79, 88], [89, 89], [90, 90], [91, 94], [95, 95], [96, 96], [97, 97], [98, 105], [106, 110], [111, 111], [112, 115], [116, 125], [126, 127], [128, 135], [136, 137], [138, 148], [149, 168], [169, 183], [184, 184], [185, 187], [188, 189], [190, 191], [192, 193], [194, 194], [195, 195], [196, 196], [197, 198], [199, 200], [201, 201], [202, 203], [204, 212], [213, 217], [218, 219]]\n",
      "[datetime.datetime(2023, 3, 1, 0, 0)]\n",
      "[datetime.datetime(2023, 3, 1, 0, 0)]\n"
     ]
    },
    {
     "name": "stderr",
     "output_type": "stream",
     "text": [
      "<string>:11: SettingWithCopyWarning: \n",
      "A value is trying to be set on a copy of a slice from a DataFrame\n",
      "\n",
      "See the caveats in the documentation: https://pandas.pydata.org/pandas-docs/stable/user_guide/indexing.html#returning-a-view-versus-a-copy\n",
      "/tmp/ipykernel_17785/3296310189.py:5: SettingWithCopyWarning: \n",
      "A value is trying to be set on a copy of a slice from a DataFrame\n",
      "\n",
      "See the caveats in the documentation: https://pandas.pydata.org/pandas-docs/stable/user_guide/indexing.html#returning-a-view-versus-a-copy\n",
      "  dateDF[\"text\"][index] = text.lower()\n"
     ]
    },
    {
     "name": "stdout",
     "output_type": "stream",
     "text": [
      "[[0, 1], [2, 4], [5, 7], [8, 8], [9, 10], [11, 13], [14, 16], [17, 17], [18, 18], [19, 19], [20, 20], [21, 23], [24, 26], [27, 29], [30, 32], [33, 34], [35, 36], [37, 39], [40, 44], [45, 46], [47, 48], [49, 53], [54, 57], [58, 60], [61, 61], [62, 64], [65, 65], [66, 66], [67, 67], [68, 68], [69, 69], [70, 70], [71, 71], [72, 72], [73, 73], [74, 76], [77, 77], [78, 78], [79, 80], [81, 81], [82, 82], [83, 84], [85, 85], [86, 86], [87, 87], [88, 88], [89, 89], [90, 90], [91, 91], [92, 92], [93, 93], [94, 94], [95, 96], [97, 97], [98, 99], [100, 100], [101, 101], [102, 102], [103, 103], [104, 119], [120, 120], [121, 121], [122, 141], [142, 154], [155, 164], [165, 165], [166, 166], [167, 183], [184, 189], [190, 190], [191, 196], [197, 202], [203, 203], [204, 216], [217, 219], [220, 238], [239, 263], [264, 264], [265, 265], [266, 267], [268, 270], [271, 286], [287, 287], [288, 291], [292, 294], [295, 305], [306, 315], [316, 316], [317, 317], [318, 318], [319, 319], [320, 325], [326, 329], [330, 330]]\n",
      "[datetime.datetime(2023, 3, 21, 0, 0)]\n",
      "[datetime.datetime(2023, 3, 21, 0, 0)]\n"
     ]
    },
    {
     "name": "stderr",
     "output_type": "stream",
     "text": [
      "/tmp/ipykernel_17785/614737289.py:11: SettingWithCopyWarning: \n",
      "A value is trying to be set on a copy of a slice from a DataFrame\n",
      "\n",
      "See the caveats in the documentation: https://pandas.pydata.org/pandas-docs/stable/user_guide/indexing.html#returning-a-view-versus-a-copy\n",
      "  dateDF[\"isPast\"][index]=1\n",
      "/tmp/ipykernel_17785/1269700397.py:18: SettingWithCopyWarning: \n",
      "A value is trying to be set on a copy of a slice from a DataFrame\n",
      "\n",
      "See the caveats in the documentation: https://pandas.pydata.org/pandas-docs/stable/user_guide/indexing.html#returning-a-view-versus-a-copy\n",
      "  df[n][index]=neighbours[n]\n",
      "<string>:11: SettingWithCopyWarning: \n",
      "A value is trying to be set on a copy of a slice from a DataFrame\n",
      "\n",
      "See the caveats in the documentation: https://pandas.pydata.org/pandas-docs/stable/user_guide/indexing.html#returning-a-view-versus-a-copy\n"
     ]
    },
    {
     "name": "stdout",
     "output_type": "stream",
     "text": [
      "[[0, 0], [1, 2], [3, 3], [4, 4], [5, 5], [6, 6], [7, 7], [8, 8], [9, 9], [10, 10], [11, 11], [12, 12], [13, 13], [14, 14], [15, 15], [16, 16], [17, 17], [18, 18], [19, 19], [20, 20], [21, 21], [22, 22], [23, 23], [24, 24], [25, 26], [27, 27], [28, 28], [29, 30], [31, 32], [33, 33], [34, 34], [35, 35], [36, 36], [37, 38], [39, 39], [40, 40], [41, 41], [42, 42], [43, 43], [44, 48], [49, 53], [54, 54], [55, 55], [56, 56], [57, 57], [58, 58], [59, 59], [60, 60], [61, 61], [62, 64], [65, 65], [66, 67], [68, 68], [69, 70], [71, 71], [72, 72], [73, 73], [74, 74], [75, 75], [76, 79], [80, 81], [82, 82], [83, 84], [85, 85], [86, 86], [87, 88], [89, 89], [90, 90], [91, 91], [92, 93], [94, 94], [95, 95], [96, 96], [97, 97], [98, 98], [99, 100], [101, 101], [102, 102], [103, 103], [104, 104], [105, 105], [106, 106], [107, 108], [109, 109], [110, 110], [111, 112], [113, 113], [114, 114], [115, 115], [116, 116], [117, 117], [118, 118], [119, 119], [120, 120], [121, 121], [122, 122], [123, 123], [124, 124], [125, 125], [126, 126], [127, 127], [128, 128], [129, 129], [130, 130], [131, 131], [132, 133], [134, 134], [135, 135], [136, 136], [137, 137], [138, 138], [139, 139], [140, 141], [142, 142], [143, 143], [144, 146], [147, 148], [149, 149], [150, 150], [151, 151], [152, 152], [153, 153], [154, 154], [155, 155], [156, 156], [157, 157], [158, 158], [159, 159], [160, 160], [161, 161], [162, 163], [164, 165], [166, 168], [169, 169], [170, 170], [171, 171], [172, 172], [173, 173], [174, 174], [175, 175], [176, 177], [178, 178], [179, 179], [180, 180], [181, 183], [184, 184], [185, 188], [189, 199], [200, 200], [201, 201]]\n"
     ]
    },
    {
     "name": "stderr",
     "output_type": "stream",
     "text": [
      "/tmp/ipykernel_17785/3296310189.py:5: SettingWithCopyWarning: \n",
      "A value is trying to be set on a copy of a slice from a DataFrame\n",
      "\n",
      "See the caveats in the documentation: https://pandas.pydata.org/pandas-docs/stable/user_guide/indexing.html#returning-a-view-versus-a-copy\n",
      "  dateDF[\"text\"][index] = text.lower()\n",
      "/tmp/ipykernel_17785/614737289.py:11: SettingWithCopyWarning: \n",
      "A value is trying to be set on a copy of a slice from a DataFrame\n",
      "\n",
      "See the caveats in the documentation: https://pandas.pydata.org/pandas-docs/stable/user_guide/indexing.html#returning-a-view-versus-a-copy\n",
      "  dateDF[\"isPast\"][index]=1\n",
      "/tmp/ipykernel_17785/1269700397.py:18: SettingWithCopyWarning: \n",
      "A value is trying to be set on a copy of a slice from a DataFrame\n",
      "\n",
      "See the caveats in the documentation: https://pandas.pydata.org/pandas-docs/stable/user_guide/indexing.html#returning-a-view-versus-a-copy\n",
      "  df[n][index]=neighbours[n]\n"
     ]
    },
    {
     "name": "stdout",
     "output_type": "stream",
     "text": [
      "[datetime.datetime(2022, 4, 11, 0, 0)]\n",
      "[datetime.datetime(2022, 4, 11, 0, 0)]\n"
     ]
    },
    {
     "name": "stderr",
     "output_type": "stream",
     "text": [
      "<string>:11: SettingWithCopyWarning: \n",
      "A value is trying to be set on a copy of a slice from a DataFrame\n",
      "\n",
      "See the caveats in the documentation: https://pandas.pydata.org/pandas-docs/stable/user_guide/indexing.html#returning-a-view-versus-a-copy\n"
     ]
    },
    {
     "name": "stdout",
     "output_type": "stream",
     "text": [
      "[[0, 1], [2, 2], [3, 3], [4, 4], [5, 11], [12, 18], [19, 21], [22, 22], [23, 30], [31, 31], [32, 32], [33, 33], [34, 34], [35, 35], [36, 36], [37, 37], [38, 38], [39, 40], [41, 41], [42, 42], [43, 44], [45, 47], [48, 50], [51, 52], [53, 53], [54, 54], [55, 56], [57, 57], [58, 60], [61, 62], [63, 63], [64, 64], [65, 68], [69, 72], [73, 73], [74, 74], [75, 75], [76, 78], [79, 81], [82, 83], [84, 85], [86, 86], [87, 87], [88, 88], [89, 90], [91, 91], [92, 92], [93, 93], [94, 94], [95, 95], [96, 97], [98, 99], [100, 100], [101, 101], [102, 102], [103, 103], [104, 106], [107, 107], [108, 108], [109, 112], [113, 113], [114, 116], [117, 117], [118, 118], [119, 119], [120, 122], [123, 126], [127, 129], [130, 130], [131, 132], [133, 133], [134, 134], [135, 135], [136, 138], [139, 141], [142, 144], [145, 145], [146, 146], [147, 147], [148, 148], [149, 149], [150, 150], [151, 151], [152, 153], [154, 154], [155, 155], [156, 161], [162, 162], [163, 163], [164, 164], [165, 165], [166, 166], [167, 167], [168, 170], [171, 171], [172, 172], [173, 173], [174, 181], [182, 185], [186, 186], [187, 187], [188, 188], [189, 190], [191, 192], [193, 193], [194, 194], [195, 197], [198, 198], [199, 199], [200, 200], [201, 207], [208, 208], [209, 209], [210, 210], [211, 211], [212, 212], [213, 213], [214, 214], [215, 217], [218, 218], [219, 221], [222, 222], [223, 223], [224, 230], [231, 231], [232, 232], [233, 233], [234, 234], [235, 235], [236, 236], [237, 240], [241, 243], [244, 244], [245, 252], [253, 253], [254, 256], [257, 257], [258, 258], [259, 259], [260, 260], [261, 263], [264, 266], [267, 267], [268, 268], [269, 279], [280, 280], [281, 281], [282, 282], [283, 291], [292, 292], [293, 296], [297, 297], [298, 298], [299, 299], [300, 300], [301, 301], [302, 302], [303, 303], [304, 304], [305, 305], [306, 306], [307, 307], [308, 308], [309, 310], [311, 311], [312, 313], [314, 315], [316, 318], [319, 320], [321, 321], [322, 323], [324, 325], [326, 327], [328, 328], [329, 330], [331, 331], [332, 334], [335, 337], [338, 339], [340, 342], [343, 343], [344, 346], [347, 348], [349, 350]]\n"
     ]
    },
    {
     "name": "stderr",
     "output_type": "stream",
     "text": [
      "/tmp/ipykernel_17785/3296310189.py:5: SettingWithCopyWarning: \n",
      "A value is trying to be set on a copy of a slice from a DataFrame\n",
      "\n",
      "See the caveats in the documentation: https://pandas.pydata.org/pandas-docs/stable/user_guide/indexing.html#returning-a-view-versus-a-copy\n",
      "  dateDF[\"text\"][index] = text.lower()\n",
      "/tmp/ipykernel_17785/614737289.py:11: SettingWithCopyWarning: \n",
      "A value is trying to be set on a copy of a slice from a DataFrame\n",
      "\n",
      "See the caveats in the documentation: https://pandas.pydata.org/pandas-docs/stable/user_guide/indexing.html#returning-a-view-versus-a-copy\n",
      "  dateDF[\"isPast\"][index]=1\n",
      "/tmp/ipykernel_17785/1269700397.py:18: SettingWithCopyWarning: \n",
      "A value is trying to be set on a copy of a slice from a DataFrame\n",
      "\n",
      "See the caveats in the documentation: https://pandas.pydata.org/pandas-docs/stable/user_guide/indexing.html#returning-a-view-versus-a-copy\n",
      "  df[n][index]=neighbours[n]\n"
     ]
    },
    {
     "name": "stdout",
     "output_type": "stream",
     "text": [
      "[datetime.datetime(2023, 3, 1, 0, 0)]\n",
      "[datetime.datetime(2023, 2, 27, 0, 0)]\n",
      "[datetime.datetime(2023, 3, 1, 0, 0)]\n",
      "[datetime.datetime(2023, 2, 27, 0, 0)]\n"
     ]
    },
    {
     "name": "stderr",
     "output_type": "stream",
     "text": [
      "<string>:11: SettingWithCopyWarning: \n",
      "A value is trying to be set on a copy of a slice from a DataFrame\n",
      "\n",
      "See the caveats in the documentation: https://pandas.pydata.org/pandas-docs/stable/user_guide/indexing.html#returning-a-view-versus-a-copy\n",
      "/tmp/ipykernel_17785/3296310189.py:5: SettingWithCopyWarning: \n",
      "A value is trying to be set on a copy of a slice from a DataFrame\n",
      "\n",
      "See the caveats in the documentation: https://pandas.pydata.org/pandas-docs/stable/user_guide/indexing.html#returning-a-view-versus-a-copy\n",
      "  dateDF[\"text\"][index] = text.lower()\n"
     ]
    },
    {
     "name": "stdout",
     "output_type": "stream",
     "text": [
      "[[0, 0], [1, 1], [2, 2], [3, 3], [4, 4], [5, 5], [6, 6], [7, 7], [8, 8], [9, 9]]\n"
     ]
    },
    {
     "name": "stderr",
     "output_type": "stream",
     "text": [
      "<string>:11: SettingWithCopyWarning: \n",
      "A value is trying to be set on a copy of a slice from a DataFrame\n",
      "\n",
      "See the caveats in the documentation: https://pandas.pydata.org/pandas-docs/stable/user_guide/indexing.html#returning-a-view-versus-a-copy\n"
     ]
    },
    {
     "name": "stdout",
     "output_type": "stream",
     "text": [
      "[[0, 0], [1, 1], [2, 2], [3, 7], [8, 10], [11, 11], [12, 13], [14, 14], [15, 15], [16, 17], [18, 18], [19, 19], [20, 23], [24, 24], [25, 27], [28, 30], [31, 31], [32, 32], [33, 33], [34, 34], [35, 35], [36, 36], [37, 38], [39, 44], [45, 45], [46, 46], [47, 47], [48, 48], [49, 49], [50, 50], [51, 51], [52, 52], [53, 53], [54, 54], [55, 55], [56, 56], [57, 58], [59, 60], [61, 62], [63, 64], [65, 65], [66, 68], [69, 70], [71, 72], [73, 75], [76, 81], [82, 84], [85, 87], [88, 89], [90, 90], [91, 94], [95, 95], [96, 96], [97, 102], [103, 103], [104, 104], [105, 105], [106, 110], [111, 115], [116, 120], [121, 121], [122, 122], [123, 123], [124, 124], [125, 126], [127, 128], [129, 129], [130, 130], [131, 132], [133, 133], [134, 136], [137, 137], [138, 138], [139, 139], [140, 143], [144, 144], [145, 145], [146, 146], [147, 147], [148, 153], [154, 154], [155, 155], [156, 156], [157, 157], [158, 159], [160, 162], [163, 169], [170, 172], [173, 173], [174, 175], [176, 177], [178, 178], [179, 179], [180, 180], [181, 181], [182, 182], [183, 183], [184, 184], [185, 185], [186, 186], [187, 190], [191, 192], [193, 193], [194, 197], [198, 201], [202, 204], [205, 208], [209, 211], [212, 214], [215, 217], [218, 218], [219, 219], [220, 222], [223, 224], [225, 225], [226, 228], [229, 231], [232, 234], [235, 239], [240, 241], [242, 242], [243, 253], [254, 254], [255, 255], [256, 256], [257, 257], [258, 258], [259, 259], [260, 260], [261, 261], [262, 262], [263, 263], [264, 264], [265, 265], [266, 266], [267, 267], [268, 268], [269, 269], [270, 270], [271, 271], [272, 272], [273, 273], [274, 274], [275, 275], [276, 276], [277, 278], [279, 279]]\n"
     ]
    },
    {
     "name": "stderr",
     "output_type": "stream",
     "text": [
      "/tmp/ipykernel_17785/3296310189.py:5: SettingWithCopyWarning: \n",
      "A value is trying to be set on a copy of a slice from a DataFrame\n",
      "\n",
      "See the caveats in the documentation: https://pandas.pydata.org/pandas-docs/stable/user_guide/indexing.html#returning-a-view-versus-a-copy\n",
      "  dateDF[\"text\"][index] = text.lower()\n",
      "/tmp/ipykernel_17785/614737289.py:11: SettingWithCopyWarning: \n",
      "A value is trying to be set on a copy of a slice from a DataFrame\n",
      "\n",
      "See the caveats in the documentation: https://pandas.pydata.org/pandas-docs/stable/user_guide/indexing.html#returning-a-view-versus-a-copy\n",
      "  dateDF[\"isPast\"][index]=1\n",
      "/tmp/ipykernel_17785/1269700397.py:18: SettingWithCopyWarning: \n",
      "A value is trying to be set on a copy of a slice from a DataFrame\n",
      "\n",
      "See the caveats in the documentation: https://pandas.pydata.org/pandas-docs/stable/user_guide/indexing.html#returning-a-view-versus-a-copy\n",
      "  df[n][index]=neighbours[n]\n"
     ]
    },
    {
     "name": "stdout",
     "output_type": "stream",
     "text": [
      "[datetime.datetime(2022, 2, 12, 0, 0)]\n",
      "[datetime.datetime(2023, 1, 1, 0, 0)]\n",
      "[datetime.datetime(2022, 2, 12, 0, 0)]\n"
     ]
    },
    {
     "name": "stderr",
     "output_type": "stream",
     "text": [
      "<string>:11: SettingWithCopyWarning: \n",
      "A value is trying to be set on a copy of a slice from a DataFrame\n",
      "\n",
      "See the caveats in the documentation: https://pandas.pydata.org/pandas-docs/stable/user_guide/indexing.html#returning-a-view-versus-a-copy\n"
     ]
    },
    {
     "name": "stdout",
     "output_type": "stream",
     "text": [
      "[[0, 2], [3, 3], [4, 4], [5, 5], [6, 6], [7, 7], [8, 8], [9, 9], [10, 10], [11, 11], [12, 12], [13, 13], [14, 14], [15, 15], [16, 16], [17, 17], [18, 18], [19, 19], [20, 20], [21, 21], [22, 22], [23, 23], [24, 24], [25, 25], [26, 26], [27, 28], [29, 29], [30, 32], [33, 34], [35, 35], [36, 36], [37, 37], [38, 38], [39, 39], [40, 40], [41, 41], [42, 42], [43, 44], [45, 45], [46, 46], [47, 47], [48, 51], [52, 52], [53, 55], [56, 56], [57, 57], [58, 58], [59, 59], [60, 60], [61, 61], [62, 62], [63, 64], [65, 65], [66, 66], [67, 67], [68, 68], [69, 69], [70, 70], [71, 71], [72, 73], [74, 74], [75, 75], [76, 76], [77, 77], [78, 78], [79, 87], [88, 88], [89, 89], [90, 91], [92, 92], [93, 93], [94, 94], [95, 95], [96, 96], [97, 97], [98, 100], [101, 105], [106, 106], [107, 107], [108, 109], [110, 110], [111, 111], [112, 112], [113, 113], [114, 114], [115, 117], [118, 118], [119, 119], [120, 121], [122, 122], [123, 123], [124, 125], [126, 126], [127, 127], [128, 128], [129, 129], [130, 130], [131, 131], [132, 136], [137, 139], [140, 140], [141, 141], [142, 146], [147, 147], [148, 148], [149, 149], [150, 150], [151, 153], [154, 154], [155, 155], [156, 157], [158, 158], [159, 159], [160, 160], [161, 161], [162, 162], [163, 163], [164, 164], [165, 165], [166, 167], [168, 168], [169, 169], [170, 172], [173, 173], [174, 174], [175, 175], [176, 178], [179, 179], [180, 180], [181, 181], [182, 182], [183, 183], [184, 186], [187, 188], [189, 189], [190, 190], [191, 191], [192, 194], [195, 203], [204, 204], [205, 207], [208, 218], [219, 221], [222, 227], [228, 235], [236, 250], [251, 259], [260, 262], [263, 263]]\n"
     ]
    },
    {
     "name": "stderr",
     "output_type": "stream",
     "text": [
      "/tmp/ipykernel_17785/3296310189.py:5: SettingWithCopyWarning: \n",
      "A value is trying to be set on a copy of a slice from a DataFrame\n",
      "\n",
      "See the caveats in the documentation: https://pandas.pydata.org/pandas-docs/stable/user_guide/indexing.html#returning-a-view-versus-a-copy\n",
      "  dateDF[\"text\"][index] = text.lower()\n",
      "/tmp/ipykernel_17785/614737289.py:11: SettingWithCopyWarning: \n",
      "A value is trying to be set on a copy of a slice from a DataFrame\n",
      "\n",
      "See the caveats in the documentation: https://pandas.pydata.org/pandas-docs/stable/user_guide/indexing.html#returning-a-view-versus-a-copy\n",
      "  dateDF[\"isPast\"][index]=1\n",
      "/tmp/ipykernel_17785/1269700397.py:18: SettingWithCopyWarning: \n",
      "A value is trying to be set on a copy of a slice from a DataFrame\n",
      "\n",
      "See the caveats in the documentation: https://pandas.pydata.org/pandas-docs/stable/user_guide/indexing.html#returning-a-view-versus-a-copy\n",
      "  df[n][index]=neighbours[n]\n"
     ]
    },
    {
     "name": "stdout",
     "output_type": "stream",
     "text": [
      "[datetime.datetime(2022, 4, 11, 0, 0)]\n",
      "[datetime.datetime(2022, 4, 11, 0, 0)]\n"
     ]
    },
    {
     "name": "stderr",
     "output_type": "stream",
     "text": [
      "<string>:11: SettingWithCopyWarning: \n",
      "A value is trying to be set on a copy of a slice from a DataFrame\n",
      "\n",
      "See the caveats in the documentation: https://pandas.pydata.org/pandas-docs/stable/user_guide/indexing.html#returning-a-view-versus-a-copy\n",
      "/tmp/ipykernel_17785/3296310189.py:5: SettingWithCopyWarning: \n",
      "A value is trying to be set on a copy of a slice from a DataFrame\n",
      "\n",
      "See the caveats in the documentation: https://pandas.pydata.org/pandas-docs/stable/user_guide/indexing.html#returning-a-view-versus-a-copy\n",
      "  dateDF[\"text\"][index] = text.lower()\n"
     ]
    },
    {
     "name": "stdout",
     "output_type": "stream",
     "text": [
      "[[0, 0], [1, 1], [2, 2], [3, 3], [4, 4], [5, 5], [6, 6], [7, 7], [8, 8], [9, 11], [12, 12], [13, 13], [14, 14], [15, 15], [16, 16], [17, 18], [19, 19], [20, 20], [21, 21], [22, 22], [23, 23], [24, 24], [25, 25], [26, 26]]\n"
     ]
    },
    {
     "name": "stderr",
     "output_type": "stream",
     "text": [
      "<string>:11: SettingWithCopyWarning: \n",
      "A value is trying to be set on a copy of a slice from a DataFrame\n",
      "\n",
      "See the caveats in the documentation: https://pandas.pydata.org/pandas-docs/stable/user_guide/indexing.html#returning-a-view-versus-a-copy\n",
      "/tmp/ipykernel_17785/3296310189.py:5: SettingWithCopyWarning: \n",
      "A value is trying to be set on a copy of a slice from a DataFrame\n",
      "\n",
      "See the caveats in the documentation: https://pandas.pydata.org/pandas-docs/stable/user_guide/indexing.html#returning-a-view-versus-a-copy\n",
      "  dateDF[\"text\"][index] = text.lower()\n"
     ]
    },
    {
     "name": "stdout",
     "output_type": "stream",
     "text": [
      "[[0, 0], [1, 1], [2, 2], [3, 3], [4, 5], [6, 6], [7, 7], [8, 8], [9, 9], [10, 11], [12, 12], [13, 13], [14, 14], [15, 15]]\n"
     ]
    },
    {
     "name": "stderr",
     "output_type": "stream",
     "text": [
      "<string>:11: SettingWithCopyWarning: \n",
      "A value is trying to be set on a copy of a slice from a DataFrame\n",
      "\n",
      "See the caveats in the documentation: https://pandas.pydata.org/pandas-docs/stable/user_guide/indexing.html#returning-a-view-versus-a-copy\n",
      "/tmp/ipykernel_17785/3296310189.py:5: SettingWithCopyWarning: \n",
      "A value is trying to be set on a copy of a slice from a DataFrame\n",
      "\n",
      "See the caveats in the documentation: https://pandas.pydata.org/pandas-docs/stable/user_guide/indexing.html#returning-a-view-versus-a-copy\n",
      "  dateDF[\"text\"][index] = text.lower()\n",
      "/tmp/ipykernel_17785/614737289.py:11: SettingWithCopyWarning: \n",
      "A value is trying to be set on a copy of a slice from a DataFrame\n",
      "\n",
      "See the caveats in the documentation: https://pandas.pydata.org/pandas-docs/stable/user_guide/indexing.html#returning-a-view-versus-a-copy\n",
      "  dateDF[\"isPast\"][index]=1\n",
      "/tmp/ipykernel_17785/1269700397.py:18: SettingWithCopyWarning: \n",
      "A value is trying to be set on a copy of a slice from a DataFrame\n",
      "\n",
      "See the caveats in the documentation: https://pandas.pydata.org/pandas-docs/stable/user_guide/indexing.html#returning-a-view-versus-a-copy\n",
      "  df[n][index]=neighbours[n]\n"
     ]
    },
    {
     "name": "stdout",
     "output_type": "stream",
     "text": [
      "[[0, 2], [3, 3], [4, 4], [5, 5], [6, 7], [8, 8], [9, 10], [11, 11], [12, 13], [14, 15], [16, 17], [18, 18], [19, 19], [20, 21], [22, 22], [23, 24], [25, 25], [26, 35], [36, 36], [37, 37], [38, 39], [40, 43], [44, 44], [45, 56]]\n",
      "[datetime.datetime(2020, 1, 14, 0, 0)]\n",
      "[datetime.datetime(2020, 1, 7, 0, 0)]\n",
      "[datetime.datetime(2020, 1, 14, 0, 0)]\n"
     ]
    },
    {
     "name": "stderr",
     "output_type": "stream",
     "text": [
      "<string>:11: SettingWithCopyWarning: \n",
      "A value is trying to be set on a copy of a slice from a DataFrame\n",
      "\n",
      "See the caveats in the documentation: https://pandas.pydata.org/pandas-docs/stable/user_guide/indexing.html#returning-a-view-versus-a-copy\n",
      "/tmp/ipykernel_17785/3296310189.py:5: SettingWithCopyWarning: \n",
      "A value is trying to be set on a copy of a slice from a DataFrame\n",
      "\n",
      "See the caveats in the documentation: https://pandas.pydata.org/pandas-docs/stable/user_guide/indexing.html#returning-a-view-versus-a-copy\n",
      "  dateDF[\"text\"][index] = text.lower()\n"
     ]
    },
    {
     "name": "stdout",
     "output_type": "stream",
     "text": [
      "[[0, 0], [1, 1], [2, 2], [3, 3], [4, 4], [5, 5], [6, 6], [7, 7], [8, 8], [9, 9], [10, 10], [11, 11], [12, 12], [13, 13], [14, 14], [15, 15], [16, 16], [17, 17], [18, 18], [19, 19], [20, 20], [21, 21], [22, 24], [25, 25], [26, 27], [28, 28], [29, 29], [30, 30], [31, 35], [36, 37], [38, 42], [43, 51], [52, 54], [55, 60], [61, 63], [64, 65], [66, 68], [69, 69], [70, 71], [72, 74], [75, 76], [77, 81], [82, 83], [84, 88], [89, 91], [92, 92], [93, 94], [95, 95], [96, 97], [98, 100], [101, 101], [102, 103], [104, 104], [105, 105], [106, 107], [108, 109], [110, 111], [112, 113], [114, 114], [115, 116], [117, 118], [119, 121], [122, 124], [125, 129], [130, 130], [131, 136], [137, 137], [138, 139], [140, 140], [141, 141], [142, 143], [144, 145], [146, 147], [148, 148], [149, 149], [150, 151], [152, 153], [154, 157], [158, 159], [160, 161], [162, 162], [163, 166], [167, 167], [168, 169], [170, 171], [172, 172], [173, 176], [177, 178], [179, 180], [181, 181], [182, 182], [183, 183], [184, 184], [185, 185], [186, 186], [187, 188], [189, 189], [190, 191], [192, 192], [193, 193], [194, 195], [196, 196], [197, 199], [200, 201], [202, 210], [211, 211], [212, 213], [214, 216], [217, 217], [218, 221], [222, 224], [225, 227], [228, 230], [231, 234], [235, 235], [236, 236], [237, 237], [238, 238], [239, 243], [244, 248], [249, 255], [256, 258], [259, 268], [269, 276], [277, 286], [287, 287], [288, 289], [290, 293], [294, 296], [297, 297], [298, 303], [304, 306], [307, 307], [308, 308], [309, 309]]\n",
      "[datetime.datetime(2022, 8, 17, 0, 0)]\n",
      "[datetime.datetime(2022, 8, 17, 0, 0)]\n"
     ]
    },
    {
     "name": "stderr",
     "output_type": "stream",
     "text": [
      "/tmp/ipykernel_17785/614737289.py:11: SettingWithCopyWarning: \n",
      "A value is trying to be set on a copy of a slice from a DataFrame\n",
      "\n",
      "See the caveats in the documentation: https://pandas.pydata.org/pandas-docs/stable/user_guide/indexing.html#returning-a-view-versus-a-copy\n",
      "  dateDF[\"isPast\"][index]=1\n",
      "/tmp/ipykernel_17785/1269700397.py:18: SettingWithCopyWarning: \n",
      "A value is trying to be set on a copy of a slice from a DataFrame\n",
      "\n",
      "See the caveats in the documentation: https://pandas.pydata.org/pandas-docs/stable/user_guide/indexing.html#returning-a-view-versus-a-copy\n",
      "  df[n][index]=neighbours[n]\n",
      "<string>:11: SettingWithCopyWarning: \n",
      "A value is trying to be set on a copy of a slice from a DataFrame\n",
      "\n",
      "See the caveats in the documentation: https://pandas.pydata.org/pandas-docs/stable/user_guide/indexing.html#returning-a-view-versus-a-copy\n"
     ]
    },
    {
     "name": "stdout",
     "output_type": "stream",
     "text": [
      "[[0, 0], [1, 1], [2, 2], [3, 3], [4, 4], [5, 5], [6, 6], [7, 7], [8, 8], [9, 9], [10, 10], [11, 11], [12, 12], [13, 13], [14, 17], [18, 18], [19, 19], [20, 20], [21, 21], [22, 22], [23, 23], [24, 24], [25, 25], [26, 26], [27, 27], [28, 28], [29, 29], [30, 30], [31, 31], [32, 32], [33, 33], [34, 34], [35, 35], [36, 36], [37, 37], [38, 38], [39, 39], [40, 40], [41, 41], [42, 42], [43, 43], [44, 44], [45, 45], [46, 47], [48, 48], [49, 51], [52, 52], [53, 53], [54, 54], [55, 55], [56, 61], [62, 66], [67, 68], [69, 69], [70, 70], [71, 71], [72, 72], [73, 73], [74, 74], [75, 76], [77, 77], [78, 78], [79, 79], [80, 80], [81, 82], [83, 83], [84, 84], [85, 89], [90, 90], [91, 91], [92, 92], [93, 94], [95, 95], [96, 96], [97, 97], [98, 101], [102, 102], [103, 103], [104, 104], [105, 105], [106, 106], [107, 109], [110, 110], [111, 111], [112, 112], [113, 113], [114, 114], [115, 115], [116, 116], [117, 117], [118, 118], [119, 119], [120, 120], [121, 121], [122, 122], [123, 123], [124, 124], [125, 125], [126, 129], [130, 130], [131, 133], [134, 134], [135, 135], [136, 136], [137, 137], [138, 138], [139, 139], [140, 140], [141, 141], [142, 142], [143, 143], [144, 144], [145, 145], [146, 146], [147, 147], [148, 148], [149, 150], [151, 152], [153, 155], [156, 156], [157, 158], [159, 160], [161, 162], [163, 163], [164, 166], [167, 172], [173, 173], [174, 180], [181, 182], [183, 183], [184, 184], [185, 186], [187, 187], [188, 188], [189, 191], [192, 192], [193, 193], [194, 194], [195, 195], [196, 196], [197, 197], [198, 198], [199, 199], [200, 200], [201, 201], [202, 202], [203, 203], [204, 205], [206, 206], [207, 212], [213, 213], [214, 214], [215, 215], [216, 216], [217, 217], [218, 218], [219, 219], [220, 220], [221, 221], [222, 222], [223, 223], [224, 224], [225, 225], [226, 226], [227, 227], [228, 228], [229, 231], [232, 232], [233, 233], [234, 234], [235, 235], [236, 236], [237, 237], [238, 238], [239, 249], [250, 250], [251, 259], [260, 267], [268, 268], [269, 269], [270, 270], [271, 271], [272, 272], [273, 273], [274, 276], [277, 284], [285, 298], [299, 299], [300, 300], [301, 314], [315, 315], [316, 318], [319, 319], [320, 320], [321, 321], [322, 322], [323, 323], [324, 339], [340, 340], [341, 341], [342, 349], [350, 350], [351, 351], [352, 352], [353, 353], [354, 354], [355, 355], [356, 356], [357, 357], [358, 358], [359, 359], [360, 360], [361, 361], [362, 363], [364, 364]]\n"
     ]
    },
    {
     "name": "stderr",
     "output_type": "stream",
     "text": [
      "/tmp/ipykernel_17785/3296310189.py:5: SettingWithCopyWarning: \n",
      "A value is trying to be set on a copy of a slice from a DataFrame\n",
      "\n",
      "See the caveats in the documentation: https://pandas.pydata.org/pandas-docs/stable/user_guide/indexing.html#returning-a-view-versus-a-copy\n",
      "  dateDF[\"text\"][index] = text.lower()\n",
      "/tmp/ipykernel_17785/614737289.py:11: SettingWithCopyWarning: \n",
      "A value is trying to be set on a copy of a slice from a DataFrame\n",
      "\n",
      "See the caveats in the documentation: https://pandas.pydata.org/pandas-docs/stable/user_guide/indexing.html#returning-a-view-versus-a-copy\n",
      "  dateDF[\"isPast\"][index]=1\n",
      "/tmp/ipykernel_17785/1269700397.py:18: SettingWithCopyWarning: \n",
      "A value is trying to be set on a copy of a slice from a DataFrame\n",
      "\n",
      "See the caveats in the documentation: https://pandas.pydata.org/pandas-docs/stable/user_guide/indexing.html#returning-a-view-versus-a-copy\n",
      "  df[n][index]=neighbours[n]\n"
     ]
    },
    {
     "name": "stdout",
     "output_type": "stream",
     "text": [
      "[datetime.datetime(2022, 5, 12, 0, 0)]\n",
      "[datetime.datetime(2022, 12, 22, 0, 0)]\n",
      "[datetime.datetime(2022, 12, 26, 0, 0)]\n",
      "[datetime.datetime(2022, 12, 22, 0, 0)]\n",
      "[datetime.datetime(2022, 12, 26, 0, 0)]\n"
     ]
    },
    {
     "name": "stderr",
     "output_type": "stream",
     "text": [
      "<string>:11: SettingWithCopyWarning: \n",
      "A value is trying to be set on a copy of a slice from a DataFrame\n",
      "\n",
      "See the caveats in the documentation: https://pandas.pydata.org/pandas-docs/stable/user_guide/indexing.html#returning-a-view-versus-a-copy\n",
      "/tmp/ipykernel_17785/3296310189.py:5: SettingWithCopyWarning: \n",
      "A value is trying to be set on a copy of a slice from a DataFrame\n",
      "\n",
      "See the caveats in the documentation: https://pandas.pydata.org/pandas-docs/stable/user_guide/indexing.html#returning-a-view-versus-a-copy\n",
      "  dateDF[\"text\"][index] = text.lower()\n",
      "/tmp/ipykernel_17785/614737289.py:11: SettingWithCopyWarning: \n",
      "A value is trying to be set on a copy of a slice from a DataFrame\n",
      "\n",
      "See the caveats in the documentation: https://pandas.pydata.org/pandas-docs/stable/user_guide/indexing.html#returning-a-view-versus-a-copy\n",
      "  dateDF[\"isPast\"][index]=1\n",
      "/tmp/ipykernel_17785/1269700397.py:18: SettingWithCopyWarning: \n",
      "A value is trying to be set on a copy of a slice from a DataFrame\n",
      "\n",
      "See the caveats in the documentation: https://pandas.pydata.org/pandas-docs/stable/user_guide/indexing.html#returning-a-view-versus-a-copy\n",
      "  df[n][index]=neighbours[n]\n"
     ]
    },
    {
     "name": "stdout",
     "output_type": "stream",
     "text": [
      "[[0, 0], [1, 1], [2, 2], [3, 3], [4, 4], [5, 6], [7, 8], [9, 9], [10, 10], [11, 11], [12, 13], [14, 14], [15, 15], [16, 17], [18, 19], [20, 20], [21, 21], [22, 24], [25, 25], [26, 26], [27, 30], [31, 33], [34, 35], [36, 37], [38, 39], [40, 40], [41, 42], [43, 44], [45, 48], [49, 53], [54, 55], [56, 57], [58, 59], [60, 60], [61, 62], [63, 64], [65, 65], [66, 66], [67, 67], [68, 69], [70, 71], [72, 72], [73, 74], [75, 75], [76, 76], [77, 77], [78, 79], [80, 80], [81, 82], [83, 91], [92, 108], [109, 122], [123, 123], [124, 139], [140, 152], [153, 158], [159, 165], [166, 172], [173, 173], [174, 174], [175, 176], [177, 177], [178, 178], [179, 182], [183, 183], [184, 184], [185, 185], [186, 186], [187, 190], [191, 192], [193, 199], [200, 206], [207, 207], [208, 211], [212, 216], [217, 218], [219, 220], [221, 221], [222, 222]]\n",
      "[datetime.datetime(2022, 12, 27, 0, 0)]\n",
      "[datetime.datetime(2022, 12, 27, 0, 0)]\n",
      "[datetime.datetime(2022, 12, 28, 0, 0)]\n",
      "[datetime.datetime(2022, 12, 27, 0, 0)]\n"
     ]
    },
    {
     "name": "stderr",
     "output_type": "stream",
     "text": [
      "<string>:11: SettingWithCopyWarning: \n",
      "A value is trying to be set on a copy of a slice from a DataFrame\n",
      "\n",
      "See the caveats in the documentation: https://pandas.pydata.org/pandas-docs/stable/user_guide/indexing.html#returning-a-view-versus-a-copy\n",
      "/tmp/ipykernel_17785/3296310189.py:5: SettingWithCopyWarning: \n",
      "A value is trying to be set on a copy of a slice from a DataFrame\n",
      "\n",
      "See the caveats in the documentation: https://pandas.pydata.org/pandas-docs/stable/user_guide/indexing.html#returning-a-view-versus-a-copy\n",
      "  dateDF[\"text\"][index] = text.lower()\n"
     ]
    },
    {
     "name": "stdout",
     "output_type": "stream",
     "text": [
      "[[0, 0], [1, 1], [2, 2], [3, 3], [4, 6], [7, 8], [9, 9], [10, 10], [11, 11], [12, 12], [13, 13], [14, 14], [15, 15], [16, 16], [17, 17], [18, 18], [19, 19], [20, 20], [21, 21], [22, 22]]\n"
     ]
    },
    {
     "name": "stderr",
     "output_type": "stream",
     "text": [
      "<string>:11: SettingWithCopyWarning: \n",
      "A value is trying to be set on a copy of a slice from a DataFrame\n",
      "\n",
      "See the caveats in the documentation: https://pandas.pydata.org/pandas-docs/stable/user_guide/indexing.html#returning-a-view-versus-a-copy\n",
      "/tmp/ipykernel_17785/3296310189.py:5: SettingWithCopyWarning: \n",
      "A value is trying to be set on a copy of a slice from a DataFrame\n",
      "\n",
      "See the caveats in the documentation: https://pandas.pydata.org/pandas-docs/stable/user_guide/indexing.html#returning-a-view-versus-a-copy\n",
      "  dateDF[\"text\"][index] = text.lower()\n",
      "/tmp/ipykernel_17785/614737289.py:11: SettingWithCopyWarning: \n",
      "A value is trying to be set on a copy of a slice from a DataFrame\n",
      "\n",
      "See the caveats in the documentation: https://pandas.pydata.org/pandas-docs/stable/user_guide/indexing.html#returning-a-view-versus-a-copy\n",
      "  dateDF[\"isPast\"][index]=1\n",
      "/tmp/ipykernel_17785/1269700397.py:18: SettingWithCopyWarning: \n",
      "A value is trying to be set on a copy of a slice from a DataFrame\n",
      "\n",
      "See the caveats in the documentation: https://pandas.pydata.org/pandas-docs/stable/user_guide/indexing.html#returning-a-view-versus-a-copy\n",
      "  df[n][index]=neighbours[n]\n"
     ]
    },
    {
     "name": "stdout",
     "output_type": "stream",
     "text": [
      "[[0, 3], [4, 7], [8, 13], [14, 17], [18, 22], [23, 28], [29, 33], [34, 34], [35, 35], [36, 40], [41, 41], [42, 63], [64, 64], [65, 65], [66, 70], [71, 71], [72, 72], [73, 73], [74, 75], [76, 76], [77, 77], [78, 78], [79, 80], [81, 81], [82, 82], [83, 83], [84, 84], [85, 85], [86, 86], [87, 87], [88, 88], [89, 89], [90, 90], [91, 91], [92, 92], [93, 93], [94, 94], [95, 95], [96, 96], [97, 97], [98, 98], [99, 99], [100, 100], [101, 101], [102, 103], [104, 104], [105, 105], [106, 106], [107, 107], [108, 108], [109, 109], [110, 110], [111, 111], [112, 112], [113, 113], [114, 114], [115, 115], [116, 116], [117, 117], [118, 124], [125, 125], [126, 126], [127, 127], [128, 128], [129, 134], [135, 140], [141, 151], [152, 154], [155, 157], [158, 158], [159, 159], [160, 160]]\n",
      "[datetime.datetime(2023, 4, 1, 0, 0)]\n",
      "[datetime.datetime(2023, 3, 31, 0, 0)]\n",
      "[datetime.datetime(2023, 4, 1, 0, 0)]\n",
      "[datetime.datetime(2023, 3, 31, 0, 0)]\n"
     ]
    },
    {
     "name": "stderr",
     "output_type": "stream",
     "text": [
      "<string>:11: SettingWithCopyWarning: \n",
      "A value is trying to be set on a copy of a slice from a DataFrame\n",
      "\n",
      "See the caveats in the documentation: https://pandas.pydata.org/pandas-docs/stable/user_guide/indexing.html#returning-a-view-versus-a-copy\n"
     ]
    },
    {
     "name": "stdout",
     "output_type": "stream",
     "text": [
      "[[0, 0], [1, 1], [2, 2], [3, 3], [4, 4], [5, 5], [6, 6], [7, 7], [8, 8], [9, 9], [10, 10], [11, 11], [12, 12], [13, 13], [14, 14], [15, 15], [16, 16], [17, 17], [18, 19], [20, 21], [22, 22], [23, 24], [25, 25], [26, 28], [29, 29], [30, 30], [31, 31], [32, 34], [35, 35], [36, 36], [37, 37], [38, 38], [39, 39], [40, 40], [41, 44], [45, 45], [46, 46], [47, 47], [48, 48], [49, 52], [53, 57], [58, 58], [59, 59], [60, 64], [65, 66], [67, 67], [68, 69], [70, 71], [72, 72], [73, 74], [75, 75], [76, 76], [77, 77], [78, 79], [80, 80], [81, 82], [83, 83], [84, 85], [86, 86], [87, 90], [91, 92], [93, 93], [94, 94], [95, 95], [96, 96], [97, 97], [98, 99], [100, 100], [101, 104], [105, 105], [106, 107], [108, 111], [112, 112], [113, 115], [116, 116], [117, 117], [118, 118], [119, 119], [120, 122], [123, 126], [127, 127], [128, 128], [129, 129], [130, 132], [133, 139], [140, 141], [142, 142], [143, 143], [144, 145], [146, 146], [147, 147], [148, 148], [149, 149], [150, 150], [151, 151], [152, 153], [154, 154], [155, 156], [157, 157], [158, 158], [159, 159], [160, 160], [161, 161], [162, 166], [167, 171], [172, 174], [175, 175], [176, 176], [177, 177], [178, 178], [179, 179], [180, 180], [181, 186], [187, 187], [188, 188], [189, 194], [195, 195], [196, 196], [197, 206], [207, 209], [210, 213], [214, 214], [215, 215], [216, 226], [227, 227], [228, 235], [236, 243], [244, 244], [245, 245], [246, 247], [248, 249], [250, 250], [251, 253], [254, 254], [255, 257], [258, 258], [259, 259], [260, 260], [261, 261], [262, 262], [263, 263], [264, 264], [265, 265], [266, 266], [267, 267], [268, 268], [269, 269], [270, 270], [271, 271], [272, 272], [273, 273], [274, 274], [275, 275], [276, 276], [277, 277], [278, 278], [279, 279], [280, 280], [281, 281], [282, 282], [283, 283], [284, 284], [285, 285], [286, 286], [287, 287], [288, 288], [289, 289], [290, 290], [291, 292], [293, 293], [294, 294], [295, 295], [296, 296], [297, 297], [298, 298], [299, 299], [300, 300], [301, 301], [302, 304], [305, 306], [307, 307], [308, 309], [310, 311], [312, 313], [314, 314], [315, 315], [316, 316], [317, 317], [318, 318], [319, 319], [320, 320], [321, 321], [322, 322], [323, 323], [324, 324], [325, 325], [326, 326], [327, 327], [328, 328], [329, 329], [330, 330], [331, 331], [332, 332], [333, 333], [334, 334], [335, 335], [336, 336], [337, 337], [338, 338], [339, 339], [340, 340], [341, 341], [342, 342], [343, 343], [344, 344], [345, 345], [346, 346], [347, 347], [348, 349], [350, 350], [351, 351], [352, 352], [353, 353], [354, 354], [355, 355], [356, 356], [357, 357], [358, 358], [359, 359], [360, 360], [361, 361]]\n"
     ]
    },
    {
     "name": "stderr",
     "output_type": "stream",
     "text": [
      "/tmp/ipykernel_17785/3296310189.py:5: SettingWithCopyWarning: \n",
      "A value is trying to be set on a copy of a slice from a DataFrame\n",
      "\n",
      "See the caveats in the documentation: https://pandas.pydata.org/pandas-docs/stable/user_guide/indexing.html#returning-a-view-versus-a-copy\n",
      "  dateDF[\"text\"][index] = text.lower()\n",
      "/tmp/ipykernel_17785/614737289.py:11: SettingWithCopyWarning: \n",
      "A value is trying to be set on a copy of a slice from a DataFrame\n",
      "\n",
      "See the caveats in the documentation: https://pandas.pydata.org/pandas-docs/stable/user_guide/indexing.html#returning-a-view-versus-a-copy\n",
      "  dateDF[\"isPast\"][index]=1\n"
     ]
    },
    {
     "name": "stdout",
     "output_type": "stream",
     "text": [
      "[datetime.datetime(2023, 2, 16, 0, 0)]\n",
      "[datetime.datetime(2023, 2, 16, 0, 0)]\n",
      "[datetime.datetime(2023, 2, 16, 0, 0)]\n",
      "[datetime.datetime(2023, 2, 16, 10, 29)]\n",
      "[datetime.datetime(2023, 2, 16, 0, 0)]\n",
      "[datetime.datetime(2023, 2, 16, 0, 0)]\n"
     ]
    },
    {
     "name": "stderr",
     "output_type": "stream",
     "text": [
      "/tmp/ipykernel_17785/1269700397.py:18: SettingWithCopyWarning: \n",
      "A value is trying to be set on a copy of a slice from a DataFrame\n",
      "\n",
      "See the caveats in the documentation: https://pandas.pydata.org/pandas-docs/stable/user_guide/indexing.html#returning-a-view-versus-a-copy\n",
      "  df[n][index]=neighbours[n]\n",
      "<string>:11: SettingWithCopyWarning: \n",
      "A value is trying to be set on a copy of a slice from a DataFrame\n",
      "\n",
      "See the caveats in the documentation: https://pandas.pydata.org/pandas-docs/stable/user_guide/indexing.html#returning-a-view-versus-a-copy\n",
      "/tmp/ipykernel_17785/3296310189.py:5: SettingWithCopyWarning: \n",
      "A value is trying to be set on a copy of a slice from a DataFrame\n",
      "\n",
      "See the caveats in the documentation: https://pandas.pydata.org/pandas-docs/stable/user_guide/indexing.html#returning-a-view-versus-a-copy\n",
      "  dateDF[\"text\"][index] = text.lower()\n",
      "/tmp/ipykernel_17785/614737289.py:11: SettingWithCopyWarning: \n",
      "A value is trying to be set on a copy of a slice from a DataFrame\n",
      "\n",
      "See the caveats in the documentation: https://pandas.pydata.org/pandas-docs/stable/user_guide/indexing.html#returning-a-view-versus-a-copy\n",
      "  dateDF[\"isPast\"][index]=1\n",
      "/tmp/ipykernel_17785/1269700397.py:18: SettingWithCopyWarning: \n",
      "A value is trying to be set on a copy of a slice from a DataFrame\n",
      "\n",
      "See the caveats in the documentation: https://pandas.pydata.org/pandas-docs/stable/user_guide/indexing.html#returning-a-view-versus-a-copy\n",
      "  df[n][index]=neighbours[n]\n"
     ]
    },
    {
     "name": "stdout",
     "output_type": "stream",
     "text": [
      "[[0, 0], [1, 1], [2, 2], [3, 3], [4, 4], [5, 5], [6, 7], [8, 9], [10, 10], [11, 11], [12, 15], [16, 17], [18, 20], [21, 22], [23, 23], [24, 25], [26, 28], [29, 29], [30, 31], [32, 32], [33, 35], [36, 37], [38, 39], [40, 44], [45, 47], [48, 50], [51, 51], [52, 55], [56, 56], [57, 57], [58, 59], [60, 60], [61, 62], [63, 63], [64, 64], [65, 65], [66, 66], [67, 68], [69, 69], [70, 71], [72, 73], [74, 74], [75, 75], [76, 76], [77, 77], [78, 80], [81, 82], [83, 83], [84, 84], [85, 85], [86, 87], [88, 88], [89, 89], [90, 90], [91, 91], [92, 92], [93, 93], [94, 94], [95, 104], [105, 110], [111, 115], [116, 117], [118, 119], [120, 121], [122, 123], [124, 124], [125, 125], [126, 127], [128, 128], [129, 129], [130, 130], [131, 131], [132, 132], [133, 133], [134, 136], [137, 137], [138, 139], [140, 140], [141, 142], [143, 143], [144, 144]]\n",
      "[datetime.datetime(2022, 10, 10, 0, 0)]\n",
      "[datetime.datetime(2022, 10, 10, 0, 0)]\n"
     ]
    },
    {
     "name": "stderr",
     "output_type": "stream",
     "text": [
      "<string>:11: SettingWithCopyWarning: \n",
      "A value is trying to be set on a copy of a slice from a DataFrame\n",
      "\n",
      "See the caveats in the documentation: https://pandas.pydata.org/pandas-docs/stable/user_guide/indexing.html#returning-a-view-versus-a-copy\n",
      "/tmp/ipykernel_17785/3296310189.py:5: SettingWithCopyWarning: \n",
      "A value is trying to be set on a copy of a slice from a DataFrame\n",
      "\n",
      "See the caveats in the documentation: https://pandas.pydata.org/pandas-docs/stable/user_guide/indexing.html#returning-a-view-versus-a-copy\n",
      "  dateDF[\"text\"][index] = text.lower()\n",
      "/tmp/ipykernel_17785/614737289.py:11: SettingWithCopyWarning: \n",
      "A value is trying to be set on a copy of a slice from a DataFrame\n",
      "\n",
      "See the caveats in the documentation: https://pandas.pydata.org/pandas-docs/stable/user_guide/indexing.html#returning-a-view-versus-a-copy\n",
      "  dateDF[\"isPast\"][index]=1\n",
      "/tmp/ipykernel_17785/1269700397.py:18: SettingWithCopyWarning: \n",
      "A value is trying to be set on a copy of a slice from a DataFrame\n",
      "\n",
      "See the caveats in the documentation: https://pandas.pydata.org/pandas-docs/stable/user_guide/indexing.html#returning-a-view-versus-a-copy\n",
      "  df[n][index]=neighbours[n]\n"
     ]
    },
    {
     "name": "stdout",
     "output_type": "stream",
     "text": [
      "[[0, 1], [2, 2], [3, 5], [6, 7], [8, 8], [9, 9], [10, 10], [11, 12], [13, 16], [17, 21], [22, 22], [23, 23], [24, 26], [27, 28], [29, 29], [30, 30], [31, 31], [32, 32], [33, 33], [34, 34], [35, 39], [40, 40], [41, 42], [43, 43], [44, 44], [45, 49], [50, 50], [51, 52], [53, 53], [54, 54], [55, 59], [60, 60], [61, 65], [66, 69], [70, 71], [72, 73], [74, 76], [77, 78], [79, 80], [81, 81], [82, 82], [83, 85], [86, 86], [87, 88], [89, 90], [91, 92], [93, 93], [94, 95], [96, 97], [98, 98], [99, 99], [100, 100], [101, 101], [102, 102], [103, 104], [105, 105], [106, 107], [108, 108], [109, 110], [111, 111], [112, 113], [114, 114], [115, 115], [116, 116], [117, 117], [118, 118], [119, 119], [120, 121]]\n",
      "[datetime.datetime(2023, 4, 11, 0, 0)]\n",
      "[datetime.datetime(2023, 4, 11, 0, 0)]\n"
     ]
    },
    {
     "name": "stderr",
     "output_type": "stream",
     "text": [
      "<string>:11: SettingWithCopyWarning: \n",
      "A value is trying to be set on a copy of a slice from a DataFrame\n",
      "\n",
      "See the caveats in the documentation: https://pandas.pydata.org/pandas-docs/stable/user_guide/indexing.html#returning-a-view-versus-a-copy\n",
      "/tmp/ipykernel_17785/3296310189.py:5: SettingWithCopyWarning: \n",
      "A value is trying to be set on a copy of a slice from a DataFrame\n",
      "\n",
      "See the caveats in the documentation: https://pandas.pydata.org/pandas-docs/stable/user_guide/indexing.html#returning-a-view-versus-a-copy\n",
      "  dateDF[\"text\"][index] = text.lower()\n"
     ]
    },
    {
     "name": "stdout",
     "output_type": "stream",
     "text": [
      "[[0, 5], [6, 12], [13, 13], [14, 26], [27, 27], [28, 29], [30, 30], [31, 32], [33, 34], [35, 36], [37, 38], [39, 40], [41, 42], [43, 44], [45, 46], [47, 48], [49, 50], [51, 52], [53, 54], [55, 56], [57, 57], [58, 59], [60, 60], [61, 62], [63, 66], [67, 67], [68, 70], [71, 71], [72, 72], [73, 75], [76, 77], [78, 79], [80, 84], [85, 85], [86, 87], [88, 91], [92, 93], [94, 97], [98, 102], [103, 110], [111, 114], [115, 117], [118, 121], [122, 126], [127, 135], [136, 139], [140, 142], [143, 145], [146, 148], [149, 149], [150, 151], [152, 153], [154, 154], [155, 156], [157, 158], [159, 160], [161, 162], [163, 166], [167, 167], [168, 169], [170, 172], [173, 173], [174, 175], [176, 178], [179, 179], [180, 180], [181, 183], [184, 186], [187, 191], [192, 199], [200, 206], [207, 209], [210, 210], [211, 211], [212, 212], [213, 213], [214, 214], [215, 215], [216, 216], [217, 217], [218, 218], [219, 219], [220, 220], [221, 222], [223, 225], [226, 226], [227, 227], [228, 228], [229, 230], [231, 232], [233, 234], [235, 235], [236, 236], [237, 238], [239, 240], [241, 242], [243, 243], [244, 244], [245, 245], [246, 246], [247, 247], [248, 248], [249, 250], [251, 251], [252, 266], [267, 267], [268, 268], [269, 269], [270, 272], [273, 277], [278, 278], [279, 279], [280, 280], [281, 281]]\n",
      "[datetime.datetime(2022, 12, 7, 0, 0)]\n",
      "[datetime.datetime(2022, 12, 19, 0, 0)]\n",
      "[datetime.datetime(2022, 12, 19, 0, 0)]\n"
     ]
    },
    {
     "name": "stderr",
     "output_type": "stream",
     "text": [
      "/tmp/ipykernel_17785/614737289.py:11: SettingWithCopyWarning: \n",
      "A value is trying to be set on a copy of a slice from a DataFrame\n",
      "\n",
      "See the caveats in the documentation: https://pandas.pydata.org/pandas-docs/stable/user_guide/indexing.html#returning-a-view-versus-a-copy\n",
      "  dateDF[\"isPast\"][index]=1\n",
      "/tmp/ipykernel_17785/1269700397.py:18: SettingWithCopyWarning: \n",
      "A value is trying to be set on a copy of a slice from a DataFrame\n",
      "\n",
      "See the caveats in the documentation: https://pandas.pydata.org/pandas-docs/stable/user_guide/indexing.html#returning-a-view-versus-a-copy\n",
      "  df[n][index]=neighbours[n]\n",
      "<string>:11: SettingWithCopyWarning: \n",
      "A value is trying to be set on a copy of a slice from a DataFrame\n",
      "\n",
      "See the caveats in the documentation: https://pandas.pydata.org/pandas-docs/stable/user_guide/indexing.html#returning-a-view-versus-a-copy\n",
      "/tmp/ipykernel_17785/3296310189.py:5: SettingWithCopyWarning: \n",
      "A value is trying to be set on a copy of a slice from a DataFrame\n",
      "\n",
      "See the caveats in the documentation: https://pandas.pydata.org/pandas-docs/stable/user_guide/indexing.html#returning-a-view-versus-a-copy\n",
      "  dateDF[\"text\"][index] = text.lower()\n"
     ]
    },
    {
     "name": "stdout",
     "output_type": "stream",
     "text": [
      "[[0, 0], [1, 2], [3, 8], [9, 14], [15, 17], [18, 20], [21, 23], [24, 24], [25, 25], [26, 27], [28, 28], [29, 31], [32, 38], [39, 40], [41, 44], [45, 46], [47, 48], [49, 49], [50, 50], [51, 54], [55, 57], [58, 58], [59, 59], [60, 60], [61, 61], [62, 62], [63, 63], [64, 64], [65, 65], [66, 66], [67, 67], [68, 68], [69, 69], [70, 75], [76, 80], [81, 82], [83, 88], [89, 89], [90, 91], [92, 93], [94, 94], [95, 95], [96, 96], [97, 97], [98, 98], [99, 99], [100, 100], [101, 101], [102, 113], [114, 122], [123, 123], [124, 125], [126, 127], [128, 128], [129, 129], [130, 131], [132, 132], [133, 133], [134, 134], [135, 135], [136, 136], [137, 137], [138, 138], [139, 140], [141, 141], [142, 142], [143, 144], [145, 146], [147, 149], [150, 150], [151, 151], [152, 152], [153, 153], [154, 154], [155, 155], [156, 156], [157, 157], [158, 162], [163, 163], [164, 164], [165, 165], [166, 174], [175, 176], [177, 178], [179, 179], [180, 180], [181, 193], [194, 196], [197, 204], [205, 209], [210, 210], [211, 212], [213, 213], [214, 214], [215, 215], [216, 216]]\n"
     ]
    },
    {
     "name": "stderr",
     "output_type": "stream",
     "text": [
      "/tmp/ipykernel_17785/1269700397.py:18: SettingWithCopyWarning: \n",
      "A value is trying to be set on a copy of a slice from a DataFrame\n",
      "\n",
      "See the caveats in the documentation: https://pandas.pydata.org/pandas-docs/stable/user_guide/indexing.html#returning-a-view-versus-a-copy\n",
      "  df[n][index]=neighbours[n]\n",
      "<string>:11: SettingWithCopyWarning: \n",
      "A value is trying to be set on a copy of a slice from a DataFrame\n",
      "\n",
      "See the caveats in the documentation: https://pandas.pydata.org/pandas-docs/stable/user_guide/indexing.html#returning-a-view-versus-a-copy\n",
      "/tmp/ipykernel_17785/3296310189.py:5: SettingWithCopyWarning: \n",
      "A value is trying to be set on a copy of a slice from a DataFrame\n",
      "\n",
      "See the caveats in the documentation: https://pandas.pydata.org/pandas-docs/stable/user_guide/indexing.html#returning-a-view-versus-a-copy\n",
      "  dateDF[\"text\"][index] = text.lower()\n",
      "/tmp/ipykernel_17785/614737289.py:11: SettingWithCopyWarning: \n",
      "A value is trying to be set on a copy of a slice from a DataFrame\n",
      "\n",
      "See the caveats in the documentation: https://pandas.pydata.org/pandas-docs/stable/user_guide/indexing.html#returning-a-view-versus-a-copy\n",
      "  dateDF[\"isPast\"][index]=1\n",
      "/tmp/ipykernel_17785/1269700397.py:18: SettingWithCopyWarning: \n",
      "A value is trying to be set on a copy of a slice from a DataFrame\n",
      "\n",
      "See the caveats in the documentation: https://pandas.pydata.org/pandas-docs/stable/user_guide/indexing.html#returning-a-view-versus-a-copy\n",
      "  df[n][index]=neighbours[n]\n"
     ]
    },
    {
     "name": "stdout",
     "output_type": "stream",
     "text": [
      "[[0, 2], [3, 3], [4, 6], [7, 12], [13, 17], [18, 18], [19, 21], [22, 23], [24, 24], [25, 25], [26, 26], [27, 27], [28, 28], [29, 30], [31, 33], [34, 35], [36, 37], [38, 40], [41, 43], [44, 45], [46, 46], [47, 48], [49, 49], [50, 50], [51, 51], [52, 52], [53, 56], [57, 58], [59, 59], [60, 60], [61, 66], [67, 69], [70, 71], [72, 72], [73, 75], [76, 77], [78, 79], [80, 83], [84, 84], [85, 92], [93, 94], [95, 96], [97, 97], [98, 100], [101, 107], [108, 117], [118, 133], [134, 149], [150, 164], [165, 174], [175, 175], [176, 176], [177, 177], [178, 178], [179, 179], [180, 180], [181, 181]]\n",
      "[datetime.datetime(2023, 3, 14, 0, 0)]\n",
      "[datetime.datetime(2023, 3, 14, 0, 0)]\n",
      "[datetime.datetime(2023, 3, 14, 0, 0)]\n",
      "[datetime.datetime(2023, 3, 14, 0, 0)]\n"
     ]
    },
    {
     "name": "stderr",
     "output_type": "stream",
     "text": [
      "<string>:11: SettingWithCopyWarning: \n",
      "A value is trying to be set on a copy of a slice from a DataFrame\n",
      "\n",
      "See the caveats in the documentation: https://pandas.pydata.org/pandas-docs/stable/user_guide/indexing.html#returning-a-view-versus-a-copy\n",
      "/tmp/ipykernel_17785/3296310189.py:5: SettingWithCopyWarning: \n",
      "A value is trying to be set on a copy of a slice from a DataFrame\n",
      "\n",
      "See the caveats in the documentation: https://pandas.pydata.org/pandas-docs/stable/user_guide/indexing.html#returning-a-view-versus-a-copy\n",
      "  dateDF[\"text\"][index] = text.lower()\n"
     ]
    },
    {
     "name": "stdout",
     "output_type": "stream",
     "text": [
      "[[0, 0], [1, 1], [2, 8], [9, 9], [10, 10], [11, 11], [12, 13], [14, 16], [17, 21], [22, 25], [26, 28], [29, 30], [31, 33], [34, 40], [41, 43], [44, 46], [47, 50], [51, 52], [53, 58], [59, 62], [63, 63], [64, 64], [65, 67], [68, 68], [69, 69], [70, 70], [71, 71], [72, 74], [75, 75], [76, 79], [80, 82], [83, 85], [86, 90], [91, 92], [93, 93], [94, 96], [97, 98], [99, 107], [108, 108], [109, 112], [113, 113], [114, 116], [117, 119], [120, 120], [121, 122], [123, 132], [133, 133], [134, 135], [136, 137], [138, 139], [140, 140], [141, 144], [145, 147], [148, 148], [149, 149], [150, 150], [151, 151], [152, 152], [153, 153], [154, 154], [155, 156], [157, 159], [160, 161], [162, 166], [167, 167], [168, 168], [169, 169], [170, 170], [171, 171], [172, 172], [173, 173], [174, 174], [175, 175], [176, 178], [179, 179], [180, 189], [190, 190], [191, 207], [208, 209], [210, 218], [219, 224], [225, 226], [227, 228], [229, 230], [231, 231], [232, 244], [245, 258], [259, 266], [267, 267], [268, 268], [269, 275], [276, 277], [278, 282], [283, 283], [284, 285], [286, 287], [288, 288], [289, 289], [290, 291], [292, 312], [313, 313], [314, 314], [315, 316]]\n",
      "[datetime.datetime(2022, 12, 24, 0, 0)]\n",
      "[datetime.datetime(2022, 12, 27, 0, 0)]\n",
      "[datetime.datetime(2022, 12, 24, 0, 0)]\n",
      "[datetime.datetime(2022, 12, 27, 0, 0)]\n"
     ]
    },
    {
     "name": "stderr",
     "output_type": "stream",
     "text": [
      "/tmp/ipykernel_17785/614737289.py:11: SettingWithCopyWarning: \n",
      "A value is trying to be set on a copy of a slice from a DataFrame\n",
      "\n",
      "See the caveats in the documentation: https://pandas.pydata.org/pandas-docs/stable/user_guide/indexing.html#returning-a-view-versus-a-copy\n",
      "  dateDF[\"isPast\"][index]=1\n",
      "/tmp/ipykernel_17785/1269700397.py:18: SettingWithCopyWarning: \n",
      "A value is trying to be set on a copy of a slice from a DataFrame\n",
      "\n",
      "See the caveats in the documentation: https://pandas.pydata.org/pandas-docs/stable/user_guide/indexing.html#returning-a-view-versus-a-copy\n",
      "  df[n][index]=neighbours[n]\n"
     ]
    }
   ],
   "source": [
    "#dfList = batchCreate(imagesFolderPath)"
   ]
  },
  {
   "cell_type": "code",
   "execution_count": 60,
   "id": "950850dc",
   "metadata": {},
   "outputs": [
    {
     "data": {
      "text/plain": [
       "53"
      ]
     },
     "execution_count": 60,
     "metadata": {},
     "output_type": "execute_result"
    }
   ],
   "source": [
    "#len(dfList)"
   ]
  },
  {
   "cell_type": "code",
   "execution_count": 61,
   "id": "53044fd5",
   "metadata": {},
   "outputs": [],
   "source": [
    "#resultDF = pd.concat(dfList)"
   ]
  },
  {
   "cell_type": "code",
   "execution_count": 62,
   "id": "c4ace3d3",
   "metadata": {},
   "outputs": [
    {
     "data": {
      "text/plain": [
       "(155, 32)"
      ]
     },
     "execution_count": 62,
     "metadata": {},
     "output_type": "execute_result"
    }
   ],
   "source": [
    "#resultDF.shape"
   ]
  },
  {
   "cell_type": "code",
   "execution_count": 63,
   "id": "a0530f9f",
   "metadata": {},
   "outputs": [
    {
     "data": {
      "text/plain": [
       "44"
      ]
     },
     "execution_count": 63,
     "metadata": {},
     "output_type": "execute_result"
    }
   ],
   "source": [
    "#len(resultDF[\"imageName\"].unique())"
   ]
  },
  {
   "cell_type": "code",
   "execution_count": 64,
   "id": "95f4cf82",
   "metadata": {},
   "outputs": [
    {
     "data": {
      "text/html": [
       "<div>\n",
       "<style scoped>\n",
       "    .dataframe tbody tr th:only-of-type {\n",
       "        vertical-align: middle;\n",
       "    }\n",
       "\n",
       "    .dataframe tbody tr th {\n",
       "        vertical-align: top;\n",
       "    }\n",
       "\n",
       "    .dataframe thead th {\n",
       "        text-align: right;\n",
       "    }\n",
       "</style>\n",
       "<table border=\"1\" class=\"dataframe\">\n",
       "  <thead>\n",
       "    <tr style=\"text-align: right;\">\n",
       "      <th></th>\n",
       "      <th>block_num</th>\n",
       "      <th>line_num</th>\n",
       "      <th>left</th>\n",
       "      <th>top</th>\n",
       "      <th>width</th>\n",
       "      <th>height</th>\n",
       "      <th>conf</th>\n",
       "      <th>text</th>\n",
       "      <th>nextDist</th>\n",
       "      <th>x</th>\n",
       "      <th>...</th>\n",
       "      <th>delivery</th>\n",
       "      <th>order</th>\n",
       "      <th>due</th>\n",
       "      <th>payment</th>\n",
       "      <th>tax</th>\n",
       "      <th>bill</th>\n",
       "      <th>receipt</th>\n",
       "      <th>issue</th>\n",
       "      <th>imageName</th>\n",
       "      <th>output</th>\n",
       "    </tr>\n",
       "  </thead>\n",
       "  <tbody>\n",
       "    <tr>\n",
       "      <th>117</th>\n",
       "      <td>7</td>\n",
       "      <td>2</td>\n",
       "      <td>300</td>\n",
       "      <td>1105</td>\n",
       "      <td>155</td>\n",
       "      <td>23</td>\n",
       "      <td>96.191299</td>\n",
       "      <td>02.04.2023</td>\n",
       "      <td>440</td>\n",
       "      <td>455</td>\n",
       "      <td>...</td>\n",
       "      <td>0.0</td>\n",
       "      <td>0.151753</td>\n",
       "      <td>0.000000</td>\n",
       "      <td>0.000000</td>\n",
       "      <td>0.528837</td>\n",
       "      <td>0.0</td>\n",
       "      <td>0.0</td>\n",
       "      <td>0.0</td>\n",
       "      <td>20.jpeg</td>\n",
       "      <td>0</td>\n",
       "    </tr>\n",
       "    <tr>\n",
       "      <th>123</th>\n",
       "      <td>7</td>\n",
       "      <td>3</td>\n",
       "      <td>1379</td>\n",
       "      <td>1146</td>\n",
       "      <td>155</td>\n",
       "      <td>23</td>\n",
       "      <td>95.732468</td>\n",
       "      <td>02.04.2023</td>\n",
       "      <td>-1279</td>\n",
       "      <td>1534</td>\n",
       "      <td>...</td>\n",
       "      <td>0.0</td>\n",
       "      <td>0.804302</td>\n",
       "      <td>0.000000</td>\n",
       "      <td>0.000000</td>\n",
       "      <td>0.131721</td>\n",
       "      <td>0.0</td>\n",
       "      <td>0.0</td>\n",
       "      <td>0.0</td>\n",
       "      <td>20.jpeg</td>\n",
       "      <td>0</td>\n",
       "    </tr>\n",
       "    <tr>\n",
       "      <th>180</th>\n",
       "      <td>20</td>\n",
       "      <td>2</td>\n",
       "      <td>873</td>\n",
       "      <td>1833</td>\n",
       "      <td>106</td>\n",
       "      <td>18</td>\n",
       "      <td>69.672714</td>\n",
       "      <td>02/04/2023,</td>\n",
       "      <td>316</td>\n",
       "      <td>979</td>\n",
       "      <td>...</td>\n",
       "      <td>0.0</td>\n",
       "      <td>0.000000</td>\n",
       "      <td>0.000000</td>\n",
       "      <td>0.162403</td>\n",
       "      <td>0.421051</td>\n",
       "      <td>0.0</td>\n",
       "      <td>0.0</td>\n",
       "      <td>0.0</td>\n",
       "      <td>20.jpeg</td>\n",
       "      <td>0</td>\n",
       "    </tr>\n",
       "    <tr>\n",
       "      <th>204</th>\n",
       "      <td>26</td>\n",
       "      <td>1</td>\n",
       "      <td>873</td>\n",
       "      <td>1904</td>\n",
       "      <td>106</td>\n",
       "      <td>18</td>\n",
       "      <td>96.788101</td>\n",
       "      <td>02/04/2023,</td>\n",
       "      <td>-236</td>\n",
       "      <td>979</td>\n",
       "      <td>...</td>\n",
       "      <td>0.0</td>\n",
       "      <td>0.000000</td>\n",
       "      <td>0.000000</td>\n",
       "      <td>0.132623</td>\n",
       "      <td>0.000000</td>\n",
       "      <td>0.0</td>\n",
       "      <td>0.0</td>\n",
       "      <td>0.0</td>\n",
       "      <td>20.jpeg</td>\n",
       "      <td>0</td>\n",
       "    </tr>\n",
       "    <tr>\n",
       "      <th>313</th>\n",
       "      <td>7</td>\n",
       "      <td>0</td>\n",
       "      <td>1168</td>\n",
       "      <td>1145</td>\n",
       "      <td>332</td>\n",
       "      <td>24</td>\n",
       "      <td>94.731491</td>\n",
       "      <td>Invoice Date : 02.04.2023</td>\n",
       "      <td>-1279</td>\n",
       "      <td>1500</td>\n",
       "      <td>...</td>\n",
       "      <td>0.0</td>\n",
       "      <td>0.783751</td>\n",
       "      <td>0.000000</td>\n",
       "      <td>0.000000</td>\n",
       "      <td>0.112152</td>\n",
       "      <td>0.0</td>\n",
       "      <td>0.0</td>\n",
       "      <td>0.0</td>\n",
       "      <td>20.jpeg</td>\n",
       "      <td>0</td>\n",
       "    </tr>\n",
       "    <tr>\n",
       "      <th>...</th>\n",
       "      <td>...</td>\n",
       "      <td>...</td>\n",
       "      <td>...</td>\n",
       "      <td>...</td>\n",
       "      <td>...</td>\n",
       "      <td>...</td>\n",
       "      <td>...</td>\n",
       "      <td>...</td>\n",
       "      <td>...</td>\n",
       "      <td>...</td>\n",
       "      <td>...</td>\n",
       "      <td>...</td>\n",
       "      <td>...</td>\n",
       "      <td>...</td>\n",
       "      <td>...</td>\n",
       "      <td>...</td>\n",
       "      <td>...</td>\n",
       "      <td>...</td>\n",
       "      <td>...</td>\n",
       "      <td>...</td>\n",
       "      <td>...</td>\n",
       "    </tr>\n",
       "    <tr>\n",
       "      <th>194</th>\n",
       "      <td>8</td>\n",
       "      <td>0</td>\n",
       "      <td>1343</td>\n",
       "      <td>520</td>\n",
       "      <td>150</td>\n",
       "      <td>23</td>\n",
       "      <td>67.342278</td>\n",
       "      <td>14-Mar-23</td>\n",
       "      <td>-1462</td>\n",
       "      <td>1493</td>\n",
       "      <td>...</td>\n",
       "      <td>0.0</td>\n",
       "      <td>0.000000</td>\n",
       "      <td>0.000000</td>\n",
       "      <td>0.000000</td>\n",
       "      <td>0.000000</td>\n",
       "      <td>0.0</td>\n",
       "      <td>0.0</td>\n",
       "      <td>0.0</td>\n",
       "      <td>26.jpeg</td>\n",
       "      <td>0</td>\n",
       "    </tr>\n",
       "    <tr>\n",
       "      <th>28</th>\n",
       "      <td>5</td>\n",
       "      <td>2</td>\n",
       "      <td>721</td>\n",
       "      <td>397</td>\n",
       "      <td>126</td>\n",
       "      <td>18</td>\n",
       "      <td>72.247528</td>\n",
       "      <td>:24-DEC-22</td>\n",
       "      <td>-759</td>\n",
       "      <td>847</td>\n",
       "      <td>...</td>\n",
       "      <td>0.0</td>\n",
       "      <td>0.000000</td>\n",
       "      <td>0.000000</td>\n",
       "      <td>0.000000</td>\n",
       "      <td>0.000000</td>\n",
       "      <td>0.0</td>\n",
       "      <td>0.0</td>\n",
       "      <td>0.0</td>\n",
       "      <td>46.jpeg</td>\n",
       "      <td>0</td>\n",
       "    </tr>\n",
       "    <tr>\n",
       "      <th>130</th>\n",
       "      <td>14</td>\n",
       "      <td>2</td>\n",
       "      <td>1337</td>\n",
       "      <td>1086</td>\n",
       "      <td>115</td>\n",
       "      <td>18</td>\n",
       "      <td>88.408142</td>\n",
       "      <td>27-DEC-22</td>\n",
       "      <td>-1363</td>\n",
       "      <td>1452</td>\n",
       "      <td>...</td>\n",
       "      <td>0.0</td>\n",
       "      <td>0.283171</td>\n",
       "      <td>0.021537</td>\n",
       "      <td>0.042880</td>\n",
       "      <td>0.000000</td>\n",
       "      <td>0.0</td>\n",
       "      <td>0.0</td>\n",
       "      <td>0.0</td>\n",
       "      <td>46.jpeg</td>\n",
       "      <td>0</td>\n",
       "    </tr>\n",
       "    <tr>\n",
       "      <th>283</th>\n",
       "      <td>5</td>\n",
       "      <td>0</td>\n",
       "      <td>579</td>\n",
       "      <td>396</td>\n",
       "      <td>252</td>\n",
       "      <td>19</td>\n",
       "      <td>87.402677</td>\n",
       "      <td>Invoice Date :24-DEC-22</td>\n",
       "      <td>-759</td>\n",
       "      <td>831</td>\n",
       "      <td>...</td>\n",
       "      <td>0.0</td>\n",
       "      <td>0.000000</td>\n",
       "      <td>0.000000</td>\n",
       "      <td>0.000000</td>\n",
       "      <td>0.000000</td>\n",
       "      <td>0.0</td>\n",
       "      <td>0.0</td>\n",
       "      <td>0.0</td>\n",
       "      <td>46.jpeg</td>\n",
       "      <td>0</td>\n",
       "    </tr>\n",
       "    <tr>\n",
       "      <th>326</th>\n",
       "      <td>14</td>\n",
       "      <td>0</td>\n",
       "      <td>1337</td>\n",
       "      <td>1086</td>\n",
       "      <td>115</td>\n",
       "      <td>18</td>\n",
       "      <td>88.408142</td>\n",
       "      <td>27-DEC-22</td>\n",
       "      <td>-1363</td>\n",
       "      <td>1452</td>\n",
       "      <td>...</td>\n",
       "      <td>0.0</td>\n",
       "      <td>0.283171</td>\n",
       "      <td>0.021537</td>\n",
       "      <td>0.042880</td>\n",
       "      <td>0.000000</td>\n",
       "      <td>0.0</td>\n",
       "      <td>0.0</td>\n",
       "      <td>0.0</td>\n",
       "      <td>46.jpeg</td>\n",
       "      <td>0</td>\n",
       "    </tr>\n",
       "  </tbody>\n",
       "</table>\n",
       "<p>155 rows × 32 columns</p>\n",
       "</div>"
      ],
      "text/plain": [
       "     block_num  line_num  left   top  width  height       conf  \\\n",
       "117          7         2   300  1105    155      23  96.191299   \n",
       "123          7         3  1379  1146    155      23  95.732468   \n",
       "180         20         2   873  1833    106      18  69.672714   \n",
       "204         26         1   873  1904    106      18  96.788101   \n",
       "313          7         0  1168  1145    332      24  94.731491   \n",
       "..         ...       ...   ...   ...    ...     ...        ...   \n",
       "194          8         0  1343   520    150      23  67.342278   \n",
       "28           5         2   721   397    126      18  72.247528   \n",
       "130         14         2  1337  1086    115      18  88.408142   \n",
       "283          5         0   579   396    252      19  87.402677   \n",
       "326         14         0  1337  1086    115      18  88.408142   \n",
       "\n",
       "                           text  nextDist     x  ...  delivery     order  \\\n",
       "117                  02.04.2023       440   455  ...       0.0  0.151753   \n",
       "123                  02.04.2023     -1279  1534  ...       0.0  0.804302   \n",
       "180                 02/04/2023,       316   979  ...       0.0  0.000000   \n",
       "204                 02/04/2023,      -236   979  ...       0.0  0.000000   \n",
       "313  Invoice Date : 02.04.2023      -1279  1500  ...       0.0  0.783751   \n",
       "..                          ...       ...   ...  ...       ...       ...   \n",
       "194                  14-Mar-23      -1462  1493  ...       0.0  0.000000   \n",
       "28                   :24-DEC-22      -759   847  ...       0.0  0.000000   \n",
       "130                   27-DEC-22     -1363  1452  ...       0.0  0.283171   \n",
       "283    Invoice Date :24-DEC-22       -759   831  ...       0.0  0.000000   \n",
       "326                  27-DEC-22      -1363  1452  ...       0.0  0.283171   \n",
       "\n",
       "          due   payment       tax  bill  receipt  issue  imageName  output  \n",
       "117  0.000000  0.000000  0.528837   0.0      0.0    0.0    20.jpeg       0  \n",
       "123  0.000000  0.000000  0.131721   0.0      0.0    0.0    20.jpeg       0  \n",
       "180  0.000000  0.162403  0.421051   0.0      0.0    0.0    20.jpeg       0  \n",
       "204  0.000000  0.132623  0.000000   0.0      0.0    0.0    20.jpeg       0  \n",
       "313  0.000000  0.000000  0.112152   0.0      0.0    0.0    20.jpeg       0  \n",
       "..        ...       ...       ...   ...      ...    ...        ...     ...  \n",
       "194  0.000000  0.000000  0.000000   0.0      0.0    0.0    26.jpeg       0  \n",
       "28   0.000000  0.000000  0.000000   0.0      0.0    0.0    46.jpeg       0  \n",
       "130  0.021537  0.042880  0.000000   0.0      0.0    0.0    46.jpeg       0  \n",
       "283  0.000000  0.000000  0.000000   0.0      0.0    0.0    46.jpeg       0  \n",
       "326  0.021537  0.042880  0.000000   0.0      0.0    0.0    46.jpeg       0  \n",
       "\n",
       "[155 rows x 32 columns]"
      ]
     },
     "execution_count": 64,
     "metadata": {},
     "output_type": "execute_result"
    }
   ],
   "source": [
    "#resultDF"
   ]
  },
  {
   "cell_type": "code",
   "execution_count": 65,
   "id": "03e37086",
   "metadata": {},
   "outputs": [],
   "source": [
    "#resultDF.reset_index(inplace=True)"
   ]
  },
  {
   "cell_type": "code",
   "execution_count": 66,
   "id": "5e4f2e34",
   "metadata": {},
   "outputs": [],
   "source": [
    "#resultDF.drop(columns=[\"index\", \"nextDist\", \"block_num\", \"line_num\"], inplace=True)"
   ]
  },
  {
   "cell_type": "code",
   "execution_count": 67,
   "id": "c15d3d4a",
   "metadata": {},
   "outputs": [
    {
     "data": {
      "text/html": [
       "<div>\n",
       "<style scoped>\n",
       "    .dataframe tbody tr th:only-of-type {\n",
       "        vertical-align: middle;\n",
       "    }\n",
       "\n",
       "    .dataframe tbody tr th {\n",
       "        vertical-align: top;\n",
       "    }\n",
       "\n",
       "    .dataframe thead th {\n",
       "        text-align: right;\n",
       "    }\n",
       "</style>\n",
       "<table border=\"1\" class=\"dataframe\">\n",
       "  <thead>\n",
       "    <tr style=\"text-align: right;\">\n",
       "      <th></th>\n",
       "      <th>left</th>\n",
       "      <th>top</th>\n",
       "      <th>width</th>\n",
       "      <th>height</th>\n",
       "      <th>conf</th>\n",
       "      <th>text</th>\n",
       "      <th>x</th>\n",
       "      <th>y</th>\n",
       "      <th>PageHeight</th>\n",
       "      <th>PageWidth</th>\n",
       "      <th>...</th>\n",
       "      <th>delivery</th>\n",
       "      <th>order</th>\n",
       "      <th>due</th>\n",
       "      <th>payment</th>\n",
       "      <th>tax</th>\n",
       "      <th>bill</th>\n",
       "      <th>receipt</th>\n",
       "      <th>issue</th>\n",
       "      <th>imageName</th>\n",
       "      <th>output</th>\n",
       "    </tr>\n",
       "  </thead>\n",
       "  <tbody>\n",
       "    <tr>\n",
       "      <th>0</th>\n",
       "      <td>300</td>\n",
       "      <td>1105</td>\n",
       "      <td>155</td>\n",
       "      <td>23</td>\n",
       "      <td>96.191299</td>\n",
       "      <td>02.04.2023</td>\n",
       "      <td>455</td>\n",
       "      <td>1128</td>\n",
       "      <td>2339</td>\n",
       "      <td>1654</td>\n",
       "      <td>...</td>\n",
       "      <td>0.0</td>\n",
       "      <td>0.151753</td>\n",
       "      <td>0.0</td>\n",
       "      <td>0.000000</td>\n",
       "      <td>0.528837</td>\n",
       "      <td>0.0</td>\n",
       "      <td>0.0</td>\n",
       "      <td>0.0</td>\n",
       "      <td>20.jpeg</td>\n",
       "      <td>0</td>\n",
       "    </tr>\n",
       "    <tr>\n",
       "      <th>1</th>\n",
       "      <td>1379</td>\n",
       "      <td>1146</td>\n",
       "      <td>155</td>\n",
       "      <td>23</td>\n",
       "      <td>95.732468</td>\n",
       "      <td>02.04.2023</td>\n",
       "      <td>1534</td>\n",
       "      <td>1169</td>\n",
       "      <td>2339</td>\n",
       "      <td>1654</td>\n",
       "      <td>...</td>\n",
       "      <td>0.0</td>\n",
       "      <td>0.804302</td>\n",
       "      <td>0.0</td>\n",
       "      <td>0.000000</td>\n",
       "      <td>0.131721</td>\n",
       "      <td>0.0</td>\n",
       "      <td>0.0</td>\n",
       "      <td>0.0</td>\n",
       "      <td>20.jpeg</td>\n",
       "      <td>0</td>\n",
       "    </tr>\n",
       "    <tr>\n",
       "      <th>2</th>\n",
       "      <td>873</td>\n",
       "      <td>1833</td>\n",
       "      <td>106</td>\n",
       "      <td>18</td>\n",
       "      <td>69.672714</td>\n",
       "      <td>02/04/2023,</td>\n",
       "      <td>979</td>\n",
       "      <td>1851</td>\n",
       "      <td>2339</td>\n",
       "      <td>1654</td>\n",
       "      <td>...</td>\n",
       "      <td>0.0</td>\n",
       "      <td>0.000000</td>\n",
       "      <td>0.0</td>\n",
       "      <td>0.162403</td>\n",
       "      <td>0.421051</td>\n",
       "      <td>0.0</td>\n",
       "      <td>0.0</td>\n",
       "      <td>0.0</td>\n",
       "      <td>20.jpeg</td>\n",
       "      <td>0</td>\n",
       "    </tr>\n",
       "    <tr>\n",
       "      <th>3</th>\n",
       "      <td>873</td>\n",
       "      <td>1904</td>\n",
       "      <td>106</td>\n",
       "      <td>18</td>\n",
       "      <td>96.788101</td>\n",
       "      <td>02/04/2023,</td>\n",
       "      <td>979</td>\n",
       "      <td>1922</td>\n",
       "      <td>2339</td>\n",
       "      <td>1654</td>\n",
       "      <td>...</td>\n",
       "      <td>0.0</td>\n",
       "      <td>0.000000</td>\n",
       "      <td>0.0</td>\n",
       "      <td>0.132623</td>\n",
       "      <td>0.000000</td>\n",
       "      <td>0.0</td>\n",
       "      <td>0.0</td>\n",
       "      <td>0.0</td>\n",
       "      <td>20.jpeg</td>\n",
       "      <td>0</td>\n",
       "    </tr>\n",
       "    <tr>\n",
       "      <th>4</th>\n",
       "      <td>1168</td>\n",
       "      <td>1145</td>\n",
       "      <td>332</td>\n",
       "      <td>24</td>\n",
       "      <td>94.731491</td>\n",
       "      <td>Invoice Date : 02.04.2023</td>\n",
       "      <td>1500</td>\n",
       "      <td>1169</td>\n",
       "      <td>2339</td>\n",
       "      <td>1654</td>\n",
       "      <td>...</td>\n",
       "      <td>0.0</td>\n",
       "      <td>0.783751</td>\n",
       "      <td>0.0</td>\n",
       "      <td>0.000000</td>\n",
       "      <td>0.112152</td>\n",
       "      <td>0.0</td>\n",
       "      <td>0.0</td>\n",
       "      <td>0.0</td>\n",
       "      <td>20.jpeg</td>\n",
       "      <td>0</td>\n",
       "    </tr>\n",
       "  </tbody>\n",
       "</table>\n",
       "<p>5 rows × 29 columns</p>\n",
       "</div>"
      ],
      "text/plain": [
       "   left   top  width  height       conf                        text     x  \\\n",
       "0   300  1105    155      23  96.191299                  02.04.2023   455   \n",
       "1  1379  1146    155      23  95.732468                  02.04.2023  1534   \n",
       "2   873  1833    106      18  69.672714                 02/04/2023,   979   \n",
       "3   873  1904    106      18  96.788101                 02/04/2023,   979   \n",
       "4  1168  1145    332      24  94.731491  Invoice Date : 02.04.2023   1500   \n",
       "\n",
       "      y  PageHeight  PageWidth  ...  delivery     order  due   payment  \\\n",
       "0  1128        2339       1654  ...       0.0  0.151753  0.0  0.000000   \n",
       "1  1169        2339       1654  ...       0.0  0.804302  0.0  0.000000   \n",
       "2  1851        2339       1654  ...       0.0  0.000000  0.0  0.162403   \n",
       "3  1922        2339       1654  ...       0.0  0.000000  0.0  0.132623   \n",
       "4  1169        2339       1654  ...       0.0  0.783751  0.0  0.000000   \n",
       "\n",
       "        tax  bill  receipt  issue  imageName  output  \n",
       "0  0.528837   0.0      0.0    0.0    20.jpeg       0  \n",
       "1  0.131721   0.0      0.0    0.0    20.jpeg       0  \n",
       "2  0.421051   0.0      0.0    0.0    20.jpeg       0  \n",
       "3  0.000000   0.0      0.0    0.0    20.jpeg       0  \n",
       "4  0.112152   0.0      0.0    0.0    20.jpeg       0  \n",
       "\n",
       "[5 rows x 29 columns]"
      ]
     },
     "execution_count": 67,
     "metadata": {},
     "output_type": "execute_result"
    }
   ],
   "source": [
    "#resultDF.head()"
   ]
  },
  {
   "cell_type": "code",
   "execution_count": 68,
   "id": "9639a47b",
   "metadata": {},
   "outputs": [
    {
     "data": {
      "text/plain": [
       "'/home/aman/Documents/Tally/DocumentAI/Code/Tesseract-Modelv4/Dataset/SampleImages'"
      ]
     },
     "execution_count": 68,
     "metadata": {},
     "output_type": "execute_result"
    }
   ],
   "source": [
    "#pwd"
   ]
  },
  {
   "cell_type": "code",
   "execution_count": 71,
   "id": "1bd92c70",
   "metadata": {},
   "outputs": [],
   "source": [
    "#os.chdir('/home/aman/Documents/Tally/Git-Document-AI/Document-AI/Tesseract-Modelv5/Dataset/')"
   ]
  },
  {
   "cell_type": "code",
   "execution_count": 72,
   "id": "ce2b8453",
   "metadata": {},
   "outputs": [
    {
     "data": {
      "text/plain": [
       "'/home/aman/Documents/Tally/Git-Document-AI/Document-AI/Tesseract-Modelv5/Dataset'"
      ]
     },
     "execution_count": 72,
     "metadata": {},
     "output_type": "execute_result"
    }
   ],
   "source": [
    "#pwd"
   ]
  },
  {
   "cell_type": "code",
   "execution_count": 73,
   "id": "ba66b29d",
   "metadata": {},
   "outputs": [],
   "source": [
    "#resultDF.to_csv(\"tesseract.csv\")"
   ]
  },
  {
   "cell_type": "code",
   "execution_count": null,
   "id": "e6a4816f",
   "metadata": {},
   "outputs": [],
   "source": []
  }
 ],
 "metadata": {
  "kernelspec": {
   "display_name": "Python 3 (ipykernel)",
   "language": "python",
   "name": "python3"
  },
  "language_info": {
   "codemirror_mode": {
    "name": "ipython",
    "version": 3
   },
   "file_extension": ".py",
   "mimetype": "text/x-python",
   "name": "python",
   "nbconvert_exporter": "python",
   "pygments_lexer": "ipython3",
   "version": "3.10.9"
  }
 },
 "nbformat": 4,
 "nbformat_minor": 5
}
