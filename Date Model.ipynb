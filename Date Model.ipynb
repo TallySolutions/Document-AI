{
 "cells": [
  {
   "cell_type": "code",
   "execution_count": 1,
   "id": "a6adebd1",
   "metadata": {},
   "outputs": [
    {
     "name": "stderr",
     "output_type": "stream",
     "text": [
      "2023-06-08 15:15:57.988614: I tensorflow/core/platform/cpu_feature_guard.cc:182] This TensorFlow binary is optimized to use available CPU instructions in performance-critical operations.\n",
      "To enable the following instructions: AVX2 FMA, in other operations, rebuild TensorFlow with the appropriate compiler flags.\n"
     ]
    },
    {
     "name": "stdout",
     "output_type": "stream",
     "text": [
      "importing Jupyter notebook from textPreProcessor.ipynb\n",
      "Original Date ----> After Processing \n",
      "\n",
      "5/12/22      ---->      5-12-2022\n",
      "2/2/2023      ---->      2-2-2023\n",
      "5:12-2023      ---->      5-12-2023\n",
      "5,May,2023      ---->      5-05-2023\n",
      "5 May,2023      ---->      5-05-2023\n",
      "October 24,2022      ---->      10-24-2022\n",
      "importing Jupyter notebook from imagePreProcessor.ipynb\n"
     ]
    }
   ],
   "source": [
    "import cv2\n",
    "import os\n",
    "import numpy as np\n",
    "import pandas as pd\n",
    "import spacy\n",
    "from spacy import displacy\n",
    "import pytesseract\n",
    "from pytesseract import Output\n",
    "import matplotlib.pyplot as plt\n",
    "pytesseract.pytesseract.tesseract_cmd=\"/home/aman/anaconda3/envs/tallyInvoiceParser.env/bin/tesseract\"\n",
    "os.environ['TESSDATA_PREFIX'] = \"/home/aman/anaconda3/envs/tallyInvoiceParser.env/share/tessdata\"\n",
    "os.environ['MLIR_CRASH_REPRODUCER_DIRECTORY']='tensorflow/compiler/mlir/tensorflow/utils/dump_mlir_util.cc:269'\n",
    "import import_ipynb\n",
    "from textPreProcessor import *\n",
    "from imagePreProcessor import *\n",
    "from datetime import datetime\n",
    "import math\n",
    "from sklearn.model_selection import train_test_split\n",
    "import keras\n",
    "from keras import models\n",
    "from keras.models import Sequential\n",
    "from keras.layers import Dense, ReLU, activation, Dropout\n",
    "import tensorflow as tf"
   ]
  },
  {
   "cell_type": "code",
   "execution_count": 2,
   "id": "1cef03bc",
   "metadata": {},
   "outputs": [
    {
     "data": {
      "text/plain": [
       "'/home/aman/Documents/Tally/DocumentAI/Code/Tesseract-Model'"
      ]
     },
     "execution_count": 2,
     "metadata": {},
     "output_type": "execute_result"
    }
   ],
   "source": [
    "pwd"
   ]
  },
  {
   "cell_type": "code",
   "execution_count": 3,
   "id": "566353ab",
   "metadata": {},
   "outputs": [],
   "source": [
    "os.chdir('/home/aman/Documents/Tally/DocumentAI/Data/Dataset/')"
   ]
  },
  {
   "cell_type": "code",
   "execution_count": 4,
   "id": "c3a021ad",
   "metadata": {},
   "outputs": [],
   "source": [
    "df = pd.read_csv(\"tesseract.csv\")"
   ]
  },
  {
   "cell_type": "code",
   "execution_count": 5,
   "id": "a10a69fe",
   "metadata": {},
   "outputs": [
    {
     "data": {
      "text/html": [
       "<div>\n",
       "<style scoped>\n",
       "    .dataframe tbody tr th:only-of-type {\n",
       "        vertical-align: middle;\n",
       "    }\n",
       "\n",
       "    .dataframe tbody tr th {\n",
       "        vertical-align: top;\n",
       "    }\n",
       "\n",
       "    .dataframe thead th {\n",
       "        text-align: right;\n",
       "    }\n",
       "</style>\n",
       "<table border=\"1\" class=\"dataframe\">\n",
       "  <thead>\n",
       "    <tr style=\"text-align: right;\">\n",
       "      <th></th>\n",
       "      <th>Unnamed: 0</th>\n",
       "      <th>block_num</th>\n",
       "      <th>par_num</th>\n",
       "      <th>line_num</th>\n",
       "      <th>word_num</th>\n",
       "      <th>left</th>\n",
       "      <th>top</th>\n",
       "      <th>width</th>\n",
       "      <th>height</th>\n",
       "      <th>conf</th>\n",
       "      <th>...</th>\n",
       "      <th>delivery</th>\n",
       "      <th>order</th>\n",
       "      <th>due</th>\n",
       "      <th>payment</th>\n",
       "      <th>tax</th>\n",
       "      <th>bill</th>\n",
       "      <th>receipt</th>\n",
       "      <th>issue</th>\n",
       "      <th>imageName</th>\n",
       "      <th>output</th>\n",
       "    </tr>\n",
       "  </thead>\n",
       "  <tbody>\n",
       "    <tr>\n",
       "      <th>0</th>\n",
       "      <td>0</td>\n",
       "      <td>8</td>\n",
       "      <td>1</td>\n",
       "      <td>1</td>\n",
       "      <td>6</td>\n",
       "      <td>1343</td>\n",
       "      <td>520</td>\n",
       "      <td>150</td>\n",
       "      <td>23</td>\n",
       "      <td>67.342278</td>\n",
       "      <td>...</td>\n",
       "      <td>0</td>\n",
       "      <td>0</td>\n",
       "      <td>0</td>\n",
       "      <td>0</td>\n",
       "      <td>0</td>\n",
       "      <td>0</td>\n",
       "      <td>0</td>\n",
       "      <td>0</td>\n",
       "      <td>20.jpeg</td>\n",
       "      <td>1</td>\n",
       "    </tr>\n",
       "    <tr>\n",
       "      <th>1</th>\n",
       "      <td>1</td>\n",
       "      <td>15</td>\n",
       "      <td>1</td>\n",
       "      <td>2</td>\n",
       "      <td>3</td>\n",
       "      <td>1411</td>\n",
       "      <td>171</td>\n",
       "      <td>100</td>\n",
       "      <td>19</td>\n",
       "      <td>56.832672</td>\n",
       "      <td>...</td>\n",
       "      <td>0</td>\n",
       "      <td>0</td>\n",
       "      <td>0</td>\n",
       "      <td>0</td>\n",
       "      <td>1</td>\n",
       "      <td>0</td>\n",
       "      <td>0</td>\n",
       "      <td>0</td>\n",
       "      <td>23.jpeg</td>\n",
       "      <td>1</td>\n",
       "    </tr>\n",
       "    <tr>\n",
       "      <th>2</th>\n",
       "      <td>2</td>\n",
       "      <td>9</td>\n",
       "      <td>3</td>\n",
       "      <td>1</td>\n",
       "      <td>3</td>\n",
       "      <td>588</td>\n",
       "      <td>1037</td>\n",
       "      <td>84</td>\n",
       "      <td>19</td>\n",
       "      <td>94.234421</td>\n",
       "      <td>...</td>\n",
       "      <td>0</td>\n",
       "      <td>0</td>\n",
       "      <td>0</td>\n",
       "      <td>0</td>\n",
       "      <td>0</td>\n",
       "      <td>0</td>\n",
       "      <td>0</td>\n",
       "      <td>0</td>\n",
       "      <td>18.jpeg</td>\n",
       "      <td>0</td>\n",
       "    </tr>\n",
       "    <tr>\n",
       "      <th>3</th>\n",
       "      <td>3</td>\n",
       "      <td>9</td>\n",
       "      <td>3</td>\n",
       "      <td>1</td>\n",
       "      <td>4</td>\n",
       "      <td>745</td>\n",
       "      <td>1031</td>\n",
       "      <td>88</td>\n",
       "      <td>32</td>\n",
       "      <td>84.635925</td>\n",
       "      <td>...</td>\n",
       "      <td>0</td>\n",
       "      <td>0</td>\n",
       "      <td>0</td>\n",
       "      <td>0</td>\n",
       "      <td>0</td>\n",
       "      <td>0</td>\n",
       "      <td>0</td>\n",
       "      <td>0</td>\n",
       "      <td>18.jpeg</td>\n",
       "      <td>0</td>\n",
       "    </tr>\n",
       "    <tr>\n",
       "      <th>4</th>\n",
       "      <td>4</td>\n",
       "      <td>6</td>\n",
       "      <td>1</td>\n",
       "      <td>1</td>\n",
       "      <td>2</td>\n",
       "      <td>451</td>\n",
       "      <td>289</td>\n",
       "      <td>112</td>\n",
       "      <td>23</td>\n",
       "      <td>92.698341</td>\n",
       "      <td>...</td>\n",
       "      <td>0</td>\n",
       "      <td>0</td>\n",
       "      <td>0</td>\n",
       "      <td>0</td>\n",
       "      <td>0</td>\n",
       "      <td>0</td>\n",
       "      <td>0</td>\n",
       "      <td>0</td>\n",
       "      <td>22.jpeg</td>\n",
       "      <td>1</td>\n",
       "    </tr>\n",
       "  </tbody>\n",
       "</table>\n",
       "<p>5 rows × 26 columns</p>\n",
       "</div>"
      ],
      "text/plain": [
       "   Unnamed: 0  block_num  par_num  line_num  word_num  left   top  width  \\\n",
       "0           0          8        1         1         6  1343   520    150   \n",
       "1           1         15        1         2         3  1411   171    100   \n",
       "2           2          9        3         1         3   588  1037     84   \n",
       "3           3          9        3         1         4   745  1031     88   \n",
       "4           4          6        1         1         2   451   289    112   \n",
       "\n",
       "   height       conf  ... delivery  order  due  payment  tax  bill  receipt  \\\n",
       "0      23  67.342278  ...        0      0    0        0    0     0        0   \n",
       "1      19  56.832672  ...        0      0    0        0    1     0        0   \n",
       "2      19  94.234421  ...        0      0    0        0    0     0        0   \n",
       "3      32  84.635925  ...        0      0    0        0    0     0        0   \n",
       "4      23  92.698341  ...        0      0    0        0    0     0        0   \n",
       "\n",
       "   issue  imageName  output  \n",
       "0      0    20.jpeg       1  \n",
       "1      0    23.jpeg       1  \n",
       "2      0    18.jpeg       0  \n",
       "3      0    18.jpeg       0  \n",
       "4      0    22.jpeg       1  \n",
       "\n",
       "[5 rows x 26 columns]"
      ]
     },
     "execution_count": 5,
     "metadata": {},
     "output_type": "execute_result"
    }
   ],
   "source": [
    "df.head()"
   ]
  },
  {
   "cell_type": "code",
   "execution_count": 6,
   "id": "a4625dfb",
   "metadata": {},
   "outputs": [],
   "source": [
    "def preProcess(df):\n",
    "    colsToDrop = [\"Unnamed: 0\", \"left\", \"top\", \"width\", \"height\", \"imageName\", \"text\"]\n",
    "    df.drop(columns=colsToDrop, inplace=True)\n",
    "    df[\"conf\"]=df[\"conf\"]/100\n",
    "    df[\"x\"]=df[\"x\"]/1000\n",
    "    df[\"y\"]=df[\"y\"]/1000"
   ]
  },
  {
   "cell_type": "code",
   "execution_count": 7,
   "id": "d7481990",
   "metadata": {},
   "outputs": [],
   "source": [
    "preProcess(df)"
   ]
  },
  {
   "cell_type": "code",
   "execution_count": 8,
   "id": "d53650c9",
   "metadata": {},
   "outputs": [
    {
     "data": {
      "text/html": [
       "<div>\n",
       "<style scoped>\n",
       "    .dataframe tbody tr th:only-of-type {\n",
       "        vertical-align: middle;\n",
       "    }\n",
       "\n",
       "    .dataframe tbody tr th {\n",
       "        vertical-align: top;\n",
       "    }\n",
       "\n",
       "    .dataframe thead th {\n",
       "        text-align: right;\n",
       "    }\n",
       "</style>\n",
       "<table border=\"1\" class=\"dataframe\">\n",
       "  <thead>\n",
       "    <tr style=\"text-align: right;\">\n",
       "      <th></th>\n",
       "      <th>block_num</th>\n",
       "      <th>par_num</th>\n",
       "      <th>line_num</th>\n",
       "      <th>word_num</th>\n",
       "      <th>conf</th>\n",
       "      <th>x</th>\n",
       "      <th>y</th>\n",
       "      <th>date</th>\n",
       "      <th>dated</th>\n",
       "      <th>invoice</th>\n",
       "      <th>delivery</th>\n",
       "      <th>order</th>\n",
       "      <th>due</th>\n",
       "      <th>payment</th>\n",
       "      <th>tax</th>\n",
       "      <th>bill</th>\n",
       "      <th>receipt</th>\n",
       "      <th>issue</th>\n",
       "      <th>output</th>\n",
       "    </tr>\n",
       "  </thead>\n",
       "  <tbody>\n",
       "    <tr>\n",
       "      <th>0</th>\n",
       "      <td>8</td>\n",
       "      <td>1</td>\n",
       "      <td>1</td>\n",
       "      <td>6</td>\n",
       "      <td>0.673423</td>\n",
       "      <td>1.493</td>\n",
       "      <td>0.543</td>\n",
       "      <td>0</td>\n",
       "      <td>0</td>\n",
       "      <td>0</td>\n",
       "      <td>0</td>\n",
       "      <td>0</td>\n",
       "      <td>0</td>\n",
       "      <td>0</td>\n",
       "      <td>0</td>\n",
       "      <td>0</td>\n",
       "      <td>0</td>\n",
       "      <td>0</td>\n",
       "      <td>1</td>\n",
       "    </tr>\n",
       "    <tr>\n",
       "      <th>1</th>\n",
       "      <td>15</td>\n",
       "      <td>1</td>\n",
       "      <td>2</td>\n",
       "      <td>3</td>\n",
       "      <td>0.568327</td>\n",
       "      <td>1.511</td>\n",
       "      <td>0.190</td>\n",
       "      <td>0</td>\n",
       "      <td>0</td>\n",
       "      <td>0</td>\n",
       "      <td>0</td>\n",
       "      <td>0</td>\n",
       "      <td>0</td>\n",
       "      <td>0</td>\n",
       "      <td>1</td>\n",
       "      <td>0</td>\n",
       "      <td>0</td>\n",
       "      <td>0</td>\n",
       "      <td>1</td>\n",
       "    </tr>\n",
       "    <tr>\n",
       "      <th>2</th>\n",
       "      <td>9</td>\n",
       "      <td>3</td>\n",
       "      <td>1</td>\n",
       "      <td>3</td>\n",
       "      <td>0.942344</td>\n",
       "      <td>0.672</td>\n",
       "      <td>1.056</td>\n",
       "      <td>0</td>\n",
       "      <td>0</td>\n",
       "      <td>0</td>\n",
       "      <td>0</td>\n",
       "      <td>0</td>\n",
       "      <td>0</td>\n",
       "      <td>0</td>\n",
       "      <td>0</td>\n",
       "      <td>0</td>\n",
       "      <td>0</td>\n",
       "      <td>0</td>\n",
       "      <td>0</td>\n",
       "    </tr>\n",
       "    <tr>\n",
       "      <th>3</th>\n",
       "      <td>9</td>\n",
       "      <td>3</td>\n",
       "      <td>1</td>\n",
       "      <td>4</td>\n",
       "      <td>0.846359</td>\n",
       "      <td>0.833</td>\n",
       "      <td>1.063</td>\n",
       "      <td>0</td>\n",
       "      <td>0</td>\n",
       "      <td>0</td>\n",
       "      <td>0</td>\n",
       "      <td>0</td>\n",
       "      <td>0</td>\n",
       "      <td>0</td>\n",
       "      <td>0</td>\n",
       "      <td>0</td>\n",
       "      <td>0</td>\n",
       "      <td>0</td>\n",
       "      <td>0</td>\n",
       "    </tr>\n",
       "    <tr>\n",
       "      <th>4</th>\n",
       "      <td>6</td>\n",
       "      <td>1</td>\n",
       "      <td>1</td>\n",
       "      <td>2</td>\n",
       "      <td>0.926983</td>\n",
       "      <td>0.563</td>\n",
       "      <td>0.312</td>\n",
       "      <td>0</td>\n",
       "      <td>0</td>\n",
       "      <td>0</td>\n",
       "      <td>0</td>\n",
       "      <td>0</td>\n",
       "      <td>0</td>\n",
       "      <td>0</td>\n",
       "      <td>0</td>\n",
       "      <td>0</td>\n",
       "      <td>0</td>\n",
       "      <td>0</td>\n",
       "      <td>1</td>\n",
       "    </tr>\n",
       "  </tbody>\n",
       "</table>\n",
       "</div>"
      ],
      "text/plain": [
       "   block_num  par_num  line_num  word_num      conf      x      y  date  \\\n",
       "0          8        1         1         6  0.673423  1.493  0.543     0   \n",
       "1         15        1         2         3  0.568327  1.511  0.190     0   \n",
       "2          9        3         1         3  0.942344  0.672  1.056     0   \n",
       "3          9        3         1         4  0.846359  0.833  1.063     0   \n",
       "4          6        1         1         2  0.926983  0.563  0.312     0   \n",
       "\n",
       "   dated  invoice  delivery  order  due  payment  tax  bill  receipt  issue  \\\n",
       "0      0        0         0      0    0        0    0     0        0      0   \n",
       "1      0        0         0      0    0        0    1     0        0      0   \n",
       "2      0        0         0      0    0        0    0     0        0      0   \n",
       "3      0        0         0      0    0        0    0     0        0      0   \n",
       "4      0        0         0      0    0        0    0     0        0      0   \n",
       "\n",
       "   output  \n",
       "0       1  \n",
       "1       1  \n",
       "2       0  \n",
       "3       0  \n",
       "4       1  "
      ]
     },
     "execution_count": 8,
     "metadata": {},
     "output_type": "execute_result"
    }
   ],
   "source": [
    "df.head()"
   ]
  },
  {
   "cell_type": "code",
   "execution_count": 9,
   "id": "0afbcb6c",
   "metadata": {},
   "outputs": [
    {
     "data": {
      "text/plain": [
       "(36, 19)"
      ]
     },
     "execution_count": 9,
     "metadata": {},
     "output_type": "execute_result"
    }
   ],
   "source": [
    "df.shape"
   ]
  },
  {
   "cell_type": "code",
   "execution_count": 10,
   "id": "d3f3e027",
   "metadata": {},
   "outputs": [],
   "source": [
    "def extractData(df):\n",
    "    train, test = train_test_split(df, test_size=0.2, random_state=42, shuffle=True)\n",
    "    xTrain = train.drop(columns=[\"output\"]).to_numpy()\n",
    "    xTest = test.drop(columns=[\"output\"]).to_numpy()\n",
    "    yTrain = train[\"output\"].to_numpy()\n",
    "    yTest = test[\"output\"].to_numpy()\n",
    "    return xTrain, yTrain, xTest, yTest"
   ]
  },
  {
   "cell_type": "code",
   "execution_count": 11,
   "id": "9df670b6",
   "metadata": {},
   "outputs": [],
   "source": [
    "xTrain, yTrain, xTest, yTest = extractData(df)"
   ]
  },
  {
   "cell_type": "code",
   "execution_count": 12,
   "id": "7542b1df",
   "metadata": {},
   "outputs": [
    {
     "data": {
      "text/plain": [
       "(28, 18)"
      ]
     },
     "execution_count": 12,
     "metadata": {},
     "output_type": "execute_result"
    }
   ],
   "source": [
    "xTrain.shape"
   ]
  },
  {
   "cell_type": "code",
   "execution_count": 13,
   "id": "d6585a7b",
   "metadata": {},
   "outputs": [
    {
     "data": {
      "text/plain": [
       "(8, 18)"
      ]
     },
     "execution_count": 13,
     "metadata": {},
     "output_type": "execute_result"
    }
   ],
   "source": [
    "xTest.shape"
   ]
  },
  {
   "cell_type": "code",
   "execution_count": 14,
   "id": "eae53814",
   "metadata": {},
   "outputs": [
    {
     "data": {
      "text/plain": [
       "(28,)"
      ]
     },
     "execution_count": 14,
     "metadata": {},
     "output_type": "execute_result"
    }
   ],
   "source": [
    "yTrain.shape"
   ]
  },
  {
   "cell_type": "code",
   "execution_count": 15,
   "id": "3014de64",
   "metadata": {},
   "outputs": [
    {
     "data": {
      "text/plain": [
       "numpy.ndarray"
      ]
     },
     "execution_count": 15,
     "metadata": {},
     "output_type": "execute_result"
    }
   ],
   "source": [
    "type(xTrain)"
   ]
  },
  {
   "cell_type": "code",
   "execution_count": 16,
   "id": "538be63e",
   "metadata": {},
   "outputs": [
    {
     "data": {
      "text/plain": [
       "numpy.ndarray"
      ]
     },
     "execution_count": 16,
     "metadata": {},
     "output_type": "execute_result"
    }
   ],
   "source": [
    "type(yTrain)"
   ]
  },
  {
   "cell_type": "code",
   "execution_count": 17,
   "id": "92f8deb3",
   "metadata": {},
   "outputs": [],
   "source": [
    "model = keras.Sequential([\n",
    "    keras.layers.Dense(64, input_shape=(18, ), activation='relu'),\n",
    "    keras.layers.Dense(32, activation='relu'),\n",
    "    keras.layers.Dense(1, activation = 'sigmoid')\n",
    "])"
   ]
  },
  {
   "cell_type": "code",
   "execution_count": 18,
   "id": "04837437",
   "metadata": {},
   "outputs": [
    {
     "name": "stdout",
     "output_type": "stream",
     "text": [
      "Model: \"sequential\"\n",
      "_________________________________________________________________\n",
      " Layer (type)                Output Shape              Param #   \n",
      "=================================================================\n",
      " dense (Dense)               (None, 64)                1216      \n",
      "                                                                 \n",
      " dense_1 (Dense)             (None, 32)                2080      \n",
      "                                                                 \n",
      " dense_2 (Dense)             (None, 1)                 33        \n",
      "                                                                 \n",
      "=================================================================\n",
      "Total params: 3,329\n",
      "Trainable params: 3,329\n",
      "Non-trainable params: 0\n",
      "_________________________________________________________________\n"
     ]
    }
   ],
   "source": [
    "model.summary()"
   ]
  },
  {
   "cell_type": "code",
   "execution_count": 19,
   "id": "906d4083",
   "metadata": {},
   "outputs": [],
   "source": [
    "model.compile(optimizer='adam',\n",
    "              loss=\"binary_crossentropy\",\n",
    "              metrics=[\"accuracy\", 'Precision', \"Recall\", \"TruePositives\", \"TrueNegatives\", \"FalsePositives\", \"FalseNegatives\"])"
   ]
  },
  {
   "cell_type": "code",
   "execution_count": 20,
   "id": "36367d38",
   "metadata": {},
   "outputs": [
    {
     "name": "stdout",
     "output_type": "stream",
     "text": [
      "Epoch 1/100\n",
      "28/28 [==============================] - 1s 1ms/step - loss: 0.8259 - accuracy: 0.2500 - precision: 0.2222 - recall: 0.1250 - true_positives: 2.0000 - true_negatives: 5.0000 - false_positives: 7.0000 - false_negatives: 14.0000        \n",
      "Epoch 2/100\n",
      "28/28 [==============================] - 0s 1ms/step - loss: 0.6757 - accuracy: 0.6429 - precision: 0.6154 - recall: 1.0000 - true_positives: 16.0000 - true_negatives: 2.0000 - false_positives: 10.0000 - false_negatives: 0.0000e+00  \n",
      "Epoch 3/100\n",
      "28/28 [==============================] - 0s 1ms/step - loss: 0.6253 - accuracy: 0.7143 - precision: 0.7000 - recall: 0.8750 - true_positives: 14.0000 - true_negatives: 6.0000 - false_positives: 6.0000 - false_negatives: 2.0000       \n",
      "Epoch 4/100\n",
      "28/28 [==============================] - 0s 1ms/step - loss: 0.6223 - accuracy: 0.7143 - precision: 0.7500 - recall: 0.7500 - true_positives: 12.0000 - true_negatives: 8.0000 - false_positives: 4.0000 - false_negatives: 4.0000                   \n",
      "Epoch 5/100\n",
      "28/28 [==============================] - 0s 1ms/step - loss: 0.6071 - accuracy: 0.7143 - precision: 0.7222 - recall: 0.8125 - true_positives: 13.0000 - true_negatives: 7.0000 - false_positives: 5.0000 - false_negatives: 3.0000                   \n",
      "Epoch 6/100\n",
      "28/28 [==============================] - 0s 1ms/step - loss: 0.6115 - accuracy: 0.6786 - precision: 0.6842 - recall: 0.8125 - true_positives: 13.0000 - true_negatives: 6.0000 - false_positives: 6.0000 - false_negatives: 3.0000                   \n",
      "Epoch 7/100\n",
      "28/28 [==============================] - 0s 1ms/step - loss: 0.5791 - accuracy: 0.7143 - precision: 0.6818 - recall: 0.9375 - true_positives: 15.0000 - true_negatives: 5.0000 - false_positives: 7.0000 - false_negatives: 1.0000                   \n",
      "Epoch 8/100\n",
      "28/28 [==============================] - 0s 1ms/step - loss: 0.6194 - accuracy: 0.7143 - precision: 0.8333 - recall: 0.6250 - true_positives: 10.0000 - true_negatives: 10.0000 - false_positives: 2.0000 - false_negatives: 6.0000                  \n",
      "Epoch 9/100\n",
      "28/28 [==============================] - 0s 1ms/step - loss: 0.5765 - accuracy: 0.6786 - precision: 0.6522 - recall: 0.9375 - true_positives: 15.0000 - true_negatives: 4.0000 - false_positives: 8.0000 - false_negatives: 1.0000       \n",
      "Epoch 10/100\n",
      "28/28 [==============================] - 0s 1ms/step - loss: 0.5609 - accuracy: 0.7143 - precision: 0.7500 - recall: 0.7500 - true_positives: 12.0000 - true_negatives: 8.0000 - false_positives: 4.0000 - false_negatives: 4.0000                   \n",
      "Epoch 11/100\n",
      "28/28 [==============================] - 0s 1ms/step - loss: 0.5131 - accuracy: 0.8214 - precision: 0.8235 - recall: 0.8750 - true_positives: 14.0000 - true_negatives: 9.0000 - false_positives: 3.0000 - false_negatives: 2.0000               \n",
      "Epoch 12/100\n",
      "28/28 [==============================] - 0s 1ms/step - loss: 0.5058 - accuracy: 0.7857 - precision: 0.7500 - recall: 0.9375 - true_positives: 15.0000 - true_negatives: 7.0000 - false_positives: 5.0000 - false_negatives: 1.0000                   \n",
      "Epoch 13/100\n",
      "28/28 [==============================] - 0s 1ms/step - loss: 0.5147 - accuracy: 0.7857 - precision: 0.7778 - recall: 0.8750 - true_positives: 14.0000 - true_negatives: 8.0000 - false_positives: 4.0000 - false_negatives: 2.0000       \n",
      "Epoch 14/100\n",
      "28/28 [==============================] - 0s 1ms/step - loss: 0.4880 - accuracy: 0.8214 - precision: 0.7895 - recall: 0.9375 - true_positives: 15.0000 - true_negatives: 8.0000 - false_positives: 4.0000 - false_negatives: 1.0000               \n",
      "Epoch 15/100\n",
      "28/28 [==============================] - 0s 1ms/step - loss: 0.4988 - accuracy: 0.7500 - precision: 0.7647 - recall: 0.8125 - true_positives: 13.0000 - true_negatives: 8.0000 - false_positives: 4.0000 - false_negatives: 3.0000               \n",
      "Epoch 16/100\n",
      "28/28 [==============================] - 0s 1ms/step - loss: 0.4965 - accuracy: 0.7857 - precision: 0.7778 - recall: 0.8750 - true_positives: 14.0000 - true_negatives: 8.0000 - false_positives: 4.0000 - false_negatives: 2.0000                   \n",
      "Epoch 17/100\n",
      "28/28 [==============================] - 0s 1ms/step - loss: 0.4798 - accuracy: 0.6786 - precision: 0.6522 - recall: 0.9375 - true_positives: 15.0000 - true_negatives: 4.0000 - false_positives: 8.0000 - false_negatives: 1.0000                   \n",
      "Epoch 18/100\n",
      "28/28 [==============================] - 0s 1ms/step - loss: 0.4602 - accuracy: 0.8214 - precision: 0.8235 - recall: 0.8750 - true_positives: 14.0000 - true_negatives: 9.0000 - false_positives: 3.0000 - false_negatives: 2.0000       \n",
      "Epoch 19/100\n",
      "28/28 [==============================] - 0s 1ms/step - loss: 0.4557 - accuracy: 0.7500 - precision: 0.7647 - recall: 0.8125 - true_positives: 13.0000 - true_negatives: 8.0000 - false_positives: 4.0000 - false_negatives: 3.0000                   \n",
      "Epoch 20/100\n",
      "28/28 [==============================] - 0s 1ms/step - loss: 0.4534 - accuracy: 0.7500 - precision: 0.7368 - recall: 0.8750 - true_positives: 14.0000 - true_negatives: 7.0000 - false_positives: 5.0000 - false_negatives: 2.0000       \n",
      "Epoch 21/100\n",
      "28/28 [==============================] - 0s 1ms/step - loss: 0.4505 - accuracy: 0.8214 - precision: 0.7895 - recall: 0.9375 - true_positives: 15.0000 - true_negatives: 8.0000 - false_positives: 4.0000 - false_negatives: 1.0000               \n",
      "Epoch 22/100\n",
      "28/28 [==============================] - 0s 1ms/step - loss: 0.4570 - accuracy: 0.7857 - precision: 0.8125 - recall: 0.8125 - true_positives: 13.0000 - true_negatives: 9.0000 - false_positives: 3.0000 - false_negatives: 3.0000       \n",
      "Epoch 23/100\n",
      "28/28 [==============================] - 0s 1ms/step - loss: 0.4421 - accuracy: 0.8214 - precision: 0.7895 - recall: 0.9375 - true_positives: 15.0000 - true_negatives: 8.0000 - false_positives: 4.0000 - false_negatives: 1.0000       \n",
      "Epoch 24/100\n",
      "28/28 [==============================] - 0s 1ms/step - loss: 0.4133 - accuracy: 0.8214 - precision: 0.9231 - recall: 0.7500 - true_positives: 12.0000 - true_negatives: 11.0000 - false_positives: 1.0000 - false_negatives: 4.0000      \n",
      "Epoch 25/100\n",
      "28/28 [==============================] - 0s 1ms/step - loss: 0.4170 - accuracy: 0.8214 - precision: 0.7895 - recall: 0.9375 - true_positives: 15.0000 - true_negatives: 8.0000 - false_positives: 4.0000 - false_negatives: 1.0000       \n",
      "Epoch 26/100\n",
      "28/28 [==============================] - 0s 1ms/step - loss: 0.4918 - accuracy: 0.7857 - precision: 1.0000 - recall: 0.6250 - true_positives: 10.0000 - true_negatives: 12.0000 - false_positives: 0.0000e+00 - false_negatives: 6.0000  \n",
      "Epoch 27/100\n",
      "28/28 [==============================] - 0s 1ms/step - loss: 0.4251 - accuracy: 0.8214 - precision: 0.7619 - recall: 1.0000 - true_positives: 16.0000 - true_negatives: 7.0000 - false_positives: 5.0000 - false_negatives: 0.0000e+00   \n",
      "Epoch 28/100\n",
      "28/28 [==============================] - 0s 1ms/step - loss: 0.3989 - accuracy: 0.8929 - precision: 1.0000 - recall: 0.8125 - true_positives: 13.0000 - true_negatives: 12.0000 - false_positives: 0.0000e+00 - false_negatives: 3.0000  \n",
      "Epoch 29/100\n",
      "28/28 [==============================] - 0s 1ms/step - loss: 0.3846 - accuracy: 0.8571 - precision: 0.8333 - recall: 0.9375 - true_positives: 15.0000 - true_negatives: 9.0000 - false_positives: 3.0000 - false_negatives: 1.0000               \n",
      "Epoch 30/100\n",
      "28/28 [==============================] - 0s 1ms/step - loss: 0.4159 - accuracy: 0.7857 - precision: 0.8571 - recall: 0.7500 - true_positives: 12.0000 - true_negatives: 10.0000 - false_positives: 2.0000 - false_negatives: 4.0000              \n",
      "Epoch 31/100\n",
      "28/28 [==============================] - 0s 1ms/step - loss: 0.3600 - accuracy: 0.8571 - precision: 0.8333 - recall: 0.9375 - true_positives: 15.0000 - true_negatives: 9.0000 - false_positives: 3.0000 - false_negatives: 1.0000               \n",
      "Epoch 32/100\n",
      "28/28 [==============================] - 0s 1ms/step - loss: 0.4392 - accuracy: 0.8571 - precision: 0.9286 - recall: 0.8125 - true_positives: 13.0000 - true_negatives: 11.0000 - false_positives: 1.0000 - false_negatives: 3.0000                  \n",
      "Epoch 33/100\n"
     ]
    },
    {
     "name": "stdout",
     "output_type": "stream",
     "text": [
      "28/28 [==============================] - 0s 1ms/step - loss: 0.3545 - accuracy: 0.8571 - precision: 0.8333 - recall: 0.9375 - true_positives: 15.0000 - true_negatives: 9.0000 - false_positives: 3.0000 - false_negatives: 1.0000       \n",
      "Epoch 34/100\n",
      "28/28 [==============================] - 0s 1ms/step - loss: 0.3504 - accuracy: 0.8571 - precision: 0.9286 - recall: 0.8125 - true_positives: 13.0000 - true_negatives: 11.0000 - false_positives: 1.0000 - false_negatives: 3.0000              \n",
      "Epoch 35/100\n",
      "28/28 [==============================] - 0s 995us/step - loss: 0.3360 - accuracy: 0.8929 - precision: 0.9333 - recall: 0.8750 - true_positives: 14.0000 - true_negatives: 11.0000 - false_positives: 1.0000 - false_negatives: 2.0000            \n",
      "Epoch 36/100\n",
      "28/28 [==============================] - 0s 1ms/step - loss: 0.3375 - accuracy: 0.8929 - precision: 0.8824 - recall: 0.9375 - true_positives: 15.0000 - true_negatives: 10.0000 - false_positives: 2.0000 - false_negatives: 1.0000      \n",
      "Epoch 37/100\n",
      "28/28 [==============================] - 0s 1ms/step - loss: 0.3870 - accuracy: 0.9286 - precision: 1.0000 - recall: 0.8750 - true_positives: 14.0000 - true_negatives: 12.0000 - false_positives: 0.0000e+00 - false_negatives: 2.0000          \n",
      "Epoch 38/100\n",
      "28/28 [==============================] - 0s 1ms/step - loss: 0.3491 - accuracy: 0.8571 - precision: 0.8333 - recall: 0.9375 - true_positives: 15.0000 - true_negatives: 9.0000 - false_positives: 3.0000 - false_negatives: 1.0000               \n",
      "Epoch 39/100\n",
      "28/28 [==============================] - 0s 1ms/step - loss: 0.3229 - accuracy: 0.8214 - precision: 0.8667 - recall: 0.8125 - true_positives: 13.0000 - true_negatives: 10.0000 - false_positives: 2.0000 - false_negatives: 3.0000      \n",
      "Epoch 40/100\n",
      "28/28 [==============================] - 0s 993us/step - loss: 0.3192 - accuracy: 0.8214 - precision: 0.7895 - recall: 0.9375 - true_positives: 15.0000 - true_negatives: 8.0000 - false_positives: 4.0000 - false_negatives: 1.0000     \n",
      "Epoch 41/100\n",
      "28/28 [==============================] - 0s 1ms/step - loss: 0.3352 - accuracy: 0.8571 - precision: 1.0000 - recall: 0.7500 - true_positives: 12.0000 - true_negatives: 12.0000 - false_positives: 0.0000e+00 - false_negatives: 4.0000          \n",
      "Epoch 42/100\n",
      "28/28 [==============================] - 0s 1ms/step - loss: 0.3444 - accuracy: 0.7857 - precision: 0.7500 - recall: 0.9375 - true_positives: 15.0000 - true_negatives: 7.0000 - false_positives: 5.0000 - false_negatives: 1.0000       \n",
      "Epoch 43/100\n",
      "28/28 [==============================] - 0s 1ms/step - loss: 0.3555 - accuracy: 0.7857 - precision: 1.0000 - recall: 0.6250 - true_positives: 10.0000 - true_negatives: 12.0000 - false_positives: 0.0000e+00 - false_negatives: 6.0000          \n",
      "Epoch 44/100\n",
      "28/28 [==============================] - 0s 1ms/step - loss: 0.3420 - accuracy: 0.8571 - precision: 0.8333 - recall: 0.9375 - true_positives: 15.0000 - true_negatives: 9.0000 - false_positives: 3.0000 - false_negatives: 1.0000       \n",
      "Epoch 45/100\n",
      "28/28 [==============================] - 0s 1ms/step - loss: 0.3799 - accuracy: 0.8571 - precision: 0.8750 - recall: 0.8750 - true_positives: 14.0000 - true_negatives: 10.0000 - false_positives: 2.0000 - false_negatives: 2.0000      \n",
      "Epoch 46/100\n",
      "28/28 [==============================] - 0s 1ms/step - loss: 0.3143 - accuracy: 0.8929 - precision: 0.9333 - recall: 0.8750 - true_positives: 14.0000 - true_negatives: 11.0000 - false_positives: 1.0000 - false_negatives: 2.0000              \n",
      "Epoch 47/100\n",
      "28/28 [==============================] - 0s 1ms/step - loss: 0.3364 - accuracy: 0.8929 - precision: 1.0000 - recall: 0.8125 - true_positives: 13.0000 - true_negatives: 12.0000 - false_positives: 0.0000e+00 - false_negatives: 3.0000  \n",
      "Epoch 48/100\n",
      "28/28 [==============================] - 0s 984us/step - loss: 0.3181 - accuracy: 0.8929 - precision: 0.8421 - recall: 1.0000 - true_positives: 16.0000 - true_negatives: 9.0000 - false_positives: 3.0000 - false_negatives: 0.0000e+00 \n",
      "Epoch 49/100\n",
      "28/28 [==============================] - 0s 1ms/step - loss: 0.2872 - accuracy: 0.8571 - precision: 0.9286 - recall: 0.8125 - true_positives: 13.0000 - true_negatives: 11.0000 - false_positives: 1.0000 - false_negatives: 3.0000      \n",
      "Epoch 50/100\n",
      "28/28 [==============================] - 0s 1ms/step - loss: 0.2757 - accuracy: 0.8571 - precision: 0.9286 - recall: 0.8125 - true_positives: 13.0000 - true_negatives: 11.0000 - false_positives: 1.0000 - false_negatives: 3.0000              \n",
      "Epoch 51/100\n",
      "28/28 [==============================] - 0s 1ms/step - loss: 0.3110 - accuracy: 0.8929 - precision: 0.8824 - recall: 0.9375 - true_positives: 15.0000 - true_negatives: 10.0000 - false_positives: 2.0000 - false_negatives: 1.0000      \n",
      "Epoch 52/100\n",
      "28/28 [==============================] - 0s 1ms/step - loss: 0.3079 - accuracy: 0.8571 - precision: 0.9286 - recall: 0.8125 - true_positives: 13.0000 - true_negatives: 11.0000 - false_positives: 1.0000 - false_negatives: 3.0000      \n",
      "Epoch 53/100\n",
      "28/28 [==============================] - 0s 1ms/step - loss: 0.2540 - accuracy: 0.8929 - precision: 0.9333 - recall: 0.8750 - true_positives: 14.0000 - true_negatives: 11.0000 - false_positives: 1.0000 - false_negatives: 2.0000              \n",
      "Epoch 54/100\n",
      "28/28 [==============================] - 0s 1ms/step - loss: 0.3178 - accuracy: 0.8571 - precision: 0.8750 - recall: 0.8750 - true_positives: 14.0000 - true_negatives: 10.0000 - false_positives: 2.0000 - false_negatives: 2.0000      \n",
      "Epoch 55/100\n",
      "28/28 [==============================] - 0s 987us/step - loss: 0.2842 - accuracy: 0.8571 - precision: 0.8750 - recall: 0.8750 - true_positives: 14.0000 - true_negatives: 10.0000 - false_positives: 2.0000 - false_negatives: 2.0000            \n",
      "Epoch 56/100\n",
      "28/28 [==============================] - 0s 1ms/step - loss: 0.2931 - accuracy: 0.9286 - precision: 0.9375 - recall: 0.9375 - true_positives: 15.0000 - true_negatives: 11.0000 - false_positives: 1.0000 - false_negatives: 1.0000              \n",
      "Epoch 57/100\n",
      "28/28 [==============================] - 0s 1ms/step - loss: 0.2902 - accuracy: 0.9286 - precision: 0.9375 - recall: 0.9375 - true_positives: 15.0000 - true_negatives: 11.0000 - false_positives: 1.0000 - false_negatives: 1.0000      \n",
      "Epoch 58/100\n",
      "28/28 [==============================] - 0s 1ms/step - loss: 0.2662 - accuracy: 0.9286 - precision: 0.9375 - recall: 0.9375 - true_positives: 15.0000 - true_negatives: 11.0000 - false_positives: 1.0000 - false_negatives: 1.0000      \n",
      "Epoch 59/100\n",
      "28/28 [==============================] - 0s 1ms/step - loss: 0.2714 - accuracy: 0.8929 - precision: 0.9333 - recall: 0.8750 - true_positives: 14.0000 - true_negatives: 11.0000 - false_positives: 1.0000 - false_negatives: 2.0000              \n",
      "Epoch 60/100\n",
      "28/28 [==============================] - 0s 1ms/step - loss: 0.2667 - accuracy: 0.9286 - precision: 0.9375 - recall: 0.9375 - true_positives: 15.0000 - true_negatives: 11.0000 - false_positives: 1.0000 - false_negatives: 1.0000              \n",
      "Epoch 61/100\n",
      "28/28 [==============================] - 0s 1ms/step - loss: 0.2951 - accuracy: 0.8571 - precision: 1.0000 - recall: 0.7500 - true_positives: 12.0000 - true_negatives: 12.0000 - false_positives: 0.0000e+00 - false_negatives: 4.0000          \n",
      "Epoch 62/100\n",
      "28/28 [==============================] - 0s 1ms/step - loss: 0.2839 - accuracy: 0.8929 - precision: 0.8824 - recall: 0.9375 - true_positives: 15.0000 - true_negatives: 10.0000 - false_positives: 2.0000 - false_negatives: 1.0000              \n",
      "Epoch 63/100\n",
      "28/28 [==============================] - 0s 1ms/step - loss: 0.2632 - accuracy: 0.9286 - precision: 0.9375 - recall: 0.9375 - true_positives: 15.0000 - true_negatives: 11.0000 - false_positives: 1.0000 - false_negatives: 1.0000              \n",
      "Epoch 64/100\n",
      "28/28 [==============================] - 0s 1ms/step - loss: 0.2898 - accuracy: 0.8571 - precision: 0.8750 - recall: 0.8750 - true_positives: 14.0000 - true_negatives: 10.0000 - false_positives: 2.0000 - false_negatives: 2.0000              \n",
      "Epoch 65/100\n"
     ]
    },
    {
     "name": "stdout",
     "output_type": "stream",
     "text": [
      "28/28 [==============================] - 0s 1ms/step - loss: 0.2797 - accuracy: 0.8571 - precision: 0.9286 - recall: 0.8125 - true_positives: 13.0000 - true_negatives: 11.0000 - false_positives: 1.0000 - false_negatives: 3.0000      \n",
      "Epoch 66/100\n",
      "28/28 [==============================] - 0s 1ms/step - loss: 0.2492 - accuracy: 0.8571 - precision: 0.9286 - recall: 0.8125 - true_positives: 13.0000 - true_negatives: 11.0000 - false_positives: 1.0000 - false_negatives: 3.0000      \n",
      "Epoch 67/100\n",
      "28/28 [==============================] - 0s 1ms/step - loss: 0.2627 - accuracy: 0.8929 - precision: 0.9333 - recall: 0.8750 - true_positives: 14.0000 - true_negatives: 11.0000 - false_positives: 1.0000 - false_negatives: 2.0000                  \n",
      "Epoch 68/100\n",
      "28/28 [==============================] - 0s 1ms/step - loss: 0.2401 - accuracy: 0.9286 - precision: 1.0000 - recall: 0.8750 - true_positives: 14.0000 - true_negatives: 12.0000 - false_positives: 0.0000e+00 - false_negatives: 2.0000      \n",
      "Epoch 69/100\n",
      "28/28 [==============================] - 0s 1ms/step - loss: 0.2031 - accuracy: 0.9643 - precision: 1.0000 - recall: 0.9375 - true_positives: 15.0000 - true_negatives: 12.0000 - false_positives: 0.0000e+00 - false_negatives: 1.0000          \n",
      "Epoch 70/100\n",
      "28/28 [==============================] - 0s 1ms/step - loss: 0.2435 - accuracy: 0.9286 - precision: 0.9375 - recall: 0.9375 - true_positives: 15.0000 - true_negatives: 11.0000 - false_positives: 1.0000 - false_negatives: 1.0000              \n",
      "Epoch 71/100\n",
      "28/28 [==============================] - 0s 1ms/step - loss: 0.2556 - accuracy: 0.8929 - precision: 0.8824 - recall: 0.9375 - true_positives: 15.0000 - true_negatives: 10.0000 - false_positives: 2.0000 - false_negatives: 1.0000      \n",
      "Epoch 72/100\n",
      "28/28 [==============================] - 0s 1ms/step - loss: 0.2930 - accuracy: 0.8571 - precision: 0.9286 - recall: 0.8125 - true_positives: 13.0000 - true_negatives: 11.0000 - false_positives: 1.0000 - false_negatives: 3.0000              \n",
      "Epoch 73/100\n",
      "28/28 [==============================] - 0s 987us/step - loss: 0.2705 - accuracy: 0.8571 - precision: 0.9286 - recall: 0.8125 - true_positives: 13.0000 - true_negatives: 11.0000 - false_positives: 1.0000 - false_negatives: 3.0000            \n",
      "Epoch 74/100\n",
      "28/28 [==============================] - 0s 1ms/step - loss: 0.2126 - accuracy: 0.8929 - precision: 0.9333 - recall: 0.8750 - true_positives: 14.0000 - true_negatives: 11.0000 - false_positives: 1.0000 - false_negatives: 2.0000              \n",
      "Epoch 75/100\n",
      "28/28 [==============================] - 0s 1ms/step - loss: 0.2593 - accuracy: 0.8929 - precision: 0.9333 - recall: 0.8750 - true_positives: 14.0000 - true_negatives: 11.0000 - false_positives: 1.0000 - false_negatives: 2.0000      \n",
      "Epoch 76/100\n",
      "28/28 [==============================] - 0s 1ms/step - loss: 0.2381 - accuracy: 0.8929 - precision: 0.9333 - recall: 0.8750 - true_positives: 14.0000 - true_negatives: 11.0000 - false_positives: 1.0000 - false_negatives: 2.0000      \n",
      "Epoch 77/100\n",
      "28/28 [==============================] - 0s 1ms/step - loss: 0.2542 - accuracy: 0.8929 - precision: 1.0000 - recall: 0.8125 - true_positives: 13.0000 - true_negatives: 12.0000 - false_positives: 0.0000e+00 - false_negatives: 3.0000          \n",
      "Epoch 78/100\n",
      "28/28 [==============================] - 0s 1ms/step - loss: 0.2395 - accuracy: 0.9286 - precision: 0.9375 - recall: 0.9375 - true_positives: 15.0000 - true_negatives: 11.0000 - false_positives: 1.0000 - false_negatives: 1.0000          \n",
      "Epoch 79/100\n",
      "28/28 [==============================] - 0s 1ms/step - loss: 0.2139 - accuracy: 0.9286 - precision: 0.9375 - recall: 0.9375 - true_positives: 15.0000 - true_negatives: 11.0000 - false_positives: 1.0000 - false_negatives: 1.0000      \n",
      "Epoch 80/100\n",
      "28/28 [==============================] - 0s 1ms/step - loss: 0.2162 - accuracy: 0.8929 - precision: 0.8824 - recall: 0.9375 - true_positives: 15.0000 - true_negatives: 10.0000 - false_positives: 2.0000 - false_negatives: 1.0000      \n",
      "Epoch 81/100\n",
      "28/28 [==============================] - 0s 1ms/step - loss: 0.2396 - accuracy: 0.8929 - precision: 0.9333 - recall: 0.8750 - true_positives: 14.0000 - true_negatives: 11.0000 - false_positives: 1.0000 - false_negatives: 2.0000      \n",
      "Epoch 82/100\n",
      "28/28 [==============================] - 0s 989us/step - loss: 0.2097 - accuracy: 0.9286 - precision: 0.9375 - recall: 0.9375 - true_positives: 15.0000 - true_negatives: 11.0000 - false_positives: 1.0000 - false_negatives: 1.0000    \n",
      "Epoch 83/100\n",
      "28/28 [==============================] - 0s 1ms/step - loss: 0.1967 - accuracy: 0.9643 - precision: 1.0000 - recall: 0.9375 - true_positives: 15.0000 - true_negatives: 12.0000 - false_positives: 0.0000e+00 - false_negatives: 1.0000  \n",
      "Epoch 84/100\n",
      "28/28 [==============================] - 0s 1ms/step - loss: 0.2263 - accuracy: 0.9286 - precision: 0.9375 - recall: 0.9375 - true_positives: 15.0000 - true_negatives: 11.0000 - false_positives: 1.0000 - false_negatives: 1.0000              \n",
      "Epoch 85/100\n",
      "28/28 [==============================] - 0s 1ms/step - loss: 0.2072 - accuracy: 0.8929 - precision: 0.9333 - recall: 0.8750 - true_positives: 14.0000 - true_negatives: 11.0000 - false_positives: 1.0000 - false_negatives: 2.0000      \n",
      "Epoch 86/100\n",
      "28/28 [==============================] - 0s 1ms/step - loss: 0.1934 - accuracy: 0.9286 - precision: 0.9375 - recall: 0.9375 - true_positives: 15.0000 - true_negatives: 11.0000 - false_positives: 1.0000 - false_negatives: 1.0000      \n",
      "Epoch 87/100\n",
      "28/28 [==============================] - 0s 1ms/step - loss: 0.2088 - accuracy: 0.8929 - precision: 0.8824 - recall: 0.9375 - true_positives: 15.0000 - true_negatives: 10.0000 - false_positives: 2.0000 - false_negatives: 1.0000      \n",
      "Epoch 88/100\n",
      "28/28 [==============================] - 0s 1ms/step - loss: 0.2650 - accuracy: 0.8571 - precision: 1.0000 - recall: 0.7500 - true_positives: 12.0000 - true_negatives: 12.0000 - false_positives: 0.0000e+00 - false_negatives: 4.0000          \n",
      "Epoch 89/100\n",
      "28/28 [==============================] - 0s 1ms/step - loss: 0.3092 - accuracy: 0.8571 - precision: 0.8333 - recall: 0.9375 - true_positives: 15.0000 - true_negatives: 9.0000 - false_positives: 3.0000 - false_negatives: 1.0000                   \n",
      "Epoch 90/100\n",
      "28/28 [==============================] - 0s 985us/step - loss: 0.2007 - accuracy: 0.9286 - precision: 0.9375 - recall: 0.9375 - true_positives: 15.0000 - true_negatives: 11.0000 - false_positives: 1.0000 - false_negatives: 1.0000    \n",
      "Epoch 91/100\n",
      "28/28 [==============================] - 0s 1ms/step - loss: 0.2124 - accuracy: 0.8929 - precision: 0.9333 - recall: 0.8750 - true_positives: 14.0000 - true_negatives: 11.0000 - false_positives: 1.0000 - false_negatives: 2.0000      \n",
      "Epoch 92/100\n",
      "28/28 [==============================] - 0s 1ms/step - loss: 0.2429 - accuracy: 0.8929 - precision: 1.0000 - recall: 0.8125 - true_positives: 13.0000 - true_negatives: 12.0000 - false_positives: 0.0000e+00 - false_negatives: 3.0000      \n",
      "Epoch 93/100\n",
      "28/28 [==============================] - 0s 1ms/step - loss: 0.2534 - accuracy: 0.8571 - precision: 0.8333 - recall: 0.9375 - true_positives: 15.0000 - true_negatives: 9.0000 - false_positives: 3.0000 - false_negatives: 1.0000               \n",
      "Epoch 94/100\n",
      "28/28 [==============================] - 0s 1ms/step - loss: 0.2097 - accuracy: 0.8929 - precision: 0.9333 - recall: 0.8750 - true_positives: 14.0000 - true_negatives: 11.0000 - false_positives: 1.0000 - false_negatives: 2.0000      \n",
      "Epoch 95/100\n",
      "28/28 [==============================] - 0s 1ms/step - loss: 0.2458 - accuracy: 0.9286 - precision: 1.0000 - recall: 0.8750 - true_positives: 14.0000 - true_negatives: 12.0000 - false_positives: 0.0000e+00 - false_negatives: 2.0000          \n",
      "Epoch 96/100\n",
      "28/28 [==============================] - 0s 1ms/step - loss: 0.2672 - accuracy: 0.8929 - precision: 0.8824 - recall: 0.9375 - true_positives: 15.0000 - true_negatives: 10.0000 - false_positives: 2.0000 - false_negatives: 1.0000      \n",
      "Epoch 97/100\n"
     ]
    },
    {
     "name": "stdout",
     "output_type": "stream",
     "text": [
      "28/28 [==============================] - 0s 1ms/step - loss: 0.2104 - accuracy: 0.8929 - precision: 0.9333 - recall: 0.8750 - true_positives: 14.0000 - true_negatives: 11.0000 - false_positives: 1.0000 - false_negatives: 2.0000      \n",
      "Epoch 98/100\n",
      "28/28 [==============================] - 0s 989us/step - loss: 0.2000 - accuracy: 0.8929 - precision: 0.8824 - recall: 0.9375 - true_positives: 15.0000 - true_negatives: 10.0000 - false_positives: 2.0000 - false_negatives: 1.0000    \n",
      "Epoch 99/100\n",
      "28/28 [==============================] - 0s 994us/step - loss: 0.1860 - accuracy: 0.8929 - precision: 0.9333 - recall: 0.8750 - true_positives: 14.0000 - true_negatives: 11.0000 - false_positives: 1.0000 - false_negatives: 2.0000    \n",
      "Epoch 100/100\n",
      "28/28 [==============================] - 0s 1ms/step - loss: 0.1829 - accuracy: 0.9643 - precision: 1.0000 - recall: 0.9375 - true_positives: 15.0000 - true_negatives: 12.0000 - false_positives: 0.0000e+00 - false_negatives: 1.0000  \n"
     ]
    }
   ],
   "source": [
    "history = model.fit(xTrain, yTrain,\n",
    "          epochs=100, batch_size=1)"
   ]
  },
  {
   "cell_type": "code",
   "execution_count": 21,
   "id": "6a823197",
   "metadata": {},
   "outputs": [
    {
     "data": {
      "text/plain": [
       "Text(0.5, 0, 'epoch')"
      ]
     },
     "execution_count": 21,
     "metadata": {},
     "output_type": "execute_result"
    },
    {
     "data": {
      "image/png": "[encoded data removed]",
      "text/plain": [
       "<Figure size 640x480 with 1 Axes>"
      ]
     },
     "metadata": {},
     "output_type": "display_data"
    }
   ],
   "source": [
    "plt.plot(history.history['accuracy'])\n",
    "plt.plot(history.history['loss'])\n",
    "plt.title('model accuracy')\n",
    "plt.legend([\"accuracy\", \"loss\"])\n",
    "plt.ylabel('accuracy')\n",
    "plt.xlabel('epoch')"
   ]
  },
  {
   "cell_type": "code",
   "execution_count": 23,
   "id": "42da1cde",
   "metadata": {},
   "outputs": [
    {
     "name": "stdout",
     "output_type": "stream",
     "text": [
      "1/1 [==============================] - 0s 24ms/step - loss: 0.2701 - accuracy: 0.8750 - precision: 0.8000 - recall: 1.0000 - true_positives: 4.0000 - true_negatives: 3.0000 - false_positives: 1.0000 - false_negatives: 0.0000e+00\n"
     ]
    },
    {
     "data": {
      "text/plain": [
       "[0.27011382579803467, 0.875, 0.800000011920929, 1.0, 4.0, 3.0, 1.0, 0.0]"
      ]
     },
     "execution_count": 23,
     "metadata": {},
     "output_type": "execute_result"
    }
   ],
   "source": [
    "model.evaluate(xTest, yTest)"
   ]
  },
  {
   "cell_type": "code",
   "execution_count": 25,
   "id": "f13994e7",
   "metadata": {},
   "outputs": [
    {
     "data": {
      "text/plain": [
       "'/home/aman/Documents/Tally/DocumentAI/Data/Dataset'"
      ]
     },
     "execution_count": 25,
     "metadata": {},
     "output_type": "execute_result"
    }
   ],
   "source": [
    "pwd"
   ]
  },
  {
   "cell_type": "code",
   "execution_count": 26,
   "id": "12591b25",
   "metadata": {},
   "outputs": [],
   "source": [
    "os.chdir('/home/aman/Documents/Tally/DocumentAI/Code/Tesseract-Model/Models/')"
   ]
  },
  {
   "cell_type": "code",
   "execution_count": 27,
   "id": "5a50d94f",
   "metadata": {},
   "outputs": [],
   "source": [
    "model.save(\"tesseractv1.h5\")"
   ]
  },
  {
   "cell_type": "code",
   "execution_count": null,
   "id": "ed98d4e5",
   "metadata": {},
   "outputs": [],
   "source": []
  }
 ],
 "metadata": {
  "kernelspec": {
   "display_name": "Python 3 (ipykernel)",
   "language": "python",
   "name": "python3"
  },
  "language_info": {
   "codemirror_mode": {
    "name": "ipython",
    "version": 3
   },
   "file_extension": ".py",
   "mimetype": "text/x-python",
   "name": "python",
   "nbconvert_exporter": "python",
   "pygments_lexer": "ipython3",
   "version": "3.10.9"
  }
 },
 "nbformat": 4,
 "nbformat_minor": 5
}
