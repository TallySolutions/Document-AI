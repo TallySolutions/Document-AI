{
 "cells": [
  {
   "cell_type": "code",
   "execution_count": 1,
   "id": "6c579427",
   "metadata": {},
   "outputs": [
    {
     "name": "stdout",
     "output_type": "stream",
     "text": [
      "importing Jupyter notebook from textPreProcessor.ipynb\n"
     ]
    },
    {
     "name": "stderr",
     "output_type": "stream",
     "text": [
      "2023-06-08 16:04:12.061905: I tensorflow/core/platform/cpu_feature_guard.cc:182] This TensorFlow binary is optimized to use available CPU instructions in performance-critical operations.\n",
      "To enable the following instructions: AVX2 FMA, in other operations, rebuild TensorFlow with the appropriate compiler flags.\n"
     ]
    },
    {
     "name": "stdout",
     "output_type": "stream",
     "text": [
      "Original Date ----> After Processing \n",
      "\n",
      "5/12/22      ---->      5-12-2022\n",
      "2/2/2023      ---->      2-2-2023\n",
      "5:12-2023      ---->      5-12-2023\n",
      "5,May,2023      ---->      5-05-2023\n",
      "5 May,2023      ---->      5-05-2023\n",
      "October 24,2022      ---->      10-24-2022\n",
      "importing Jupyter notebook from imagePreProcessor.ipynb\n",
      "importing Jupyter notebook from CreateDatasetForDateModel.ipynb\n"
     ]
    }
   ],
   "source": [
    "import os\n",
    "import pdf2image\n",
    "from pdf2image import convert_from_path\n",
    "import cv2\n",
    "import matplotlib.pyplot as plt\n",
    "import PyPDF2\n",
    "import PIL\n",
    "from PIL import Image, ImageTk\n",
    "import numpy as np\n",
    "import pytesseract\n",
    "from pytesseract import Output\n",
    "pytesseract.pytesseract.tesseract_cmd=\"/home/aman/anaconda3/envs/tallyInvoiceParser.env/bin/tesseract\"\n",
    "os.environ['TESSDATA_PREFIX'] = \"/home/aman/anaconda3/envs/tallyInvoiceParser.env/share/tessdata\"\n",
    "os.environ['MLIR_CRASH_REPRODUCER_DIRECTORY']='tensorflow/compiler/mlir/tensorflow/utils/dump_mlir_util.cc:269'\n",
    "import import_ipynb\n",
    "from textPreProcessor import *\n",
    "from imagePreProcessor import *\n",
    "from CreateDatasetForDateModel import *\n",
    "from datetime import datetime\n",
    "import math\n",
    "from keras.models import load_model"
   ]
  },
  {
   "cell_type": "code",
   "execution_count": 2,
   "id": "2db518f5",
   "metadata": {},
   "outputs": [],
   "source": [
    "def preProcessImage(image):\n",
    "    gray = cv2.cvtColor(image, cv2.COLOR_RGB2GRAY)\n",
    "    blur = cv2.GaussianBlur(gray, (3,3),1)\n",
    "    threshold_img = cv2.adaptiveThreshold(blur,255,1,1,11,2)\n",
    "    return threshold_img"
   ]
  },
  {
   "cell_type": "code",
   "execution_count": 8,
   "id": "ad0e53f7",
   "metadata": {},
   "outputs": [],
   "source": [
    "def processForInput(df):\n",
    "    colsToDrop = [\"left\", \"top\", \"width\", \"height\", \"text\", \"index\"]\n",
    "    d = df.drop(columns=colsToDrop)\n",
    "    d[\"conf\"]=d[\"conf\"]/100\n",
    "    d[\"x\"]=d[\"x\"]/1000\n",
    "    d[\"y\"]=d[\"y\"]/1000\n",
    "    return d.to_numpy()"
   ]
  },
  {
   "cell_type": "code",
   "execution_count": 56,
   "id": "92576031",
   "metadata": {},
   "outputs": [],
   "source": [
    "def predict(filePath):\n",
    "    f = open(filePath, 'rb')\n",
    "    readpdf = PyPDF2.PdfReader(f)\n",
    "    totalpages = len(readpdf.pages)\n",
    "    if totalpages==1:\n",
    "        image = convert_from_path(filePath)\n",
    "    else:\n",
    "        return\n",
    "    image = np.array(image[0])\n",
    "    image = preProcessImage(image)\n",
    "    print(type(image))\n",
    "    data = pytesseract.image_to_data(image, output_type=Output.DATAFRAME)\n",
    "    df = pd.DataFrame(data)\n",
    "    preProcessDataFrame(df)\n",
    "    dateDF, dates = extractDateDataFrame(df)\n",
    "    addNeighbours(df)\n",
    "    indexes = findDateDF(dates, dateDF)\n",
    "    resultDF = df.copy()\n",
    "    dropIndexes(indexes, resultDF)\n",
    "    resultDF.reset_index(inplace=True)\n",
    "    texts = []\n",
    "    inputs = []\n",
    "    for index in resultDF.index:\n",
    "        texts.append(resultDF[\"text\"][index])\n",
    "        inputs.append(processForInput(resultDF))\n",
    "    predictions = {}\n",
    "    model = load_model(\"/home/aman/Documents/Tally/DocumentAI/Code/Tesseract-Model/Models/tesseractv1.h5\")\n",
    "    for i in range(len(inputs)):\n",
    "        text = texts[i]\n",
    "        input = inputs[i]\n",
    "        pred = model.predict(input)\n",
    "        predictions[text]=max(pred)\n",
    "    if len(predictions)==0:\n",
    "        return None\n",
    "    res = max(zip(predictions.values(), predictions.keys()))[1]\n",
    "    return res\n",
    "    "
   ]
  },
  {
   "cell_type": "code",
   "execution_count": 57,
   "id": "6a87de27",
   "metadata": {},
   "outputs": [],
   "source": [
    "os.chdir(\"/home/aman/Documents/Tally/DocumentAI/Data/SampleInvoices2/\")"
   ]
  },
  {
   "cell_type": "code",
   "execution_count": 58,
   "id": "8ecbee79",
   "metadata": {},
   "outputs": [],
   "source": [
    "dir = os.listdir(\"/home/aman/Documents/Tally/DocumentAI/Data/SampleInvoices2/\")"
   ]
  },
  {
   "cell_type": "code",
   "execution_count": 73,
   "id": "d7619fb6",
   "metadata": {},
   "outputs": [],
   "source": [
    "pdfPath = \"/home/aman/Documents/Tally/DocumentAI/Data/SampleInvoices2/Bisleri-internation-bill-Dec-22.pdf\""
   ]
  },
  {
   "cell_type": "code",
   "execution_count": 74,
   "id": "abf87814",
   "metadata": {},
   "outputs": [
    {
     "name": "stdout",
     "output_type": "stream",
     "text": [
      "<class 'numpy.ndarray'>\n"
     ]
    },
    {
     "name": "stderr",
     "output_type": "stream",
     "text": [
      "<string>:5: SettingWithCopyWarning: \n",
      "A value is trying to be set on a copy of a slice from a DataFrame\n",
      "\n",
      "See the caveats in the documentation: https://pandas.pydata.org/pandas-docs/stable/user_guide/indexing.html#returning-a-view-versus-a-copy\n",
      "<string>:20: SettingWithCopyWarning: \n",
      "A value is trying to be set on a copy of a slice from a DataFrame\n",
      "\n",
      "See the caveats in the documentation: https://pandas.pydata.org/pandas-docs/stable/user_guide/indexing.html#returning-a-view-versus-a-copy\n"
     ]
    },
    {
     "name": "stdout",
     "output_type": "stream",
     "text": [
      "1/1 [==============================] - 0s 41ms/step\n",
      "1/1 [==============================] - 0s 17ms/step\n",
      "31-12-22\n"
     ]
    }
   ],
   "source": [
    "print(predict(pdfPath))"
   ]
  },
  {
   "cell_type": "code",
   "execution_count": null,
   "id": "ba258c0a",
   "metadata": {},
   "outputs": [],
   "source": []
  }
 ],
 "metadata": {
  "kernelspec": {
   "display_name": "Python 3 (ipykernel)",
   "language": "python",
   "name": "python3"
  },
  "language_info": {
   "codemirror_mode": {
    "name": "ipython",
    "version": 3
   },
   "file_extension": ".py",
   "mimetype": "text/x-python",
   "name": "python",
   "nbconvert_exporter": "python",
   "pygments_lexer": "ipython3",
   "version": "3.10.9"
  }
 },
 "nbformat": 4,
 "nbformat_minor": 5
}
