{
 "cells": [
  {
   "cell_type": "code",
   "execution_count": 1,
   "id": "f7005f3c",
   "metadata": {},
   "outputs": [
    {
     "name": "stderr",
     "output_type": "stream",
     "text": [
      "2023-06-06 14:39:32.130378: I tensorflow/core/platform/cpu_feature_guard.cc:182] This TensorFlow binary is optimized to use available CPU instructions in performance-critical operations.\n",
      "To enable the following instructions: AVX2 FMA, in other operations, rebuild TensorFlow with the appropriate compiler flags.\n",
      "2023-06-06 14:39:33.312727: W tensorflow/compiler/tf2tensorrt/utils/py_utils.cc:38] TF-TRT Warning: Could not find TensorRT\n",
      "2023-06-06 14:39:34.828607: I tensorflow/compiler/xla/stream_executor/cuda/cuda_gpu_executor.cc:996] successful NUMA node read from SysFS had negative value (-1), but there must be at least one NUMA node, so returning NUMA node zero. See more at https://github.com/torvalds/linux/blob/v6.0/Documentation/ABI/testing/sysfs-bus-pci#L344-L355\n",
      "2023-06-06 14:39:34.839696: I tensorflow/compiler/xla/stream_executor/cuda/cuda_gpu_executor.cc:996] successful NUMA node read from SysFS had negative value (-1), but there must be at least one NUMA node, so returning NUMA node zero. See more at https://github.com/torvalds/linux/blob/v6.0/Documentation/ABI/testing/sysfs-bus-pci#L344-L355\n",
      "2023-06-06 14:39:34.840265: I tensorflow/compiler/xla/stream_executor/cuda/cuda_gpu_executor.cc:996] successful NUMA node read from SysFS had negative value (-1), but there must be at least one NUMA node, so returning NUMA node zero. See more at https://github.com/torvalds/linux/blob/v6.0/Documentation/ABI/testing/sysfs-bus-pci#L344-L355\n"
     ]
    }
   ],
   "source": [
    "import spacy\n",
    "from spacy import displacy\n",
    "import easyocr\n",
    "import os\n",
    "import cv2\n",
    "import matplotlib.pyplot as plt\n",
    "import numpy as np"
   ]
  },
  {
   "cell_type": "code",
   "execution_count": 59,
   "id": "e39e8e8d",
   "metadata": {},
   "outputs": [],
   "source": [
    "def extract(imagePath):\n",
    "    image = cv2.imread(imagePath)\n",
    "    #plt.imshow(image)\n",
    "    #plt.show()\n",
    "    reader = easyocr.Reader([\"en\"], gpu=False)\n",
    "    result = reader.readtext(imagePath, paragraph=True)\n",
    "    text = []\n",
    "    for detection in result:\n",
    "        text.append(detection[1])\n",
    "    data = \"       \".join(text)\n",
    "    #print(data)\n",
    "    nlpModel = spacy.load(\"en_core_web_sm\")\n",
    "    orgs = []\n",
    "    dates = []\n",
    "    for t in text:\n",
    "        doc = nlpModel(t)\n",
    "        for entity in doc.ents:\n",
    "            if entity.label_ == \"ORG\":\n",
    "                orgs.append(entity.text)\n",
    "            elif entity.label_ == \"DATE\":\n",
    "                dates.append(entity.text)\n",
    "    return orgs, dates"
   ]
  },
  {
   "cell_type": "code",
   "execution_count": 60,
   "id": "585732f6",
   "metadata": {},
   "outputs": [],
   "source": [
    "imagePath = \"/home/aman/Documents/Tally/DocumentAI/Data/images/6.jpeg\""
   ]
  },
  {
   "cell_type": "code",
   "execution_count": 61,
   "id": "9e7873bd",
   "metadata": {},
   "outputs": [
    {
     "name": "stderr",
     "output_type": "stream",
     "text": [
      "Using CPU. Note: This module is much faster with a GPU.\n"
     ]
    },
    {
     "data": {
      "text/plain": [
       "(['Databytes Consulting Technologies Pvt Ltd Company',\n",
       "  'Awfis Renaissance',\n",
       "  'NA',\n",
       "  'Invoice No Invoice Date Terms Due Date Purchase Order No',\n",
       "  'Order Confirmed',\n",
       "  'No.23',\n",
       "  'No.23',\n",
       "  'Lenovo ThinkVision',\n",
       "  'State Bank Of India Branch: Mission Road',\n",
       "  'Terms & Conditions 1'],\n",
       " ['01-01-2023', '560068', '560068', '847330', '40506472381', '30 Days 4'])"
      ]
     },
     "execution_count": 61,
     "metadata": {},
     "output_type": "execute_result"
    }
   ],
   "source": [
    "extract(imagePath)"
   ]
  },
  {
   "cell_type": "code",
   "execution_count": 62,
   "id": "66226580",
   "metadata": {},
   "outputs": [],
   "source": [
    "def check(orgs, dates):\n",
    "    if len(orgs)==0 and len(dates)==0:\n",
    "        return \"\", \"\"\n",
    "    elif len(orgs)==0:\n",
    "        invoiceDate = dates[0]\n",
    "        return \"\", invoiceDate\n",
    "    elif len(dates)==0:\n",
    "        companyName = orgs[0]\n",
    "        return companyName, \"\"\n",
    "    else:\n",
    "        invoiceDate=dates[0]\n",
    "        companyName=orgs[0]\n",
    "        return invoiceDate, companyName"
   ]
  },
  {
   "cell_type": "code",
   "execution_count": 63,
   "id": "2fae465a",
   "metadata": {},
   "outputs": [],
   "source": [
    "def evaluate(dirPath):\n",
    "    os.chdir(dirPath)\n",
    "    dir=os.listdir(dirPath)\n",
    "    i=0\n",
    "    for imagePath in dir:\n",
    "        i+=1\n",
    "        orgs, dates = extract(imagePath)\n",
    "        invoiceDate, companyName = check(orgs, dates)\n",
    "        print(str(i)+\")  \"+imagePath)\n",
    "        print(\"\\n\")\n",
    "        print(\"\\tInvoice Date : \" + invoiceDate)\n",
    "        print(\"\\tCompany Name : \" + companyName)\n",
    "        print(\"\\n\\n\")\n",
    "    "
   ]
  },
  {
   "cell_type": "code",
   "execution_count": 64,
   "id": "bcbe081a",
   "metadata": {},
   "outputs": [
    {
     "data": {
      "text/plain": [
       "'/home/aman/Documents/Tally/DocumentAI/Data/images'"
      ]
     },
     "execution_count": 64,
     "metadata": {},
     "output_type": "execute_result"
    }
   ],
   "source": [
    "pwd"
   ]
  },
  {
   "cell_type": "code",
   "execution_count": 65,
   "id": "a916e2c7",
   "metadata": {},
   "outputs": [],
   "source": [
    "dirPath = '/home/aman/Documents/Tally/DocumentAI/Data/images/'"
   ]
  },
  {
   "cell_type": "code",
   "execution_count": 66,
   "id": "b32b54a0",
   "metadata": {},
   "outputs": [
    {
     "name": "stderr",
     "output_type": "stream",
     "text": [
      "Using CPU. Note: This module is much faster with a GPU.\n",
      "Using CPU. Note: This module is much faster with a GPU.\n"
     ]
    },
    {
     "name": "stdout",
     "output_type": "stream",
     "text": [
      "1)  20.jpeg\n",
      "\n",
      "\n",
      "\tInvoice Date : 0733\n",
      "\tCompany Name : Endeavour Office Solutions Ltd\n",
      "\n",
      "\n",
      "\n",
      "2)  23.jpeg\n",
      "\n",
      "\n",
      "\tInvoice Date : 4/11/2023\n",
      "\tCompany Name : PIN\n",
      "\n",
      "\n",
      "\n"
     ]
    },
    {
     "name": "stderr",
     "output_type": "stream",
     "text": [
      "Using CPU. Note: This module is much faster with a GPU.\n",
      "Using CPU. Note: This module is much faster with a GPU.\n"
     ]
    },
    {
     "name": "stdout",
     "output_type": "stream",
     "text": [
      "3)  28.jpeg\n",
      "\n",
      "\n",
      "\tInvoice Date : 9902016147\n",
      "\tCompany Name : OBAL Group GLOBAL SOFTWARE\n",
      "\n",
      "\n",
      "\n"
     ]
    },
    {
     "name": "stderr",
     "output_type": "stream",
     "text": [
      "Using CPU. Note: This module is much faster with a GPU.\n"
     ]
    },
    {
     "name": "stdout",
     "output_type": "stream",
     "text": [
      "4)  18.jpeg\n",
      "\n",
      "\n",
      "\tInvoice Date : 111454\n",
      "\tCompany Name : DATRTC\n",
      "\n",
      "\n",
      "\n"
     ]
    },
    {
     "name": "stderr",
     "output_type": "stream",
     "text": [
      "Using CPU. Note: This module is much faster with a GPU.\n"
     ]
    },
    {
     "name": "stdout",
     "output_type": "stream",
     "text": [
      "5)  39.jpeg\n",
      "\n",
      "\n",
      "\tInvoice Date : 600096\n",
      "\tCompany Name : Tanushli Industries Pvt Ltd\n",
      "\n",
      "\n",
      "\n"
     ]
    },
    {
     "name": "stderr",
     "output_type": "stream",
     "text": [
      "Using CPU. Note: This module is much faster with a GPU.\n"
     ]
    },
    {
     "name": "stdout",
     "output_type": "stream",
     "text": [
      "6)  22.jpeg\n",
      "\n",
      "\n",
      "\tInvoice Date : 123456\n",
      "\tCompany Name : INV NO:=\n",
      "\n",
      "\n",
      "\n"
     ]
    },
    {
     "name": "stderr",
     "output_type": "stream",
     "text": [
      "Using CPU. Note: This module is much faster with a GPU.\n"
     ]
    },
    {
     "name": "stdout",
     "output_type": "stream",
     "text": [
      "7)  27.jpeg\n",
      "\n",
      "\n",
      "\tInvoice Date : 5096\n",
      "\tCompany Name : Shakti Wholesalers Ltd Invoice No P.\n",
      "\n",
      "\n",
      "\n"
     ]
    },
    {
     "name": "stderr",
     "output_type": "stream",
     "text": [
      "Using CPU. Note: This module is much faster with a GPU.\n"
     ]
    },
    {
     "name": "stdout",
     "output_type": "stream",
     "text": [
      "8)  4.jpeg\n",
      "\n",
      "\n",
      "\tInvoice Date : Buyer\n",
      "\tCompany Name : \n",
      "\n",
      "\n",
      "\n"
     ]
    },
    {
     "name": "stderr",
     "output_type": "stream",
     "text": [
      "Using CPU. Note: This module is much faster with a GPU.\n"
     ]
    },
    {
     "name": "stdout",
     "output_type": "stream",
     "text": [
      "9)  17.jpeg\n",
      "\n",
      "\n",
      "\tInvoice Date : KMI\n",
      "\tCompany Name : \n",
      "\n",
      "\n",
      "\n"
     ]
    },
    {
     "name": "stderr",
     "output_type": "stream",
     "text": [
      "Using CPU. Note: This module is much faster with a GPU.\n"
     ]
    },
    {
     "name": "stdout",
     "output_type": "stream",
     "text": [
      "10)  5.jpeg\n",
      "\n",
      "\n",
      "\tInvoice Date : 19448192990\n",
      "\tCompany Name : Gold-J19\n",
      "\n",
      "\n",
      "\n"
     ]
    },
    {
     "name": "stderr",
     "output_type": "stream",
     "text": [
      "Using CPU. Note: This module is much faster with a GPU.\n"
     ]
    },
    {
     "name": "stdout",
     "output_type": "stream",
     "text": [
      "11)  9.jpeg\n",
      "\n",
      "\n",
      "\tInvoice Date : 100484921000003\n",
      "\tCompany Name : AWB BL Weight\n",
      "\n",
      "\n",
      "\n"
     ]
    },
    {
     "name": "stderr",
     "output_type": "stream",
     "text": [
      "Using CPU. Note: This module is much faster with a GPU.\n"
     ]
    },
    {
     "name": "stdout",
     "output_type": "stream",
     "text": [
      "12)  3.jpeg\n",
      "\n",
      "\n",
      "\tInvoice Date : 000369\n",
      "\tCompany Name : State\n",
      "\n",
      "\n",
      "\n"
     ]
    },
    {
     "name": "stderr",
     "output_type": "stream",
     "text": [
      "Using CPU. Note: This module is much faster with a GPU.\n"
     ]
    },
    {
     "name": "stdout",
     "output_type": "stream",
     "text": [
      "13)  24.jpeg\n",
      "\n",
      "\n",
      "\tInvoice Date : \n",
      "\tCompany Name : 6 8\n",
      "\n",
      "\n",
      "\n"
     ]
    },
    {
     "name": "stderr",
     "output_type": "stream",
     "text": [
      "Using CPU. Note: This module is much faster with a GPU.\n"
     ]
    },
    {
     "name": "stdout",
     "output_type": "stream",
     "text": [
      "14)  25.jpeg\n",
      "\n",
      "\n",
      "\tInvoice Date : 222304114073228\n",
      "\tCompany Name : 2nd Floor\n",
      "\n",
      "\n",
      "\n"
     ]
    },
    {
     "name": "stderr",
     "output_type": "stream",
     "text": [
      "Using CPU. Note: This module is much faster with a GPU.\n"
     ]
    },
    {
     "name": "stdout",
     "output_type": "stream",
     "text": [
      "15)  34.jpeg\n",
      "\n",
      "\n",
      "\tInvoice Date : 38912065-20230401\n",
      "\tCompany Name : Customer Monthly Summary Report Hexa Development And Services'S\n",
      "\n",
      "\n",
      "\n"
     ]
    },
    {
     "name": "stderr",
     "output_type": "stream",
     "text": [
      "Using CPU. Note: This module is much faster with a GPU.\n"
     ]
    },
    {
     "name": "stdout",
     "output_type": "stream",
     "text": [
      "16)  7.jpeg\n",
      "\n",
      "\n",
      "\tInvoice Date : 21-08-2022\n",
      "\tCompany Name : TATA IMG Technologies Pvt Ltd\n",
      "\n",
      "\n",
      "\n"
     ]
    },
    {
     "name": "stderr",
     "output_type": "stream",
     "text": [
      "Using CPU. Note: This module is much faster with a GPU.\n"
     ]
    },
    {
     "name": "stdout",
     "output_type": "stream",
     "text": [
      "17)  41.jpeg\n",
      "\n",
      "\n",
      "\tInvoice Date : 2017-18\n",
      "\tCompany Name : InterGlobe Aviation Limited\n",
      "\n",
      "\n",
      "\n"
     ]
    },
    {
     "name": "stderr",
     "output_type": "stream",
     "text": [
      "Using CPU. Note: This module is much faster with a GPU.\n"
     ]
    },
    {
     "name": "stdout",
     "output_type": "stream",
     "text": [
      "18)  33.jpeg\n",
      "\n",
      "\n",
      "\tInvoice Date : 76/2022-2023\n",
      "\tCompany Name : Charles High School St.\n",
      "\n",
      "\n",
      "\n"
     ]
    },
    {
     "name": "stderr",
     "output_type": "stream",
     "text": [
      "Using CPU. Note: This module is much faster with a GPU.\n"
     ]
    },
    {
     "name": "stdout",
     "output_type": "stream",
     "text": [
      "19)  21.jpeg\n",
      "\n",
      "\n",
      "\tInvoice Date : 8136\n",
      "\tCompany Name : EC\n",
      "\n",
      "\n",
      "\n"
     ]
    },
    {
     "name": "stderr",
     "output_type": "stream",
     "text": [
      "Using CPU. Note: This module is much faster with a GPU.\n"
     ]
    },
    {
     "name": "stdout",
     "output_type": "stream",
     "text": [
      "20)  14.jpeg\n",
      "\n",
      "\n",
      "\tInvoice Date : 8th Main,4th\n",
      "\tCompany Name : Pentagon System And Services Pvt\n",
      "\n",
      "\n",
      "\n"
     ]
    },
    {
     "name": "stderr",
     "output_type": "stream",
     "text": [
      "Using CPU. Note: This module is much faster with a GPU.\n"
     ]
    },
    {
     "name": "stdout",
     "output_type": "stream",
     "text": [
      "21)  38.jpeg\n",
      "\n",
      "\n",
      "\tInvoice Date : January Zth 2020\n",
      "\tCompany Name : Invoice # Invoice Date\n",
      "\n",
      "\n",
      "\n"
     ]
    },
    {
     "name": "stderr",
     "output_type": "stream",
     "text": [
      "Using CPU. Note: This module is much faster with a GPU.\n"
     ]
    },
    {
     "name": "stdout",
     "output_type": "stream",
     "text": [
      "22)  11.jpeg\n",
      "\n",
      "\n",
      "\tInvoice Date : 49 33 OM FEMALE 9008676839\n",
      "\tCompany Name : RK Mospitals\n",
      "\n",
      "\n",
      "\n"
     ]
    },
    {
     "name": "stderr",
     "output_type": "stream",
     "text": [
      "Using CPU. Note: This module is much faster with a GPU.\n"
     ]
    },
    {
     "name": "stdout",
     "output_type": "stream",
     "text": [
      "23)  6.jpeg\n",
      "\n",
      "\n",
      "\tInvoice Date : 01-01-2023\n",
      "\tCompany Name : Databytes Consulting Technologies Pvt Ltd Company\n",
      "\n",
      "\n",
      "\n"
     ]
    },
    {
     "name": "stderr",
     "output_type": "stream",
     "text": [
      "Using CPU. Note: This module is much faster with a GPU.\n"
     ]
    },
    {
     "name": "stdout",
     "output_type": "stream",
     "text": [
      "24)  30.jpeg\n",
      "\n",
      "\n",
      "\tInvoice Date : 998552\n",
      "\tCompany Name : CUSTOMER\n",
      "\n",
      "\n",
      "\n"
     ]
    },
    {
     "name": "stderr",
     "output_type": "stream",
     "text": [
      "Using CPU. Note: This module is much faster with a GPU.\n"
     ]
    },
    {
     "name": "stdout",
     "output_type": "stream",
     "text": [
      "25)  37.jpeg\n",
      "\n",
      "\n",
      "\tInvoice Date : 201241291\n",
      "\tCompany Name : TES\n",
      "\n",
      "\n",
      "\n"
     ]
    },
    {
     "name": "stderr",
     "output_type": "stream",
     "text": [
      "Using CPU. Note: This module is much faster with a GPU.\n"
     ]
    },
    {
     "name": "stdout",
     "output_type": "stream",
     "text": [
      "26)  15.jpeg\n",
      "\n",
      "\n",
      "\tInvoice Date : 562149\n",
      "\tCompany Name : Plot\n",
      "\n",
      "\n",
      "\n"
     ]
    },
    {
     "name": "stderr",
     "output_type": "stream",
     "text": [
      "Using CPU. Note: This module is much faster with a GPU.\n"
     ]
    },
    {
     "name": "stdout",
     "output_type": "stream",
     "text": [
      "27)  29.jpeg\n",
      "\n",
      "\n",
      "\tInvoice Date : 400080\n",
      "\tCompany Name : LTD\n",
      "\n",
      "\n",
      "\n"
     ]
    },
    {
     "name": "stderr",
     "output_type": "stream",
     "text": [
      "Using CPU. Note: This module is much faster with a GPU.\n"
     ]
    },
    {
     "name": "stdout",
     "output_type": "stream",
     "text": [
      "28)  36.jpeg\n",
      "\n",
      "\n",
      "\tInvoice Date : 560068\n",
      "\tCompany Name : Sodexo\n",
      "\n",
      "\n",
      "\n"
     ]
    },
    {
     "name": "stderr",
     "output_type": "stream",
     "text": [
      "Using CPU. Note: This module is much faster with a GPU.\n"
     ]
    },
    {
     "name": "stdout",
     "output_type": "stream",
     "text": [
      "29)  12.jpeg\n",
      "\n",
      "\n",
      "\tInvoice Date : 2 19,5 99\n",
      "\tCompany Name : MEALS\n",
      "\n",
      "\n",
      "\n"
     ]
    },
    {
     "name": "stderr",
     "output_type": "stream",
     "text": [
      "Using CPU. Note: This module is much faster with a GPU.\n"
     ]
    },
    {
     "name": "stdout",
     "output_type": "stream",
     "text": [
      "30)  35.jpeg\n",
      "\n",
      "\n",
      "\tInvoice Date : 29036345\n",
      "\tCompany Name : PT SARATHY GEOTECH & ENGINEERING SERVICES\n",
      "\n",
      "\n",
      "\n"
     ]
    },
    {
     "name": "stderr",
     "output_type": "stream",
     "text": [
      "Using CPU. Note: This module is much faster with a GPU.\n"
     ]
    },
    {
     "name": "stdout",
     "output_type": "stream",
     "text": [
      "31)  10.jpeg\n",
      "\n",
      "\n",
      "\tInvoice Date : 80 25472225\n",
      "\tCompany Name : PAN Card\n",
      "\n",
      "\n",
      "\n"
     ]
    },
    {
     "name": "stderr",
     "output_type": "stream",
     "text": [
      "Using CPU. Note: This module is much faster with a GPU.\n"
     ]
    },
    {
     "name": "stdout",
     "output_type": "stream",
     "text": [
      "32)  32.jpeg\n",
      "\n",
      "\n",
      "\tInvoice Date : 27/12/2022\n",
      "\tCompany Name : REGIB2C\n",
      "\n",
      "\n",
      "\n"
     ]
    },
    {
     "name": "stderr",
     "output_type": "stream",
     "text": [
      "Using CPU. Note: This module is much faster with a GPU.\n"
     ]
    },
    {
     "name": "stdout",
     "output_type": "stream",
     "text": [
      "33)  8.jpeg\n",
      "\n",
      "\n",
      "\tInvoice Date : 4 3264552\n",
      "\tCompany Name : P CAP\n",
      "\n",
      "\n",
      "\n"
     ]
    },
    {
     "name": "stderr",
     "output_type": "stream",
     "text": [
      "Using CPU. Note: This module is much faster with a GPU.\n"
     ]
    },
    {
     "name": "stdout",
     "output_type": "stream",
     "text": [
      "34)  40.jpeg\n",
      "\n",
      "\n",
      "\tInvoice Date : 10 May 2019\n",
      "\tCompany Name : M.IJJ DESTINATION MANAGEMENT PVT LTD TM\n",
      "\n",
      "\n",
      "\n"
     ]
    },
    {
     "name": "stderr",
     "output_type": "stream",
     "text": [
      "Using CPU. Note: This module is much faster with a GPU.\n"
     ]
    },
    {
     "name": "stdout",
     "output_type": "stream",
     "text": [
      "35)  16.jpeg\n",
      "\n",
      "\n",
      "\tInvoice Date : 123456\n",
      "\tCompany Name : Demo Company Limited\n",
      "\n",
      "\n",
      "\n"
     ]
    },
    {
     "name": "stderr",
     "output_type": "stream",
     "text": [
      "Using CPU. Note: This module is much faster with a GPU.\n"
     ]
    },
    {
     "name": "stdout",
     "output_type": "stream",
     "text": [
      "36)  13.jpeg\n",
      "\n",
      "\n",
      "\tInvoice Date : 201023265\n",
      "\tCompany Name : Address4\n",
      "\n",
      "\n",
      "\n"
     ]
    },
    {
     "name": "stderr",
     "output_type": "stream",
     "text": [
      "Using CPU. Note: This module is much faster with a GPU.\n"
     ]
    },
    {
     "name": "stdout",
     "output_type": "stream",
     "text": [
      "37)  31.jpeg\n",
      "\n",
      "\n",
      "\tInvoice Date : 201023265\n",
      "\tCompany Name : MemolTax Invoice Company\n",
      "\n",
      "\n",
      "\n"
     ]
    },
    {
     "name": "stderr",
     "output_type": "stream",
     "text": [
      "Using CPU. Note: This module is much faster with a GPU.\n"
     ]
    },
    {
     "name": "stdout",
     "output_type": "stream",
     "text": [
      "38)  19.jpeg\n",
      "\n",
      "\n",
      "\tInvoice Date : 162313520684139\n",
      "\tCompany Name : LG\n",
      "\n",
      "\n",
      "\n",
      "39)  26.jpeg\n",
      "\n",
      "\n",
      "\tInvoice Date : 1001-0110-ASSTD\n",
      "\tCompany Name : S22\n",
      "\n",
      "\n",
      "\n"
     ]
    }
   ],
   "source": [
    "evaluate(dirPath)"
   ]
  },
  {
   "cell_type": "code",
   "execution_count": null,
   "id": "562c4f66",
   "metadata": {},
   "outputs": [],
   "source": []
  }
 ],
 "metadata": {
  "kernelspec": {
   "display_name": "Python 3 (ipykernel)",
   "language": "python",
   "name": "python3"
  },
  "language_info": {
   "codemirror_mode": {
    "name": "ipython",
    "version": 3
   },
   "file_extension": ".py",
   "mimetype": "text/x-python",
   "name": "python",
   "nbconvert_exporter": "python",
   "pygments_lexer": "ipython3",
   "version": "3.10.9"
  }
 },
 "nbformat": 4,
 "nbformat_minor": 5
}
