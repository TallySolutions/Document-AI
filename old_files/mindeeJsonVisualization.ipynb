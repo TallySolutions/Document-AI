{
 "cells": [
  {
   "cell_type": "code",
   "execution_count": 2,
   "id": "13939b4f",
   "metadata": {},
   "outputs": [],
   "source": [
    "import os\n",
    "import json\n",
    "import numpy as np\n",
    "import matplotlib.pyplot as plt\n",
    "import cv2"
   ]
  },
  {
   "cell_type": "code",
   "execution_count": 3,
   "id": "e9d7a70e",
   "metadata": {},
   "outputs": [
    {
     "data": {
      "text/plain": [
       "'/home/aman/Documents/Tally/DocumentAI/Code'"
      ]
     },
     "execution_count": 3,
     "metadata": {},
     "output_type": "execute_result"
    }
   ],
   "source": [
    "pwd"
   ]
  },
  {
   "cell_type": "code",
   "execution_count": 4,
   "id": "cc64247f",
   "metadata": {},
   "outputs": [],
   "source": [
    "os.chdir('/home/aman/Documents/Tally/DocumentAI/Data/MindeeDataset/')"
   ]
  },
  {
   "cell_type": "code",
   "execution_count": 5,
   "id": "f5f96ffe",
   "metadata": {},
   "outputs": [
    {
     "data": {
      "text/plain": [
       "['labels', 'candidates', 'files', 'mapping.csv']"
      ]
     },
     "execution_count": 5,
     "metadata": {},
     "output_type": "execute_result"
    }
   ],
   "source": [
    "os.listdir()"
   ]
  },
  {
   "cell_type": "code",
   "execution_count": 8,
   "id": "6e254cdc",
   "metadata": {},
   "outputs": [],
   "source": [
    "labelsPath = '/home/aman/Documents/Tally/DocumentAI/Data/MindeeDataset/labels'\n",
    "candidatesPath = '/home/aman/Documents/Tally/DocumentAI/Data/MindeeDataset/candidates/'\n",
    "filesPath = '/home/aman/Documents/Tally/DocumentAI/Data/MindeeDataset/files/'"
   ]
  },
  {
   "cell_type": "code",
   "execution_count": 20,
   "id": "cf50e836",
   "metadata": {},
   "outputs": [],
   "source": [
    "os.chdir('/home/aman/Documents/Tally/DocumentAI/Data/MindeeDataset/candidates//')\n",
    "file = open(os.listdir(candidatesPath)[0])"
   ]
  },
  {
   "cell_type": "code",
   "execution_count": 21,
   "id": "d3201b01",
   "metadata": {},
   "outputs": [],
   "source": [
    "data = json.load(file)"
   ]
  },
  {
   "cell_type": "code",
   "execution_count": 22,
   "id": "b71e47ac",
   "metadata": {},
   "outputs": [
    {
     "data": {
      "text/plain": [
       "{'extraction': {'pages': [{'invoice_date': [{'content': '2022-08-17',\n",
       "      'key': '95741e43',\n",
       "      'polygon': [[0.289, 0.124],\n",
       "       [0.358, 0.124],\n",
       "       [0.358, 0.132],\n",
       "       [0.289, 0.132]]},\n",
       "     {'content': '2022-08-19',\n",
       "      'key': 'b92b1c87',\n",
       "      'polygon': [[0.105, 0.724],\n",
       "       [0.22, 0.723],\n",
       "       [0.221, 0.745],\n",
       "       [0.105, 0.746]]},\n",
       "     {'content': '2017-08-22',\n",
       "      'key': '42d606ed',\n",
       "      'polygon': [[0.365, 0.702],\n",
       "       [0.463, 0.705],\n",
       "       [0.462, 0.725],\n",
       "       [0.364, 0.722]]}]}]},\n",
       " 'classification': {}}"
      ]
     },
     "execution_count": 22,
     "metadata": {},
     "output_type": "execute_result"
    }
   ],
   "source": [
    "data"
   ]
  },
  {
   "cell_type": "code",
   "execution_count": 23,
   "id": "3b1d6188",
   "metadata": {},
   "outputs": [
    {
     "data": {
      "text/plain": [
       "dict_keys(['extraction', 'classification'])"
      ]
     },
     "execution_count": 23,
     "metadata": {},
     "output_type": "execute_result"
    }
   ],
   "source": [
    "data.keys()"
   ]
  },
  {
   "cell_type": "code",
   "execution_count": 40,
   "id": "02553d7a",
   "metadata": {},
   "outputs": [
    {
     "data": {
      "text/plain": [
       "{'content': '2017-08-22',\n",
       " 'key': '42d606ed',\n",
       " 'polygon': [[0.365, 0.702], [0.463, 0.705], [0.462, 0.725], [0.364, 0.722]]}"
      ]
     },
     "execution_count": 40,
     "metadata": {},
     "output_type": "execute_result"
    }
   ],
   "source": [
    "data[\"extraction\"][\"pages\"][0][\"invoice_date\"][2]"
   ]
  },
  {
   "cell_type": "code",
   "execution_count": 36,
   "id": "714d59ca",
   "metadata": {},
   "outputs": [
    {
     "data": {
      "text/plain": [
       "{}"
      ]
     },
     "execution_count": 36,
     "metadata": {},
     "output_type": "execute_result"
    }
   ],
   "source": [
    "data[\"classification\"]"
   ]
  },
  {
   "cell_type": "code",
   "execution_count": null,
   "id": "6e1c7eca",
   "metadata": {},
   "outputs": [],
   "source": [
    "def createDataset(X, Y):\n",
    "    os.chdir('/home/aman/Documents/Tally/DocumentAI/Data/MindeeDataset/candidates/')\n",
    "    candidatesDir = os.listdir(candidatesPath)\n",
    "    \n",
    "    "
   ]
  }
 ],
 "metadata": {
  "kernelspec": {
   "display_name": "Python 3 (ipykernel)",
   "language": "python",
   "name": "python3"
  },
  "language_info": {
   "codemirror_mode": {
    "name": "ipython",
    "version": 3
   },
   "file_extension": ".py",
   "mimetype": "text/x-python",
   "name": "python",
   "nbconvert_exporter": "python",
   "pygments_lexer": "ipython3",
   "version": "3.10.9"
  }
 },
 "nbformat": 4,
 "nbformat_minor": 5
}
