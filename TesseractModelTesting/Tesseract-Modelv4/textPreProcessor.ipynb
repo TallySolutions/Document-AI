{
 "cells": [
  {
   "cell_type": "code",
   "execution_count": 1,
   "id": "45af841d",
   "metadata": {},
   "outputs": [
    {
     "name": "stderr",
     "output_type": "stream",
     "text": [
      "2023-06-15 11:07:17.822897: I tensorflow/core/platform/cpu_feature_guard.cc:182] This TensorFlow binary is optimized to use available CPU instructions in performance-critical operations.\n",
      "To enable the following instructions: AVX2 FMA, in other operations, rebuild TensorFlow with the appropriate compiler flags.\n"
     ]
    }
   ],
   "source": [
    "import os\n",
    "import numpy as np\n",
    "import pandas as pd\n",
    "import cv2\n",
    "import matplotlib.pyplot as plt\n",
    "import spacy\n",
    "from spacy import displacy\n",
    "import pytesseract\n",
    "from pytesseract import Output\n",
    "pytesseract.pytesseract.tesseract_cmd=\"/home/aman/anaconda3/envs/tallyInvoiceParser.env/bin/tesseract\"\n",
    "os.environ['TESSDATA_PREFIX'] = \"/home/aman/anaconda3/envs/tallyInvoiceParser.env/share/tessdata\"\n",
    "from datetime import datetime\n",
    "import dateparser\n",
    "import datefinder"
   ]
  },
  {
   "cell_type": "code",
   "execution_count": 2,
   "id": "10fa8f0e",
   "metadata": {},
   "outputs": [],
   "source": [
    "def verifyDate(text):\n",
    "            \n",
    "    dates = list(datefinder.find_dates(text))\n",
    "    \n",
    "    if len(dates)==0:\n",
    "        return False\n",
    "    else:\n",
    "        return True"
   ]
  },
  {
   "cell_type": "code",
   "execution_count": 6,
   "id": "7f889a14",
   "metadata": {},
   "outputs": [],
   "source": [
    "text = \"Booking Date : Monday, 24th October\""
   ]
  },
  {
   "cell_type": "code",
   "execution_count": 7,
   "id": "e5ccb38d",
   "metadata": {},
   "outputs": [],
   "source": [
    "nlpmodel = spacy.load(\"en_core_web_sm\")"
   ]
  },
  {
   "cell_type": "code",
   "execution_count": 9,
   "id": "73d231ea",
   "metadata": {},
   "outputs": [],
   "source": [
    "doc = nlpmodel(text)"
   ]
  },
  {
   "cell_type": "code",
   "execution_count": 10,
   "id": "1c64409e",
   "metadata": {},
   "outputs": [
    {
     "data": {
      "text/html": [
       "<span class=\"tex2jax_ignore\"><div class=\"entities\" style=\"line-height: 2.5; direction: ltr\">Booking Date : \n",
       "<mark class=\"entity\" style=\"background: #bfe1d9; padding: 0.45em 0.6em; margin: 0 0.25em; line-height: 1; border-radius: 0.35em;\">\n",
       "    Monday\n",
       "    <span style=\"font-size: 0.8em; font-weight: bold; line-height: 1; border-radius: 0.35em; vertical-align: middle; margin-left: 0.5rem\">DATE</span>\n",
       "</mark>\n",
       ", \n",
       "<mark class=\"entity\" style=\"background: #bfe1d9; padding: 0.45em 0.6em; margin: 0 0.25em; line-height: 1; border-radius: 0.35em;\">\n",
       "    24th October\n",
       "    <span style=\"font-size: 0.8em; font-weight: bold; line-height: 1; border-radius: 0.35em; vertical-align: middle; margin-left: 0.5rem\">DATE</span>\n",
       "</mark>\n",
       "</div></span>"
      ],
      "text/plain": [
       "<IPython.core.display.HTML object>"
      ]
     },
     "metadata": {},
     "output_type": "display_data"
    }
   ],
   "source": [
    "displacy.render(doc, jupyter=True, style=\"ent\")"
   ]
  },
  {
   "cell_type": "code",
   "execution_count": null,
   "id": "2eaa7d47",
   "metadata": {},
   "outputs": [],
   "source": []
  }
 ],
 "metadata": {
  "kernelspec": {
   "display_name": "tallyInvoiceParser",
   "language": "python",
   "name": "tallyinvoiceparser"
  },
  "language_info": {
   "codemirror_mode": {
    "name": "ipython",
    "version": 3
   },
   "file_extension": ".py",
   "mimetype": "text/x-python",
   "name": "python",
   "nbconvert_exporter": "python",
   "pygments_lexer": "ipython3",
   "version": "3.10.9"
  }
 },
 "nbformat": 4,
 "nbformat_minor": 5
}
