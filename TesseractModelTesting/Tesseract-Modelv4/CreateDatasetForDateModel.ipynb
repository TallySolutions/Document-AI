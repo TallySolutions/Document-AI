{
 "cells": [
  {
   "cell_type": "code",
   "execution_count": 1,
   "id": "c7ae2491",
   "metadata": {},
   "outputs": [
    {
     "name": "stderr",
     "output_type": "stream",
     "text": [
      "2023-06-15 10:24:55.535574: I tensorflow/core/platform/cpu_feature_guard.cc:182] This TensorFlow binary is optimized to use available CPU instructions in performance-critical operations.\n",
      "To enable the following instructions: AVX2 FMA, in other operations, rebuild TensorFlow with the appropriate compiler flags.\n"
     ]
    },
    {
     "name": "stdout",
     "output_type": "stream",
     "text": [
      "importing Jupyter notebook from textPreProcessor.ipynb\n",
      "Original Date ----> After Processing \n",
      "\n",
      "5-12-22\n",
      "True\n",
      "2-2-2023\n",
      "True\n",
      "5-12-2023\n",
      "True\n",
      "5-05-2023\n",
      "True\n",
      "5-05-2023\n",
      "True\n",
      "10-24-2022\n",
      "True\n",
      "10-24-2022\n",
      "True\n",
      "22-05-2023\n",
      "True\n",
      "21-02-23\n",
      "True\n",
      "5-12-22\n",
      "True\n",
      "31-08-2022\n",
      "True\n",
      "importing Jupyter notebook from imagePreProcessor.ipynb\n",
      "importing Jupyter notebook from TesseractModify.ipynb\n"
     ]
    },
    {
     "ename": "NameError",
     "evalue": "name 'pwd' is not defined",
     "output_type": "error",
     "traceback": [
      "\u001b[0;31m---------------------------------------------------------------------------\u001b[0m",
      "\u001b[0;31mNameError\u001b[0m                                 Traceback (most recent call last)",
      "Cell \u001b[0;32mIn[1], line 15\u001b[0m\n\u001b[1;32m     13\u001b[0m \u001b[38;5;28;01mfrom\u001b[39;00m \u001b[38;5;21;01mtextPreProcessor\u001b[39;00m \u001b[38;5;28;01mimport\u001b[39;00m \u001b[38;5;241m*\u001b[39m\n\u001b[1;32m     14\u001b[0m \u001b[38;5;28;01mfrom\u001b[39;00m \u001b[38;5;21;01mimagePreProcessor\u001b[39;00m \u001b[38;5;28;01mimport\u001b[39;00m \u001b[38;5;241m*\u001b[39m\n\u001b[0;32m---> 15\u001b[0m \u001b[38;5;28;01mfrom\u001b[39;00m \u001b[38;5;21;01mTesseractModify\u001b[39;00m \u001b[38;5;28;01mimport\u001b[39;00m \u001b[38;5;241m*\u001b[39m\n\u001b[1;32m     16\u001b[0m \u001b[38;5;28;01mfrom\u001b[39;00m \u001b[38;5;21;01mdatetime\u001b[39;00m \u001b[38;5;28;01mimport\u001b[39;00m datetime\n\u001b[1;32m     17\u001b[0m \u001b[38;5;28;01mimport\u001b[39;00m \u001b[38;5;21;01mmath\u001b[39;00m\n",
      "File \u001b[0;32m<frozen importlib._bootstrap>:1027\u001b[0m, in \u001b[0;36m_find_and_load\u001b[0;34m(name, import_)\u001b[0m\n",
      "File \u001b[0;32m<frozen importlib._bootstrap>:1006\u001b[0m, in \u001b[0;36m_find_and_load_unlocked\u001b[0;34m(name, import_)\u001b[0m\n",
      "File \u001b[0;32m<frozen importlib._bootstrap>:672\u001b[0m, in \u001b[0;36m_load_unlocked\u001b[0;34m(spec)\u001b[0m\n",
      "File \u001b[0;32m<frozen importlib._bootstrap>:632\u001b[0m, in \u001b[0;36m_load_backward_compatible\u001b[0;34m(spec)\u001b[0m\n",
      "File \u001b[0;32m~/anaconda3/lib/python3.10/site-packages/import_ipynb.py:61\u001b[0m, in \u001b[0;36mNotebookLoader.load_module\u001b[0;34m(self, fullname)\u001b[0m\n\u001b[1;32m     59\u001b[0m         code \u001b[38;5;241m=\u001b[39m \u001b[38;5;28mself\u001b[39m\u001b[38;5;241m.\u001b[39mshell\u001b[38;5;241m.\u001b[39minput_transformer_manager\u001b[38;5;241m.\u001b[39mtransform_cell(cell\u001b[38;5;241m.\u001b[39msource)\n\u001b[1;32m     60\u001b[0m         \u001b[38;5;66;03m# run the code in themodule\u001b[39;00m\n\u001b[0;32m---> 61\u001b[0m         \u001b[43mexec\u001b[49m\u001b[43m(\u001b[49m\u001b[43mcode\u001b[49m\u001b[43m,\u001b[49m\u001b[43m \u001b[49m\u001b[43mmod\u001b[49m\u001b[38;5;241;43m.\u001b[39;49m\u001b[38;5;18;43m__dict__\u001b[39;49m\u001b[43m)\u001b[49m\n\u001b[1;32m     62\u001b[0m \u001b[38;5;28;01mfinally\u001b[39;00m:\n\u001b[1;32m     63\u001b[0m     \u001b[38;5;28mself\u001b[39m\u001b[38;5;241m.\u001b[39mshell\u001b[38;5;241m.\u001b[39muser_ns \u001b[38;5;241m=\u001b[39m save_user_ns\n",
      "File \u001b[0;32m<string>:1\u001b[0m\n",
      "\u001b[0;31mNameError\u001b[0m: name 'pwd' is not defined"
     ]
    }
   ],
   "source": [
    "import cv2\n",
    "import os\n",
    "import numpy as np\n",
    "import pandas as pd\n",
    "import spacy\n",
    "from spacy import displacy\n",
    "import pytesseract\n",
    "from pytesseract import Output\n",
    "import matplotlib.pyplot as plt\n",
    "pytesseract.pytesseract.tesseract_cmd=\"/home/aman/anaconda3/envs/tallyInvoiceParser.env/bin/tesseract\"\n",
    "os.environ['TESSDATA_PREFIX'] = \"/home/aman/anaconda3/envs/tallyInvoiceParser.env/share/tessdata\"\n",
    "import import_ipynb\n",
    "from textPreProcessor import *\n",
    "from imagePreProcessor import *\n",
    "from TesseractModify import *\n",
    "from datetime import datetime\n",
    "import math\n",
    "import dateparser"
   ]
  },
  {
   "cell_type": "code",
   "execution_count": null,
   "id": "8957924c",
   "metadata": {},
   "outputs": [],
   "source": [
    "imagesFolderPath = '/home/aman/Documents/Tally/DocumentAI/Code/Tesseract-Modelv4/Dataset/SampleImages/'"
   ]
  },
  {
   "cell_type": "code",
   "execution_count": 2,
   "id": "daac4c16",
   "metadata": {},
   "outputs": [],
   "source": [
    "def preProcessDataFrame(df, image):\n",
    "    #drop null values\n",
    "    df.dropna(inplace=True)\n",
    "    \n",
    "    \n",
    "    #rows having text as a stopword removed\n",
    "    indexesToDrop = []\n",
    "    stopwords = [\"\", \" \", \"  \", \"/\", \":\", \"-\", \".\", \",\", \"\\n\", \"\\t\", \"\\\\\", \"(\", \")\", \"[\", \"]\", \"{\", \"}\", \"*\", \"&\", \"%\", \"$\", \"#\", \"|\"]\n",
    "    for index in df.index:\n",
    "        if df[\"text\"][index] in stopwords:\n",
    "            indexesToDrop.append(index)   \n",
    "    df.drop(indexesToDrop, inplace=True)\n",
    "    \n",
    "    #resetting the index\n",
    "    df.reset_index(inplace=True)\n",
    "    df.drop(columns=[\"index\"], inplace=True)\n",
    "    \n",
    "    #creating new columns for centroid information\n",
    "    df[\"x\"] = df[\"left\"] + df[\"width\"] \n",
    "    df[\"y\"] = df[\"top\"] + df[\"height\"]\n",
    "    \n",
    "    df[\"PageHeight\"] = image.shape[0]\n",
    "    df[\"PageWidth\"] = image.shape[1]\n",
    "    \n",
    "    df[\"isTop\"] = 0\n",
    "    df[\"isBottom\"] = 0\n",
    "    df[\"isRight\"] = 0\n",
    "    df[\"isLeft\"] = 0"
   ]
  },
  {
   "cell_type": "code",
   "execution_count": 3,
   "id": "5d67e0e4",
   "metadata": {},
   "outputs": [],
   "source": [
    "def findDate(dateDF):\n",
    "    dates = []\n",
    "    \n",
    "    format = \"%d-%m-%Y\"\n",
    "    for index in dateDF.index:\n",
    "        text = dateDF[\"text\"][index]\n",
    "        res = True\n",
    "        try:\n",
    "            res = bool(datetime.strptime(text, format))\n",
    "        except ValueError:\n",
    "            res = False\n",
    "        if str(res)==\"True\":\n",
    "            dates.append(dateDF[\"text\"][index])\n",
    "            \n",
    "    format = \"%m-%d-%Y\"\n",
    "    for index in dateDF.index:\n",
    "        text = dateDF[\"text\"][index]\n",
    "        res = True\n",
    "        try:\n",
    "            res = bool(datetime.strptime(text, format))\n",
    "        except ValueError:\n",
    "            res = False\n",
    "        if str(res)==\"True\":\n",
    "            dates.append(dateDF[\"text\"][index])\n",
    "            \n",
    "    format = \"%y-%m-%d\"\n",
    "    for index in dateDF.index:\n",
    "        text = dateDF[\"text\"][index]\n",
    "        res = True\n",
    "        try:\n",
    "            res = bool(datetime.strptime(text, format))\n",
    "        except ValueError:\n",
    "            res = False\n",
    "        if str(res)==\"True\":\n",
    "            dates.append(dateDF[\"text\"][index])\n",
    "            \n",
    "    return dates"
   ]
  },
  {
   "cell_type": "code",
   "execution_count": 4,
   "id": "cf56bc6c",
   "metadata": {},
   "outputs": [],
   "source": [
    "def extractDateDataFrame(df):\n",
    "    dateDF = df.copy()\n",
    "    for index in dateDF.index:\n",
    "        text = dateDF[\"text\"][index]\n",
    "        dateDF[\"text\"][index] = preProcessText(text)\n",
    "    dates = findDate(dateDF)\n",
    "    return dateDF, dates\n",
    "    \n",
    "        "
   ]
  },
  {
   "cell_type": "code",
   "execution_count": 5,
   "id": "2c5f4f16",
   "metadata": {},
   "outputs": [],
   "source": [
    "def returnDist(x1, y1, x2, y2):\n",
    "    p = [x1, y1]\n",
    "    q = [x2, y2]\n",
    "    return math.dist(p, q)"
   ]
  },
  {
   "cell_type": "code",
   "execution_count": 6,
   "id": "7745017e",
   "metadata": {},
   "outputs": [],
   "source": [
    "def allocateNeighbours(df, neighbourFields):\n",
    "    for index in df.index:\n",
    "        x1 = df[\"x\"][index]/df[\"PageWidth\"][index]\n",
    "        y1 = df[\"y\"][index]/df[\"PageHeight\"][index]\n",
    "        block = df[\"block_num\"][index]\n",
    "        neighbours = {}\n",
    "        for index2 in df.index:\n",
    "            x2 = df[\"x\"][index2]/df[\"PageWidth\"][index2]\n",
    "            y2 = df[\"y\"][index2]/df[\"PageHeight\"][index2]\n",
    "            block2 = df[\"block_num\"][index2]\n",
    "            dist = returnDist(x1, y1, x2, y2)\n",
    "            if dist<0.2:\n",
    "                neighbours[df[\"text\"][index2].lower()]=dist\n",
    "            if abs(y1-y2)<0.2 and abs(block2-block)<=1<=1:\n",
    "                neighbours[df[\"text\"][index2].lower()] = dist\n",
    "        for n in neighbourFields:\n",
    "            if n in neighbours:\n",
    "                df[n][index]=neighbours[n]"
   ]
  },
  {
   "cell_type": "code",
   "execution_count": 7,
   "id": "55783e92",
   "metadata": {},
   "outputs": [],
   "source": [
    "def addNeighbours(df):\n",
    "    neighbourFields = [\"date\", \"dated\", \"invoice\", \"delivery\", \"order\", \"due\", \"payment\", \"tax\", \"bill\", \"receipt\", \"issue\"]\n",
    "    for col in neighbourFields:\n",
    "        df[col]=0\n",
    "    allocateNeighbours(df, neighbourFields)\n",
    "    "
   ]
  },
  {
   "cell_type": "code",
   "execution_count": 8,
   "id": "0b533640",
   "metadata": {},
   "outputs": [],
   "source": [
    "def findDateDF(dates, dateDF):\n",
    "    indexes = []\n",
    "    for date in dates:\n",
    "        i = dateDF[dateDF[\"text\"]==date].index\n",
    "        for index in i:\n",
    "            indexes.append(index)\n",
    "    return indexes"
   ]
  },
  {
   "cell_type": "code",
   "execution_count": 9,
   "id": "05e2e879",
   "metadata": {},
   "outputs": [],
   "source": [
    "def dropIndexes(indexes, df):\n",
    "    indexesToDrop=[]\n",
    "    for index in df.index:\n",
    "        if index not in indexes:\n",
    "            indexesToDrop.append(index)\n",
    "    df.drop(indexesToDrop, inplace=True)"
   ]
  },
  {
   "cell_type": "code",
   "execution_count": 10,
   "id": "2863e231",
   "metadata": {},
   "outputs": [],
   "source": [
    "def create(imagePath):\n",
    "    image = cv2.imread(imagePath)\n",
    "    preProcessedImage = preProcessImage(imagePath)\n",
    "    data = pytesseract.image_to_data(preProcessedImage, output_type=Output.DATAFRAME)\n",
    "    processData(data)\n",
    "    df = pd.DataFrame(data)\n",
    "    preProcessDataFrame(df, preProcessedImage)\n",
    "    dateDF, dates = extractDateDataFrame(df)\n",
    "    addNeighbours(df)\n",
    "    indexes = findDateDF(dates, dateDF)\n",
    "    resultDF = df.copy()\n",
    "    dropIndexes(indexes, resultDF)\n",
    "    return resultDF\n",
    "    \n",
    "    "
   ]
  },
  {
   "cell_type": "code",
   "execution_count": 11,
   "id": "1d58a143",
   "metadata": {},
   "outputs": [],
   "source": [
    "def batchCreate(folderPath):\n",
    "    os.chdir(folderPath)\n",
    "    images = os.listdir()\n",
    "    dfList = []\n",
    "    for imagePath in images:\n",
    "        #print(imagePath)\n",
    "        df = create(imagePath)\n",
    "        df[\"imageName\"] = imagePath\n",
    "        df[\"output\"] = 0\n",
    "        dfList.append(df)\n",
    "    return dfList"
   ]
  },
  {
   "cell_type": "code",
   "execution_count": 12,
   "id": "af39a1cb",
   "metadata": {},
   "outputs": [
    {
     "ename": "NameError",
     "evalue": "name 'imagesFolderPath' is not defined",
     "output_type": "error",
     "traceback": [
      "\u001b[0;31m---------------------------------------------------------------------------\u001b[0m",
      "\u001b[0;31mNameError\u001b[0m                                 Traceback (most recent call last)",
      "Cell \u001b[0;32mIn[12], line 1\u001b[0m\n\u001b[0;32m----> 1\u001b[0m dfList \u001b[38;5;241m=\u001b[39m batchCreate(\u001b[43mimagesFolderPath\u001b[49m)\n",
      "\u001b[0;31mNameError\u001b[0m: name 'imagesFolderPath' is not defined"
     ]
    }
   ],
   "source": [
    "dfList = batchCreate(imagesFolderPath)"
   ]
  },
  {
   "cell_type": "code",
   "execution_count": null,
   "id": "950850dc",
   "metadata": {},
   "outputs": [],
   "source": [
    "len(dfList)"
   ]
  },
  {
   "cell_type": "code",
   "execution_count": null,
   "id": "53044fd5",
   "metadata": {},
   "outputs": [],
   "source": [
    "resultDF = pd.concat(dfList)"
   ]
  },
  {
   "cell_type": "code",
   "execution_count": null,
   "id": "c4ace3d3",
   "metadata": {},
   "outputs": [],
   "source": [
    "resultDF.shape"
   ]
  },
  {
   "cell_type": "code",
   "execution_count": null,
   "id": "a0530f9f",
   "metadata": {},
   "outputs": [],
   "source": [
    "len(resultDF[\"imageName\"].unique())"
   ]
  },
  {
   "cell_type": "code",
   "execution_count": null,
   "id": "95f4cf82",
   "metadata": {},
   "outputs": [],
   "source": [
    "resultDF"
   ]
  },
  {
   "cell_type": "code",
   "execution_count": null,
   "id": "03e37086",
   "metadata": {},
   "outputs": [],
   "source": [
    "resultDF.reset_index(inplace=True)"
   ]
  },
  {
   "cell_type": "code",
   "execution_count": null,
   "id": "5e4f2e34",
   "metadata": {},
   "outputs": [],
   "source": [
    "resultDF.drop(columns=[\"index\"], inplace=True)"
   ]
  },
  {
   "cell_type": "code",
   "execution_count": null,
   "id": "c15d3d4a",
   "metadata": {},
   "outputs": [],
   "source": [
    "resultDF.head()"
   ]
  },
  {
   "cell_type": "code",
   "execution_count": null,
   "id": "9639a47b",
   "metadata": {},
   "outputs": [],
   "source": [
    "pwd"
   ]
  },
  {
   "cell_type": "code",
   "execution_count": null,
   "id": "1bd92c70",
   "metadata": {},
   "outputs": [],
   "source": [
    "os.chdir('/home/aman/Documents/Tally/DocumentAI/Code/Tesseract-Modelv4/Dataset/')"
   ]
  },
  {
   "cell_type": "code",
   "execution_count": null,
   "id": "ce2b8453",
   "metadata": {},
   "outputs": [],
   "source": [
    "pwd"
   ]
  },
  {
   "cell_type": "code",
   "execution_count": null,
   "id": "ba66b29d",
   "metadata": {},
   "outputs": [],
   "source": [
    "resultDF.to_csv(\"tesseract.csv\")"
   ]
  },
  {
   "cell_type": "code",
   "execution_count": null,
   "id": "e6a4816f",
   "metadata": {},
   "outputs": [],
   "source": []
  }
 ],
 "metadata": {
  "kernelspec": {
   "display_name": "Python 3 (ipykernel)",
   "language": "python",
   "name": "python3"
  },
  "language_info": {
   "codemirror_mode": {
    "name": "ipython",
    "version": 3
   },
   "file_extension": ".py",
   "mimetype": "text/x-python",
   "name": "python",
   "nbconvert_exporter": "python",
   "pygments_lexer": "ipython3",
   "version": "3.10.9"
  }
 },
 "nbformat": 4,
 "nbformat_minor": 5
}
