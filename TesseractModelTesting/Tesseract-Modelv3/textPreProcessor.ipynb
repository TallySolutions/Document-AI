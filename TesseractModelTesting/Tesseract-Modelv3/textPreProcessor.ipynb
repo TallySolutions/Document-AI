{
 "cells": [
  {
   "cell_type": "code",
   "execution_count": 1,
   "id": "45af841d",
   "metadata": {},
   "outputs": [
    {
     "name": "stderr",
     "output_type": "stream",
     "text": [
      "2023-06-07 14:29:53.571996: I tensorflow/core/platform/cpu_feature_guard.cc:182] This TensorFlow binary is optimized to use available CPU instructions in performance-critical operations.\n",
      "To enable the following instructions: AVX2 FMA, in other operations, rebuild TensorFlow with the appropriate compiler flags.\n",
      "2023-06-07 14:29:54.264912: W tensorflow/compiler/tf2tensorrt/utils/py_utils.cc:38] TF-TRT Warning: Could not find TensorRT\n",
      "2023-06-07 14:29:54.920156: I tensorflow/compiler/xla/stream_executor/cuda/cuda_gpu_executor.cc:996] successful NUMA node read from SysFS had negative value (-1), but there must be at least one NUMA node, so returning NUMA node zero. See more at https://github.com/torvalds/linux/blob/v6.0/Documentation/ABI/testing/sysfs-bus-pci#L344-L355\n",
      "2023-06-07 14:29:54.921043: I tensorflow/compiler/xla/stream_executor/cuda/cuda_gpu_executor.cc:996] successful NUMA node read from SysFS had negative value (-1), but there must be at least one NUMA node, so returning NUMA node zero. See more at https://github.com/torvalds/linux/blob/v6.0/Documentation/ABI/testing/sysfs-bus-pci#L344-L355\n",
      "2023-06-07 14:29:54.921176: I tensorflow/compiler/xla/stream_executor/cuda/cuda_gpu_executor.cc:996] successful NUMA node read from SysFS had negative value (-1), but there must be at least one NUMA node, so returning NUMA node zero. See more at https://github.com/torvalds/linux/blob/v6.0/Documentation/ABI/testing/sysfs-bus-pci#L344-L355\n"
     ]
    }
   ],
   "source": [
    "import os\n",
    "import numpy as np\n",
    "import pandas as pd\n",
    "import cv2\n",
    "import matplotlib.pyplot as plt\n",
    "import spacy\n",
    "from spacy import displacy\n",
    "import pytesseract\n",
    "from pytesseract import Output\n",
    "pytesseract.pytesseract.tesseract_cmd=\"/home/aman/anaconda3/envs/tallyInvoiceParser.env/bin/tesseract\"\n",
    "os.environ['TESSDATA_PREFIX'] = \"/home/aman/anaconda3/envs/tallyInvoiceParser.env/share/tessdata\""
   ]
  },
  {
   "cell_type": "code",
   "execution_count": 60,
   "id": "10fa8f0e",
   "metadata": {},
   "outputs": [],
   "source": [
    "def verifyDate(date):\n",
    "    dateList = []\n",
    "    for i in range(len(date)):\n",
    "        dateList.append(date[i])\n",
    "    symbols = [\":\", \"/\", \"\\\\\", \"-\", \",\", \".\", \" \", \"  \"]\n",
    "    while len(dateList)!=0 and dateList[0] in symbols:\n",
    "        dateList.pop(0)\n",
    "    while len(dateList)!=0 and dateList[-1] in symbols:\n",
    "        dateList.pop(-1)\n",
    "    count = 0\n",
    "    for symbol in  symbols:\n",
    "        if symbol in dateList:\n",
    "            count += dateList.count(symbol)\n",
    "    if count!=2:\n",
    "        return False\n",
    "    else:\n",
    "        return True"
   ]
  },
  {
   "cell_type": "code",
   "execution_count": 71,
   "id": "822339e1",
   "metadata": {},
   "outputs": [],
   "source": [
    "def preProcessText(text):\n",
    "    symbols = [\":\", \"/\", \"\\\\\", \"-\", \",\", \".\", \" \", \"  \", \"   \"]\n",
    "    months = [\"jan\", \"feb\", \"mar\", \"apr\", \"may\", \"jun\", \"jul\", \"aug\", \"sep\", \"sept\", \"oct\", \"nov\", \"dec\", \"january\"\n",
    "             , \"february\", \"march\", \"april\", \"june\", \"july\", \"august\", \"september\", \"october\", \"november\", \"december\"]\n",
    "    monthDict = {\n",
    "        \"j\" : \"01\",\n",
    "        \"f\" : \"02\",\n",
    "        \"m\" : \"03\",\n",
    "        \"a\" : \"04\",\n",
    "        \"j\" : \"07\",\n",
    "        \"s\" : \"09\",\n",
    "        \"o\" : \"10\",\n",
    "        \"n\" : \"11\",\n",
    "        \"d\" : \"12\"\n",
    "    }\n",
    "    text=text.lower()\n",
    "    if verifyDate(text):\n",
    "        for symbol in symbols:\n",
    "            if symbol in text:\n",
    "                text = text.replace(symbol, \"/\")\n",
    "        L = text.split(\"/\")\n",
    "        processedDate = []\n",
    "        for t in L:\n",
    "            if t.lower() in months:\n",
    "                if t.lower()==\"may\":\n",
    "                    encoding = \"05\"\n",
    "                elif t.lower()==\"aug\" or t.lower()==\"august\":\n",
    "                    encoding = \"08\"\n",
    "                elif t.lower()==\"jun\" or t.lower()==\"june\":\n",
    "                    encoding = \"06\"\n",
    "                else:\n",
    "                    encoding = monthDict[t[0].lower()]\n",
    "                processedDate.append(encoding)\n",
    "            else:\n",
    "                processedDate.append(t)\n",
    "        if len(processedDate[-1])==2:\n",
    "            processedDate[-1] = \"20\"+processedDate[-1]\n",
    "        date = \"-\".join(processedDate)\n",
    "        return date\n",
    "    else:\n",
    "        return text"
   ]
  },
  {
   "cell_type": "code",
   "execution_count": 72,
   "id": "268741eb",
   "metadata": {},
   "outputs": [],
   "source": [
    "listOfDates = [\"5/12/22\", \"2/2/2023\", \"5:12-2023\", \"5,May,2023\", \"5 May,2023\", \"October 24,2022\"]"
   ]
  },
  {
   "cell_type": "code",
   "execution_count": 73,
   "id": "b230f0f6",
   "metadata": {},
   "outputs": [
    {
     "name": "stdout",
     "output_type": "stream",
     "text": [
      "Original Date ----> After Processing \n",
      "\n",
      "5/12/22      ---->      5-12-2022\n",
      "2/2/2023      ---->      2-2-2023\n",
      "5:12-2023      ---->      5-12-2023\n",
      "5,May,2023      ---->      5-05-2023\n",
      "5 May,2023      ---->      5-05-2023\n",
      "October 24,2022      ---->      10-24-2022\n"
     ]
    }
   ],
   "source": [
    "print(\"Original Date\", \"---->\", \"After Processing\", \"\\n\")\n",
    "for date in listOfDates:\n",
    "    processed = preProcessText(date)\n",
    "    print(date, \"     ---->     \", processed)"
   ]
  },
  {
   "cell_type": "code",
   "execution_count": null,
   "id": "e5ccb38d",
   "metadata": {},
   "outputs": [],
   "source": []
  }
 ],
 "metadata": {
  "kernelspec": {
   "display_name": "tallyInvoiceParser",
   "language": "python",
   "name": "tallyinvoiceparser"
  },
  "language_info": {
   "codemirror_mode": {
    "name": "ipython",
    "version": 3
   },
   "file_extension": ".py",
   "mimetype": "text/x-python",
   "name": "python",
   "nbconvert_exporter": "python",
   "pygments_lexer": "ipython3",
   "version": "3.10.9"
  }
 },
 "nbformat": 4,
 "nbformat_minor": 5
}
