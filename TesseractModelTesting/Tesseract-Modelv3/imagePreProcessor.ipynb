{
 "cells": [
  {
   "cell_type": "code",
   "execution_count": 1,
   "id": "ca46248e",
   "metadata": {},
   "outputs": [],
   "source": [
    "import cv2\n",
    "import matplotlib.pyplot as plt"
   ]
  },
  {
   "cell_type": "code",
   "execution_count": 1,
   "id": "fc20d133",
   "metadata": {},
   "outputs": [],
   "source": [
    "def preProcessImage(imagePath):\n",
    "    image = cv2.imread(imagePath)\n",
    "    gray = cv2.cvtColor(image, cv2.COLOR_RGB2GRAY)\n",
    "    blur = cv2.GaussianBlur(gray, (3,3),1)\n",
    "    threshold_img = cv2.adaptiveThreshold(blur,255,1,1,11,2)\n",
    "    return threshold_img"
   ]
  },
  {
   "cell_type": "code",
   "execution_count": null,
   "id": "de1707ea",
   "metadata": {},
   "outputs": [],
   "source": []
  }
 ],
 "metadata": {
  "kernelspec": {
   "display_name": "Python 3 (ipykernel)",
   "language": "python",
   "name": "python3"
  },
  "language_info": {
   "codemirror_mode": {
    "name": "ipython",
    "version": 3
   },
   "file_extension": ".py",
   "mimetype": "text/x-python",
   "name": "python",
   "nbconvert_exporter": "python",
   "pygments_lexer": "ipython3",
   "version": "3.10.9"
  }
 },
 "nbformat": 4,
 "nbformat_minor": 5
}
