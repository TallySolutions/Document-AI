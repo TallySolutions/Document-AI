{
 "cells": [
  {
   "cell_type": "code",
   "execution_count": 3,
   "id": "c7ae2491",
   "metadata": {},
   "outputs": [],
   "source": [
    "import cv2\n",
    "import os\n",
    "import numpy as np\n",
    "import pandas as pd\n",
    "import spacy\n",
    "from spacy import displacy\n",
    "import pytesseract\n",
    "from pytesseract import Output\n",
    "import matplotlib.pyplot as plt\n",
    "pytesseract.pytesseract.tesseract_cmd=\"/home/aman/anaconda3/envs/tallyInvoiceParser.env/bin/tesseract\"\n",
    "os.environ['TESSDATA_PREFIX'] = \"/home/aman/anaconda3/envs/tallyInvoiceParser.env/share/tessdata\"\n",
    "import import_ipynb\n",
    "from textPreProcessor import *\n",
    "from imagePreProcessor import *\n",
    "from datetime import datetime\n",
    "import math"
   ]
  },
  {
   "cell_type": "code",
   "execution_count": 4,
   "id": "8957924c",
   "metadata": {},
   "outputs": [],
   "source": [
    "imagesFolderPath = '/home/aman/Documents/Tally/DocumentAI/Code/Tesseract-Modelv3/Dataset/SampleImages/'"
   ]
  },
  {
   "cell_type": "code",
   "execution_count": 6,
   "id": "daac4c16",
   "metadata": {},
   "outputs": [],
   "source": [
    "def preProcessDataFrame(df, image):\n",
    "    #drop null values\n",
    "    df.dropna(inplace=True)\n",
    "    \n",
    "    #columns having same values throughout removed\n",
    "    toDrop = [\"level\", \"page_num\"]\n",
    "    df.drop(columns=toDrop, inplace=True)\n",
    "    \n",
    "    #rows having text as a stopword removed\n",
    "    indexesToDrop = []\n",
    "    stopwords = [\"\", \" \", \"  \", \"/\", \":\", \"-\", \".\", \",\", \"\\n\", \"\\t\", \"\\\\\", \"(\", \")\", \"[\", \"]\", \"{\", \"}\", \"*\", \"&\", \"%\", \"$\", \"#\", \"|\"]\n",
    "    for index in df.index:\n",
    "        if df[\"conf\"][index]<=40:\n",
    "            indexesToDrop.append(index)\n",
    "        elif df[\"text\"][index] in stopwords:\n",
    "            indexesToDrop.append(index)   \n",
    "    df.drop(indexesToDrop, inplace=True)\n",
    "    \n",
    "    #resetting the index\n",
    "    df.reset_index(inplace=True)\n",
    "    df.drop(columns=[\"index\"], inplace=True)\n",
    "    \n",
    "    #creating new columns for centroid information\n",
    "    df[\"x\"] = df[\"left\"] + df[\"width\"] \n",
    "    df[\"y\"] = df[\"top\"] + df[\"height\"]\n",
    "    \n",
    "    df[\"PageHeight\"] = image.shape[0]\n",
    "    df[\"PageWidth\"] = image.shape[1]\n",
    "    \n",
    "    df[\"isTop\"] = 0\n",
    "    df[\"isBottom\"] = 0\n",
    "    df[\"isRight\"] = 0\n",
    "    df[\"isLeft\"] = 0"
   ]
  },
  {
   "cell_type": "code",
   "execution_count": 7,
   "id": "5d67e0e4",
   "metadata": {},
   "outputs": [],
   "source": [
    "def findDate(dateDF):\n",
    "    dates = []\n",
    "    format = \"%d-%m-%Y\"\n",
    "    for index in dateDF.index:\n",
    "        text = dateDF[\"text\"][index]\n",
    "        res = True\n",
    "        try:\n",
    "            res = bool(datetime.strptime(text, format))\n",
    "        except ValueError:\n",
    "            res = False\n",
    "        if str(res)==\"True\":\n",
    "            dates.append(dateDF[\"text\"][index])\n",
    "    format = \"%m-%d-%Y\"\n",
    "    for index in dateDF.index:\n",
    "        text = dateDF[\"text\"][index]\n",
    "        res = True\n",
    "        try:\n",
    "            res = bool(datetime.strptime(text, format))\n",
    "        except ValueError:\n",
    "            res = False\n",
    "        if str(res)==\"True\":\n",
    "            dates.append(dateDF[\"text\"][index])\n",
    "    format = \"%y-%m-%d\"\n",
    "    for index in dateDF.index:\n",
    "        text = dateDF[\"text\"][index]\n",
    "        res = True\n",
    "        try:\n",
    "            res = bool(datetime.strptime(text, format))\n",
    "        except ValueError:\n",
    "            res = False\n",
    "        if str(res)==\"True\":\n",
    "            dates.append(dateDF[\"text\"][index])\n",
    "    return dates"
   ]
  },
  {
   "cell_type": "code",
   "execution_count": null,
   "id": "cf56bc6c",
   "metadata": {},
   "outputs": [],
   "source": [
    "def extractDateDataFrame(df):\n",
    "    dateDF = df.copy()\n",
    "    for index in dateDF.index:\n",
    "        text = dateDF[\"text\"][index]\n",
    "        dateDF[\"text\"][index] = preProcessText(text)\n",
    "    dates = findDate(dateDF)\n",
    "    return dateDF, dates\n",
    "    \n",
    "        "
   ]
  },
  {
   "cell_type": "code",
   "execution_count": null,
   "id": "2c5f4f16",
   "metadata": {},
   "outputs": [],
   "source": [
    "def returnDist(x1, y1, x2, y2):\n",
    "    p = [x1, y1]\n",
    "    q = [x2, y2]\n",
    "    return math.dist(p, q)"
   ]
  },
  {
   "cell_type": "code",
   "execution_count": null,
   "id": "7745017e",
   "metadata": {},
   "outputs": [],
   "source": [
    "def allocateNeighbours(df, neighbourFields):\n",
    "    for index in df.index:\n",
    "        x1 = df[\"x\"][index]\n",
    "        y1 = df[\"y\"][index]\n",
    "        block = df[\"block_num\"][index]\n",
    "        para = df[\"par_num\"][index]\n",
    "        neighbours = []\n",
    "        for index2 in df.index:\n",
    "            x2 = df[\"x\"][index2]\n",
    "            y2 = df[\"y\"][index2]\n",
    "            block2 = df[\"block_num\"][index2]\n",
    "            para2 = df[\"par_num\"][index2]\n",
    "            dist = returnDist(x1, y1, x2, y2)\n",
    "            hr = df[\"PageHeight\"][index2]// df[\"PageWidth\"][index2]\n",
    "            x = df[\"PageWidth\"][index2]*0.2\n",
    "            y = df[\"PageHeight\"][index2]*0.2*hr\n",
    "            radius = math.sqrt((x**2) + (y**2))\n",
    "            if dist<radius:\n",
    "                neighbours.append(df[\"text\"][index2].lower())\n",
    "            if abs(y1-y2)<df[\"PageHeight\"][index2]*0.05 and (x2-x1)<df[\"PageWidth\"][index2] and abs(block2-block)<=1 and abs(para2==para)<=1:\n",
    "                neighbours.append(df[\"text\"][index2].lower())\n",
    "        for n in neighbourFields:\n",
    "            if n in neighbours:\n",
    "                df[n][index]=1"
   ]
  },
  {
   "cell_type": "code",
   "execution_count": null,
   "id": "55783e92",
   "metadata": {},
   "outputs": [],
   "source": [
    "def addNeighbours(df):\n",
    "    neighbourFields = [\"date\", \"dated\", \"invoice\", \"delivery\", \"order\", \"due\", \"payment\", \"tax\", \"bill\", \"receipt\", \"issue\"]\n",
    "    for col in neighbourFields:\n",
    "        df[col]=0\n",
    "    allocateNeighbours(df, neighbourFields)\n",
    "    "
   ]
  },
  {
   "cell_type": "code",
   "execution_count": null,
   "id": "0b533640",
   "metadata": {},
   "outputs": [],
   "source": [
    "def findDateDF(dates, dateDF):\n",
    "    indexes = []\n",
    "    for date in dates:\n",
    "        i = dateDF[dateDF[\"text\"]==date].index\n",
    "        for index in i:\n",
    "            indexes.append(index)\n",
    "    return indexes"
   ]
  },
  {
   "cell_type": "code",
   "execution_count": null,
   "id": "05e2e879",
   "metadata": {},
   "outputs": [],
   "source": [
    "def dropIndexes(indexes, df):\n",
    "    indexesToDrop=[]\n",
    "    for index in df.index:\n",
    "        if index not in indexes:\n",
    "            indexesToDrop.append(index)\n",
    "    df.drop(indexesToDrop, inplace=True)"
   ]
  },
  {
   "cell_type": "code",
   "execution_count": null,
   "id": "2863e231",
   "metadata": {},
   "outputs": [],
   "source": [
    "def create(imagePath):\n",
    "    image = cv2.imread(imagePath)\n",
    "    preProcessedImage = preProcessImage(imagePath)\n",
    "    data = pytesseract.image_to_data(preProcessedImage, output_type=Output.DATAFRAME)\n",
    "    df = pd.DataFrame(data)\n",
    "    preProcessDataFrame(df, preProcessedImage)\n",
    "    dateDF, dates = extractDateDataFrame(df)\n",
    "    addNeighbours(df)\n",
    "    indexes = findDateDF(dates, dateDF)\n",
    "    resultDF = df.copy()\n",
    "    dropIndexes(indexes, resultDF)\n",
    "    return resultDF\n",
    "    \n",
    "    "
   ]
  },
  {
   "cell_type": "code",
   "execution_count": null,
   "id": "1d58a143",
   "metadata": {},
   "outputs": [],
   "source": [
    "def batchCreate(folderPath):\n",
    "    os.chdir(folderPath)\n",
    "    images = os.listdir()\n",
    "    dfList = []\n",
    "    for imagePath in images:\n",
    "        #print(imagePath)\n",
    "        df = create(imagePath)\n",
    "        df[\"imageName\"] = imagePath\n",
    "        df[\"output\"] = 0\n",
    "        dfList.append(df)\n",
    "    return dfList"
   ]
  },
  {
   "cell_type": "code",
   "execution_count": null,
   "id": "af39a1cb",
   "metadata": {},
   "outputs": [],
   "source": [
    "#dfList = batchCreate(imagesFolderPath)"
   ]
  },
  {
   "cell_type": "code",
   "execution_count": null,
   "id": "950850dc",
   "metadata": {},
   "outputs": [],
   "source": [
    "#len(dfList)"
   ]
  },
  {
   "cell_type": "code",
   "execution_count": null,
   "id": "53044fd5",
   "metadata": {},
   "outputs": [],
   "source": [
    "#resultDF = pd.concat(dfList)"
   ]
  },
  {
   "cell_type": "code",
   "execution_count": null,
   "id": "c4ace3d3",
   "metadata": {},
   "outputs": [],
   "source": [
    "#resultDF.shape"
   ]
  },
  {
   "cell_type": "code",
   "execution_count": null,
   "id": "95f4cf82",
   "metadata": {},
   "outputs": [],
   "source": [
    "#resultDF"
   ]
  },
  {
   "cell_type": "code",
   "execution_count": null,
   "id": "03e37086",
   "metadata": {},
   "outputs": [],
   "source": [
    "#resultDF.reset_index(inplace=True)"
   ]
  },
  {
   "cell_type": "code",
   "execution_count": null,
   "id": "5e4f2e34",
   "metadata": {},
   "outputs": [],
   "source": [
    "#resultDF.drop(columns=[\"index\"], inplace=True)"
   ]
  },
  {
   "cell_type": "code",
   "execution_count": null,
   "id": "c15d3d4a",
   "metadata": {},
   "outputs": [],
   "source": [
    "#resultDF.head()"
   ]
  },
  {
   "cell_type": "code",
   "execution_count": null,
   "id": "9639a47b",
   "metadata": {},
   "outputs": [],
   "source": [
    "#pwd"
   ]
  },
  {
   "cell_type": "code",
   "execution_count": null,
   "id": "1bd92c70",
   "metadata": {},
   "outputs": [],
   "source": [
    "#os.chdir('/home/aman/Documents/Tally/DocumentAI/Code/Tesseract-Modelv2/Dataset/')"
   ]
  },
  {
   "cell_type": "code",
   "execution_count": null,
   "id": "ce2b8453",
   "metadata": {},
   "outputs": [],
   "source": [
    "#pwd"
   ]
  },
  {
   "cell_type": "code",
   "execution_count": null,
   "id": "ba66b29d",
   "metadata": {},
   "outputs": [],
   "source": [
    "#resultDF.to_csv(\"tesseract.csv\")"
   ]
  },
  {
   "cell_type": "code",
   "execution_count": null,
   "id": "e6a4816f",
   "metadata": {},
   "outputs": [],
   "source": []
  }
 ],
 "metadata": {
  "kernelspec": {
   "display_name": "Python 3 (ipykernel)",
   "language": "python",
   "name": "python3"
  },
  "language_info": {
   "codemirror_mode": {
    "name": "ipython",
    "version": 3
   },
   "file_extension": ".py",
   "mimetype": "text/x-python",
   "name": "python",
   "nbconvert_exporter": "python",
   "pygments_lexer": "ipython3",
   "version": "3.10.9"
  }
 },
 "nbformat": 4,
 "nbformat_minor": 5
}
