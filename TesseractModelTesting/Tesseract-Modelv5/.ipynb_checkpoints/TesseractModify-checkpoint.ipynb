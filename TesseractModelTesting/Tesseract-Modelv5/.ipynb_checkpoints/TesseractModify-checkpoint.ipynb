{
 "cells": [
  {
   "cell_type": "code",
   "execution_count": 25,
   "id": "c395d8d2",
   "metadata": {},
   "outputs": [],
   "source": [
    "import cv2\n",
    "import os\n",
    "import numpy as np\n",
    "import pandas as pd\n",
    "import pytesseract\n",
    "from pytesseract import Output\n",
    "import matplotlib.pyplot as plt\n",
    "pytesseract.pytesseract.tesseract_cmd=\"/home/aman/anaconda3/envs/tallyInvoiceParser.env/bin/tesseract\"\n",
    "os.environ['TESSDATA_PREFIX'] = \"/home/aman/anaconda3/envs/tallyInvoiceParser.env/share/tessdata\"\n",
    "os.environ['MLIR_CRASH_REPRODUCER_DIRECTORY']='tensorflow/compiler/mlir/tensorflow/utils/dump_mlir_util.cc:269'\n",
    "import import_ipynb\n",
    "from imagePreProcessor import *\n",
    "import math"
   ]
  },
  {
   "cell_type": "code",
   "execution_count": 26,
   "id": "8c4ba804",
   "metadata": {},
   "outputs": [],
   "source": [
    "def processData(df):\n",
    "    df.drop(columns=[\"level\", \"page_num\", \"par_num\", \"word_num\"], inplace=True)\n",
    "    \n",
    "    \n",
    "    df[\"nextDist\"] = 0\n",
    "    for index in range(df.shape[0]-1):\n",
    "        index2 = index+1\n",
    "        endpoint = df[\"left\"][index] + df[\"width\"][index]\n",
    "        startpoint = df[\"left\"][index2]\n",
    "        nd = startpoint - endpoint\n",
    "        df[\"nextDist\"][index]=nd\n",
    "    \n",
    "    start = 0\n",
    "    end = 0\n",
    "    index = 0\n",
    "    concatList = []\n",
    "    while index<df.shape[0]:\n",
    "        while df[\"nextDist\"][index]>0 and df[\"nextDist\"][index]<15:\n",
    "            index+=1\n",
    "            end+=1\n",
    "        concatList.append([start, end])\n",
    "        index+=1\n",
    "        start = index\n",
    "        end = index  \n",
    "    \n",
    "    for L in concatList:\n",
    "        start = L[0]\n",
    "        end = L[1]\n",
    "        block = df[\"block_num\"][start]\n",
    "        left = df[\"left\"][start]\n",
    "        top = df[\"top\"][start]\n",
    "        width = 0\n",
    "        height = []\n",
    "        conf = []\n",
    "        text = \"\"\n",
    "        nd = df[\"nextDist\"][end]\n",
    "        while start<=end:\n",
    "            width += df[\"width\"][start]\n",
    "            height.append(df[\"height\"][start])\n",
    "            conf.append(df[\"conf\"][start])\n",
    "            text += df[\"text\"][start] + \" \"\n",
    "            start+=1\n",
    "        conf = sum(conf)/len(conf)\n",
    "        df.loc[len(df.index)] = [block, 0, left, top, width, max(height), conf, text, nd]"
   ]
  },
  {
   "cell_type": "code",
   "execution_count": null,
   "id": "d6b77b0a",
   "metadata": {},
   "outputs": [],
   "source": []
  }
 ],
 "metadata": {
  "kernelspec": {
   "display_name": "Python 3 (ipykernel)",
   "language": "python",
   "name": "python3"
  },
  "language_info": {
   "codemirror_mode": {
    "name": "ipython",
    "version": 3
   },
   "file_extension": ".py",
   "mimetype": "text/x-python",
   "name": "python",
   "nbconvert_exporter": "python",
   "pygments_lexer": "ipython3",
   "version": "3.10.9"
  }
 },
 "nbformat": 4,
 "nbformat_minor": 5
}
