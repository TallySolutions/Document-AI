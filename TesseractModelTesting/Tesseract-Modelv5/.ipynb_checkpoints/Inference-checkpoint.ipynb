{
 "cells": [
  {
   "cell_type": "code",
   "execution_count": 1,
   "id": "6c579427",
   "metadata": {},
   "outputs": [
    {
     "name": "stdout",
     "output_type": "stream",
     "text": [
      "importing Jupyter notebook from imagePreProcessor.ipynb\n",
      "importing Jupyter notebook from CreateDatasetForDateModel.ipynb\n"
     ]
    },
    {
     "name": "stderr",
     "output_type": "stream",
     "text": [
      "2023-06-15 15:57:51.916587: I tensorflow/core/platform/cpu_feature_guard.cc:182] This TensorFlow binary is optimized to use available CPU instructions in performance-critical operations.\n",
      "To enable the following instructions: AVX2 FMA, in other operations, rebuild TensorFlow with the appropriate compiler flags.\n"
     ]
    },
    {
     "name": "stdout",
     "output_type": "stream",
     "text": [
      "importing Jupyter notebook from TesseractModify.ipynb\n"
     ]
    }
   ],
   "source": [
    "import os\n",
    "import pdf2image\n",
    "from pdf2image import convert_from_path\n",
    "import cv2\n",
    "import matplotlib.pyplot as plt\n",
    "import PyPDF2\n",
    "import PIL\n",
    "from PIL import Image, ImageTk\n",
    "import numpy as np\n",
    "import pytesseract\n",
    "from pytesseract import Output\n",
    "pytesseract.pytesseract.tesseract_cmd=\"/home/aman/anaconda3/envs/tallyInvoiceParser.env/bin/tesseract\"\n",
    "os.environ['TESSDATA_PREFIX'] = \"/home/aman/anaconda3/envs/tallyInvoiceParser.env/share/tessdata\"\n",
    "os.environ['MLIR_CRASH_REPRODUCER_DIRECTORY']='tensorflow/compiler/mlir/tensorflow/utils/dump_mlir_util.cc:269'\n",
    "import import_ipynb\n",
    "from imagePreProcessor import *\n",
    "from CreateDatasetForDateModel import *\n",
    "from TesseractModify import *\n",
    "from datetime import datetime\n",
    "import math\n",
    "from keras.models import load_model\n",
    "import time\n",
    "import sys\n",
    "import psutil\n",
    "from tqdm import tqdm\n",
    "import datefinder\n",
    "import dateparser\n",
    "from IPython.display import clear_output"
   ]
  },
  {
   "cell_type": "code",
   "execution_count": 2,
   "id": "2db518f5",
   "metadata": {},
   "outputs": [],
   "source": [
    "def preProcessImage(image):\n",
    "    gray = cv2.cvtColor(image, cv2.COLOR_RGB2GRAY)\n",
    "    blur = cv2.GaussianBlur(gray, (3,3),1)\n",
    "    threshold_img = cv2.adaptiveThreshold(blur,255,1,1,11,2)\n",
    "    return threshold_img"
   ]
  },
  {
   "cell_type": "code",
   "execution_count": 3,
   "id": "ad0e53f7",
   "metadata": {},
   "outputs": [],
   "source": [
    "def processForInput(df):\n",
    "    colsToDrop = [\"left\", \"top\", \"width\", \"height\", \"text\", \"index\", \"PageHeight\", \"PageWidth\", \"conf\", \"block_num\", \"line_num\", \"isPast\", \"isFuture\", \"nextDist\"]\n",
    "    d = df.drop(columns=colsToDrop)\n",
    "    d[\"x\"]=d[\"x\"]/1000\n",
    "    d[\"y\"]=d[\"y\"]/1000\n",
    "    return d.to_numpy()"
   ]
  },
  {
   "cell_type": "code",
   "execution_count": 4,
   "id": "92576031",
   "metadata": {},
   "outputs": [],
   "source": [
    "def predictPdf(filePath):\n",
    "    f = open(filePath, 'rb')\n",
    "    readpdf = PyPDF2.PdfReader(f)\n",
    "    totalpages = len(readpdf.pages)\n",
    "    if totalpages==1:\n",
    "        image = convert_from_path(filePath)\n",
    "    else:\n",
    "        return\n",
    "    image = np.array(image[0])\n",
    "    image = preProcessImage(image)\n",
    "    data = pytesseract.image_to_data(image, output_type=Output.DATAFRAME)\n",
    "    data.dropna(inplace=True)\n",
    "    data.reset_index(inplace=True)\n",
    "    data.drop(columns=[\"index\"], inplace=True)\n",
    "    processData(data)\n",
    "    df = pd.DataFrame(data)\n",
    "    preProcessDataFrame(df, image)\n",
    "    dateDF, dates = extractDateDataFrame(df)\n",
    "    addNeighbours(df)\n",
    "    indexes = findDateDF(dates, dateDF)\n",
    "    resultDF = df.copy()\n",
    "    dropIndexes(indexes, resultDF)\n",
    "    resultDF.reset_index(inplace=True)\n",
    "    texts = []\n",
    "    inputs = []\n",
    "    for index in resultDF.index:\n",
    "        texts.append(resultDF[\"text\"][index])\n",
    "        inputs.append(processForInput(resultDF))\n",
    "    predictions = {}\n",
    "    model = load_model('/home/aman/Documents/Tally/Git-Document-AI/Document-AI/Tesseract-Modelv5/Models/tesseractv5.h5')\n",
    "    for i in range(len(inputs)):\n",
    "        text = texts[i]\n",
    "        input = inputs[i]\n",
    "        pred = model.predict(input)\n",
    "        predictions[text]=max(pred)\n",
    "    if len(predictions)==0:\n",
    "        return None\n",
    "\n",
    "    res = max(zip(predictions.values(), predictions.keys()))[1]\n",
    "    return res\n",
    "    "
   ]
  },
  {
   "cell_type": "code",
   "execution_count": 5,
   "id": "5a7bc429",
   "metadata": {},
   "outputs": [
    {
     "data": {
      "text/plain": [
       "'/home/aman/Documents/Tally/Git-Document-AI/Document-AI/Tesseract-Modelv5'"
      ]
     },
     "execution_count": 5,
     "metadata": {},
     "output_type": "execute_result"
    }
   ],
   "source": [
    "pwd"
   ]
  },
  {
   "cell_type": "code",
   "execution_count": 6,
   "id": "6a87de27",
   "metadata": {},
   "outputs": [],
   "source": [
    "os.chdir('/home/aman/Documents/Tally/Git-Document-AI/Document-AI/Tesseract-Modelv5/Dataset/SampleDocuments')"
   ]
  },
  {
   "cell_type": "code",
   "execution_count": 7,
   "id": "8ecbee79",
   "metadata": {},
   "outputs": [],
   "source": [
    "dir = os.listdir('/home/aman/Documents/Tally/Git-Document-AI/Document-AI/Tesseract-Modelv5/Dataset/SampleDocuments')"
   ]
  },
  {
   "cell_type": "code",
   "execution_count": 8,
   "id": "d7619fb6",
   "metadata": {},
   "outputs": [],
   "source": [
    "pdfPath = \"7958400.pdf\""
   ]
  },
  {
   "cell_type": "code",
   "execution_count": 9,
   "id": "abf87814",
   "metadata": {},
   "outputs": [
    {
     "name": "stderr",
     "output_type": "stream",
     "text": [
      "<string>:11: SettingWithCopyWarning: \n",
      "A value is trying to be set on a copy of a slice from a DataFrame\n",
      "\n",
      "See the caveats in the documentation: https://pandas.pydata.org/pandas-docs/stable/user_guide/indexing.html#returning-a-view-versus-a-copy\n",
      "<string>:5: SettingWithCopyWarning: \n",
      "A value is trying to be set on a copy of a slice from a DataFrame\n",
      "\n",
      "See the caveats in the documentation: https://pandas.pydata.org/pandas-docs/stable/user_guide/indexing.html#returning-a-view-versus-a-copy\n"
     ]
    },
    {
     "name": "stdout",
     "output_type": "stream",
     "text": [
      "[datetime.datetime(2022, 9, 28, 0, 0)]\n",
      "[datetime.datetime(2022, 9, 28, 0, 0)]\n"
     ]
    },
    {
     "name": "stderr",
     "output_type": "stream",
     "text": [
      "<string>:11: SettingWithCopyWarning: \n",
      "A value is trying to be set on a copy of a slice from a DataFrame\n",
      "\n",
      "See the caveats in the documentation: https://pandas.pydata.org/pandas-docs/stable/user_guide/indexing.html#returning-a-view-versus-a-copy\n",
      "<string>:18: SettingWithCopyWarning: \n",
      "A value is trying to be set on a copy of a slice from a DataFrame\n",
      "\n",
      "See the caveats in the documentation: https://pandas.pydata.org/pandas-docs/stable/user_guide/indexing.html#returning-a-view-versus-a-copy\n"
     ]
    },
    {
     "name": "stdout",
     "output_type": "stream",
     "text": [
      "1/1 [==============================] - 0s 75ms/step\n",
      "1/1 [==============================] - 0s 18ms/step\n",
      "Invoice Date : 28/9/2022\n"
     ]
    }
   ],
   "source": [
    "result = predictPdf(pdfPath)\n",
    "dates = list(datefinder.find_dates(result, strict=True))\n",
    "if len(dates)==0:\n",
    "    print(\"Sorry, invoice date not found\")\n",
    "else:\n",
    "    date = dates[0]\n",
    "    day = date.day\n",
    "    month = date.month\n",
    "    year = date.year\n",
    "    invDate = str(day) + \"/\" + str(month) + \"/\" + str(year)\n",
    "    print(\"Invoice Date : \" + invDate)\n",
    "    "
   ]
  },
  {
   "cell_type": "code",
   "execution_count": 10,
   "id": "ba258c0a",
   "metadata": {},
   "outputs": [],
   "source": [
    "def predictImage(imagePath):\n",
    "    image = cv2.imread(imagePath)\n",
    "    image = preProcessImage(image)\n",
    "    data = pytesseract.image_to_data(image, output_type=Output.DATAFRAME)\n",
    "    data.dropna(inplace=True)\n",
    "    data.reset_index(inplace=True)\n",
    "    data.drop(columns=[\"index\"], inplace=True)\n",
    "    processData(data)\n",
    "    df = pd.DataFrame(data)\n",
    "    preProcessDataFrame(df, image)\n",
    "    dateDF, dates = extractDateDataFrame(df)\n",
    "    addNeighbours(df)\n",
    "    indexes = findDateDF(dates, dateDF)\n",
    "    resultDF = df.copy()\n",
    "    dropIndexes(indexes, resultDF)\n",
    "    resultDF.reset_index(inplace=True)\n",
    "    texts = []\n",
    "    inputs = []\n",
    "    for index in resultDF.index:\n",
    "        texts.append(resultDF[\"text\"][index])\n",
    "        inputs.append(processForInput(resultDF))\n",
    "    predictions = {}\n",
    "    model = load_model('/home/aman/Documents/Tally/Git-Document-AI/Document-AI/Tesseract-Modelv5/Models/tesseractv5.h5')\n",
    "    for i in range(len(inputs)):\n",
    "        text = texts[i]\n",
    "        input = inputs[i]\n",
    "        pred = model.predict(input)\n",
    "        predictions[text]=max(pred)\n",
    "    if len(predictions)==0:\n",
    "        return None\n",
    "    res = max(zip(predictions.values(), predictions.keys()))[1]\n",
    "    return res"
   ]
  },
  {
   "cell_type": "code",
   "execution_count": 11,
   "id": "c6f3e1f1",
   "metadata": {},
   "outputs": [
    {
     "data": {
      "text/plain": [
       "'/home/aman/Documents/Tally/Git-Document-AI/Document-AI/Tesseract-Modelv5/Dataset/SampleDocuments'"
      ]
     },
     "execution_count": 11,
     "metadata": {},
     "output_type": "execute_result"
    }
   ],
   "source": [
    "pwd"
   ]
  },
  {
   "cell_type": "code",
   "execution_count": 12,
   "id": "0ae8f6c9",
   "metadata": {},
   "outputs": [],
   "source": [
    "os.chdir('/home/aman/Documents/Tally/Git-Document-AI/Document-AI/Tesseract-Modelv5/Dataset/SampleImages/')"
   ]
  },
  {
   "cell_type": "code",
   "execution_count": 13,
   "id": "571b2431",
   "metadata": {},
   "outputs": [
    {
     "name": "stdout",
     "output_type": "stream",
     "text": [
      "Invoice Date : 9/10/2022\n",
      "\n",
      "\n",
      "Total Time Taken : 1.6644105911254883 seconds\n"
     ]
    }
   ],
   "source": [
    "start = time.time()\n",
    "result = predictImage(\"3.jpeg\")\n",
    "dates = list(datefinder.find_dates(result, strict=True))\n",
    "if len(dates)==0:\n",
    "    print(\"Sorry, invoice date not found\")\n",
    "else:\n",
    "    date = dates[0]\n",
    "    day = date.day\n",
    "    month = date.month\n",
    "    year = date.year\n",
    "    invDate = str(day) + \"/\" + str(month) + \"/\" + str(year)\n",
    "    clear_output(wait=True)\n",
    "    print(\"Invoice Date : \" + invDate)\n",
    "end = time.time()\n",
    "print(\"\\n\\nTotal Time Taken : \" + str(end-start) + \" seconds\")"
   ]
  },
  {
   "cell_type": "code",
   "execution_count": 14,
   "id": "a5080bd1",
   "metadata": {},
   "outputs": [],
   "source": [
    "def benchmark():\n",
    "    \n",
    "    total_steps = 1000\n",
    "    progress_bar = tqdm(total=total_steps, ncols=80)\n",
    "    \n",
    "    n = input(\"Enter number of iterations : \")\n",
    "    \n",
    "    \n",
    "    start = time.time()\n",
    "    for i in range(int(n)):\n",
    "        predictImage(\"/home/aman/Desktop/4.jpeg\")\n",
    "    end = time.time()\n",
    "    \n",
    "    inferenceTime = end-start\n",
    "    \n",
    "    cpuUsage = []\n",
    "    memoryUsage = []\n",
    "    \n",
    "    start_time = time.time()\n",
    "    step=1\n",
    "    for run in range(10):\n",
    "        cpuList = []\n",
    "        memoryList = []\n",
    "        process = psutil.Process()\n",
    "\n",
    "        for i in range(10):\n",
    "            cpuPercent = process.cpu_percent(interval=0.01)\n",
    "            memory = process.memory_info().rss\n",
    "            cpuList.append(cpuPercent)\n",
    "            memoryList.append(memory)\n",
    "\n",
    "            for j in range(int(n)):\n",
    "                predictImage(\"/home/aman/Desktop/4.jpeg\")\n",
    "                \n",
    "                progress_bar.update(1)\n",
    "                elapsed_time = time.time() - start_time\n",
    "                remaining_time = elapsed_time / (step + 1) * (total_steps - step - 1)\n",
    "                progress_bar.set_postfix({'ETA': progress_bar.format_interval(remaining_time)})\n",
    "                step+=1\n",
    "                \n",
    "        avgCPU = sum(cpuList) / len(cpuList)\n",
    "        cpuUsage.append(avgCPU)\n",
    "        avgMemory = sum(memoryList) / len(memoryList)\n",
    "        memoryUsage.append(avgMemory)\n",
    "    \n",
    "    maxCPU = max(cpuUsage)\n",
    "    minCPU = min(cpuUsage)\n",
    "    \n",
    "    maxMemory = max(memoryUsage)\n",
    "    minMemory = min(memoryUsage)\n",
    "    \n",
    "    progress_bar.close()\n",
    "    \n",
    "    \n",
    "    return inferenceTime, maxCPU, minCPU, maxMemory, minMemory\n",
    "    \n",
    "    "
   ]
  },
  {
   "cell_type": "code",
   "execution_count": 15,
   "id": "38bf12c9",
   "metadata": {},
   "outputs": [],
   "source": [
    "#inferenceTime, maxCPU, minCPU, maxMemory, minMemory = benchmark()"
   ]
  },
  {
   "cell_type": "code",
   "execution_count": 16,
   "id": "4730e959",
   "metadata": {},
   "outputs": [
    {
     "ename": "NameError",
     "evalue": "name 'inferenceTime' is not defined",
     "output_type": "error",
     "traceback": [
      "\u001b[0;31m---------------------------------------------------------------------------\u001b[0m",
      "\u001b[0;31mNameError\u001b[0m                                 Traceback (most recent call last)",
      "Cell \u001b[0;32mIn[16], line 1\u001b[0m\n\u001b[0;32m----> 1\u001b[0m \u001b[38;5;28mprint\u001b[39m(\u001b[38;5;124m\"\u001b[39m\u001b[38;5;124mTIME TAKEN : \u001b[39m\u001b[38;5;124m\"\u001b[39m, \u001b[43minferenceTime\u001b[49m)\n\u001b[1;32m      2\u001b[0m \u001b[38;5;28mprint\u001b[39m(\u001b[38;5;124m\"\u001b[39m\u001b[38;5;124mMAX CPU : \u001b[39m\u001b[38;5;124m\"\u001b[39m, maxCPU, \u001b[38;5;124m\"\u001b[39m\u001b[38;5;124m%\u001b[39m\u001b[38;5;124m\"\u001b[39m)\n\u001b[1;32m      3\u001b[0m \u001b[38;5;28mprint\u001b[39m(\u001b[38;5;124m\"\u001b[39m\u001b[38;5;124mMAX MEMORY : \u001b[39m\u001b[38;5;124m\"\u001b[39m, maxMemory\u001b[38;5;241m/\u001b[39m\u001b[38;5;241m/\u001b[39m(\u001b[38;5;241m1024\u001b[39m\u001b[38;5;241m*\u001b[39m\u001b[38;5;241m1024\u001b[39m), \u001b[38;5;124m\"\u001b[39m\u001b[38;5;124mMB\u001b[39m\u001b[38;5;124m\"\u001b[39m)\n",
      "\u001b[0;31mNameError\u001b[0m: name 'inferenceTime' is not defined"
     ]
    }
   ],
   "source": [
    "print(\"TIME TAKEN : \", inferenceTime)\n",
    "print(\"MAX CPU : \", maxCPU, \"%\")\n",
    "print(\"MAX MEMORY : \", maxMemory//(1024*1024), \"MB\")\n",
    "print(\"MIN MEMORY : \", minMemory//(1024*1024), \"MB\")"
   ]
  },
  {
   "cell_type": "code",
   "execution_count": 17,
   "id": "8228e27a",
   "metadata": {},
   "outputs": [
    {
     "data": {
      "text/plain": [
       "'/home/aman/Documents/Tally/Git-Document-AI/Document-AI/Tesseract-Modelv5/Dataset/SampleImages'"
      ]
     },
     "execution_count": 17,
     "metadata": {},
     "output_type": "execute_result"
    }
   ],
   "source": [
    "pwd"
   ]
  },
  {
   "cell_type": "code",
   "execution_count": 18,
   "id": "540a09e5",
   "metadata": {},
   "outputs": [],
   "source": [
    "imagesDir = os.listdir('/home/aman/Documents/Tally/Git-Document-AI/Document-AI/Tesseract-Modelv5/Dataset/SampleImages')"
   ]
  },
  {
   "cell_type": "code",
   "execution_count": 19,
   "id": "768c9559",
   "metadata": {},
   "outputs": [
    {
     "name": "stdout",
     "output_type": "stream",
     "text": [
      "Invoice Date : 4/2/2023\n",
      "Time Taken : 4.982791423797607\n",
      "\n",
      "\n",
      "Invoice Date : 10/9/2022\n",
      "Time Taken : 2.288965940475464\n",
      "\n",
      "\n",
      "Invoice Date : 5/12/2022\n",
      "Time Taken : 2.0505967140197754\n",
      "\n",
      "\n",
      "Invoice Date : 14/4/2022\n",
      "Time Taken : 2.454124689102173\n",
      "\n",
      "\n",
      "Invoice Date : 17/4/2022\n",
      "Time Taken : 3.4239933490753174\n",
      "\n",
      "\n",
      "Invoice Date : Sorry, invoice date not found\n",
      "Time Taken : 2.1805572509765625\n",
      "\n",
      "\n",
      "Invoice Date : 9/12/2022\n",
      "Time Taken : 2.5120129585266113\n",
      "\n",
      "\n",
      "Invoice Date : 12/5/2022\n",
      "Time Taken : 3.1272284984588623\n",
      "\n",
      "\n",
      "Invoice Date : 12/1/2022\n",
      "Time Taken : 2.404514789581299\n",
      "\n",
      "\n",
      "Invoice Date : 12/5/2022\n",
      "Time Taken : 4.287399530410767\n",
      "\n",
      "\n",
      "Invoice Date : 21/8/2022\n",
      "Time Taken : 2.796804189682007\n",
      "\n",
      "\n",
      "Invoice Date : 9/10/2022\n",
      "Time Taken : 1.6487743854522705\n",
      "\n",
      "\n",
      "Invoice Date : 7/3/2023\n",
      "Time Taken : 5.808650016784668\n",
      "\n",
      "\n",
      "Invoice Date : 16/12/2022\n",
      "Time Taken : 4.502142429351807\n",
      "\n",
      "\n",
      "Invoice Date : Sorry, invoice date not found\n",
      "Time Taken : 6.353074550628662\n",
      "\n",
      "\n",
      "Invoice Date : 30/1/2023\n",
      "Time Taken : 6.402421712875366\n",
      "\n",
      "\n",
      "Invoice Date : 21/12/2022\n",
      "Time Taken : 1.7672786712646484\n",
      "\n",
      "\n",
      "Invoice Date : 1/12/2023\n",
      "Time Taken : 2.3190252780914307\n",
      "\n",
      "\n",
      "Invoice Date : 1/2/2023\n",
      "Time Taken : 1.9118432998657227\n",
      "\n",
      "\n",
      "Invoice Date : Sorry, invoice date not found\n",
      "Time Taken : 1.166430950164795\n",
      "\n",
      "\n",
      "Invoice Date : Sorry, invoice date not found\n",
      "Time Taken : 0.7354123592376709\n",
      "\n",
      "\n",
      "Invoice Date : 28/9/2022\n",
      "Time Taken : 3.9422366619110107\n",
      "\n",
      "\n",
      "Invoice Date : Sorry, invoice date not found\n",
      "Time Taken : 2.8517091274261475\n",
      "\n",
      "\n",
      "Invoice Date : Sorry, invoice date not found\n",
      "Time Taken : 5.17884373664856\n",
      "\n",
      "\n",
      "Invoice Date : Sorry, invoice date not found\n",
      "Time Taken : 2.2907307147979736\n",
      "\n",
      "\n",
      "Invoice Date : 6/7/2022\n",
      "Time Taken : 1.9599189758300781\n",
      "\n",
      "\n",
      "Invoice Date : Sorry, invoice date not found\n",
      "Time Taken : 3.6023364067077637\n",
      "\n",
      "\n",
      "Invoice Date : 16/6/2021\n",
      "Time Taken : 4.058932781219482\n",
      "\n",
      "\n",
      "Invoice Date : 2/1/2023\n",
      "Time Taken : 3.42714524269104\n",
      "\n",
      "\n",
      "Invoice Date : 12/9/2022\n",
      "Time Taken : 3.8776438236236572\n",
      "\n",
      "\n",
      "Invoice Date : Sorry, invoice date not found\n",
      "Time Taken : 1.3098056316375732\n",
      "\n",
      "\n",
      "Invoice Date : 1/3/2023\n",
      "Time Taken : 3.0153701305389404\n",
      "\n",
      "\n",
      "Invoice Date : 21/3/2023\n",
      "Time Taken : 5.318291902542114\n",
      "\n",
      "\n",
      "Invoice Date : 11/4/2022\n",
      "Time Taken : 3.5923216342926025\n",
      "\n",
      "\n",
      "Invoice Date : 27/2/2023\n",
      "Time Taken : 7.292113780975342\n",
      "\n",
      "\n",
      "Invoice Date : Sorry, invoice date not found\n",
      "Time Taken : 0.6110036373138428\n",
      "\n",
      "\n",
      "Invoice Date : 12/2/2022\n",
      "Time Taken : 4.484149694442749\n",
      "\n",
      "\n",
      "Invoice Date : 11/4/2022\n",
      "Time Taken : 4.296468019485474\n",
      "\n",
      "\n",
      "Invoice Date : Sorry, invoice date not found\n",
      "Time Taken : 0.6474862098693848\n",
      "\n",
      "\n",
      "Invoice Date : Sorry, invoice date not found\n",
      "Time Taken : 0.647620439529419\n",
      "\n",
      "\n",
      "Invoice Date : Sorry, invoice date not found\n",
      "Time Taken : 0.7037386894226074\n",
      "\n",
      "\n",
      "Invoice Date : 17/8/2022\n",
      "Time Taken : 5.908787488937378\n",
      "\n",
      "\n",
      "Invoice Date : 26/12/2022\n",
      "Time Taken : 6.32263970375061\n",
      "\n",
      "\n",
      "Invoice Date : 28/12/2022\n",
      "Time Taken : 3.2879929542541504\n",
      "\n",
      "\n",
      "Invoice Date : Sorry, invoice date not found\n",
      "Time Taken : 1.0797505378723145\n",
      "\n",
      "\n",
      "Invoice Date : 31/3/2023\n",
      "Time Taken : 2.314105987548828\n",
      "\n",
      "\n",
      "Invoice Date : 16/2/2023\n",
      "Time Taken : 6.071506500244141\n",
      "\n",
      "\n",
      "Invoice Date : 10/10/2022\n",
      "Time Taken : 2.14434814453125\n",
      "\n",
      "\n",
      "Invoice Date : 11/4/2023\n",
      "Time Taken : 1.8547699451446533\n",
      "\n",
      "\n",
      "Invoice Date : 19/12/2022\n",
      "Time Taken : 4.916365385055542\n",
      "\n",
      "\n",
      "Invoice Date : Sorry, invoice date not found\n",
      "Time Taken : 2.906562089920044\n",
      "\n",
      "\n",
      "Invoice Date : 14/3/2023\n",
      "Time Taken : 2.6828203201293945\n",
      "\n",
      "\n",
      "Invoice Date : 24/12/2022\n",
      "Time Taken : 4.7477052211761475\n",
      "\n",
      "\n",
      "\n",
      "\n",
      "\n",
      "Max Time Taken : 7.292113780975342\n",
      "Min Time Taken : 0.6110036373138428\n",
      "Avg Time Taken : 3.254137066175353\n"
     ]
    }
   ],
   "source": [
    "times = []\n",
    "progress = []\n",
    "for image in imagesDir:\n",
    "    print(image)\n",
    "    L = []\n",
    "    start = time.time()\n",
    "    result = predictImage(image)\n",
    "    if result == None:\n",
    "        dates = []\n",
    "    else:\n",
    "        dates = list(datefinder.find_dates(result, strict=True))\n",
    "    if len(dates)==0:\n",
    "        L.append(\"Sorry, invoice date not found\")\n",
    "    else:\n",
    "        date = dates[0]\n",
    "        day = date.day\n",
    "        month = date.month\n",
    "        year = date.year\n",
    "        invDate = str(day) + \"/\" + str(month) + \"/\" + str(year)\n",
    "        print(\"Invoice Date : \" + invDate)\n",
    "        L.append(invDate)\n",
    "        \n",
    "    end = time.time()\n",
    "    times.append(end-start)\n",
    "    L.append(end-start)\n",
    "    progress.append(L)\n",
    "    \n",
    "clear_output(wait=True)\n",
    "\n",
    "for L in progress:\n",
    "    invDate = L[0]\n",
    "    T = L[1]\n",
    "    print(\"Invoice Date : \" + str(invDate))\n",
    "    print(\"Time Taken : \" + str(T))\n",
    "    print(\"\\n\")\n",
    "    \n",
    "print(\"\\n\\n\")\n",
    "print(\"Max Time Taken : \" + str(max(times)))\n",
    "print(\"Min Time Taken : \" + str(min(times)))\n",
    "print(\"Avg Time Taken : \" + str(sum(times)/len(times)))"
   ]
  },
  {
   "cell_type": "code",
   "execution_count": 54,
   "id": "4aee3260",
   "metadata": {},
   "outputs": [],
   "source": [
    "imagePath ='/home/aman/Documents/Tally/Git-Document-AI/Document-AI/Tesseract-Modelv5/Dataset/Testing/5.jpeg'"
   ]
  },
  {
   "cell_type": "code",
   "execution_count": 55,
   "id": "802da0b9",
   "metadata": {},
   "outputs": [
    {
     "name": "stderr",
     "output_type": "stream",
     "text": [
      "<string>:11: SettingWithCopyWarning: \n",
      "A value is trying to be set on a copy of a slice from a DataFrame\n",
      "\n",
      "See the caveats in the documentation: https://pandas.pydata.org/pandas-docs/stable/user_guide/indexing.html#returning-a-view-versus-a-copy\n",
      "<string>:5: SettingWithCopyWarning: \n",
      "A value is trying to be set on a copy of a slice from a DataFrame\n",
      "\n",
      "See the caveats in the documentation: https://pandas.pydata.org/pandas-docs/stable/user_guide/indexing.html#returning-a-view-versus-a-copy\n",
      "<string>:11: SettingWithCopyWarning: \n",
      "A value is trying to be set on a copy of a slice from a DataFrame\n",
      "\n",
      "See the caveats in the documentation: https://pandas.pydata.org/pandas-docs/stable/user_guide/indexing.html#returning-a-view-versus-a-copy\n",
      "<string>:18: SettingWithCopyWarning: \n",
      "A value is trying to be set on a copy of a slice from a DataFrame\n",
      "\n",
      "See the caveats in the documentation: https://pandas.pydata.org/pandas-docs/stable/user_guide/indexing.html#returning-a-view-versus-a-copy\n"
     ]
    },
    {
     "name": "stdout",
     "output_type": "stream",
     "text": [
      "[datetime.datetime(2023, 4, 25, 16, 58)]\n",
      "1/1 [==============================] - 0s 37ms/step\n"
     ]
    }
   ],
   "source": [
    "result = predictImage(imagePath)"
   ]
  },
  {
   "cell_type": "code",
   "execution_count": 56,
   "id": "90f41df0",
   "metadata": {},
   "outputs": [
    {
     "name": "stdout",
     "output_type": "stream",
     "text": [
      "April 25, 2023 at 04:58 PM \n"
     ]
    }
   ],
   "source": [
    "print(result)"
   ]
  },
  {
   "cell_type": "code",
   "execution_count": null,
   "id": "c9a27a37",
   "metadata": {},
   "outputs": [],
   "source": []
  }
 ],
 "metadata": {
  "kernelspec": {
   "display_name": "Python 3 (ipykernel)",
   "language": "python",
   "name": "python3"
  },
  "language_info": {
   "codemirror_mode": {
    "name": "ipython",
    "version": 3
   },
   "file_extension": ".py",
   "mimetype": "text/x-python",
   "name": "python",
   "nbconvert_exporter": "python",
   "pygments_lexer": "ipython3",
   "version": "3.10.9"
  }
 },
 "nbformat": 4,
 "nbformat_minor": 5
}
