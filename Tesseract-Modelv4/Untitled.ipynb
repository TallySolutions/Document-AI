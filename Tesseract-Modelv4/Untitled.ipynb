{
 "cells": [
  {
   "cell_type": "code",
   "execution_count": 4,
   "id": "81aaebba",
   "metadata": {},
   "outputs": [
    {
     "name": "stderr",
     "output_type": "stream",
     "text": [
      "2023-06-15 11:32:12.522471: I tensorflow/core/platform/cpu_feature_guard.cc:182] This TensorFlow binary is optimized to use available CPU instructions in performance-critical operations.\n",
      "To enable the following instructions: AVX2 FMA, in other operations, rebuild TensorFlow with the appropriate compiler flags.\n"
     ]
    },
    {
     "name": "stdout",
     "output_type": "stream",
     "text": [
      "importing Jupyter notebook from textPreProcessor.ipynb\n"
     ]
    },
    {
     "data": {
      "text/html": [
       "<span class=\"tex2jax_ignore\"><div class=\"entities\" style=\"line-height: 2.5; direction: ltr\">Booking Date : \n",
       "<mark class=\"entity\" style=\"background: #bfe1d9; padding: 0.45em 0.6em; margin: 0 0.25em; line-height: 1; border-radius: 0.35em;\">\n",
       "    Monday\n",
       "    <span style=\"font-size: 0.8em; font-weight: bold; line-height: 1; border-radius: 0.35em; vertical-align: middle; margin-left: 0.5rem\">DATE</span>\n",
       "</mark>\n",
       ", \n",
       "<mark class=\"entity\" style=\"background: #bfe1d9; padding: 0.45em 0.6em; margin: 0 0.25em; line-height: 1; border-radius: 0.35em;\">\n",
       "    24th October\n",
       "    <span style=\"font-size: 0.8em; font-weight: bold; line-height: 1; border-radius: 0.35em; vertical-align: middle; margin-left: 0.5rem\">DATE</span>\n",
       "</mark>\n",
       "</div></span>"
      ],
      "text/plain": [
       "<IPython.core.display.HTML object>"
      ]
     },
     "metadata": {},
     "output_type": "display_data"
    },
    {
     "name": "stdout",
     "output_type": "stream",
     "text": [
      "importing Jupyter notebook from imagePreProcessor.ipynb\n"
     ]
    }
   ],
   "source": [
    "import cv2\n",
    "import os\n",
    "import numpy as np\n",
    "import pandas as pd\n",
    "import spacy\n",
    "from spacy import displacy\n",
    "import pytesseract\n",
    "from pytesseract import Output\n",
    "import matplotlib.pyplot as plt\n",
    "pytesseract.pytesseract.tesseract_cmd=\"/home/aman/anaconda3/envs/tallyInvoiceParser.env/bin/tesseract\"\n",
    "os.environ['TESSDATA_PREFIX'] = \"/home/aman/anaconda3/envs/tallyInvoiceParser.env/share/tessdata\"\n",
    "import import_ipynb\n",
    "from textPreProcessor import *\n",
    "from imagePreProcessor import *\n",
    "from datetime import datetime\n",
    "import math\n",
    "import dateparser\n",
    "import datefinder"
   ]
  },
  {
   "cell_type": "code",
   "execution_count": 3,
   "id": "7a2ff16a",
   "metadata": {},
   "outputs": [
    {
     "data": {
      "text/plain": [
       "'/home/aman/Documents/Tally/Git-Document-AI/Document-AI/Tesseract-Modelv4'"
      ]
     },
     "execution_count": 3,
     "metadata": {},
     "output_type": "execute_result"
    }
   ],
   "source": [
    "pwd"
   ]
  },
  {
   "cell_type": "code",
   "execution_count": 4,
   "id": "4198d33e",
   "metadata": {},
   "outputs": [],
   "source": [
    "imagesDir = os.listdir('/home/aman/Documents/Tally/DocumentAI/Code/Tesseract-Modelv3/Dataset/Images/')"
   ]
  },
  {
   "cell_type": "code",
   "execution_count": 5,
   "id": "2fc263d8",
   "metadata": {},
   "outputs": [
    {
     "data": {
      "text/plain": [
       "['20.jpeg',\n",
       " '238.jpeg',\n",
       " '23.jpeg',\n",
       " '68.jpeg',\n",
       " '106.jpeg',\n",
       " '55.jpeg',\n",
       " '182.jpeg',\n",
       " '28.jpeg',\n",
       " '101.jpeg',\n",
       " '79.jpeg',\n",
       " '18.jpeg',\n",
       " '189.jpeg',\n",
       " '82.jpeg',\n",
       " '246.jpeg',\n",
       " '149.jpeg',\n",
       " '39.jpeg',\n",
       " '194.jpeg',\n",
       " '213.jpeg',\n",
       " '64.jpeg',\n",
       " '94.jpeg',\n",
       " '22.jpeg',\n",
       " '150.jpeg',\n",
       " '75.jpeg',\n",
       " '200.jpeg',\n",
       " '178.jpeg',\n",
       " '214.jpeg',\n",
       " '158.jpeg',\n",
       " '237.jpeg',\n",
       " '27.jpeg',\n",
       " '4.jpeg',\n",
       " '104.jpeg',\n",
       " '17.jpeg',\n",
       " '5.jpeg',\n",
       " '156.jpeg',\n",
       " '197.jpeg',\n",
       " '190.jpeg',\n",
       " '9.jpeg',\n",
       " '78.jpeg',\n",
       " '157.jpeg',\n",
       " '211.jpeg',\n",
       " '3.jpeg',\n",
       " '233.jpeg',\n",
       " '24.jpeg',\n",
       " '160.jpeg',\n",
       " '198.jpeg',\n",
       " '25.jpeg',\n",
       " '115.jpeg',\n",
       " '205.jpeg',\n",
       " '34.jpeg',\n",
       " '117.jpeg',\n",
       " '54.jpeg',\n",
       " '165.jpeg',\n",
       " '151.jpeg',\n",
       " '91.jpeg',\n",
       " '193.jpeg',\n",
       " '186.jpeg',\n",
       " '7.jpeg',\n",
       " '152.jpeg',\n",
       " '208.jpeg',\n",
       " '125.jpeg',\n",
       " '1.jpeg',\n",
       " '175.jpeg',\n",
       " '169.jpeg',\n",
       " '41.jpeg',\n",
       " '57.jpeg',\n",
       " '33.jpeg',\n",
       " '215.jpeg',\n",
       " '21.jpeg',\n",
       " '112.jpeg',\n",
       " '85.jpeg',\n",
       " '138.jpeg',\n",
       " '207.jpeg',\n",
       " '154.jpeg',\n",
       " '242.jpeg',\n",
       " '100.jpeg',\n",
       " '14.jpeg',\n",
       " '120.jpeg',\n",
       " '81.jpeg',\n",
       " '135.jpeg',\n",
       " '141.jpeg',\n",
       " '38.jpeg',\n",
       " '121.jpeg',\n",
       " '209.jpeg',\n",
       " '124.jpeg',\n",
       " '202.jpeg',\n",
       " '11.jpeg',\n",
       " '218.jpeg',\n",
       " '6.jpeg',\n",
       " '131.jpeg',\n",
       " '111.jpeg',\n",
       " '30.jpeg',\n",
       " '118.jpeg',\n",
       " '43.jpeg',\n",
       " '116.jpeg',\n",
       " '80.jpeg',\n",
       " '236.jpeg',\n",
       " '143.jpeg',\n",
       " '201.jpeg',\n",
       " '71.jpeg',\n",
       " '76.jpeg',\n",
       " '37.jpeg',\n",
       " '142.jpeg',\n",
       " '47.jpeg',\n",
       " '163.jpeg',\n",
       " '96.jpeg',\n",
       " '15.jpeg',\n",
       " '83.jpeg',\n",
       " '113.jpeg',\n",
       " '206.jpeg',\n",
       " '29.jpeg',\n",
       " '223.jpeg',\n",
       " '195.jpeg',\n",
       " '224.jpeg',\n",
       " '36.jpeg',\n",
       " '172.jpeg',\n",
       " '84.jpeg',\n",
       " '159.jpeg',\n",
       " '58.jpeg',\n",
       " '234.jpeg',\n",
       " '12.jpeg',\n",
       " '53.jpeg',\n",
       " '176.jpeg',\n",
       " '148.jpeg',\n",
       " '132.jpeg',\n",
       " '35.jpeg',\n",
       " '225.jpeg',\n",
       " '241.jpeg',\n",
       " '240.jpeg',\n",
       " '134.jpeg',\n",
       " '210.jpeg',\n",
       " '128.jpeg',\n",
       " '107.jpeg',\n",
       " '145.jpeg',\n",
       " '10.jpeg',\n",
       " '129.jpeg',\n",
       " '67.jpeg',\n",
       " '110.jpeg',\n",
       " '97.jpeg',\n",
       " '32.jpeg',\n",
       " '144.jpeg',\n",
       " '177.jpeg',\n",
       " '140.jpeg',\n",
       " '108.jpeg',\n",
       " '153.jpeg',\n",
       " '133.jpeg',\n",
       " '192.jpeg',\n",
       " '60.jpeg',\n",
       " '147.jpeg',\n",
       " '185.jpeg',\n",
       " '127.jpeg',\n",
       " '8.jpeg',\n",
       " '203.jpeg',\n",
       " '61.jpeg',\n",
       " '164.jpeg',\n",
       " '230.jpeg',\n",
       " '244.jpeg',\n",
       " '183.jpeg',\n",
       " '187.jpeg',\n",
       " '88.jpeg',\n",
       " '161.jpeg',\n",
       " '40.jpeg',\n",
       " '184.jpeg',\n",
       " '2.jpeg',\n",
       " '16.jpeg',\n",
       " '90.jpeg',\n",
       " '89.jpeg',\n",
       " '109.jpeg',\n",
       " '114.jpeg',\n",
       " '219.jpeg',\n",
       " '216.jpeg',\n",
       " '204.jpeg',\n",
       " '179.jpeg',\n",
       " '56.jpeg',\n",
       " '49.jpeg',\n",
       " '87.jpeg',\n",
       " '220.jpeg',\n",
       " '50.jpeg',\n",
       " '239.jpeg',\n",
       " '119.jpeg',\n",
       " '48.jpeg',\n",
       " '222.jpeg',\n",
       " '63.jpeg',\n",
       " '42.jpeg',\n",
       " '232.jpeg',\n",
       " '171.jpeg',\n",
       " '65.jpeg',\n",
       " '231.jpeg',\n",
       " '130.jpeg',\n",
       " '174.jpeg',\n",
       " '196.jpeg',\n",
       " '74.jpeg',\n",
       " '45.jpeg',\n",
       " '66.jpeg',\n",
       " '122.jpeg',\n",
       " '44.jpeg',\n",
       " '229.jpeg',\n",
       " '170.jpeg',\n",
       " '173.jpeg',\n",
       " '146.jpeg',\n",
       " '52.jpeg',\n",
       " '181.jpeg',\n",
       " '136.jpeg',\n",
       " '13.jpeg',\n",
       " '103.jpeg',\n",
       " '105.jpeg',\n",
       " '59.jpeg',\n",
       " '245.jpeg',\n",
       " '191.jpeg',\n",
       " '31.jpeg',\n",
       " '99.jpeg',\n",
       " '227.jpeg',\n",
       " '212.jpeg',\n",
       " '235.jpeg',\n",
       " '162.jpeg',\n",
       " '77.jpeg',\n",
       " '199.jpeg',\n",
       " '228.jpeg',\n",
       " '73.jpeg',\n",
       " '72.jpeg',\n",
       " '139.jpeg',\n",
       " '217.jpeg',\n",
       " '98.jpeg',\n",
       " '123.jpeg',\n",
       " '126.jpeg',\n",
       " '95.jpeg',\n",
       " '19.jpeg',\n",
       " '70.jpeg',\n",
       " '51.jpeg',\n",
       " '26.jpeg',\n",
       " '92.jpeg',\n",
       " '221.jpeg',\n",
       " '168.jpeg',\n",
       " '166.jpeg',\n",
       " '188.jpeg',\n",
       " '226.jpeg',\n",
       " '102.jpeg',\n",
       " '180.jpeg',\n",
       " '69.jpeg',\n",
       " '243.jpeg',\n",
       " '93.jpeg',\n",
       " '167.jpeg',\n",
       " '86.jpeg',\n",
       " '137.jpeg',\n",
       " '46.jpeg',\n",
       " '62.jpeg',\n",
       " '155.jpeg']"
      ]
     },
     "execution_count": 5,
     "metadata": {},
     "output_type": "execute_result"
    }
   ],
   "source": [
    "imagesDir"
   ]
  },
  {
   "cell_type": "code",
   "execution_count": 6,
   "id": "66a7bc2f",
   "metadata": {},
   "outputs": [],
   "source": [
    "os.chdir('/home/aman/Documents/Tally/DocumentAI/Code/Tesseract-Modelv3/Dataset/Images/')"
   ]
  },
  {
   "cell_type": "code",
   "execution_count": 7,
   "id": "06c96ee3",
   "metadata": {},
   "outputs": [
    {
     "data": {
      "text/plain": [
       "<matplotlib.image.AxesImage at 0x7f7dec12a3b0>"
      ]
     },
     "execution_count": 7,
     "metadata": {},
     "output_type": "execute_result"
    },
    {
     "data": {
      "image/png": "[encoded data removed]",
      "text/plain": [
       "<Figure size 640x480 with 1 Axes>"
      ]
     },
     "metadata": {},
     "output_type": "display_data"
    }
   ],
   "source": [
    "image = cv2.imread(\"1.jpeg\")\n",
    "plt.imshow(image)"
   ]
  },
  {
   "cell_type": "code",
   "execution_count": 8,
   "id": "e7168ed6",
   "metadata": {},
   "outputs": [],
   "source": [
    "data = pytesseract.image_to_data(image, output_type=Output.DATAFRAME)"
   ]
  },
  {
   "cell_type": "code",
   "execution_count": 9,
   "id": "3ec8bd2b",
   "metadata": {},
   "outputs": [],
   "source": [
    "data.dropna(inplace=True)"
   ]
  },
  {
   "cell_type": "code",
   "execution_count": 10,
   "id": "a231166a",
   "metadata": {},
   "outputs": [
    {
     "data": {
      "text/html": [
       "<div>\n",
       "<style scoped>\n",
       "    .dataframe tbody tr th:only-of-type {\n",
       "        vertical-align: middle;\n",
       "    }\n",
       "\n",
       "    .dataframe tbody tr th {\n",
       "        vertical-align: top;\n",
       "    }\n",
       "\n",
       "    .dataframe thead th {\n",
       "        text-align: right;\n",
       "    }\n",
       "</style>\n",
       "<table border=\"1\" class=\"dataframe\">\n",
       "  <thead>\n",
       "    <tr style=\"text-align: right;\">\n",
       "      <th></th>\n",
       "      <th>level</th>\n",
       "      <th>page_num</th>\n",
       "      <th>block_num</th>\n",
       "      <th>par_num</th>\n",
       "      <th>line_num</th>\n",
       "      <th>word_num</th>\n",
       "      <th>left</th>\n",
       "      <th>top</th>\n",
       "      <th>width</th>\n",
       "      <th>height</th>\n",
       "      <th>conf</th>\n",
       "      <th>text</th>\n",
       "    </tr>\n",
       "  </thead>\n",
       "  <tbody>\n",
       "    <tr>\n",
       "      <th>4</th>\n",
       "      <td>5</td>\n",
       "      <td>1</td>\n",
       "      <td>1</td>\n",
       "      <td>1</td>\n",
       "      <td>1</td>\n",
       "      <td>1</td>\n",
       "      <td>0</td>\n",
       "      <td>0</td>\n",
       "      <td>600</td>\n",
       "      <td>17</td>\n",
       "      <td>95.000000</td>\n",
       "      <td></td>\n",
       "    </tr>\n",
       "    <tr>\n",
       "      <th>8</th>\n",
       "      <td>5</td>\n",
       "      <td>1</td>\n",
       "      <td>2</td>\n",
       "      <td>1</td>\n",
       "      <td>1</td>\n",
       "      <td>1</td>\n",
       "      <td>54</td>\n",
       "      <td>29</td>\n",
       "      <td>60</td>\n",
       "      <td>43</td>\n",
       "      <td>85.508415</td>\n",
       "      <td>TT</td>\n",
       "    </tr>\n",
       "    <tr>\n",
       "      <th>9</th>\n",
       "      <td>5</td>\n",
       "      <td>1</td>\n",
       "      <td>2</td>\n",
       "      <td>1</td>\n",
       "      <td>1</td>\n",
       "      <td>2</td>\n",
       "      <td>136</td>\n",
       "      <td>31</td>\n",
       "      <td>59</td>\n",
       "      <td>41</td>\n",
       "      <td>96.946571</td>\n",
       "      <td>Your</td>\n",
       "    </tr>\n",
       "    <tr>\n",
       "      <th>10</th>\n",
       "      <td>5</td>\n",
       "      <td>1</td>\n",
       "      <td>2</td>\n",
       "      <td>1</td>\n",
       "      <td>1</td>\n",
       "      <td>3</td>\n",
       "      <td>207</td>\n",
       "      <td>31</td>\n",
       "      <td>70</td>\n",
       "      <td>41</td>\n",
       "      <td>92.911514</td>\n",
       "      <td>logo</td>\n",
       "    </tr>\n",
       "    <tr>\n",
       "      <th>14</th>\n",
       "      <td>5</td>\n",
       "      <td>1</td>\n",
       "      <td>3</td>\n",
       "      <td>1</td>\n",
       "      <td>1</td>\n",
       "      <td>1</td>\n",
       "      <td>0</td>\n",
       "      <td>104</td>\n",
       "      <td>221</td>\n",
       "      <td>167</td>\n",
       "      <td>95.000000</td>\n",
       "      <td></td>\n",
       "    </tr>\n",
       "    <tr>\n",
       "      <th>15</th>\n",
       "      <td>5</td>\n",
       "      <td>1</td>\n",
       "      <td>3</td>\n",
       "      <td>1</td>\n",
       "      <td>1</td>\n",
       "      <td>2</td>\n",
       "      <td>433</td>\n",
       "      <td>0</td>\n",
       "      <td>146</td>\n",
       "      <td>151</td>\n",
       "      <td>95.000000</td>\n",
       "      <td></td>\n",
       "    </tr>\n",
       "    <tr>\n",
       "      <th>19</th>\n",
       "      <td>5</td>\n",
       "      <td>1</td>\n",
       "      <td>4</td>\n",
       "      <td>1</td>\n",
       "      <td>1</td>\n",
       "      <td>1</td>\n",
       "      <td>26</td>\n",
       "      <td>463</td>\n",
       "      <td>548</td>\n",
       "      <td>29</td>\n",
       "      <td>95.000000</td>\n",
       "      <td></td>\n",
       "    </tr>\n",
       "    <tr>\n",
       "      <th>23</th>\n",
       "      <td>5</td>\n",
       "      <td>1</td>\n",
       "      <td>5</td>\n",
       "      <td>1</td>\n",
       "      <td>1</td>\n",
       "      <td>1</td>\n",
       "      <td>0</td>\n",
       "      <td>0</td>\n",
       "      <td>17</td>\n",
       "      <td>600</td>\n",
       "      <td>95.000000</td>\n",
       "      <td></td>\n",
       "    </tr>\n",
       "    <tr>\n",
       "      <th>27</th>\n",
       "      <td>5</td>\n",
       "      <td>1</td>\n",
       "      <td>6</td>\n",
       "      <td>1</td>\n",
       "      <td>1</td>\n",
       "      <td>1</td>\n",
       "      <td>0</td>\n",
       "      <td>477</td>\n",
       "      <td>583</td>\n",
       "      <td>123</td>\n",
       "      <td>95.000000</td>\n",
       "      <td></td>\n",
       "    </tr>\n",
       "    <tr>\n",
       "      <th>31</th>\n",
       "      <td>5</td>\n",
       "      <td>1</td>\n",
       "      <td>7</td>\n",
       "      <td>1</td>\n",
       "      <td>1</td>\n",
       "      <td>1</td>\n",
       "      <td>26</td>\n",
       "      <td>568</td>\n",
       "      <td>548</td>\n",
       "      <td>29</td>\n",
       "      <td>95.000000</td>\n",
       "      <td></td>\n",
       "    </tr>\n",
       "    <tr>\n",
       "      <th>35</th>\n",
       "      <td>5</td>\n",
       "      <td>1</td>\n",
       "      <td>8</td>\n",
       "      <td>1</td>\n",
       "      <td>1</td>\n",
       "      <td>1</td>\n",
       "      <td>583</td>\n",
       "      <td>0</td>\n",
       "      <td>17</td>\n",
       "      <td>600</td>\n",
       "      <td>95.000000</td>\n",
       "      <td></td>\n",
       "    </tr>\n",
       "    <tr>\n",
       "      <th>39</th>\n",
       "      <td>5</td>\n",
       "      <td>1</td>\n",
       "      <td>9</td>\n",
       "      <td>1</td>\n",
       "      <td>1</td>\n",
       "      <td>1</td>\n",
       "      <td>0</td>\n",
       "      <td>583</td>\n",
       "      <td>600</td>\n",
       "      <td>17</td>\n",
       "      <td>95.000000</td>\n",
       "      <td></td>\n",
       "    </tr>\n",
       "  </tbody>\n",
       "</table>\n",
       "</div>"
      ],
      "text/plain": [
       "    level  page_num  block_num  par_num  line_num  word_num  left  top  width  \\\n",
       "4       5         1          1        1         1         1     0    0    600   \n",
       "8       5         1          2        1         1         1    54   29     60   \n",
       "9       5         1          2        1         1         2   136   31     59   \n",
       "10      5         1          2        1         1         3   207   31     70   \n",
       "14      5         1          3        1         1         1     0  104    221   \n",
       "15      5         1          3        1         1         2   433    0    146   \n",
       "19      5         1          4        1         1         1    26  463    548   \n",
       "23      5         1          5        1         1         1     0    0     17   \n",
       "27      5         1          6        1         1         1     0  477    583   \n",
       "31      5         1          7        1         1         1    26  568    548   \n",
       "35      5         1          8        1         1         1   583    0     17   \n",
       "39      5         1          9        1         1         1     0  583    600   \n",
       "\n",
       "    height       conf  text  \n",
       "4       17  95.000000        \n",
       "8       43  85.508415    TT  \n",
       "9       41  96.946571  Your  \n",
       "10      41  92.911514  logo  \n",
       "14     167  95.000000        \n",
       "15     151  95.000000        \n",
       "19      29  95.000000        \n",
       "23     600  95.000000        \n",
       "27     123  95.000000        \n",
       "31      29  95.000000        \n",
       "35     600  95.000000        \n",
       "39      17  95.000000        "
      ]
     },
     "execution_count": 10,
     "metadata": {},
     "output_type": "execute_result"
    }
   ],
   "source": [
    "data"
   ]
  },
  {
   "cell_type": "code",
   "execution_count": 30,
   "id": "10e22b7e",
   "metadata": {},
   "outputs": [],
   "source": [
    "date = dateparser.parse('Date : Monday, 24th October')"
   ]
  },
  {
   "cell_type": "code",
   "execution_count": 15,
   "id": "6d3130b3",
   "metadata": {},
   "outputs": [],
   "source": [
    "text = 'Monday,24th October 10:00 PM'"
   ]
  },
  {
   "cell_type": "code",
   "execution_count": 16,
   "id": "fd468b6e",
   "metadata": {},
   "outputs": [
    {
     "data": {
      "text/plain": [
       "'Monday,24th October 10:00 PM'"
      ]
     },
     "execution_count": 16,
     "metadata": {},
     "output_type": "execute_result"
    }
   ],
   "source": [
    "text"
   ]
  },
  {
   "cell_type": "code",
   "execution_count": 17,
   "id": "e785edd4",
   "metadata": {},
   "outputs": [],
   "source": [
    "dates = list(datefinder.find_dates(text))"
   ]
  },
  {
   "cell_type": "code",
   "execution_count": 18,
   "id": "d6618cfd",
   "metadata": {},
   "outputs": [
    {
     "data": {
      "text/plain": [
       "[datetime.datetime(2023, 10, 24, 22, 0)]"
      ]
     },
     "execution_count": 18,
     "metadata": {},
     "output_type": "execute_result"
    }
   ],
   "source": [
    "dates"
   ]
  },
  {
   "cell_type": "code",
   "execution_count": 19,
   "id": "de78853c",
   "metadata": {},
   "outputs": [],
   "source": [
    "date = dates[0]"
   ]
  },
  {
   "cell_type": "code",
   "execution_count": 20,
   "id": "2f199504",
   "metadata": {},
   "outputs": [
    {
     "ename": "SyntaxError",
     "evalue": "invalid syntax (3049991846.py, line 1)",
     "output_type": "error",
     "traceback": [
      "\u001b[0;36m  Cell \u001b[0;32mIn[20], line 1\u001b[0;36m\u001b[0m\n\u001b[0;31m    date.today().\u001b[0m\n\u001b[0m                 ^\u001b[0m\n\u001b[0;31mSyntaxError\u001b[0m\u001b[0;31m:\u001b[0m invalid syntax\n"
     ]
    }
   ],
   "source": [
    "date.today()."
   ]
  },
  {
   "cell_type": "code",
   "execution_count": 21,
   "id": "9b24a265",
   "metadata": {},
   "outputs": [
    {
     "name": "stdout",
     "output_type": "stream",
     "text": [
      "2023-10-24 22:00:00\n"
     ]
    }
   ],
   "source": [
    "print(dateparser.parse(text))"
   ]
  },
  {
   "cell_type": "code",
   "execution_count": null,
   "id": "52fa54b5",
   "metadata": {},
   "outputs": [],
   "source": []
  }
 ],
 "metadata": {
  "kernelspec": {
   "display_name": "tallyInvoiceParser",
   "language": "python",
   "name": "tallyinvoiceparser"
  },
  "language_info": {
   "codemirror_mode": {
    "name": "ipython",
    "version": 3
   },
   "file_extension": ".py",
   "mimetype": "text/x-python",
   "name": "python",
   "nbconvert_exporter": "python",
   "pygments_lexer": "ipython3",
   "version": "3.10.9"
  }
 },
 "nbformat": 4,
 "nbformat_minor": 5
}
