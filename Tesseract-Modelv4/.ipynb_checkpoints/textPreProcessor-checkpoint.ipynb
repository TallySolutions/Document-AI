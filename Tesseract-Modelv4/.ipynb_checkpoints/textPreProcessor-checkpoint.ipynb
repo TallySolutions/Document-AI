{
 "cells": [
  {
   "cell_type": "code",
   "execution_count": 98,
   "id": "45af841d",
   "metadata": {},
   "outputs": [],
   "source": [
    "import os\n",
    "import numpy as np\n",
    "import pandas as pd\n",
    "import cv2\n",
    "import matplotlib.pyplot as plt\n",
    "import spacy\n",
    "from spacy import displacy\n",
    "import pytesseract\n",
    "from pytesseract import Output\n",
    "pytesseract.pytesseract.tesseract_cmd=\"/home/aman/anaconda3/envs/tallyInvoiceParser.env/bin/tesseract\"\n",
    "os.environ['TESSDATA_PREFIX'] = \"/home/aman/anaconda3/envs/tallyInvoiceParser.env/share/tessdata\"\n",
    "from datetime import datetime"
   ]
  },
  {
   "cell_type": "code",
   "execution_count": 105,
   "id": "10fa8f0e",
   "metadata": {},
   "outputs": [],
   "source": [
    "def verifyDate(text):\n",
    "            \n",
    "    text = text.strip()\n",
    "    \n",
    "    print(text)\n",
    "    \n",
    "    format = \"%d-%m-%Y\"\n",
    "    res = True\n",
    "    try:\n",
    "        res = bool(datetime.strptime(text, format))\n",
    "    except ValueError:\n",
    "        res = False\n",
    "    if str(res)==\"True\":\n",
    "            return True\n",
    "        \n",
    "    format = \"%m-%d-%Y\"\n",
    "    res = True\n",
    "    try:\n",
    "        res = bool(datetime.strptime(text, format))\n",
    "    except ValueError:\n",
    "        res = False\n",
    "    if str(res)==\"True\":\n",
    "            return True\n",
    "        \n",
    "    format = \"%y-%m-%d\"\n",
    "    res = True\n",
    "    try:\n",
    "        res = bool(datetime.strptime(text, format))\n",
    "    except ValueError:\n",
    "        res = False\n",
    "    if str(res)==\"True\":\n",
    "            return True\n",
    "        \n",
    "    return False"
   ]
  },
  {
   "cell_type": "code",
   "execution_count": 109,
   "id": "822339e1",
   "metadata": {},
   "outputs": [],
   "source": [
    "def preProcessText(text):\n",
    "    \n",
    "    symbols = [\":\", \"/\", \"\\\\\", \"-\", \",\", \".\", \" \", \"  \", \"   \"]\n",
    "    \n",
    "    text = text.strip()\n",
    "    text = text.lower()\n",
    "    \n",
    "    for symbol in symbols:\n",
    "        text = \" \".join(text.split(symbol))\n",
    "    \n",
    "    \n",
    "    months = [\"jan\", \"feb\", \"mar\", \"apr\", \"may\", \"jun\", \"jul\", \"aug\", \"sep\", \"sept\", \"oct\", \"nov\", \"dec\", \"january\"\n",
    "             , \"february\", \"march\", \"april\", \"june\", \"july\", \"august\", \"september\", \"october\", \"november\", \"december\"]\n",
    "    monthDict = {\n",
    "        \"j\" : \"01\",\n",
    "        \"f\" : \"02\",\n",
    "        \"m\" : \"03\",\n",
    "        \"a\" : \"04\",\n",
    "        \"j\" : \"07\",\n",
    "        \"s\" : \"09\",\n",
    "        \"o\" : \"10\",\n",
    "        \"n\" : \"11\",\n",
    "        \"d\" : \"12\"\n",
    "    }\n",
    "    \n",
    "    for symbol in symbols:\n",
    "        if symbol in text:\n",
    "            text = text.replace(symbol, \"-\")\n",
    "            \n",
    "    L = text.split(\"-\")\n",
    "    processedDate = []\n",
    "    for t in L:\n",
    "        if t.lower() in months:\n",
    "            if t.lower()==\"may\":\n",
    "                encoding = \"05\"\n",
    "            elif t.lower()==\"aug\" or t.lower()==\"august\":\n",
    "                encoding = \"08\"\n",
    "            elif t.lower()==\"jun\" or t.lower()==\"june\":\n",
    "                encoding = \"06\"\n",
    "            else:\n",
    "                encoding = monthDict[t[0].lower()]\n",
    "            processedDate.append(encoding)\n",
    "        else:\n",
    "            processedDate.append(t)\n",
    "    date = \"-\".join(processedDate)\n",
    "    dateL = []\n",
    "    \n",
    "    for d in date:\n",
    "        dateL.append(d)\n",
    "        \n",
    "    while len(dateL)>0 and dateL[0] in symbols:\n",
    "        dateL.pop(0)\n",
    "        \n",
    "    while len(dateL)>0 and dateL[-1] in symbols:\n",
    "        dateL.pop(-1)\n",
    "        \n",
    "    date = \"\".join(dateL)\n",
    "    return date"
   ]
  },
  {
   "cell_type": "code",
   "execution_count": 110,
   "id": "268741eb",
   "metadata": {},
   "outputs": [],
   "source": [
    "listOfDates = [\"5/12/22\", \"2/2/2023\", \"5:12-2023\", \"5,May,2023\", \"5 May,2023\", \"October 24,2022\", \"oct  24 2022\", \"22.may  2023\", \"21..02.23\"]"
   ]
  },
  {
   "cell_type": "code",
   "execution_count": 111,
   "id": "b230f0f6",
   "metadata": {},
   "outputs": [
    {
     "name": "stdout",
     "output_type": "stream",
     "text": [
      "Original Date ----> After Processing \n",
      "\n",
      "5-12-22\n",
      "2-2-2023\n",
      "5-12-2023\n",
      "5-05-2023\n",
      "5-05-2023\n",
      "10-24-2022\n",
      "10-24-2022\n",
      "22-05-2023\n",
      "21-02-23\n"
     ]
    }
   ],
   "source": [
    "print(\"Original Date\", \"---->\", \"After Processing\", \"\\n\")\n",
    "for date in listOfDates:\n",
    "    print(preProcessText(date))"
   ]
  },
  {
   "cell_type": "code",
   "execution_count": null,
   "id": "e5ccb38d",
   "metadata": {},
   "outputs": [],
   "source": []
  },
  {
   "cell_type": "code",
   "execution_count": null,
   "id": "73d231ea",
   "metadata": {},
   "outputs": [],
   "source": []
  }
 ],
 "metadata": {
  "kernelspec": {
   "display_name": "tallyInvoiceParser",
   "language": "python",
   "name": "tallyinvoiceparser"
  },
  "language_info": {
   "codemirror_mode": {
    "name": "ipython",
    "version": 3
   },
   "file_extension": ".py",
   "mimetype": "text/x-python",
   "name": "python",
   "nbconvert_exporter": "python",
   "pygments_lexer": "ipython3",
   "version": "3.10.9"
  }
 },
 "nbformat": 4,
 "nbformat_minor": 5
}
