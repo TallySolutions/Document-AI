{
 "cells": [
  {
   "cell_type": "code",
   "execution_count": 1,
   "id": "52ee96aa",
   "metadata": {},
   "outputs": [
    {
     "name": "stdout",
     "output_type": "stream",
     "text": [
      "/bin/bash: /home/aman/anaconda3/lib/libtinfo.so.6: no version information available (required by /bin/bash)\n",
      "Requirement already satisfied: pdf2img in /home/aman/anaconda3/lib/python3.10/site-packages (0.1.2)\n",
      "Requirement already satisfied: pillow in /home/aman/anaconda3/lib/python3.10/site-packages (from pdf2img) (9.4.0)\n"
     ]
    }
   ],
   "source": [
    "!pip install pdf2img"
   ]
  },
  {
   "cell_type": "code",
   "execution_count": 2,
   "id": "2166c25c",
   "metadata": {},
   "outputs": [
    {
     "name": "stdout",
     "output_type": "stream",
     "text": [
      "/bin/bash: /home/aman/anaconda3/lib/libtinfo.so.6: no version information available (required by /bin/bash)\n",
      "Requirement already satisfied: PyPDF2 in /home/aman/anaconda3/lib/python3.10/site-packages (3.0.1)\n"
     ]
    }
   ],
   "source": [
    "!pip install PyPDF2"
   ]
  },
  {
   "cell_type": "code",
   "execution_count": 3,
   "id": "ead350dc",
   "metadata": {},
   "outputs": [
    {
     "name": "stdout",
     "output_type": "stream",
     "text": [
      "/bin/bash: /home/aman/anaconda3/lib/libtinfo.so.6: no version information available (required by /bin/bash)\n",
      "Requirement already satisfied: pdf2jpg in /home/aman/anaconda3/lib/python3.10/site-packages (1.1)\n",
      "Requirement already satisfied: img2pdf in /home/aman/anaconda3/lib/python3.10/site-packages (from pdf2jpg) (0.4.4)\n",
      "Requirement already satisfied: Pillow in /home/aman/anaconda3/lib/python3.10/site-packages (from img2pdf->pdf2jpg) (9.4.0)\n",
      "Requirement already satisfied: pikepdf in /home/aman/anaconda3/lib/python3.10/site-packages (from img2pdf->pdf2jpg) (6.2.9)\n",
      "Requirement already satisfied: deprecation in /home/aman/anaconda3/lib/python3.10/site-packages (from pikepdf->img2pdf->pdf2jpg) (2.1.0)\n",
      "Requirement already satisfied: lxml>=4.8 in /home/aman/anaconda3/lib/python3.10/site-packages (from pikepdf->img2pdf->pdf2jpg) (4.9.1)\n",
      "Requirement already satisfied: packaging in /home/aman/.local/lib/python3.10/site-packages (from pikepdf->img2pdf->pdf2jpg) (23.1)\n"
     ]
    }
   ],
   "source": [
    "!pip install pdf2jpg"
   ]
  },
  {
   "cell_type": "code",
   "execution_count": 1,
   "id": "46b8535d",
   "metadata": {},
   "outputs": [],
   "source": [
    "import os\n",
    "import pdf2image\n",
    "from pdf2image import convert_from_path\n",
    "import cv2\n",
    "import matplotlib.pyplot as plt\n",
    "import PyPDF2\n",
    "import PIL\n",
    "from PIL import Image, ImageTk\n",
    "import numpy as np\n",
    "from pdf2jpg import pdf2jpg"
   ]
  },
  {
   "cell_type": "code",
   "execution_count": 2,
   "id": "d5327345",
   "metadata": {},
   "outputs": [
    {
     "data": {
      "text/plain": [
       "'/home/aman/Documents/Tally/Git-Document-AI/Document-AI/Utils'"
      ]
     },
     "execution_count": 2,
     "metadata": {},
     "output_type": "execute_result"
    }
   ],
   "source": [
    "pwd"
   ]
  },
  {
   "cell_type": "code",
   "execution_count": 3,
   "id": "756b4345",
   "metadata": {},
   "outputs": [
    {
     "name": "stdout",
     "output_type": "stream",
     "text": [
      "/home/aman/Documents/Tally/Git-Document-AI/Document-AI/Data\n"
     ]
    }
   ],
   "source": [
    "pdfPath = '/home/aman/Documents/Tally/Git-Document-AI/Document-AI/Data'\n",
    "print(pdfPath)"
   ]
  },
  {
   "cell_type": "code",
   "execution_count": 4,
   "id": "94b7121b",
   "metadata": {},
   "outputs": [
    {
     "name": "stdout",
     "output_type": "stream",
     "text": [
      "/home/aman/Documents/Tally/Git-Document-AI/Document-AI/Data/TallyImages\n"
     ]
    }
   ],
   "source": [
    "imagesPath = '/home/aman/Documents/Tally/Git-Document-AI/Document-AI/Data/TallyImages'\n",
    "print(imagesPath)"
   ]
  },
  {
   "cell_type": "code",
   "execution_count": 5,
   "id": "f097f288",
   "metadata": {},
   "outputs": [
    {
     "name": "stdout",
     "output_type": "stream",
     "text": [
      "/bin/bash: /home/aman/anaconda3/lib/libtinfo.so.6: no version information available (required by /bin/bash)\n"
     ]
    }
   ],
   "source": [
    "if not os.path.exists(imagesPath):\n",
    "    if os.name==\"posix\":\n",
    "        !mkdir -p {imagesPath}\n",
    "    elif os.name==\"nt\":\n",
    "        !mkdir {imagesPath}"
   ]
  },
  {
   "cell_type": "code",
   "execution_count": 6,
   "id": "594efda1",
   "metadata": {},
   "outputs": [
    {
     "name": "stdout",
     "output_type": "stream",
     "text": [
      "/home/aman/Documents/Tally/Git-Document-AI/Document-AI/Data/Tallyimages\n"
     ]
    }
   ],
   "source": [
    "imagesPath = '/home/aman/Documents/Tally/Git-Document-AI/Document-AI/Data/Tallyimages'\n",
    "print(imagesPath)"
   ]
  },
  {
   "cell_type": "code",
   "execution_count": 7,
   "id": "6d6e875f",
   "metadata": {},
   "outputs": [
    {
     "name": "stdout",
     "output_type": "stream",
     "text": [
      "/bin/bash: /home/aman/anaconda3/lib/libtinfo.so.6: no version information available (required by /bin/bash)\n"
     ]
    }
   ],
   "source": [
    "if not os.path.exists(imagesPath):\n",
    "    if os.name==\"posix\":\n",
    "        !mkdir -p {imagesPath}\n",
    "    elif os.name==\"nt\":\n",
    "        !mkdir {imagesPath}"
   ]
  },
  {
   "cell_type": "code",
   "execution_count": 8,
   "id": "22cf9dc1",
   "metadata": {},
   "outputs": [],
   "source": [
    "dir = os.listdir(pdfPath)"
   ]
  },
  {
   "cell_type": "code",
   "execution_count": 9,
   "id": "1548176e",
   "metadata": {},
   "outputs": [
    {
     "data": {
      "text/plain": [
       "8"
      ]
     },
     "execution_count": 9,
     "metadata": {},
     "output_type": "execute_result"
    }
   ],
   "source": [
    "len(dir)"
   ]
  },
  {
   "cell_type": "code",
   "execution_count": 10,
   "id": "138eb221",
   "metadata": {},
   "outputs": [],
   "source": [
    "for file in dir:\n",
    "    split_tup = os.path.splitext(file)\n",
    "    if split_tup[1] and split_tup[1]==\".pdf\":\n",
    "        filePath = os.path.join(pdfPath, file)\n",
    "        result = pdf2jpg.convert_pdf2jpg(filePath,imagesPath, pages=\"ALL\")"
   ]
  },
  {
   "cell_type": "code",
   "execution_count": 11,
   "id": "e1f3c9c8",
   "metadata": {},
   "outputs": [],
   "source": [
    "os.chdir('/home/aman/Documents/Tally/Git-Document-AI/Document-AI/Data/Tallyimages/')"
   ]
  },
  {
   "cell_type": "code",
   "execution_count": 12,
   "id": "a6fd8664",
   "metadata": {},
   "outputs": [],
   "source": [
    "dirs = os.listdir('/home/aman/Documents/Tally/Git-Document-AI/Document-AI/Data/Tallyimages/')"
   ]
  },
  {
   "cell_type": "code",
   "execution_count": 15,
   "id": "589d67cb",
   "metadata": {},
   "outputs": [
    {
     "data": {
      "text/plain": [
       "'TallyInvoices.pdf_dir'"
      ]
     },
     "execution_count": 15,
     "metadata": {},
     "output_type": "execute_result"
    }
   ],
   "source": [
    "dirs[0]"
   ]
  },
  {
   "cell_type": "code",
   "execution_count": 16,
   "id": "e2ccea07",
   "metadata": {},
   "outputs": [
    {
     "data": {
      "text/plain": [
       "27"
      ]
     },
     "execution_count": 16,
     "metadata": {},
     "output_type": "execute_result"
    }
   ],
   "source": [
    "imagesDir = os.listdir('/home/aman/Documents/Tally/Git-Document-AI/Document-AI/Data/Tallyimages/TallyInvoices.pdf_dir/')\n",
    "len(imagesDir)"
   ]
  },
  {
   "cell_type": "code",
   "execution_count": 17,
   "id": "79f404c9",
   "metadata": {},
   "outputs": [],
   "source": [
    "imgList = []\n",
    "os.chdir('/home/aman/Documents/Tally/Git-Document-AI/Document-AI/Data/Tallyimages/TallyInvoices.pdf_dir/')\n",
    "for img in imagesDir:\n",
    "    image = cv2.imread(img)\n",
    "    imgList.append(image)\n",
    "\n",
    "imageList=[]\n",
    "for img in imgList:\n",
    "    i=np.array(img[0])\n",
    "    imageList.append(i)"
   ]
  },
  {
   "cell_type": "code",
   "execution_count": 18,
   "id": "f1fa078e",
   "metadata": {},
   "outputs": [],
   "source": [
    "os.chdir('/home/aman/Documents/Tally/Git-Document-AI/Document-AI/Data/TallyImages/')"
   ]
  },
  {
   "cell_type": "code",
   "execution_count": 19,
   "id": "5186eef8",
   "metadata": {},
   "outputs": [],
   "source": [
    "i=0\n",
    "for img in imgList:\n",
    "    i+=1\n",
    "    image = Image.fromarray(img, \"RGB\")\n",
    "    image_filename = str(i)+\".jpeg\"\n",
    "    image.save(image_filename)\n",
    "last = i"
   ]
  },
  {
   "cell_type": "code",
   "execution_count": 84,
   "id": "f01008fc",
   "metadata": {},
   "outputs": [],
   "source": [
    "os.chdir(\"/home/aman/Documents/Tally/Git-Document-AI/Document-AI/Data/TestingPDF/\")"
   ]
  },
  {
   "cell_type": "code",
   "execution_count": 85,
   "id": "69509974",
   "metadata": {},
   "outputs": [],
   "source": [
    "dir = os.listdir(\"/home/aman/Documents/Tally/Git-Document-AI/Document-AI/Data/TestingPDF/\")"
   ]
  },
  {
   "cell_type": "code",
   "execution_count": 86,
   "id": "576be0e2",
   "metadata": {},
   "outputs": [],
   "source": [
    "imgList=[]\n",
    "for file in dir:\n",
    "    split_tup = os.path.splitext(file)\n",
    "    if split_tup[1] and split_tup[1]==\".jpeg\":\n",
    "        filePath = os.path.join(file)\n",
    "        image = cv2.imread(filePath)\n",
    "        imgList.append(image)\n",
    "    elif split_tup[1] and split_tup[1]==\".jpg\":\n",
    "        filePath = os.path.join(file)\n",
    "        image = cv2.imread(filePath)\n",
    "        imgList.append(image)"
   ]
  },
  {
   "cell_type": "code",
   "execution_count": 87,
   "id": "caedcd21",
   "metadata": {},
   "outputs": [],
   "source": [
    "imageList=[]\n",
    "for img in imgList:\n",
    "    i=np.array(img[0])\n",
    "    imageList.append(i)"
   ]
  },
  {
   "cell_type": "code",
   "execution_count": 88,
   "id": "6839d22a",
   "metadata": {},
   "outputs": [
    {
     "data": {
      "text/plain": [
       "965"
      ]
     },
     "execution_count": 88,
     "metadata": {},
     "output_type": "execute_result"
    }
   ],
   "source": [
    "len(imageList)"
   ]
  },
  {
   "cell_type": "code",
   "execution_count": 89,
   "id": "818ddd20",
   "metadata": {},
   "outputs": [],
   "source": [
    "os.chdir(\"/home/aman/Documents/Tally/Git-Document-AI/Document-AI/Data/TestingImages/\")"
   ]
  },
  {
   "cell_type": "code",
   "execution_count": 90,
   "id": "8a774a37",
   "metadata": {},
   "outputs": [],
   "source": [
    "for img in imgList:\n",
    "    last+=1\n",
    "    image = Image.fromarray(img, \"RGB\")\n",
    "    image_filename = str(last)+\".jpeg\"\n",
    "    image.save(image_filename)"
   ]
  },
  {
   "cell_type": "code",
   "execution_count": null,
   "id": "6138f49b",
   "metadata": {},
   "outputs": [],
   "source": []
  },
  {
   "cell_type": "code",
   "execution_count": null,
   "id": "8249439b",
   "metadata": {},
   "outputs": [],
   "source": []
  },
  {
   "cell_type": "code",
   "execution_count": null,
   "id": "1ac92412",
   "metadata": {},
   "outputs": [],
   "source": []
  }
 ],
 "metadata": {
  "kernelspec": {
   "display_name": "Python 3 (ipykernel)",
   "language": "python",
   "name": "python3"
  },
  "language_info": {
   "codemirror_mode": {
    "name": "ipython",
    "version": 3
   },
   "file_extension": ".py",
   "mimetype": "text/x-python",
   "name": "python",
   "nbconvert_exporter": "python",
   "pygments_lexer": "ipython3",
   "version": "3.10.9"
  }
 },
 "nbformat": 4,
 "nbformat_minor": 5
}
