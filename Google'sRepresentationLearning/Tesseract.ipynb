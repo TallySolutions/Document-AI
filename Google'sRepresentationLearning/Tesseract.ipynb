{
 "cells": [
  {
   "cell_type": "code",
   "execution_count": 1,
   "metadata": {},
   "outputs": [],
   "source": [
    "import pytesseract\n",
    "from pytesseract import Output\n",
    "import os\n",
    "pytesseract.pytesseract.tesseract_cmd=\"/home/aman/anaconda3/envs/tallyInvoiceParser.env/bin/tesseract\"\n",
    "os.environ['TESSDATA_PREFIX'] = \"/home/aman/anaconda3/envs/tallyInvoiceParser.env/share/tessdata\"\n",
    "import import_ipynb\n",
    "import pandas as pd\n",
    "import numpy as np\n",
    "import cv2\n",
    "import json"
   ]
  },
  {
   "cell_type": "code",
   "execution_count": 4,
   "metadata": {},
   "outputs": [],
   "source": [
    "def ocr(imagePath):\n",
    "    image = cv2.imread(imagePath)\n",
    "    image = cv2.cvtColor(image, cv2.COLOR_BGR2GRAY)\n",
    "    result = pytesseract.image_to_data(image, config='--oem 1 --psm 3', output_type=Output.DATAFRAME)\n",
    "    df = pd.DataFrame(result)\n",
    "    df.dropna(inplace=True)\n",
    "    df[\"x1\"] = df[\"left\"]\n",
    "    df[\"y1\"] = df[\"top\"]\n",
    "    df[\"x2\"] = df[\"left\"] + df[\"width\"]\n",
    "    df[\"y2\"] = df[\"top\"] + df[\"height\"]\n",
    "    df[\"X\"] = (df[\"x1\"] + df[\"x2\"])/2\n",
    "    df[\"Y\"] = (df[\"y1\"] + df[\"y2\"])/2\n",
    "    return df"
   ]
  },
  {
   "cell_type": "code",
   "execution_count": 3,
   "metadata": {},
   "outputs": [],
   "source": [
    "# imageDir = os.listdir(\"/home/aman/Documents/Tally/Git-Document-AI/Document-AI/Google'sRepresentationLearning/Data/Images\")\n",
    "# os.chdir(\"/home/aman/Documents/Tally/Git-Document-AI/Document-AI/Google'sRepresentationLearning/Data/Images\")"
   ]
  },
  {
   "cell_type": "code",
   "execution_count": 2,
   "metadata": {},
   "outputs": [],
   "source": [
    "# OCRRESULTS = \"/home/aman/Documents/Tally/Git-Document-AI/Document-AI/Google'sRepresentationLearning/Data/OCR\"\n",
    "# for image in imageDir:\n",
    "#         result = ocr(image)\n",
    "#         df = pd.DataFrame(result)\n",
    "#         df.dropna(inplace=True)\n",
    "#         df.to_csv(OCRRESULTS + \"/\" + image + \".csv\")\n",
    "        "
   ]
  },
  {
   "cell_type": "code",
   "execution_count": null,
   "metadata": {},
   "outputs": [],
   "source": []
  }
 ],
 "metadata": {
  "kernelspec": {
   "display_name": "base",
   "language": "python",
   "name": "python3"
  },
  "language_info": {
   "codemirror_mode": {
    "name": "ipython",
    "version": 3
   },
   "file_extension": ".py",
   "mimetype": "text/x-python",
   "name": "python",
   "nbconvert_exporter": "python",
   "pygments_lexer": "ipython3",
   "version": "3.10.9"
  },
  "orig_nbformat": 4
 },
 "nbformat": 4,
 "nbformat_minor": 2
}
