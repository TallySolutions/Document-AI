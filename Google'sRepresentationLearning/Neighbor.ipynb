{
 "cells": [
  {
   "cell_type": "code",
   "execution_count": 1,
   "metadata": {},
   "outputs": [
    {
     "name": "stdout",
     "output_type": "stream",
     "text": [
      "importing Jupyter notebook from CandidateExtraction.ipynb\n",
      "importing Jupyter notebook from Tesseract.ipynb\n"
     ]
    },
    {
     "name": "stderr",
     "output_type": "stream",
     "text": [
      "2023-07-21 10:28:54.157967: I tensorflow/core/platform/cpu_feature_guard.cc:182] This TensorFlow binary is optimized to use available CPU instructions in performance-critical operations.\n",
      "To enable the following instructions: AVX2 FMA, in other operations, rebuild TensorFlow with the appropriate compiler flags.\n"
     ]
    }
   ],
   "source": [
    "import pandas as pd\n",
    "import numpy as np\n",
    "import cv2\n",
    "import matplotlib.pyplot as plt\n",
    "import import_ipynb\n",
    "from CandidateExtraction import *\n",
    "import os\n",
    "from keras.models import load_model\n",
    "import json\n",
    "from Tesseract import *\n",
    "from keras.models import load_model\n",
    "from sklearn.decomposition import PCA\n",
    "import warnings\n",
    "warnings.filterwarnings(\"ignore\")"
   ]
  },
  {
   "cell_type": "code",
   "execution_count": 2,
   "metadata": {},
   "outputs": [],
   "source": [
    "# dataDir = os.listdir(\"/home/aman/Documents/Tally/Git-Document-AI/Document-AI/Google'sRepresentationLearning/Data\")\n",
    "# os.chdir(\"/home/aman/Documents/Tally/Git-Document-AI/Document-AI/Google'sRepresentationLearning/Data\")\n"
   ]
  },
  {
   "cell_type": "code",
   "execution_count": 3,
   "metadata": {},
   "outputs": [],
   "source": [
    "def getNeighbourInfo(candidates, data):\n",
    "    file = open(\"/home/aman/Documents/Tally/Git-Document-AI/Document-AI/Google'sRepresentationLearning/Data/Models/wordEmbeddings.json\")\n",
    "    dict = json.load(file)\n",
    "\n",
    "    df = candidates[1]\n",
    "    \n",
    "    for col in dict.keys():\n",
    "        df[col] = 0\n",
    "        df[col+\"_X\"] = 0\n",
    "        df[col+\"_Y\"] = 0\n",
    "    \n",
    "    for index in df.index:\n",
    "        Neighbours = []\n",
    "        X = df[\"x1\"][index] + df[\"x2\"][index]\n",
    "        Y = df[\"y1\"][index] + df[\"y2\"][index]\n",
    "        X/=2\n",
    "        Y/=2\n",
    "        for idx in data.index:\n",
    "            text = data[\"text\"][idx].lower()\n",
    "            X2 = data[\"X\"][idx]\n",
    "            Y2 = data[\"Y\"][idx]\n",
    "            if Y-Y2 >= 0 and Y-Y2 <= 0.1  and X2<X and text in dict.keys():\n",
    "                df[text][index] = dict[text]\n",
    "                df[text+\"_X\"][index] = X-X2\n",
    "                df[text+\"_Y\"][index] = Y-Y2"
   ]
  },
  {
   "cell_type": "code",
   "execution_count": 4,
   "metadata": {},
   "outputs": [],
   "source": [
    "def createCandidates(file):\n",
    "\n",
    "    data, candidateInfo = get_candidates(file)\n",
    "\n",
    "    data = data[[\"text\", \"X\", \"Y\"]]\n",
    "\n",
    "\n",
    "    getNeighbourInfo(candidateInfo, data)\n",
    "\n",
    "    return candidateInfo[1]\n",
    "\n",
    "    # result = pd.concat(candidateInfo)\n",
    "\n",
    "    # result.to_csv(\"Candidates/\" + file.strip(\"/\")[1])\n",
    "    \n",
    "\n"
   ]
  },
  {
   "cell_type": "code",
   "execution_count": 5,
   "metadata": {},
   "outputs": [],
   "source": [
    "# df = createCandidates(\"Images/10.jpeg\")\n",
    "# df"
   ]
  },
  {
   "cell_type": "code",
   "execution_count": 6,
   "metadata": {},
   "outputs": [],
   "source": [
    "# os.chdir(\"/home/aman/Documents/Tally/Git-Document-AI/Document-AI/Google'sRepresentationLearning/Data/Images\")\n",
    "# imagesDir = os.listdir(\"/home/aman/Documents/Tally/Git-Document-AI/Document-AI/Google'sRepresentationLearning/Data/Images\")\n",
    "# for file in imagesDir:\n",
    "#     print(file)\n",
    "#     df = createCandidates(file)\n",
    "#     df.head()\n",
    "#     os.chdir(\"/home/aman/Documents/Tally/Git-Document-AI/Document-AI/Google'sRepresentationLearning/Data/InvoiceDateDataset\")\n",
    "#     df.to_csv(file + \".csv\")\n",
    "#     os.chdir(\"/home/aman/Documents/Tally/Git-Document-AI/Document-AI/Google'sRepresentationLearning/Data/Images\")"
   ]
  },
  {
   "cell_type": "code",
   "execution_count": null,
   "metadata": {},
   "outputs": [],
   "source": []
  }
 ],
 "metadata": {
  "kernelspec": {
   "display_name": "base",
   "language": "python",
   "name": "python3"
  },
  "language_info": {
   "codemirror_mode": {
    "name": "ipython",
    "version": 3
   },
   "file_extension": ".py",
   "mimetype": "text/x-python",
   "name": "python",
   "nbconvert_exporter": "python",
   "pygments_lexer": "ipython3",
   "version": "3.10.9"
  },
  "orig_nbformat": 4
 },
 "nbformat": 4,
 "nbformat_minor": 2
}
