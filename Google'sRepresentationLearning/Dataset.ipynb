{
 "cells": [
  {
   "cell_type": "code",
   "execution_count": 1,
   "metadata": {},
   "outputs": [],
   "source": [
    "import pandas as pd\n",
    "import numpy as np\n",
    "import os"
   ]
  },
  {
   "cell_type": "code",
   "execution_count": 3,
   "metadata": {},
   "outputs": [],
   "source": [
    "def processName(text):\n",
    "    if text[1]==\"_\":\n",
    "        return (text[0]+\".jpeg\")\n",
    "    elif text[2]==\"_\":\n",
    "        return (text[:2]+\".jpeg\")\n",
    "    else:\n",
    "        return (text[:3]+\".jpeg\")\n",
    "    \n",
    "df = pd.read_csv(\"Data/Dataset/_annotations.csv\")\n",
    "\n",
    "for index in df.index:\n",
    "    df[\"filename\"][index] = processName(df[\"filename\"][index])\n",
    "df"
   ]
  },
  {
   "cell_type": "code",
   "execution_count": null,
   "metadata": {},
   "outputs": [],
   "source": []
  },
  {
   "cell_type": "code",
   "execution_count": null,
   "metadata": {},
   "outputs": [],
   "source": []
  }
 ],
 "metadata": {
  "kernelspec": {
   "display_name": "base",
   "language": "python",
   "name": "python3"
  },
  "language_info": {
   "codemirror_mode": {
    "name": "ipython",
    "version": 3
   },
   "file_extension": ".py",
   "mimetype": "text/x-python",
   "name": "python",
   "nbconvert_exporter": "python",
   "pygments_lexer": "ipython3",
   "version": "3.10.9"
  },
  "orig_nbformat": 4
 },
 "nbformat": 4,
 "nbformat_minor": 2
}
