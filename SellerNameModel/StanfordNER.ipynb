{
 "cells": [
  {
   "cell_type": "code",
   "execution_count": 3,
   "id": "3159459c",
   "metadata": {},
   "outputs": [
    {
     "name": "stdout",
     "output_type": "stream",
     "text": [
      "importing Jupyter notebook from imagePreProcessor.ipynb\n",
      "importing Jupyter notebook from TesseractModify.ipynb\n"
     ]
    }
   ],
   "source": [
    "import os\n",
    "from nltk.tag import StanfordNERTagger\n",
    "import pandas as pd\n",
    "import import_ipynb\n",
    "from imagePreProcessor import *\n",
    "from TesseractModify import *\n",
    "import pytesseract\n",
    "from pytesseract import Output\n",
    "pytesseract.pytesseract.tesseract_cmd=\"/home/aman/anaconda3/envs/tallyInvoiceParser.env/bin/tesseract\"\n",
    "os.environ['TESSDATA_PREFIX'] = \"/home/aman/anaconda3/envs/tallyInvoiceParser.env/share/tessdata\""
   ]
  },
  {
   "cell_type": "code",
   "execution_count": 4,
   "id": "e1938329",
   "metadata": {},
   "outputs": [
    {
     "data": {
      "text/plain": [
       "'/home/aman/Documents/Tally/Git-Document-AI/Document-AI/SellerNameModel'"
      ]
     },
     "execution_count": 4,
     "metadata": {},
     "output_type": "execute_result"
    }
   ],
   "source": [
    "pwd"
   ]
  },
  {
   "cell_type": "code",
   "execution_count": 5,
   "id": "bba506d4",
   "metadata": {},
   "outputs": [],
   "source": [
    "os.environ['CLASSPATH'] = '/home/aman/Documents/Tally/Dependencies/StanfordNER/stanford-ner-2020-11-17/stanford-ner.jar'"
   ]
  },
  {
   "cell_type": "code",
   "execution_count": 6,
   "id": "13c2520a",
   "metadata": {},
   "outputs": [],
   "source": [
    "os.environ['STANFORD_MODELS'] = '/home/aman/Documents/Tally/Dependencies/StanfordNER/stanford-corenlp-4.4.0-models-english/edu/stanford/nlp/models/ner/'"
   ]
  },
  {
   "cell_type": "code",
   "execution_count": 7,
   "id": "e35536be",
   "metadata": {},
   "outputs": [],
   "source": [
    "java_path = \"/usr/lib/jvm/java-7-openjdk-amd64\"\n",
    "os.environ['JAVAHOME'] = java_path"
   ]
  },
  {
   "cell_type": "code",
   "execution_count": 123,
   "id": "4b1dd771",
   "metadata": {},
   "outputs": [],
   "source": [
    "stanford_classifier  =  '/home/aman/Documents/Tally/Dependencies/StanfordNER/stanford-corenlp-4.4.0-models-english/edu/stanford/nlp/models/ner/english.all.3class.caseless.distsim.crf.ser.gz'"
   ]
  },
  {
   "cell_type": "code",
   "execution_count": 124,
   "id": "e8a9e7ae",
   "metadata": {},
   "outputs": [],
   "source": [
    "st = StanfordNERTagger(stanford_classifier)"
   ]
  },
  {
   "cell_type": "code",
   "execution_count": 125,
   "id": "a4a1c141",
   "metadata": {},
   "outputs": [],
   "source": [
    "text = 'srinivas ramanujan went to the united kingdom. There he studied at cambridge university.'"
   ]
  },
  {
   "cell_type": "code",
   "execution_count": 126,
   "id": "78a99a75",
   "metadata": {},
   "outputs": [
    {
     "name": "stdout",
     "output_type": "stream",
     "text": [
      "[('srinivas', 'PERSON'), ('ramanujan', 'PERSON'), ('went', 'O'), ('to', 'O'), ('the', 'O'), ('united', 'LOCATION'), ('kingdom.', 'LOCATION'), ('There', 'O'), ('he', 'O'), ('studied', 'O'), ('at', 'O'), ('cambridge', 'LOCATION'), ('university.', 'O')]\n"
     ]
    }
   ],
   "source": [
    "tagged = st.tag(str(text).split())\n",
    "print(tagged)"
   ]
  },
  {
   "cell_type": "code",
   "execution_count": 127,
   "id": "27ad95f2",
   "metadata": {},
   "outputs": [
    {
     "data": {
      "text/plain": [
       "'/home/aman/Documents/Tally/Git-Document-AI/Document-AI/BuyerNameModel'"
      ]
     },
     "execution_count": 127,
     "metadata": {},
     "output_type": "execute_result"
    }
   ],
   "source": [
    "pwd"
   ]
  },
  {
   "cell_type": "code",
   "execution_count": 184,
   "id": "68a1aa9d",
   "metadata": {},
   "outputs": [],
   "source": [
    "imagePath = '/home/aman/Documents/Tally/Git-Document-AI/Document-AI/BuyerNameModel/Dataset/SampleImages/8.jpeg'"
   ]
  },
  {
   "cell_type": "code",
   "execution_count": 185,
   "id": "8cae3da7",
   "metadata": {},
   "outputs": [],
   "source": [
    "image = preProcessImage(imagePath)"
   ]
  },
  {
   "cell_type": "code",
   "execution_count": 186,
   "id": "aab14ce0",
   "metadata": {},
   "outputs": [],
   "source": [
    "data = pytesseract.image_to_data(image, output_type=Output.DATAFRAME)"
   ]
  },
  {
   "cell_type": "code",
   "execution_count": 187,
   "id": "600a0322",
   "metadata": {},
   "outputs": [],
   "source": [
    "data.dropna(inplace=True)\n",
    "data.reset_index(inplace=True)\n",
    "data.drop(columns=[\"index\"], inplace=True)"
   ]
  },
  {
   "cell_type": "code",
   "execution_count": 188,
   "id": "25d23686",
   "metadata": {},
   "outputs": [],
   "source": [
    "texts = data[\"text\"].to_numpy()"
   ]
  },
  {
   "cell_type": "code",
   "execution_count": 189,
   "id": "5ce2d3de",
   "metadata": {},
   "outputs": [],
   "source": [
    "T= \"\"\n",
    "for text in texts:\n",
    "    T += text + \" \""
   ]
  },
  {
   "cell_type": "code",
   "execution_count": 190,
   "id": "1599fcaa",
   "metadata": {},
   "outputs": [
    {
     "name": "stdout",
     "output_type": "stream",
     "text": [
      "[('‘Databytes', 'ORGANIZATION'), ('Consulting', 'ORGANIZATION'), ('Technologies', 'ORGANIZATION'), ('Pvt', 'ORGANIZATION'), ('Ltd.', 'ORGANIZATION'), ('Company', 'O'), ('ID.:', 'O'), ('U72900KA2021PTC150745', 'O'), ('4°', 'O'), ('DATABYTES', 'O'), ('CONSULTING', 'O'), ('©', 'O'), ('027,', 'O'), ('awts-', 'O'), ('Renaissance', 'O'), ('Centra', 'O'), ('———', 'O'), ('Sampangirama', 'O'), ('Nagar,', 'O'), ('Mission', 'O'), ('Road', 'O'), ('INTERNET', 'O'), ('«', 'O'), ('VOICE*', 'O'), ('DATA*CLOUD', 'O'), ('Bangalore', 'O'), ('Karnataka', 'LOCATION'), ('560027', 'O'), ('%', 'O'), ('India', 'LOCATION'), ('°.', 'O'), ('GSTIN', 'O'), ('29AA!CD6862C1ZH', 'O'), ('|', 'O'), ('N', 'O'), ('VO', 'O'), ('|', 'O'), ('C', 'O'), ('E', 'O'), ('Invoice', 'O'), ('No', 'O'), (':', 'O'), ('DBCTPL-000348', 'O'), ('Invoice', 'O'), ('Date.', 'O'), ('1', 'O'), ('02-12-2022', 'O'), ('Terms', 'O'), ('>', 'O'), ('Net', 'O'), ('30', 'O'), ('Due', 'O'), ('Date', 'O'), ('2', 'O'), ('01-01-2023', 'O'), ('Purchase', 'O'), ('Order', 'O'), ('No', 'O'), (':', 'O'), ('Order', 'O'), ('Confirmed', 'O'), ('by', 'O'), ('Mr.', 'O'), ('Sajil', 'O'), ('Place', 'O'), ('Of', 'O'), ('Supply', 'O'), (':', 'O'), ('Karnataka', 'LOCATION'), ('(29)', 'O'), ('Ref', 'O'), ('No', 'O'), ('>NA', 'O'), ('Tally', 'O'), ('Solutions', 'ORGANIZATION'), ('Pvt', 'ORGANIZATION'), ('Ltd', 'ORGANIZATION'), ('AMR', 'ORGANIZATION'), ('Tech', 'ORGANIZATION'), ('Park', 'ORGANIZATION'), ('I.', 'ORGANIZATION'), ('8,', 'O'), ('No.23', 'O'), ('and', 'O'), ('24', 'O'), ('AMR', 'ORGANIZATION'), ('Tech', 'ORGANIZATION'), ('Park', 'ORGANIZATION'), ('ll', 'O'), ('8,', 'O'), ('No.23', 'O'), ('and', 'O'), ('24', 'O'), ('4', 'O'), ('Hongasandra,', 'O'), ('Hosur.', 'O'), ('Main', 'O'), ('Road', 'O'), ('4', 'O'), ('Hongasandra,', 'O'), ('Hosur', 'O'), ('Main', 'O'), ('Road', 'O'), ('Bangalore', 'O'), ('Bangalore', 'O'), ('Bangalore', 'O'), ('Bangalore', 'O'), ('560068', 'O'), ('Karnataka', 'LOCATION'), ('560068', 'O'), ('Karnataka', 'ORGANIZATION'), ('India', 'ORGANIZATION'), ('India', 'ORGANIZATION'), ('GSTIN', 'O'), ('29AAACP7879D1Z0', 'O'), ('HSN', 'O'), ('Item', 'O'), ('&', 'O'), ('Description', 'O'), ('SAC', 'O'), ('Qty', 'O'), ('1', 'O'), ('|', 'O'), ('Lenovo', 'O'), ('ThinkVision', 'O'), ('T27hv-20', 'O'), ('85285200', 'O'), ('2.00]', 'O'), ('29,200.00', 'O'), ('2', 'O'), ('|', 'O'), ('BELKIN', 'O'), ('4', 'O'), ('PORT', 'O'), ('USB-C', 'O'), ('MINIHUB', 'O'), ('|:847330', 'O'), ('3,750.00.', 'O'), ('(F4U090BTBLK).', 'O'), ('a.', 'O'), ('Sub', 'O'), ('Total’', 'O'), ('Total', 'O'), ('In', 'O'), ('Words', 'O'), ('indian', 'O'), ('Rupee', 'O'), ('Seventy-Three', 'O'), ('Thousand', 'O'), ('Three', 'O'), ('Hundred', 'O'), ('Thirty-Seven', 'O'), ('Total', 'O'), ('Taxable', 'O'), ('Amount', 'O'), ('Only', 'O'), ('CGST9', 'O'), ('(9%)', 'O'), ('SGST9', 'O'), ('(9%).', 'O'), ('Total.', 'O'), ('CGST', 'O'), ('‘SGsT', 'O'), ('Thanks', 'O'), ('for', 'O'), ('your', 'O'), ('business.', 'O'), ('Payment', 'O'), ('Options', 'O'), ('Bank:', 'O'), ('State', 'ORGANIZATION'), ('Bank', 'ORGANIZATION'), ('Of', 'ORGANIZATION'), ('India', 'ORGANIZATION'), ('Branch:', 'O'), ('Mission', 'O'), ('Road,', 'O'), ('Bengaluru', 'O'), ('Account', 'O'), ('No:', 'O'), ('40506472381', 'O'), ('Account', 'O'), ('Type:', 'O'), ('Cash', 'O'), ('Credit', 'O'), ('IFSC', 'O'), ('Code:', 'O'), ('SBIN0060133', 'O'), ('SWIFT', 'O'), ('Code:', 'O'), ('SBININBBH59', 'O'), ('Digitally', 'O'), ('signed', 'O'), ('by', 'O'), ('PARTHIBAN', 'O'), ('-', 'O'), ('Date:', 'O'), ('02-12-2022', 'O'), ('16:07:14', 'O'), ('Authorized', 'O'), ('Signature', 'O'), ('Terms', 'O'), ('&', 'O'), ('Conditions', 'O'), ('1)', 'O'), ('Taxes', 'O'), ('Included', 'O'), ('2)', 'O'), ('OEM', 'O'), ('warranty', 'O'), ('3)', 'O'), ('Payment', 'O'), ('Terms', 'O'), ('30', 'O'), ('Days’', 'O'), ('4)', 'O'), ('Delivered', 'O'), ('E', 'O'), ('.Scan', 'O'), ('the', 'O'), ('QR', 'O'), ('code', 'O'), ('to', 'O'), ('view', 'O'), ('your', 'O'), ('invoice', 'O'), ('and', 'O'), ('make', 'O'), ('payments:', 'O'), ('Amount', 'O'), ('58,400.00', 'O'), ('3,750.00', 'O'), ('62,150.00', 'O'), ('62,150.00', 'O'), ('5,593.50', 'O'), ('.5,593.50', 'O'), ('73,337.00:', 'O')]\n"
     ]
    }
   ],
   "source": [
    "tagged = st.tag(str(T).split())\n",
    "print(tagged)"
   ]
  },
  {
   "cell_type": "code",
   "execution_count": 194,
   "id": "0c229fe3",
   "metadata": {},
   "outputs": [],
   "source": [
    "org = []"
   ]
  },
  {
   "cell_type": "code",
   "execution_count": 195,
   "id": "65a5ce47",
   "metadata": {},
   "outputs": [],
   "source": [
    "for tag in tagged:\n",
    "    if tag[1]==\"ORGANIZATION\":\n",
    "        org.append(tag[0])"
   ]
  },
  {
   "cell_type": "code",
   "execution_count": 196,
   "id": "7d4087d6",
   "metadata": {},
   "outputs": [
    {
     "data": {
      "text/plain": [
       "['‘Databytes',\n",
       " 'Consulting',\n",
       " 'Technologies',\n",
       " 'Pvt',\n",
       " 'Ltd.',\n",
       " 'Solutions',\n",
       " 'Pvt',\n",
       " 'Ltd',\n",
       " 'AMR',\n",
       " 'Tech',\n",
       " 'Park',\n",
       " 'I.',\n",
       " 'AMR',\n",
       " 'Tech',\n",
       " 'Park',\n",
       " 'Karnataka',\n",
       " 'India',\n",
       " 'India',\n",
       " 'State',\n",
       " 'Bank',\n",
       " 'Of',\n",
       " 'India']"
      ]
     },
     "execution_count": 196,
     "metadata": {},
     "output_type": "execute_result"
    }
   ],
   "source": [
    "org"
   ]
  },
  {
   "cell_type": "code",
   "execution_count": null,
   "id": "f995f427",
   "metadata": {},
   "outputs": [],
   "source": []
  },
  {
   "cell_type": "code",
   "execution_count": null,
   "id": "8a25b00d",
   "metadata": {},
   "outputs": [],
   "source": []
  }
 ],
 "metadata": {
  "kernelspec": {
   "display_name": "Python 3 (ipykernel)",
   "language": "python",
   "name": "python3"
  },
  "language_info": {
   "codemirror_mode": {
    "name": "ipython",
    "version": 3
   },
   "file_extension": ".py",
   "mimetype": "text/x-python",
   "name": "python",
   "nbconvert_exporter": "python",
   "pygments_lexer": "ipython3",
   "version": "3.10.9"
  }
 },
 "nbformat": 4,
 "nbformat_minor": 5
}
