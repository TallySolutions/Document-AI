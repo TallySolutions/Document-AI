{
 "cells": [
  {
   "cell_type": "code",
   "execution_count": 3,
   "id": "a6adebd1",
   "metadata": {},
   "outputs": [],
   "source": [
    "import cv2\n",
    "import os\n",
    "import numpy as np\n",
    "import pandas as pd\n",
    "import pytesseract\n",
    "from pytesseract import Output\n",
    "import matplotlib.pyplot as plt\n",
    "pytesseract.pytesseract.tesseract_cmd=\"/home/aman/anaconda3/envs/tallyInvoiceParser.env/bin/tesseract\"\n",
    "os.environ['TESSDATA_PREFIX'] = \"/home/aman/anaconda3/envs/tallyInvoiceParser.env/share/tessdata\"\n",
    "os.environ['MLIR_CRASH_REPRODUCER_DIRECTORY']='tensorflow/compiler/mlir/tensorflow/utils/dump_mlir_util.cc:269'\n",
    "import import_ipynb\n",
    "from imagePreProcessor import *\n",
    "import math\n",
    "from sklearn.model_selection import train_test_split\n",
    "import keras\n",
    "from keras import models\n",
    "from keras.models import Sequential\n",
    "from keras.layers import Dense, ReLU, activation, Dropout\n",
    "import tensorflow as tf\n",
    "import datefinder\n",
    "import dateparser"
   ]
  },
  {
   "cell_type": "code",
   "execution_count": 4,
   "id": "1cef03bc",
   "metadata": {},
   "outputs": [
    {
     "data": {
      "text/plain": [
       "'/home/aman/Documents/Tally/Git-Document-AI/Document-AI/SellerNameModel'"
      ]
     },
     "execution_count": 4,
     "metadata": {},
     "output_type": "execute_result"
    }
   ],
   "source": [
    "pwd"
   ]
  },
  {
   "cell_type": "code",
   "execution_count": 5,
   "id": "566353ab",
   "metadata": {},
   "outputs": [],
   "source": [
    "os.chdir('/home/aman/Documents/Tally/Git-Document-AI/Document-AI/SellerNameModel/Dataset/')"
   ]
  },
  {
   "cell_type": "code",
   "execution_count": 7,
   "id": "c3a021ad",
   "metadata": {},
   "outputs": [],
   "source": [
    "df = pd.read_csv(\"dataset.csv\")"
   ]
  },
  {
   "cell_type": "code",
   "execution_count": 8,
   "id": "7fb7b993",
   "metadata": {},
   "outputs": [
    {
     "data": {
      "text/plain": [
       "(64, 31)"
      ]
     },
     "execution_count": 8,
     "metadata": {},
     "output_type": "execute_result"
    }
   ],
   "source": [
    "df.shape"
   ]
  },
  {
   "cell_type": "code",
   "execution_count": 9,
   "id": "06f0ea7c",
   "metadata": {},
   "outputs": [
    {
     "data": {
      "text/html": [
       "<div>\n",
       "<style scoped>\n",
       "    .dataframe tbody tr th:only-of-type {\n",
       "        vertical-align: middle;\n",
       "    }\n",
       "\n",
       "    .dataframe tbody tr th {\n",
       "        vertical-align: top;\n",
       "    }\n",
       "\n",
       "    .dataframe thead th {\n",
       "        text-align: right;\n",
       "    }\n",
       "</style>\n",
       "<table border=\"1\" class=\"dataframe\">\n",
       "  <thead>\n",
       "    <tr style=\"text-align: right;\">\n",
       "      <th></th>\n",
       "      <th>Unnamed: 0</th>\n",
       "      <th>conf</th>\n",
       "      <th>x</th>\n",
       "      <th>y</th>\n",
       "      <th>PageWidth</th>\n",
       "      <th>PageHeight</th>\n",
       "      <th>seller</th>\n",
       "      <th>buyer</th>\n",
       "      <th>receiver</th>\n",
       "      <th>bill</th>\n",
       "      <th>...</th>\n",
       "      <th>client</th>\n",
       "      <th>owner</th>\n",
       "      <th>invoice</th>\n",
       "      <th>for</th>\n",
       "      <th>billing</th>\n",
       "      <th>store</th>\n",
       "      <th>information</th>\n",
       "      <th>receipt</th>\n",
       "      <th>recipient</th>\n",
       "      <th>output</th>\n",
       "    </tr>\n",
       "  </thead>\n",
       "  <tbody>\n",
       "    <tr>\n",
       "      <th>count</th>\n",
       "      <td>64.000000</td>\n",
       "      <td>64.000000</td>\n",
       "      <td>64.000000</td>\n",
       "      <td>64.000000</td>\n",
       "      <td>64.000000</td>\n",
       "      <td>64.00000</td>\n",
       "      <td>64.000000</td>\n",
       "      <td>64.0</td>\n",
       "      <td>64.000000</td>\n",
       "      <td>64.000000</td>\n",
       "      <td>...</td>\n",
       "      <td>64.000000</td>\n",
       "      <td>64.0</td>\n",
       "      <td>64.000000</td>\n",
       "      <td>64.000000</td>\n",
       "      <td>64.000000</td>\n",
       "      <td>64.0</td>\n",
       "      <td>64.000000</td>\n",
       "      <td>64.000000</td>\n",
       "      <td>64.0</td>\n",
       "      <td>64.000000</td>\n",
       "    </tr>\n",
       "    <tr>\n",
       "      <th>mean</th>\n",
       "      <td>31.500000</td>\n",
       "      <td>87.529906</td>\n",
       "      <td>667.265344</td>\n",
       "      <td>1003.003344</td>\n",
       "      <td>1684.187500</td>\n",
       "      <td>2293.31250</td>\n",
       "      <td>0.004950</td>\n",
       "      <td>0.0</td>\n",
       "      <td>0.005361</td>\n",
       "      <td>0.016716</td>\n",
       "      <td>...</td>\n",
       "      <td>0.005842</td>\n",
       "      <td>0.0</td>\n",
       "      <td>0.112665</td>\n",
       "      <td>0.076581</td>\n",
       "      <td>0.000740</td>\n",
       "      <td>0.0</td>\n",
       "      <td>0.005364</td>\n",
       "      <td>0.003099</td>\n",
       "      <td>0.0</td>\n",
       "      <td>0.421875</td>\n",
       "    </tr>\n",
       "    <tr>\n",
       "      <th>std</th>\n",
       "      <td>18.618987</td>\n",
       "      <td>15.227195</td>\n",
       "      <td>368.341824</td>\n",
       "      <td>698.961683</td>\n",
       "      <td>119.949708</td>\n",
       "      <td>127.08226</td>\n",
       "      <td>0.039601</td>\n",
       "      <td>0.0</td>\n",
       "      <td>0.030087</td>\n",
       "      <td>0.089608</td>\n",
       "      <td>...</td>\n",
       "      <td>0.027629</td>\n",
       "      <td>0.0</td>\n",
       "      <td>0.141965</td>\n",
       "      <td>0.129818</td>\n",
       "      <td>0.004153</td>\n",
       "      <td>0.0</td>\n",
       "      <td>0.030100</td>\n",
       "      <td>0.017391</td>\n",
       "      <td>0.0</td>\n",
       "      <td>0.497763</td>\n",
       "    </tr>\n",
       "    <tr>\n",
       "      <th>min</th>\n",
       "      <td>0.000000</td>\n",
       "      <td>20.509868</td>\n",
       "      <td>170.250000</td>\n",
       "      <td>45.625000</td>\n",
       "      <td>1653.000000</td>\n",
       "      <td>1654.00000</td>\n",
       "      <td>0.000000</td>\n",
       "      <td>0.0</td>\n",
       "      <td>0.000000</td>\n",
       "      <td>0.000000</td>\n",
       "      <td>...</td>\n",
       "      <td>0.000000</td>\n",
       "      <td>0.0</td>\n",
       "      <td>0.000000</td>\n",
       "      <td>0.000000</td>\n",
       "      <td>0.000000</td>\n",
       "      <td>0.0</td>\n",
       "      <td>0.000000</td>\n",
       "      <td>0.000000</td>\n",
       "      <td>0.0</td>\n",
       "      <td>0.000000</td>\n",
       "    </tr>\n",
       "    <tr>\n",
       "      <th>25%</th>\n",
       "      <td>15.750000</td>\n",
       "      <td>86.107385</td>\n",
       "      <td>370.375000</td>\n",
       "      <td>342.559152</td>\n",
       "      <td>1653.000000</td>\n",
       "      <td>2337.00000</td>\n",
       "      <td>0.000000</td>\n",
       "      <td>0.0</td>\n",
       "      <td>0.000000</td>\n",
       "      <td>0.000000</td>\n",
       "      <td>...</td>\n",
       "      <td>0.000000</td>\n",
       "      <td>0.0</td>\n",
       "      <td>0.000000</td>\n",
       "      <td>0.000000</td>\n",
       "      <td>0.000000</td>\n",
       "      <td>0.0</td>\n",
       "      <td>0.000000</td>\n",
       "      <td>0.000000</td>\n",
       "      <td>0.0</td>\n",
       "      <td>0.000000</td>\n",
       "    </tr>\n",
       "    <tr>\n",
       "      <th>50%</th>\n",
       "      <td>31.500000</td>\n",
       "      <td>92.740324</td>\n",
       "      <td>593.910714</td>\n",
       "      <td>910.125000</td>\n",
       "      <td>1654.000000</td>\n",
       "      <td>2339.00000</td>\n",
       "      <td>0.000000</td>\n",
       "      <td>0.0</td>\n",
       "      <td>0.000000</td>\n",
       "      <td>0.000000</td>\n",
       "      <td>...</td>\n",
       "      <td>0.000000</td>\n",
       "      <td>0.0</td>\n",
       "      <td>0.086557</td>\n",
       "      <td>0.000000</td>\n",
       "      <td>0.000000</td>\n",
       "      <td>0.0</td>\n",
       "      <td>0.000000</td>\n",
       "      <td>0.000000</td>\n",
       "      <td>0.0</td>\n",
       "      <td>0.000000</td>\n",
       "    </tr>\n",
       "    <tr>\n",
       "      <th>75%</th>\n",
       "      <td>47.250000</td>\n",
       "      <td>95.160755</td>\n",
       "      <td>920.940341</td>\n",
       "      <td>1619.062500</td>\n",
       "      <td>1654.000000</td>\n",
       "      <td>2339.00000</td>\n",
       "      <td>0.000000</td>\n",
       "      <td>0.0</td>\n",
       "      <td>0.000000</td>\n",
       "      <td>0.000000</td>\n",
       "      <td>...</td>\n",
       "      <td>0.000000</td>\n",
       "      <td>0.0</td>\n",
       "      <td>0.171338</td>\n",
       "      <td>0.101998</td>\n",
       "      <td>0.000000</td>\n",
       "      <td>0.0</td>\n",
       "      <td>0.000000</td>\n",
       "      <td>0.000000</td>\n",
       "      <td>0.0</td>\n",
       "      <td>1.000000</td>\n",
       "    </tr>\n",
       "    <tr>\n",
       "      <th>max</th>\n",
       "      <td>63.000000</td>\n",
       "      <td>96.875511</td>\n",
       "      <td>1442.250000</td>\n",
       "      <td>2164.000000</td>\n",
       "      <td>2339.000000</td>\n",
       "      <td>2339.00000</td>\n",
       "      <td>0.316808</td>\n",
       "      <td>0.0</td>\n",
       "      <td>0.171564</td>\n",
       "      <td>0.511185</td>\n",
       "      <td>...</td>\n",
       "      <td>0.174164</td>\n",
       "      <td>0.0</td>\n",
       "      <td>0.584646</td>\n",
       "      <td>0.518143</td>\n",
       "      <td>0.023683</td>\n",
       "      <td>0.0</td>\n",
       "      <td>0.171640</td>\n",
       "      <td>0.099171</td>\n",
       "      <td>0.0</td>\n",
       "      <td>1.000000</td>\n",
       "    </tr>\n",
       "  </tbody>\n",
       "</table>\n",
       "<p>8 rows × 29 columns</p>\n",
       "</div>"
      ],
      "text/plain": [
       "       Unnamed: 0       conf            x            y    PageWidth  \\\n",
       "count   64.000000  64.000000    64.000000    64.000000    64.000000   \n",
       "mean    31.500000  87.529906   667.265344  1003.003344  1684.187500   \n",
       "std     18.618987  15.227195   368.341824   698.961683   119.949708   \n",
       "min      0.000000  20.509868   170.250000    45.625000  1653.000000   \n",
       "25%     15.750000  86.107385   370.375000   342.559152  1653.000000   \n",
       "50%     31.500000  92.740324   593.910714   910.125000  1654.000000   \n",
       "75%     47.250000  95.160755   920.940341  1619.062500  1654.000000   \n",
       "max     63.000000  96.875511  1442.250000  2164.000000  2339.000000   \n",
       "\n",
       "       PageHeight     seller  buyer   receiver       bill  ...     client  \\\n",
       "count    64.00000  64.000000   64.0  64.000000  64.000000  ...  64.000000   \n",
       "mean   2293.31250   0.004950    0.0   0.005361   0.016716  ...   0.005842   \n",
       "std     127.08226   0.039601    0.0   0.030087   0.089608  ...   0.027629   \n",
       "min    1654.00000   0.000000    0.0   0.000000   0.000000  ...   0.000000   \n",
       "25%    2337.00000   0.000000    0.0   0.000000   0.000000  ...   0.000000   \n",
       "50%    2339.00000   0.000000    0.0   0.000000   0.000000  ...   0.000000   \n",
       "75%    2339.00000   0.000000    0.0   0.000000   0.000000  ...   0.000000   \n",
       "max    2339.00000   0.316808    0.0   0.171564   0.511185  ...   0.174164   \n",
       "\n",
       "       owner    invoice        for    billing  store  information    receipt  \\\n",
       "count   64.0  64.000000  64.000000  64.000000   64.0    64.000000  64.000000   \n",
       "mean     0.0   0.112665   0.076581   0.000740    0.0     0.005364   0.003099   \n",
       "std      0.0   0.141965   0.129818   0.004153    0.0     0.030100   0.017391   \n",
       "min      0.0   0.000000   0.000000   0.000000    0.0     0.000000   0.000000   \n",
       "25%      0.0   0.000000   0.000000   0.000000    0.0     0.000000   0.000000   \n",
       "50%      0.0   0.086557   0.000000   0.000000    0.0     0.000000   0.000000   \n",
       "75%      0.0   0.171338   0.101998   0.000000    0.0     0.000000   0.000000   \n",
       "max      0.0   0.584646   0.518143   0.023683    0.0     0.171640   0.099171   \n",
       "\n",
       "       recipient     output  \n",
       "count       64.0  64.000000  \n",
       "mean         0.0   0.421875  \n",
       "std          0.0   0.497763  \n",
       "min          0.0   0.000000  \n",
       "25%          0.0   0.000000  \n",
       "50%          0.0   0.000000  \n",
       "75%          0.0   1.000000  \n",
       "max          0.0   1.000000  \n",
       "\n",
       "[8 rows x 29 columns]"
      ]
     },
     "execution_count": 9,
     "metadata": {},
     "output_type": "execute_result"
    }
   ],
   "source": [
    "df.describe()"
   ]
  },
  {
   "cell_type": "code",
   "execution_count": 10,
   "id": "9d86051d",
   "metadata": {},
   "outputs": [
    {
     "data": {
      "text/plain": [
       "18"
      ]
     },
     "execution_count": 10,
     "metadata": {},
     "output_type": "execute_result"
    }
   ],
   "source": [
    "len(df[\"imageName\"].unique())"
   ]
  },
  {
   "cell_type": "code",
   "execution_count": 11,
   "id": "a4625dfb",
   "metadata": {},
   "outputs": [],
   "source": [
    "def preProcess(df):\n",
    "    df[\"isLeft\"] = 0\n",
    "    df[\"isRight\"] = 0\n",
    "    df[\"isBottom\"] = 0\n",
    "    df[\"isTop\"] = 0\n",
    "    for index in df.index:\n",
    "        \n",
    "        x = df[\"x\"][index]\n",
    "        y = df[\"y\"][index]\n",
    "        X = df[\"PageWidth\"][index]\n",
    "        X = X/2\n",
    "        Y = df[\"PageHeight\"][index]\n",
    "        Y = Y/2\n",
    "        \n",
    "        text = df[\"text\"][index]\n",
    "        date = list(datefinder.find_dates(text))[0]\n",
    "        \n",
    "        if x<X:\n",
    "            df[\"isLeft\"][index]=1\n",
    "        elif x>=X:\n",
    "            df[\"isRight\"][index]=1\n",
    "            \n",
    "        if y<Y:\n",
    "            df[\"isBottom\"][index]=1\n",
    "        elif y>Y:\n",
    "            df[\"isTop\"][index]=1\n",
    "            \n",
    "        \n",
    "            \n",
    "    df[\"x\"]/=df[\"PageWidth\"]\n",
    "    df[\"y\"]/=df[\"PageHeight\"]\n",
    "    \n",
    "    colsToDrop = [\"Unnamed: 0\", \"imageName\", \"text\", \"PageHeight\", \"PageWidth\", \"conf\"]\n",
    "    df.drop(columns=colsToDrop, inplace=True)\n",
    "    "
   ]
  },
  {
   "cell_type": "code",
   "execution_count": 12,
   "id": "d7481990",
   "metadata": {},
   "outputs": [
    {
     "ename": "IndexError",
     "evalue": "list index out of range",
     "output_type": "error",
     "traceback": [
      "\u001b[0;31m---------------------------------------------------------------------------\u001b[0m",
      "\u001b[0;31mIndexError\u001b[0m                                Traceback (most recent call last)",
      "Cell \u001b[0;32mIn[12], line 1\u001b[0m\n\u001b[0;32m----> 1\u001b[0m \u001b[43mpreProcess\u001b[49m\u001b[43m(\u001b[49m\u001b[43mdf\u001b[49m\u001b[43m)\u001b[49m\n",
      "Cell \u001b[0;32mIn[11], line 16\u001b[0m, in \u001b[0;36mpreProcess\u001b[0;34m(df)\u001b[0m\n\u001b[1;32m     13\u001b[0m Y \u001b[38;5;241m=\u001b[39m Y\u001b[38;5;241m/\u001b[39m\u001b[38;5;241m2\u001b[39m\n\u001b[1;32m     15\u001b[0m text \u001b[38;5;241m=\u001b[39m df[\u001b[38;5;124m\"\u001b[39m\u001b[38;5;124mtext\u001b[39m\u001b[38;5;124m\"\u001b[39m][index]\n\u001b[0;32m---> 16\u001b[0m date \u001b[38;5;241m=\u001b[39m \u001b[38;5;28;43mlist\u001b[39;49m\u001b[43m(\u001b[49m\u001b[43mdatefinder\u001b[49m\u001b[38;5;241;43m.\u001b[39;49m\u001b[43mfind_dates\u001b[49m\u001b[43m(\u001b[49m\u001b[43mtext\u001b[49m\u001b[43m)\u001b[49m\u001b[43m)\u001b[49m\u001b[43m[\u001b[49m\u001b[38;5;241;43m0\u001b[39;49m\u001b[43m]\u001b[49m\n\u001b[1;32m     18\u001b[0m \u001b[38;5;28;01mif\u001b[39;00m x\u001b[38;5;241m<\u001b[39mX:\n\u001b[1;32m     19\u001b[0m     df[\u001b[38;5;124m\"\u001b[39m\u001b[38;5;124misLeft\u001b[39m\u001b[38;5;124m\"\u001b[39m][index]\u001b[38;5;241m=\u001b[39m\u001b[38;5;241m1\u001b[39m\n",
      "\u001b[0;31mIndexError\u001b[0m: list index out of range"
     ]
    }
   ],
   "source": [
    "preProcess(df)"
   ]
  },
  {
   "cell_type": "code",
   "execution_count": null,
   "id": "d53650c9",
   "metadata": {},
   "outputs": [],
   "source": [
    "df"
   ]
  },
  {
   "cell_type": "code",
   "execution_count": null,
   "id": "0afbcb6c",
   "metadata": {},
   "outputs": [],
   "source": [
    "df.describe()"
   ]
  },
  {
   "cell_type": "code",
   "execution_count": null,
   "id": "b226a1df",
   "metadata": {},
   "outputs": [],
   "source": [
    "df.corr()"
   ]
  },
  {
   "cell_type": "code",
   "execution_count": null,
   "id": "34dfbcaf",
   "metadata": {},
   "outputs": [],
   "source": [
    "df.shape"
   ]
  },
  {
   "cell_type": "code",
   "execution_count": null,
   "id": "de777b00",
   "metadata": {},
   "outputs": [],
   "source": [
    "len(df[df[\"output\"]==0])"
   ]
  },
  {
   "cell_type": "code",
   "execution_count": null,
   "id": "f80f236e",
   "metadata": {},
   "outputs": [],
   "source": [
    "len(df[df[\"output\"]==1])"
   ]
  },
  {
   "cell_type": "code",
   "execution_count": null,
   "id": "d3f3e027",
   "metadata": {},
   "outputs": [],
   "source": [
    "def extractData(df):\n",
    "    train, test = train_test_split(df, test_size=0.2, random_state=42, shuffle=True)\n",
    "    xTrain = train.drop(columns = [\"output\"]).to_numpy()\n",
    "    xTest = test.drop(columns = [\"output\"]).to_numpy()\n",
    "    yTrain = train[\"output\"].to_numpy()\n",
    "    yTest = test[\"output\"].to_numpy()\n",
    "    return xTrain, yTrain, xTest, yTest"
   ]
  },
  {
   "cell_type": "code",
   "execution_count": null,
   "id": "9df670b6",
   "metadata": {},
   "outputs": [],
   "source": [
    "xTrain, yTrain, xTest, yTest = extractData(df)"
   ]
  },
  {
   "cell_type": "code",
   "execution_count": null,
   "id": "7542b1df",
   "metadata": {},
   "outputs": [],
   "source": [
    "xTrain.shape"
   ]
  },
  {
   "cell_type": "code",
   "execution_count": null,
   "id": "d6585a7b",
   "metadata": {},
   "outputs": [],
   "source": [
    "xTest.shape"
   ]
  },
  {
   "cell_type": "code",
   "execution_count": null,
   "id": "eae53814",
   "metadata": {},
   "outputs": [],
   "source": [
    "yTrain.shape"
   ]
  },
  {
   "cell_type": "code",
   "execution_count": null,
   "id": "3014de64",
   "metadata": {},
   "outputs": [],
   "source": [
    "yTest.shape"
   ]
  },
  {
   "cell_type": "code",
   "execution_count": null,
   "id": "92f8deb3",
   "metadata": {},
   "outputs": [],
   "source": [
    "model = keras.Sequential([\n",
    "    keras.layers.Dense(32, input_shape=(17, ), activation='relu'),\n",
    "    keras.layers.Dense(32, activation='relu'),\n",
    "    keras.layers.Dense(1, activation = 'sigmoid')\n",
    "])"
   ]
  },
  {
   "cell_type": "code",
   "execution_count": null,
   "id": "04837437",
   "metadata": {},
   "outputs": [],
   "source": [
    "model.summary()"
   ]
  },
  {
   "cell_type": "code",
   "execution_count": null,
   "id": "906d4083",
   "metadata": {},
   "outputs": [],
   "source": [
    "model.compile(optimizer='adam',\n",
    "              loss=\"binary_crossentropy\",\n",
    "              metrics=[\"accuracy\", 'Precision', \"Recall\", \"TruePositives\", \"TrueNegatives\", \"FalsePositives\", \"FalseNegatives\"])"
   ]
  },
  {
   "cell_type": "code",
   "execution_count": null,
   "id": "36367d38",
   "metadata": {},
   "outputs": [],
   "source": [
    "history = model.fit(xTrain, yTrain,\n",
    "          epochs=300, batch_size=2)"
   ]
  },
  {
   "cell_type": "code",
   "execution_count": null,
   "id": "6a823197",
   "metadata": {},
   "outputs": [],
   "source": [
    "plt.plot(history.history['accuracy'])\n",
    "plt.plot(history.history['loss'])\n",
    "plt.title('model accuracy')\n",
    "plt.legend([\"accuracy\", \"loss\"])\n",
    "plt.ylabel('accuracy / loss')\n",
    "plt.xlabel('epoch')\n",
    "plt.show()"
   ]
  },
  {
   "cell_type": "code",
   "execution_count": null,
   "id": "42da1cde",
   "metadata": {},
   "outputs": [],
   "source": [
    "model.evaluate(xTest, yTest)"
   ]
  },
  {
   "cell_type": "code",
   "execution_count": null,
   "id": "f13994e7",
   "metadata": {},
   "outputs": [],
   "source": [
    "pwd"
   ]
  },
  {
   "cell_type": "code",
   "execution_count": null,
   "id": "12591b25",
   "metadata": {},
   "outputs": [],
   "source": [
    "os.chdir('/home/aman/Documents/Tally/Git-Document-AI/Document-AI/InvoiceDateModel/Models/')"
   ]
  },
  {
   "cell_type": "code",
   "execution_count": null,
   "id": "5a50d94f",
   "metadata": {},
   "outputs": [],
   "source": [
    "model.save(\"InvoiceDate.h5\")"
   ]
  },
  {
   "cell_type": "code",
   "execution_count": null,
   "id": "ed98d4e5",
   "metadata": {},
   "outputs": [],
   "source": []
  }
 ],
 "metadata": {
  "kernelspec": {
   "display_name": "Python 3 (ipykernel)",
   "language": "python",
   "name": "python3"
  },
  "language_info": {
   "codemirror_mode": {
    "name": "ipython",
    "version": 3
   },
   "file_extension": ".py",
   "mimetype": "text/x-python",
   "name": "python",
   "nbconvert_exporter": "python",
   "pygments_lexer": "ipython3",
   "version": "3.10.9"
  }
 },
 "nbformat": 4,
 "nbformat_minor": 5
}
