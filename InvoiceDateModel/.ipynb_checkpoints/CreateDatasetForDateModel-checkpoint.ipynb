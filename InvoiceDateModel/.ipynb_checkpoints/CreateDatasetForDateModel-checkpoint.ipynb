{
 "cells": [
  {
   "cell_type": "code",
   "execution_count": 3,
   "id": "c7ae2491",
   "metadata": {},
   "outputs": [],
   "source": [
    "#importing libraries\n",
    "\n",
    "import cv2\n",
    "import os\n",
    "import numpy as np\n",
    "import pandas as pd\n",
    "import pytesseract\n",
    "from pytesseract import Output\n",
    "import matplotlib.pyplot as plt\n",
    "pytesseract.pytesseract.tesseract_cmd=\"/home/aman/anaconda3/envs/tallyInvoiceParser.env/bin/tesseract\"\n",
    "os.environ['TESSDATA_PREFIX'] = \"/home/aman/anaconda3/envs/tallyInvoiceParser.env/share/tessdata\"\n",
    "import import_ipynb\n",
    "from imagePreProcessor import *\n",
    "from TesseractModify import *\n",
    "from datetime import datetime\n",
    "import math\n",
    "import dateparser\n",
    "import datefinder"
   ]
  },
  {
   "cell_type": "code",
   "execution_count": 4,
   "id": "8957924c",
   "metadata": {},
   "outputs": [],
   "source": [
    "imagesFolderPath = '/home/aman/Documents/Tally/Git-Document-AI/Document-AI/InvoiceDateModel/Dataset/SampleImages/'"
   ]
  },
  {
   "cell_type": "code",
   "execution_count": 5,
   "id": "daac4c16",
   "metadata": {},
   "outputs": [],
   "source": [
    "def preProcessDataFrame(df, image):\n",
    "    \n",
    "    #drop null values\n",
    "    df.dropna(inplace=True)\n",
    "    \n",
    "    \n",
    "    #rows having text as a stopword removed\n",
    "    indexesToDrop = []\n",
    "    stopwords = [\"\", \" \", \"  \", \"/\", \":\", \"-\", \".\", \",\", \"\\n\", \"\\t\", \"\\\\\", \"(\", \")\", \"[\", \"]\", \"{\", \"}\", \"*\", \"&\", \"%\", \"$\", \"#\", \"|\"]\n",
    "    for index in df.index:\n",
    "        if df[\"text\"][index] in stopwords:\n",
    "            indexesToDrop.append(index)   \n",
    "    df.drop(indexesToDrop, inplace=True)\n",
    "    \n",
    "    #resetting the index\n",
    "    df.reset_index(inplace=True)\n",
    "    df.drop(columns=[\"index\"], inplace=True)\n",
    "    \n",
    "    #creating new columns for centroid information\n",
    "    df[\"x\"] = df[\"left\"] + df[\"width\"] \n",
    "    df[\"y\"] = df[\"top\"] + df[\"height\"]\n",
    "    \n",
    "    #new columns for page width and height for further normalization\n",
    "    df[\"PageHeight\"] = image.shape[0]\n",
    "    df[\"PageWidth\"] = image.shape[1]\n",
    "    \n",
    "    #adding columns for zonal info (4 Zone)\n",
    "    df[\"isTop\"] = 0\n",
    "    df[\"isBottom\"] = 0\n",
    "    df[\"isRight\"] = 0\n",
    "    df[\"isLeft\"] = 0\n",
    "    \n",
    "    #is the date past date or future date\n",
    "    df[\"isPast\"] = 0\n",
    "    df[\"isFuture\"] = 0"
   ]
  },
  {
   "cell_type": "code",
   "execution_count": 6,
   "id": "ad510ac3",
   "metadata": {},
   "outputs": [],
   "source": [
    "def verifyDate(text):\n",
    "    \n",
    "    dates = list(datefinder.find_dates(text, strict=True))\n",
    "    \n",
    "    if len(dates)==0:\n",
    "        return False\n",
    "    else:\n",
    "        for date in dates:\n",
    "            year = date.year\n",
    "            presentYear = date.today().year\n",
    "            if abs(year-presentYear)<=2:\n",
    "                print(dates)\n",
    "                return True\n",
    "            else:\n",
    "                return False"
   ]
  },
  {
   "cell_type": "code",
   "execution_count": 7,
   "id": "5d67e0e4",
   "metadata": {},
   "outputs": [],
   "source": [
    "def findDate(dateDF):\n",
    "    dates = []\n",
    "    \n",
    "    for index in dateDF.index:\n",
    "        text = dateDF[\"text\"][index]\n",
    "        if verifyDate(text):\n",
    "            dates.append(text)\n",
    "            Dates = list(datefinder.find_dates(text))\n",
    "            dateToday = Dates[0].today()\n",
    "            if Dates[0]<=dateToday:\n",
    "                dateDF[\"isPast\"][index]=1\n",
    "            else:\n",
    "                dateDF[\"isFuture\"][index]=1\n",
    "            \n",
    "    \n",
    "    return dates"
   ]
  },
  {
   "cell_type": "code",
   "execution_count": 8,
   "id": "cf56bc6c",
   "metadata": {},
   "outputs": [],
   "source": [
    "def extractDateDataFrame(df):\n",
    "    dateDF = df.copy()\n",
    "    for index in dateDF.index:\n",
    "        text = dateDF[\"text\"][index]\n",
    "        dateDF[\"text\"][index] = text.lower()\n",
    "    dates = findDate(dateDF)\n",
    "    return dateDF, dates\n",
    "    \n",
    "        "
   ]
  },
  {
   "cell_type": "code",
   "execution_count": 9,
   "id": "2c5f4f16",
   "metadata": {},
   "outputs": [],
   "source": [
    "def returnDist(x1, y1, x2, y2):\n",
    "    p = [x1, y1]\n",
    "    q = [x2, y2]\n",
    "    return math.dist(p, q)"
   ]
  },
  {
   "cell_type": "code",
   "execution_count": 10,
   "id": "7745017e",
   "metadata": {},
   "outputs": [],
   "source": [
    "def allocateNeighbours(df, neighbourFields):\n",
    "    for index in df.index:\n",
    "        x1 = df[\"x\"][index]/df[\"PageWidth\"][index]\n",
    "        y1 = df[\"y\"][index]/df[\"PageHeight\"][index]\n",
    "        block = df[\"block_num\"][index]\n",
    "        neighbours = {}\n",
    "        for index2 in df.index:\n",
    "            x2 = df[\"x\"][index2]/df[\"PageWidth\"][index2]\n",
    "            y2 = df[\"y\"][index2]/df[\"PageHeight\"][index2]\n",
    "            block2 = df[\"block_num\"][index2]\n",
    "            dist = returnDist(x1, y1, x2, y2)\n",
    "            if dist<0.2:\n",
    "                neighbours[df[\"text\"][index2].lower()]=dist\n",
    "            if abs(y1-y2)<0.2 and abs(block2-block)<=1<=1:\n",
    "                neighbours[df[\"text\"][index2].lower()] = dist\n",
    "        for n in neighbourFields:\n",
    "            if n in neighbours:\n",
    "                df[n][index]=neighbours[n]"
   ]
  },
  {
   "cell_type": "code",
   "execution_count": 11,
   "id": "55783e92",
   "metadata": {},
   "outputs": [],
   "source": [
    "def addNeighbours(df):\n",
    "    neighbourFields = [\"date\", \"dated\", \"invoice\", \"delivery\", \"order\", \"due\", \"payment\", \"tax\", \"bill\", \"receipt\", \"issue\"]\n",
    "    for col in neighbourFields:\n",
    "        df[col]=0\n",
    "    allocateNeighbours(df, neighbourFields)\n",
    "    "
   ]
  },
  {
   "cell_type": "code",
   "execution_count": 12,
   "id": "0b533640",
   "metadata": {},
   "outputs": [],
   "source": [
    "def findDateDF(dates, dateDF):\n",
    "    indexes = []\n",
    "    for date in dates:\n",
    "        i = dateDF[dateDF[\"text\"]==date].index\n",
    "        for index in i:\n",
    "            indexes.append(index)\n",
    "    return indexes"
   ]
  },
  {
   "cell_type": "code",
   "execution_count": 13,
   "id": "05e2e879",
   "metadata": {},
   "outputs": [],
   "source": [
    "def dropIndexes(indexes, df):\n",
    "    indexesToDrop=[]\n",
    "    for index in df.index:\n",
    "        if index not in indexes:\n",
    "            indexesToDrop.append(index)\n",
    "    df.drop(indexesToDrop, inplace=True)"
   ]
  },
  {
   "cell_type": "code",
   "execution_count": 14,
   "id": "2863e231",
   "metadata": {},
   "outputs": [],
   "source": [
    "def create(imagePath):\n",
    "    image = cv2.imread(imagePath)\n",
    "    preProcessedImage = preProcessImage(imagePath)\n",
    "    data = pytesseract.image_to_data(preProcessedImage, output_type=Output.DATAFRAME)\n",
    "    data.dropna(inplace=True)\n",
    "    data.reset_index(inplace=True)\n",
    "    data.drop(columns=[\"index\"], inplace=True)\n",
    "    processData(data)\n",
    "    df = pd.DataFrame(data)\n",
    "    preProcessDataFrame(df, preProcessedImage)\n",
    "    dateDF, dates = extractDateDataFrame(df)\n",
    "    addNeighbours(df)\n",
    "    indexes = findDateDF(dates, dateDF)\n",
    "    resultDF = df.copy()\n",
    "    dropIndexes(indexes, resultDF)\n",
    "    return resultDF\n",
    "    \n",
    "    "
   ]
  },
  {
   "cell_type": "code",
   "execution_count": 15,
   "id": "1d58a143",
   "metadata": {},
   "outputs": [],
   "source": [
    "def batchCreate(folderPath):\n",
    "    os.chdir(folderPath)\n",
    "    images = os.listdir()\n",
    "    dfList = []\n",
    "    for imagePath in images:\n",
    "        #print(imagePath)\n",
    "        df = create(imagePath)\n",
    "        df[\"imageName\"] = imagePath\n",
    "        df[\"output\"] = 0\n",
    "        dfList.append(df)\n",
    "    return dfList"
   ]
  },
  {
   "cell_type": "code",
   "execution_count": 16,
   "id": "af39a1cb",
   "metadata": {},
   "outputs": [],
   "source": [
    "#dfList = batchCreate(imagesFolderPath)"
   ]
  },
  {
   "cell_type": "code",
   "execution_count": 17,
   "id": "950850dc",
   "metadata": {},
   "outputs": [],
   "source": [
    "#len(dfList)"
   ]
  },
  {
   "cell_type": "code",
   "execution_count": 18,
   "id": "53044fd5",
   "metadata": {},
   "outputs": [],
   "source": [
    "#resultDF = pd.concat(dfList)"
   ]
  },
  {
   "cell_type": "code",
   "execution_count": 19,
   "id": "c4ace3d3",
   "metadata": {},
   "outputs": [],
   "source": [
    "#resultDF.shape"
   ]
  },
  {
   "cell_type": "code",
   "execution_count": 20,
   "id": "a0530f9f",
   "metadata": {},
   "outputs": [],
   "source": [
    "#len(resultDF[\"imageName\"].unique())"
   ]
  },
  {
   "cell_type": "code",
   "execution_count": 21,
   "id": "95f4cf82",
   "metadata": {},
   "outputs": [],
   "source": [
    "#resultDF"
   ]
  },
  {
   "cell_type": "code",
   "execution_count": 22,
   "id": "03e37086",
   "metadata": {},
   "outputs": [],
   "source": [
    "#resultDF.reset_index(inplace=True)"
   ]
  },
  {
   "cell_type": "code",
   "execution_count": 23,
   "id": "5e4f2e34",
   "metadata": {},
   "outputs": [],
   "source": [
    "#resultDF.drop(columns=[\"index\", \"nextDist\", \"block_num\", \"line_num\"], inplace=True)"
   ]
  },
  {
   "cell_type": "code",
   "execution_count": 24,
   "id": "c15d3d4a",
   "metadata": {},
   "outputs": [],
   "source": [
    "#resultDF.head()"
   ]
  },
  {
   "cell_type": "code",
   "execution_count": 25,
   "id": "9639a47b",
   "metadata": {},
   "outputs": [],
   "source": [
    "#pwd"
   ]
  },
  {
   "cell_type": "code",
   "execution_count": 28,
   "id": "1bd92c70",
   "metadata": {},
   "outputs": [],
   "source": [
    "#os.chdir('/home/aman/Documents/Tally/Git-Document-AI/Document-AI/InvoiceDateModel/Dataset/')"
   ]
  },
  {
   "cell_type": "code",
   "execution_count": 29,
   "id": "ce2b8453",
   "metadata": {},
   "outputs": [],
   "source": [
    "#pwd"
   ]
  },
  {
   "cell_type": "code",
   "execution_count": 30,
   "id": "ba66b29d",
   "metadata": {},
   "outputs": [],
   "source": [
    "#resultDF.to_csv(\"tesseract.csv\")"
   ]
  },
  {
   "cell_type": "code",
   "execution_count": null,
   "id": "e6a4816f",
   "metadata": {},
   "outputs": [],
   "source": []
  }
 ],
 "metadata": {
  "kernelspec": {
   "display_name": "Python 3 (ipykernel)",
   "language": "python",
   "name": "python3"
  },
  "language_info": {
   "codemirror_mode": {
    "name": "ipython",
    "version": 3
   },
   "file_extension": ".py",
   "mimetype": "text/x-python",
   "name": "python",
   "nbconvert_exporter": "python",
   "pygments_lexer": "ipython3",
   "version": "3.10.9"
  }
 },
 "nbformat": 4,
 "nbformat_minor": 5
}
