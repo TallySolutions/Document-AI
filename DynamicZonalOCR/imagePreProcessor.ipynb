{
 "cells": [
  {
   "cell_type": "code",
   "execution_count": 1,
   "metadata": {},
   "outputs": [],
   "source": [
    "import cv2\n",
    "import matplotlib.pyplot as plt\n",
    "import os\n",
    "import warnings\n",
    "warnings.filterwarnings(\"ignore\")\n",
    "import pytesseract\n",
    "from pytesseract import Output\n",
    "pytesseract.pytesseract.tesseract_cmd=\"/home/aman/anaconda3/envs/tallyInvoiceParser.env/bin/tesseract\"\n",
    "os.environ['TESSDATA_PREFIX'] = \"/home/aman/anaconda3/envs/tallyInvoiceParser.env/share/tessdata\"\n",
    "from PIL import Image, ImageTk\n",
    "import numpy as np"
   ]
  },
  {
   "cell_type": "code",
   "execution_count": 2,
   "metadata": {},
   "outputs": [],
   "source": [
    "# imagesFolderPath = '/home/aman/Documents/Tally/Git-Document-AI/Document-AI/Data/Images/'\n",
    "# os.chdir(imagesFolderPath)\n",
    "# imageNames = os.listdir(imagesFolderPath)\n",
    "# imagePath = \"10.jpeg\"\n",
    "# image = cv2.imread(imagePath)\n",
    "# plt.imshow(image)"
   ]
  },
  {
   "cell_type": "code",
   "execution_count": 3,
   "metadata": {},
   "outputs": [],
   "source": [
    "# data = pytesseract.image_to_data(image, output_type=Output.DATAFRAME)\n",
    "# data.dropna(inplace=True)\n",
    "# indexesToDrop = []\n",
    "# stopwords = [\"\", \" \", \"  \", \"/\", \":\", \"-\", \".\", \",\", \"\\n\", \"\\t\", \"\\\\\", \"(\", \")\", \"[\", \"]\", \"{\", \"}\", \"*\", \"&\", \"%\", \"$\", \"#\", \"|\"]\n",
    "# for index in data.index:\n",
    "#     if data[\"text\"][index] in stopwords:\n",
    "#         indexesToDrop.append(index)   \n",
    "# data.drop(indexesToDrop, inplace=True)\n",
    "# data.reset_index(inplace=True)\n",
    "# data.drop(columns=[\"index\"], inplace=True)\n",
    "# for index in data.index:\n",
    "#     data[\"text\"][index] = str(data[\"text\"][index])\n",
    "# data[\"right\"] = data[\"left\"] + data[\"width\"]\n",
    "# data[\"bottom\"] = data[\"top\"] + data[\"height\"]\n",
    "# data.head()"
   ]
  },
  {
   "cell_type": "code",
   "execution_count": 4,
   "metadata": {},
   "outputs": [],
   "source": [
    "# L = data[\"left\"].to_numpy()\n",
    "# T = data[\"top\"].to_numpy()\n",
    "# R = data[\"right\"].to_numpy()\n",
    "# B = data[\"bottom\"].to_numpy()\n",
    "\n",
    "# BB = [[max(min(L)-40, 0), max(min(T)-40, 0)], [min(max(R)+40, image.shape[1]), min(max(B)+40, image.shape[0])]]\n"
   ]
  },
  {
   "cell_type": "code",
   "execution_count": 5,
   "metadata": {},
   "outputs": [],
   "source": [
    "# ROI = image.copy()\n",
    "# ROI = cv2.rectangle(ROI, BB[0], BB[1], (0, 255, 0), 10)\n",
    "# plt.imshow(ROI)"
   ]
  },
  {
   "cell_type": "code",
   "execution_count": 6,
   "metadata": {},
   "outputs": [],
   "source": [
    "# croppedImage = image[BB[0][1]:BB[1][1], BB[0][0]:BB[1][0]]\n",
    "# plt.imshow(croppedImage)\n",
    "# croppedImage.shape"
   ]
  },
  {
   "cell_type": "code",
   "execution_count": 7,
   "metadata": {},
   "outputs": [],
   "source": [
    "# cropped = Image.fromarray(croppedImage)\n",
    "# type(cropped)"
   ]
  },
  {
   "cell_type": "code",
   "execution_count": 8,
   "metadata": {},
   "outputs": [],
   "source": [
    "# cropped = cropped.resize((1000, 1000))"
   ]
  },
  {
   "cell_type": "code",
   "execution_count": 9,
   "metadata": {},
   "outputs": [],
   "source": [
    "# plt.imshow(cropped)"
   ]
  },
  {
   "cell_type": "code",
   "execution_count": 10,
   "metadata": {},
   "outputs": [],
   "source": [
    "# img = np.array(cropped)\n",
    "# gray = cv2.cvtColor(img, cv2.COLOR_RGB2GRAY)\n",
    "# blur = cv2.GaussianBlur(gray, (3,3),1)\n",
    "# threshold_img = cv2.adaptiveThreshold(blur,255,1,1,9,10)"
   ]
  },
  {
   "cell_type": "code",
   "execution_count": 11,
   "metadata": {},
   "outputs": [],
   "source": [
    "# plt.imshow(threshold_img, cmap=\"gray\")"
   ]
  },
  {
   "cell_type": "code",
   "execution_count": 12,
   "metadata": {},
   "outputs": [],
   "source": [
    "# text = pytesseract.image_to_data(cropped, output_type=Output.DATAFRAME)\n",
    "# text.dropna(inplace=True)\n",
    "# print(text[\"text\"].to_numpy())"
   ]
  },
  {
   "cell_type": "code",
   "execution_count": 13,
   "metadata": {},
   "outputs": [],
   "source": [
    "# draw = cv2.rectangle(threshold_img, [100, 100], [500, 500], (255, 0, 0), 10)\n",
    "# plt.imshow(draw)"
   ]
  },
  {
   "cell_type": "code",
   "execution_count": 14,
   "metadata": {},
   "outputs": [],
   "source": [
    "def preProcessImage(image):\n",
    "    data = pytesseract.image_to_data(image, output_type=Output.DATAFRAME)\n",
    "    data.dropna(inplace=True)\n",
    "    indexesToDrop = []\n",
    "    stopwords = [\"\", \" \", \"  \", \"/\", \":\", \"-\", \".\", \",\", \"\\n\", \"\\t\", \"\\\\\", \"(\", \")\", \"[\", \"]\", \"{\", \"}\", \"*\", \"&\", \"%\", \"$\", \"#\", \"|\"]\n",
    "    for index in data.index:\n",
    "        if data[\"text\"][index] in stopwords:\n",
    "            indexesToDrop.append(index)   \n",
    "    data.drop(indexesToDrop, inplace=True)\n",
    "    data.reset_index(inplace=True)\n",
    "    data.drop(columns=[\"index\"], inplace=True)\n",
    "    for index in data.index:\n",
    "        data[\"text\"][index] = str(data[\"text\"][index])\n",
    "    data[\"right\"] = data[\"left\"] + data[\"width\"]\n",
    "    data[\"bottom\"] = data[\"top\"] + data[\"height\"]\n",
    "\n",
    "    L = data[\"left\"].to_numpy()\n",
    "    T = data[\"top\"].to_numpy()\n",
    "    R = data[\"right\"].to_numpy()\n",
    "    B = data[\"bottom\"].to_numpy()\n",
    "    \n",
    "    BB = [[max(min(L)-40, 0), max(min(T)-40, 0)], [min(max(R)+40, image.shape[1]), min(max(B)+40, image.shape[0])]]\n",
    "\n",
    "    croppedImage = image[BB[0][1]:BB[1][1], BB[0][0]:BB[1][0]]\n",
    "    cropped = Image.fromarray(croppedImage)\n",
    "    cropped = cropped.resize((1000, 1000))\n",
    "\n",
    "    img = np.array(cropped)\n",
    "    gray = cv2.cvtColor(img, cv2.COLOR_RGB2GRAY)\n",
    "    blur = cv2.GaussianBlur(gray, (3,3),1)\n",
    "    threshold_img = cv2.adaptiveThreshold(blur,255,1,1,9,10)\n",
    "\n",
    "    return threshold_img\n",
    "\n",
    "\n",
    "\n",
    "    "
   ]
  }
 ],
 "metadata": {
  "kernelspec": {
   "display_name": "base",
   "language": "python",
   "name": "python3"
  },
  "language_info": {
   "codemirror_mode": {
    "name": "ipython",
    "version": 3
   },
   "file_extension": ".py",
   "mimetype": "text/x-python",
   "name": "python",
   "nbconvert_exporter": "python",
   "pygments_lexer": "ipython3",
   "version": "3.10.9"
  },
  "orig_nbformat": 4
 },
 "nbformat": 4,
 "nbformat_minor": 2
}
