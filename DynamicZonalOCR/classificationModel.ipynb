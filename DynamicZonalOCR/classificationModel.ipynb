{
 "cells": [
  {
   "cell_type": "code",
   "execution_count": 15,
   "metadata": {},
   "outputs": [],
   "source": [
    "import pandas as pd\n",
    "import numpy as np\n",
    "import os\n",
    "from sklearn.utils import shuffle\n",
    "from sklearn.model_selection import train_test_split\n",
    "from sklearn.naive_bayes import MultinomialNB\n",
    "from sklearn.linear_model import LogisticRegression\n",
    "from sklearn.ensemble import RandomForestClassifier\n",
    "from sklearn.svm import LinearSVC\n",
    "from sklearn.model_selection import cross_val_score\n",
    "from sklearn.metrics import confusion_matrix\n",
    "from sklearn import metrics\n",
    "from sklearn.feature_extraction.text import TfidfVectorizer\n",
    "from sklearn.feature_selection import chi2\n"
   ]
  },
  {
   "cell_type": "code",
   "execution_count": 16,
   "metadata": {},
   "outputs": [],
   "source": [
    "df = pd.read_csv(\"Datasets/Classification.csv\")"
   ]
  },
  {
   "cell_type": "code",
   "execution_count": 17,
   "metadata": {},
   "outputs": [
    {
     "data": {
      "text/plain": [
       "array(['sellerDetails', 'misc', 'amount', 'buyerDetails',\n",
       "       'invoiceDetails'], dtype=object)"
      ]
     },
     "execution_count": 17,
     "metadata": {},
     "output_type": "execute_result"
    }
   ],
   "source": [
    "classes = df[\"class\"].unique()\n",
    "classes"
   ]
  },
  {
   "cell_type": "code",
   "execution_count": 18,
   "metadata": {},
   "outputs": [
    {
     "name": "stdout",
     "output_type": "stream",
     "text": [
      "sellerDetails  :  41\n",
      "misc  :  545\n",
      "amount  :  71\n",
      "buyerDetails  :  47\n",
      "invoiceDetails  :  38\n"
     ]
    }
   ],
   "source": [
    "for c in classes:\n",
    "    print(c, \" : \", len(df[df[\"class\"]==c]))"
   ]
  },
  {
   "cell_type": "code",
   "execution_count": 19,
   "metadata": {},
   "outputs": [],
   "source": [
    "d1 = df[df[\"class\"]==\"invoiceDetails\"]\n",
    "d2 = df[df[\"class\"]==\"sellerDetails\"]\n",
    "d3 = df[df[\"class\"]==\"buyerDetails\"]\n",
    "d4 = df[df[\"class\"]==\"amount\"]\n",
    "d5 = df[df[\"class\"]==\"misc\"]"
   ]
  },
  {
   "cell_type": "code",
   "execution_count": 20,
   "metadata": {},
   "outputs": [],
   "source": [
    "d1 = shuffle(d1, random_state=30)\n",
    "d1.reset_index(inplace=True)\n",
    "d1.drop(columns=[\"index\"], inplace=True)\n",
    "\n",
    "d2 = shuffle(d2, random_state=30)\n",
    "d2.reset_index(inplace=True)\n",
    "d2.drop(columns=[\"index\"], inplace=True)\n",
    "\n",
    "d3 = shuffle(d3, random_state=30)\n",
    "d3.reset_index(inplace=True)\n",
    "d3.drop(columns=[\"index\"], inplace=True)\n",
    "\n",
    "d4 = shuffle(d4, random_state=30)\n",
    "d4.reset_index(inplace=True)\n",
    "d4.drop(columns=[\"index\"], inplace=True)\n",
    "\n",
    "d5 = shuffle(d5, random_state=30)\n",
    "d5.reset_index(inplace=True)\n",
    "d5.drop(columns=[\"index\"], inplace=True)"
   ]
  },
  {
   "cell_type": "code",
   "execution_count": 21,
   "metadata": {},
   "outputs": [],
   "source": [
    "d1 = d1.loc[:35, :]\n",
    "d2 = d2.loc[:35, :]\n",
    "d3 = d3.loc[:35, :]\n",
    "d4 = d4.loc[:35, :]\n",
    "d5 = d5.loc[:35, :]"
   ]
  },
  {
   "cell_type": "code",
   "execution_count": 22,
   "metadata": {},
   "outputs": [],
   "source": [
    "DF = pd.concat([d1, d2, d3, d4, d5])\n",
    "DF = shuffle(DF, random_state=30)"
   ]
  },
  {
   "cell_type": "code",
   "execution_count": 23,
   "metadata": {},
   "outputs": [
    {
     "data": {
      "text/html": [
       "<div>\n",
       "<style scoped>\n",
       "    .dataframe tbody tr th:only-of-type {\n",
       "        vertical-align: middle;\n",
       "    }\n",
       "\n",
       "    .dataframe tbody tr th {\n",
       "        vertical-align: top;\n",
       "    }\n",
       "\n",
       "    .dataframe thead th {\n",
       "        text-align: right;\n",
       "    }\n",
       "</style>\n",
       "<table border=\"1\" class=\"dataframe\">\n",
       "  <thead>\n",
       "    <tr style=\"text-align: right;\">\n",
       "      <th></th>\n",
       "      <th>Unnamed: 0</th>\n",
       "      <th>conf</th>\n",
       "      <th>text</th>\n",
       "      <th>x</th>\n",
       "      <th>y</th>\n",
       "      <th>imageName</th>\n",
       "      <th>class</th>\n",
       "    </tr>\n",
       "  </thead>\n",
       "  <tbody>\n",
       "    <tr>\n",
       "      <th>1</th>\n",
       "      <td>500</td>\n",
       "      <td>94.866927</td>\n",
       "      <td>invoice for tally xcelerator service</td>\n",
       "      <td>0.338824</td>\n",
       "      <td>0.723333</td>\n",
       "      <td>89.jpeg</td>\n",
       "      <td>buyerDetails</td>\n",
       "    </tr>\n",
       "    <tr>\n",
       "      <th>24</th>\n",
       "      <td>405</td>\n",
       "      <td>89.631481</td>\n",
       "      <td>customer monthly summary report hexa developme...</td>\n",
       "      <td>0.449375</td>\n",
       "      <td>0.225200</td>\n",
       "      <td>67.jpeg</td>\n",
       "      <td>invoiceDetails</td>\n",
       "    </tr>\n",
       "    <tr>\n",
       "      <th>27</th>\n",
       "      <td>733</td>\n",
       "      <td>89.354141</td>\n",
       "      <td>name karnataka, of supply karnataka descriptio...</td>\n",
       "      <td>0.338824</td>\n",
       "      <td>0.723333</td>\n",
       "      <td>46.jpeg</td>\n",
       "      <td>misc</td>\n",
       "    </tr>\n",
       "    <tr>\n",
       "      <th>4</th>\n",
       "      <td>296</td>\n",
       "      <td>11.005211</td>\n",
       "      <td>6250.00)</td>\n",
       "      <td>1.342339</td>\n",
       "      <td>1.438266</td>\n",
       "      <td>80.jpeg</td>\n",
       "      <td>amount</td>\n",
       "    </tr>\n",
       "    <tr>\n",
       "      <th>22</th>\n",
       "      <td>245</td>\n",
       "      <td>38.458063</td>\n",
       "      <td>bm =. cee are nee i nd</td>\n",
       "      <td>0.348387</td>\n",
       "      <td>0.680445</td>\n",
       "      <td>14.jpeg</td>\n",
       "      <td>misc</td>\n",
       "    </tr>\n",
       "    <tr>\n",
       "      <th>...</th>\n",
       "      <td>...</td>\n",
       "      <td>...</td>\n",
       "      <td>...</td>\n",
       "      <td>...</td>\n",
       "      <td>...</td>\n",
       "      <td>...</td>\n",
       "      <td>...</td>\n",
       "    </tr>\n",
       "    <tr>\n",
       "      <th>32</th>\n",
       "      <td>442</td>\n",
       "      <td>93.609360</td>\n",
       "      <td>cgt 390.00 total 7,280.00 settlement details: ...</td>\n",
       "      <td>0.470347</td>\n",
       "      <td>1.489394</td>\n",
       "      <td>60.jpeg</td>\n",
       "      <td>amount</td>\n",
       "    </tr>\n",
       "    <tr>\n",
       "      <th>9</th>\n",
       "      <td>466</td>\n",
       "      <td>94.730911</td>\n",
       "      <td>tally solutions private limited, kaavya towers...</td>\n",
       "      <td>0.449012</td>\n",
       "      <td>0.225200</td>\n",
       "      <td>40.jpeg</td>\n",
       "      <td>sellerDetails</td>\n",
       "    </tr>\n",
       "    <tr>\n",
       "      <th>29</th>\n",
       "      <td>196</td>\n",
       "      <td>96.027150</td>\n",
       "      <td>sms mobile internet</td>\n",
       "      <td>0.276724</td>\n",
       "      <td>1.097429</td>\n",
       "      <td>7.jpeg</td>\n",
       "      <td>misc</td>\n",
       "    </tr>\n",
       "    <tr>\n",
       "      <th>21</th>\n",
       "      <td>679</td>\n",
       "      <td>86.452645</td>\n",
       "      <td>29aoupb3384a1zw code: karnataka 29aqupb3384a1z...</td>\n",
       "      <td>0.338824</td>\n",
       "      <td>0.723333</td>\n",
       "      <td>70.jpeg</td>\n",
       "      <td>misc</td>\n",
       "    </tr>\n",
       "    <tr>\n",
       "      <th>1</th>\n",
       "      <td>487</td>\n",
       "      <td>93.030621</td>\n",
       "      <td>cheques payable to \" outreach india</td>\n",
       "      <td>0.269020</td>\n",
       "      <td>1.163939</td>\n",
       "      <td>16.jpeg</td>\n",
       "      <td>sellerDetails</td>\n",
       "    </tr>\n",
       "  </tbody>\n",
       "</table>\n",
       "<p>180 rows × 7 columns</p>\n",
       "</div>"
      ],
      "text/plain": [
       "    Unnamed: 0       conf                                               text  \\\n",
       "1          500  94.866927              invoice for tally xcelerator service    \n",
       "24         405  89.631481  customer monthly summary report hexa developme...   \n",
       "27         733  89.354141  name karnataka, of supply karnataka descriptio...   \n",
       "4          296  11.005211                                          6250.00)    \n",
       "22         245  38.458063                            bm =. cee are nee i nd    \n",
       "..         ...        ...                                                ...   \n",
       "32         442  93.609360  cgt 390.00 total 7,280.00 settlement details: ...   \n",
       "9          466  94.730911  tally solutions private limited, kaavya towers...   \n",
       "29         196  96.027150                               sms mobile internet    \n",
       "21         679  86.452645  29aoupb3384a1zw code: karnataka 29aqupb3384a1z...   \n",
       "1          487  93.030621               cheques payable to \" outreach india    \n",
       "\n",
       "           x         y imageName           class  \n",
       "1   0.338824  0.723333   89.jpeg    buyerDetails  \n",
       "24  0.449375  0.225200   67.jpeg  invoiceDetails  \n",
       "27  0.338824  0.723333   46.jpeg            misc  \n",
       "4   1.342339  1.438266   80.jpeg          amount  \n",
       "22  0.348387  0.680445   14.jpeg            misc  \n",
       "..       ...       ...       ...             ...  \n",
       "32  0.470347  1.489394   60.jpeg          amount  \n",
       "9   0.449012  0.225200   40.jpeg   sellerDetails  \n",
       "29  0.276724  1.097429    7.jpeg            misc  \n",
       "21  0.338824  0.723333   70.jpeg            misc  \n",
       "1   0.269020  1.163939   16.jpeg   sellerDetails  \n",
       "\n",
       "[180 rows x 7 columns]"
      ]
     },
     "execution_count": 23,
     "metadata": {},
     "output_type": "execute_result"
    }
   ],
   "source": [
    "DF"
   ]
  },
  {
   "cell_type": "code",
   "execution_count": 24,
   "metadata": {},
   "outputs": [
    {
     "name": "stdout",
     "output_type": "stream",
     "text": [
      "sellerDetails  :  36\n",
      "misc  :  36\n",
      "amount  :  36\n",
      "buyerDetails  :  36\n",
      "invoiceDetails  :  36\n"
     ]
    }
   ],
   "source": [
    "for c in classes:\n",
    "    print(c, \" : \", len(DF[DF[\"class\"]==c]))"
   ]
  },
  {
   "cell_type": "code",
   "execution_count": 25,
   "metadata": {},
   "outputs": [
    {
     "data": {
      "text/html": [
       "<div>\n",
       "<style scoped>\n",
       "    .dataframe tbody tr th:only-of-type {\n",
       "        vertical-align: middle;\n",
       "    }\n",
       "\n",
       "    .dataframe tbody tr th {\n",
       "        vertical-align: top;\n",
       "    }\n",
       "\n",
       "    .dataframe thead th {\n",
       "        text-align: right;\n",
       "    }\n",
       "</style>\n",
       "<table border=\"1\" class=\"dataframe\">\n",
       "  <thead>\n",
       "    <tr style=\"text-align: right;\">\n",
       "      <th></th>\n",
       "      <th>Unnamed: 0</th>\n",
       "      <th>conf</th>\n",
       "      <th>text</th>\n",
       "      <th>x</th>\n",
       "      <th>y</th>\n",
       "      <th>imageName</th>\n",
       "      <th>class</th>\n",
       "      <th>id</th>\n",
       "    </tr>\n",
       "  </thead>\n",
       "  <tbody>\n",
       "    <tr>\n",
       "      <th>1</th>\n",
       "      <td>500</td>\n",
       "      <td>94.866927</td>\n",
       "      <td>invoice for tally xcelerator service</td>\n",
       "      <td>0.338824</td>\n",
       "      <td>0.723333</td>\n",
       "      <td>89.jpeg</td>\n",
       "      <td>buyerDetails</td>\n",
       "      <td>0</td>\n",
       "    </tr>\n",
       "    <tr>\n",
       "      <th>24</th>\n",
       "      <td>405</td>\n",
       "      <td>89.631481</td>\n",
       "      <td>customer monthly summary report hexa developme...</td>\n",
       "      <td>0.449375</td>\n",
       "      <td>0.225200</td>\n",
       "      <td>67.jpeg</td>\n",
       "      <td>invoiceDetails</td>\n",
       "      <td>1</td>\n",
       "    </tr>\n",
       "    <tr>\n",
       "      <th>27</th>\n",
       "      <td>733</td>\n",
       "      <td>89.354141</td>\n",
       "      <td>name karnataka, of supply karnataka descriptio...</td>\n",
       "      <td>0.338824</td>\n",
       "      <td>0.723333</td>\n",
       "      <td>46.jpeg</td>\n",
       "      <td>misc</td>\n",
       "      <td>2</td>\n",
       "    </tr>\n",
       "    <tr>\n",
       "      <th>4</th>\n",
       "      <td>296</td>\n",
       "      <td>11.005211</td>\n",
       "      <td>6250.00)</td>\n",
       "      <td>1.342339</td>\n",
       "      <td>1.438266</td>\n",
       "      <td>80.jpeg</td>\n",
       "      <td>amount</td>\n",
       "      <td>3</td>\n",
       "    </tr>\n",
       "    <tr>\n",
       "      <th>22</th>\n",
       "      <td>245</td>\n",
       "      <td>38.458063</td>\n",
       "      <td>bm =. cee are nee i nd</td>\n",
       "      <td>0.348387</td>\n",
       "      <td>0.680445</td>\n",
       "      <td>14.jpeg</td>\n",
       "      <td>misc</td>\n",
       "      <td>2</td>\n",
       "    </tr>\n",
       "  </tbody>\n",
       "</table>\n",
       "</div>"
      ],
      "text/plain": [
       "    Unnamed: 0       conf                                               text  \\\n",
       "1          500  94.866927              invoice for tally xcelerator service    \n",
       "24         405  89.631481  customer monthly summary report hexa developme...   \n",
       "27         733  89.354141  name karnataka, of supply karnataka descriptio...   \n",
       "4          296  11.005211                                          6250.00)    \n",
       "22         245  38.458063                            bm =. cee are nee i nd    \n",
       "\n",
       "           x         y imageName           class  id  \n",
       "1   0.338824  0.723333   89.jpeg    buyerDetails   0  \n",
       "24  0.449375  0.225200   67.jpeg  invoiceDetails   1  \n",
       "27  0.338824  0.723333   46.jpeg            misc   2  \n",
       "4   1.342339  1.438266   80.jpeg          amount   3  \n",
       "22  0.348387  0.680445   14.jpeg            misc   2  "
      ]
     },
     "execution_count": 25,
     "metadata": {},
     "output_type": "execute_result"
    }
   ],
   "source": [
    "DF['id'] = DF['class'].factorize()[0]\n",
    "idDF = DF[['class', 'id']].drop_duplicates()\n",
    "\n",
    "class_to_id = dict(idDF.values)\n",
    "id_to_class = dict(idDF[['id', 'class']].values)\n",
    "\n",
    "DF.head()"
   ]
  },
  {
   "cell_type": "code",
   "execution_count": 26,
   "metadata": {},
   "outputs": [
    {
     "name": "stdout",
     "output_type": "stream",
     "text": [
      "Each of the 180 texts is represented by 138 features\n"
     ]
    }
   ],
   "source": [
    "tfidf = TfidfVectorizer(sublinear_tf=True, min_df=5,\n",
    "                        ngram_range=(1, 2))\n",
    "\n",
    "features = tfidf.fit_transform(DF.text).toarray()\n",
    "labels = DF.id\n",
    "print(\"Each of the %d texts is represented by %d features\" %(features.shape))\n"
   ]
  },
  {
   "cell_type": "code",
   "execution_count": 28,
   "metadata": {},
   "outputs": [
    {
     "name": "stdout",
     "output_type": "stream",
     "text": [
      "Class----> amount:\n",
      "     Most Correlated Unigrams are: words, amount, 00\n",
      "     Most Correlated Bigrams are: hsn sac, amount in, in words\n",
      "\n",
      "\n",
      "Class----> buyerDetails:\n",
      "     Most Correlated Unigrams are: name, to, buyer\n",
      "     Most Correlated Bigrams are: to tally, tally solutions, solutions pvt\n",
      "\n",
      "\n",
      "Class----> invoiceDetails:\n",
      "     Most Correlated Unigrams are: 2022, date, 2023\n",
      "     Most Correlated Bigrams are: invoice no, invoice date, 12 2022\n",
      "\n",
      "\n",
      "Class----> misc:\n",
      "     Most Correlated Unigrams are: solutions, cgst, pvt\n",
      "     Most Correlated Bigrams are: solutions pvt, tally solutions, pvt ltd\n",
      "\n",
      "\n",
      "Class----> sellerDetails:\n",
      "     Most Correlated Unigrams are: pvt, mail, com\n",
      "     Most Correlated Bigrams are: pvt ltd, india pvt, 3rd floor\n",
      "\n",
      "\n"
     ]
    }
   ],
   "source": [
    "N = 3\n",
    "for c, id in sorted(class_to_id.items()):\n",
    "    features_chi2 = chi2(features, labels == id)\n",
    "    indices = np.argsort(features_chi2[0])\n",
    "    feature_names = np.array(tfidf.get_feature_names_out())[indices]\n",
    "    unigrams = [v for v in feature_names if len(v.split(' ')) == 1]\n",
    "    bigrams = [v for v in feature_names if len(v.split(' ')) == 2]\n",
    "    print(\"Class----> %s:\" %(c))\n",
    "    print(\"     Most Correlated Unigrams are: %s\" %(', '.join(unigrams[-N:])))\n",
    "    print(\"     Most Correlated Bigrams are: %s\" %(', '.join(bigrams[-N:])))\n",
    "    print(\"\\n\")\n"
   ]
  },
  {
   "cell_type": "code",
   "execution_count": null,
   "metadata": {},
   "outputs": [],
   "source": []
  }
 ],
 "metadata": {
  "kernelspec": {
   "display_name": "base",
   "language": "python",
   "name": "python3"
  },
  "language_info": {
   "codemirror_mode": {
    "name": "ipython",
    "version": 3
   },
   "file_extension": ".py",
   "mimetype": "text/x-python",
   "name": "python",
   "nbconvert_exporter": "python",
   "pygments_lexer": "ipython3",
   "version": "3.10.9"
  },
  "orig_nbformat": 4
 },
 "nbformat": 4,
 "nbformat_minor": 2
}
